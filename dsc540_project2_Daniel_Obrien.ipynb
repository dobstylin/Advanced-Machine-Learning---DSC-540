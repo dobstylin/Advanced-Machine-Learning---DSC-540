{
 "cells": [
  {
   "cell_type": "markdown",
   "metadata": {},
   "source": [
    "# DSC540 Project 2"
   ]
  },
  {
   "cell_type": "markdown",
   "metadata": {},
   "source": [
    "DePaul University  \n",
    "Ilyas Ustun, PhD  \n",
    "Chicago, IL  "
   ]
  },
  {
   "cell_type": "markdown",
   "metadata": {},
   "source": [
    "## Rules\n",
    "- Do not change the code already present in the notebook.\n",
    "- Write your code under the corresponding questions where you see `# Code here`. You are encouraged to use more than one cell.\n",
    "- Provide explanation in a separate Markdown formatted cell. \n",
    "- You can change the cell type by:\n",
    "    - Clicking on the outer area of the cell type you want to change,\n",
    "    - Go to the top, and select either Code or Markdown from the dropdown menu.\n",
    "- Be concise in your explanations and conclusions.\n",
    "- Write clear code and provide explanation to functions you create by using `#` comment sign.\n",
    "- For built-in function and methods you use from libraries, provide a very brief explanation of what they do.\n",
    "- Try to answer the questions by yourself. Use documentation from pandas, sklearn and similar libraries to solve the problem.\n",
    "- If you are stuck you can use different resources. Do not find an identical project and copy paste the solutions. \n",
    "- Write your name before beginning to code.\n",
    "\n",
    "> **Once you have completed your project, and you are done with coding restart your kernel and run everything. Make sure it runs without errors.**  \n",
    "    - For this go to the very top where the tabs are located:\n",
    "        - Kernel  \n",
    "            - Restart & Run All  \n",
    "    - We will check whether the code and results in this notebook is running fine.  \n",
    "\n",
    "\n",
    "Important:  \n",
    "- **Do NOT share the solutions with other people.**\n",
    "- **Do NOT share the solutions on the internet including but not limited to Github and other platforms.**\n",
    "- Sign the Honor Pledge below indicating that you have agreed to these rules listed here, and any other ethical and honor rules as required by the university.\n",
    "\n",
    "\n",
    "\n",
    "- **Deliverables:**\n",
    "    1. The Python Jupyter notebook file named properly with your name. Example: dsc540_project1_john_doe.ipynb\n",
    "    2. The HTML output of this code notebook names the same way. Example: dsc540_project1_john_doe.html\n",
    "        - File -> Download as -> HTML   \n",
    "    3. The label predictions as csv file. -> See last question.\n",
    "\n",
    "Good Luck!"
   ]
  },
  {
   "cell_type": "markdown",
   "metadata": {},
   "source": [
    "### Daniel O'Brien"
   ]
  },
  {
   "cell_type": "markdown",
   "metadata": {},
   "source": [
    "**Honor Pledge:**  \n",
    "I pledge on my honor that I, **Daniel O'Brien**, have followed the rules listed above, that I have not given or received any unauthorized assistance on this assignment. \n"
   ]
  },
  {
   "cell_type": "markdown",
   "metadata": {},
   "source": [
    "\n",
    "## Project Description\n",
    "\n",
    "For this project we will be exploring publicly available data from [LendingClub.com](www.lendingclub.com).  \n",
    "Lending Club connects people who need money (borrowers) with people who have money (investors).   \n",
    "Hopefully, as an investor you would want to invest in people who showed a profile of having a high probability of paying you back. We will try to create a model that will help predict this.\n",
    "\n",
    "Check out more info on Lending Club on [Wikipedia](https://en.wikipedia.org/wiki/Lending_Club). Lending Club also had a [very interesting year in 2016](https://en.wikipedia.org/wiki/Lending_Club#2016).\n",
    "\n",
    "This dataset is from before they went public.\n",
    "\n",
    "We will use lending data from 2007-2010 and will try to classify and predict whether or not the borrower paid back their loan in full. You will analyze the data file provided. \n",
    "\n",
    "Here are what the columns represent:\n",
    "* credit.policy: 1 if the customer meets the credit underwriting criteria of LendingClub.com, and 0 otherwise.\n",
    "* purpose: The purpose of the loan (takes values \"credit_card\", \"debt_consolidation\", \"educational\", \"major_purchase\", \"small_business\", and \"all_other\").\n",
    "* int.rate: The interest rate of the loan, as a proportion (a rate of 11% would be stored as 0.11). Borrowers judged by LendingClub.com to be more risky are assigned higher interest rates.\n",
    "* installment: The monthly installments owed by the borrower if the loan is funded.\n",
    "* log.annual.inc: The natural log of the self-reported annual income of the borrower.\n",
    "* dti: The debt-to-income ratio of the borrower (amount of debt divided by annual income).\n",
    "* fico: The FICO credit score of the borrower.\n",
    "* days.with.cr.line: The number of days the borrower has had a credit line.\n",
    "* revol.bal: The borrower's revolving balance (amount unpaid at the end of the credit card billing cycle).\n",
    "* revol.util: The borrower's revolving line utilization rate (the amount of the credit line used relative to total credit available).\n",
    "* inq.last.6mths: The borrower's number of inquiries by creditors in the last 6 months.\n",
    "* delinq.2yrs: The number of times the borrower had been 30+ days past due on a payment in the past 2 years.\n",
    "* pub.rec: The borrower's number of derogatory public records (bankruptcy filings, tax liens, or judgments).\n",
    "* not.fully.paid: Whether the loan was paid back or not."
   ]
  },
  {
   "cell_type": "markdown",
   "metadata": {},
   "source": [
    "## Import Libraries\n",
    "\n",
    "**Import the usual libraries for pandas and plotting, and sklearn.**"
   ]
  },
  {
   "cell_type": "code",
   "execution_count": 112,
   "metadata": {},
   "outputs": [],
   "source": [
    "import pandas as pd\n",
    "import numpy as np\n",
    "import matplotlib.pyplot as plt\n",
    "import seaborn as sns\n",
    "from sklearn.model_selection import GridSearchCV\n",
    "from sklearn.ensemble import GradientBoostingClassifier"
   ]
  },
  {
   "cell_type": "code",
   "execution_count": 2,
   "metadata": {},
   "outputs": [
    {
     "data": {
      "text/plain": [
       "'0.23.1'"
      ]
     },
     "execution_count": 2,
     "metadata": {},
     "output_type": "execute_result"
    }
   ],
   "source": [
    "import sklearn\n",
    "sklearn.__version__"
   ]
  },
  {
   "cell_type": "code",
   "execution_count": 3,
   "metadata": {},
   "outputs": [],
   "source": [
    "pd.set_option('display.max_columns', 100)"
   ]
  },
  {
   "cell_type": "markdown",
   "metadata": {},
   "source": [
    "### These are the packages I used"
   ]
  },
  {
   "cell_type": "code",
   "execution_count": 4,
   "metadata": {},
   "outputs": [],
   "source": [
    "import pandas as pd\n",
    "import numpy as np\n",
    "import matplotlib.pyplot as plt\n",
    "import seaborn as sns\n",
    "from sklearn.model_selection import GridSearchCV\n",
    "from sklearn.ensemble import GradientBoostingClassifier\n",
    "from sklearn.model_selection import train_test_split\n",
    "from sklearn.tree import DecisionTreeClassifier, plot_tree\n",
    "from sklearn import metrics\n",
    "from sklearn.metrics import confusion_matrix\n",
    "from sklearn.ensemble import RandomForestClassifier\n",
    "from sklearn.ensemble import AdaBoostClassifier"
   ]
  },
  {
   "cell_type": "markdown",
   "metadata": {},
   "source": [
    "# Q1\n",
    "- Read in the dataset `loan_data.csv`\n",
    "- How many rows and variables are there?\n",
    "- What are the unique values of `not.fully.paid`?\n",
    "- `not.fully.paid` having a value of 1 means that the person who took the loan did not fully pay it back. What's the proportion of those people in the full dataset?"
   ]
  },
  {
   "cell_type": "markdown",
   "metadata": {},
   "source": [
    "## Get the Data\n",
    "\n",
    "**Use pandas to read loan_data.csv as a dataframe called loans.**"
   ]
  },
  {
   "cell_type": "code",
   "execution_count": 5,
   "metadata": {},
   "outputs": [],
   "source": [
    "loans = pd.read_csv('loans_train.csv')\n",
    "loans_outcome_not_known = pd.read_csv('loans_outcome_not_known.csv')"
   ]
  },
  {
   "cell_type": "code",
   "execution_count": 6,
   "metadata": {},
   "outputs": [
    {
     "data": {
      "text/html": [
       "<div>\n",
       "<style scoped>\n",
       "    .dataframe tbody tr th:only-of-type {\n",
       "        vertical-align: middle;\n",
       "    }\n",
       "\n",
       "    .dataframe tbody tr th {\n",
       "        vertical-align: top;\n",
       "    }\n",
       "\n",
       "    .dataframe thead th {\n",
       "        text-align: right;\n",
       "    }\n",
       "</style>\n",
       "<table border=\"1\" class=\"dataframe\">\n",
       "  <thead>\n",
       "    <tr style=\"text-align: right;\">\n",
       "      <th></th>\n",
       "      <th>credit.policy</th>\n",
       "      <th>purpose</th>\n",
       "      <th>int.rate</th>\n",
       "      <th>installment</th>\n",
       "      <th>log.annual.inc</th>\n",
       "      <th>dti</th>\n",
       "      <th>fico</th>\n",
       "      <th>days.with.cr.line</th>\n",
       "      <th>revol.bal</th>\n",
       "      <th>revol.util</th>\n",
       "      <th>inq.last.6mths</th>\n",
       "      <th>delinq.2yrs</th>\n",
       "      <th>pub.rec</th>\n",
       "      <th>not.fully.paid</th>\n",
       "    </tr>\n",
       "  </thead>\n",
       "  <tbody>\n",
       "    <tr>\n",
       "      <th>0</th>\n",
       "      <td>1</td>\n",
       "      <td>credit_card</td>\n",
       "      <td>0.0800</td>\n",
       "      <td>101.85</td>\n",
       "      <td>10.596635</td>\n",
       "      <td>10.26</td>\n",
       "      <td>747</td>\n",
       "      <td>7560.000000</td>\n",
       "      <td>18467</td>\n",
       "      <td>30.9</td>\n",
       "      <td>3</td>\n",
       "      <td>0</td>\n",
       "      <td>0</td>\n",
       "      <td>0</td>\n",
       "    </tr>\n",
       "    <tr>\n",
       "      <th>1</th>\n",
       "      <td>1</td>\n",
       "      <td>all_other</td>\n",
       "      <td>0.1114</td>\n",
       "      <td>328.04</td>\n",
       "      <td>10.530495</td>\n",
       "      <td>14.13</td>\n",
       "      <td>722</td>\n",
       "      <td>1920.000000</td>\n",
       "      <td>6811</td>\n",
       "      <td>56.8</td>\n",
       "      <td>0</td>\n",
       "      <td>0</td>\n",
       "      <td>0</td>\n",
       "      <td>0</td>\n",
       "    </tr>\n",
       "    <tr>\n",
       "      <th>2</th>\n",
       "      <td>1</td>\n",
       "      <td>debt_consolidation</td>\n",
       "      <td>0.1324</td>\n",
       "      <td>676.20</td>\n",
       "      <td>11.289782</td>\n",
       "      <td>20.73</td>\n",
       "      <td>697</td>\n",
       "      <td>4080.000000</td>\n",
       "      <td>16805</td>\n",
       "      <td>64.1</td>\n",
       "      <td>0</td>\n",
       "      <td>0</td>\n",
       "      <td>0</td>\n",
       "      <td>0</td>\n",
       "    </tr>\n",
       "    <tr>\n",
       "      <th>3</th>\n",
       "      <td>1</td>\n",
       "      <td>debt_consolidation</td>\n",
       "      <td>0.1103</td>\n",
       "      <td>671.44</td>\n",
       "      <td>10.555813</td>\n",
       "      <td>15.72</td>\n",
       "      <td>722</td>\n",
       "      <td>3580.041667</td>\n",
       "      <td>31566</td>\n",
       "      <td>32.3</td>\n",
       "      <td>1</td>\n",
       "      <td>0</td>\n",
       "      <td>0</td>\n",
       "      <td>1</td>\n",
       "    </tr>\n",
       "    <tr>\n",
       "      <th>4</th>\n",
       "      <td>0</td>\n",
       "      <td>debt_consolidation</td>\n",
       "      <td>0.1545</td>\n",
       "      <td>244.21</td>\n",
       "      <td>10.308953</td>\n",
       "      <td>18.80</td>\n",
       "      <td>647</td>\n",
       "      <td>1950.041667</td>\n",
       "      <td>4587</td>\n",
       "      <td>41.0</td>\n",
       "      <td>2</td>\n",
       "      <td>0</td>\n",
       "      <td>0</td>\n",
       "      <td>0</td>\n",
       "    </tr>\n",
       "  </tbody>\n",
       "</table>\n",
       "</div>"
      ],
      "text/plain": [
       "   credit.policy             purpose  int.rate  installment  log.annual.inc  \\\n",
       "0              1         credit_card    0.0800       101.85       10.596635   \n",
       "1              1           all_other    0.1114       328.04       10.530495   \n",
       "2              1  debt_consolidation    0.1324       676.20       11.289782   \n",
       "3              1  debt_consolidation    0.1103       671.44       10.555813   \n",
       "4              0  debt_consolidation    0.1545       244.21       10.308953   \n",
       "\n",
       "     dti  fico  days.with.cr.line  revol.bal  revol.util  inq.last.6mths  \\\n",
       "0  10.26   747        7560.000000      18467        30.9               3   \n",
       "1  14.13   722        1920.000000       6811        56.8               0   \n",
       "2  20.73   697        4080.000000      16805        64.1               0   \n",
       "3  15.72   722        3580.041667      31566        32.3               1   \n",
       "4  18.80   647        1950.041667       4587        41.0               2   \n",
       "\n",
       "   delinq.2yrs  pub.rec  not.fully.paid  \n",
       "0            0        0               0  \n",
       "1            0        0               0  \n",
       "2            0        0               0  \n",
       "3            0        0               1  \n",
       "4            0        0               0  "
      ]
     },
     "execution_count": 6,
     "metadata": {},
     "output_type": "execute_result"
    }
   ],
   "source": [
    "loans.head()"
   ]
  },
  {
   "cell_type": "code",
   "execution_count": 7,
   "metadata": {},
   "outputs": [
    {
     "data": {
      "text/html": [
       "<div>\n",
       "<style scoped>\n",
       "    .dataframe tbody tr th:only-of-type {\n",
       "        vertical-align: middle;\n",
       "    }\n",
       "\n",
       "    .dataframe tbody tr th {\n",
       "        vertical-align: top;\n",
       "    }\n",
       "\n",
       "    .dataframe thead th {\n",
       "        text-align: right;\n",
       "    }\n",
       "</style>\n",
       "<table border=\"1\" class=\"dataframe\">\n",
       "  <thead>\n",
       "    <tr style=\"text-align: right;\">\n",
       "      <th></th>\n",
       "      <th>credit.policy</th>\n",
       "      <th>purpose</th>\n",
       "      <th>int.rate</th>\n",
       "      <th>installment</th>\n",
       "      <th>log.annual.inc</th>\n",
       "      <th>dti</th>\n",
       "      <th>fico</th>\n",
       "      <th>days.with.cr.line</th>\n",
       "      <th>revol.bal</th>\n",
       "      <th>revol.util</th>\n",
       "      <th>inq.last.6mths</th>\n",
       "      <th>delinq.2yrs</th>\n",
       "      <th>pub.rec</th>\n",
       "    </tr>\n",
       "  </thead>\n",
       "  <tbody>\n",
       "    <tr>\n",
       "      <th>0</th>\n",
       "      <td>1</td>\n",
       "      <td>debt_consolidation</td>\n",
       "      <td>0.1324</td>\n",
       "      <td>540.96</td>\n",
       "      <td>10.596635</td>\n",
       "      <td>11.73</td>\n",
       "      <td>672</td>\n",
       "      <td>3210.000000</td>\n",
       "      <td>5671</td>\n",
       "      <td>55.1</td>\n",
       "      <td>0</td>\n",
       "      <td>0</td>\n",
       "      <td>0</td>\n",
       "    </tr>\n",
       "    <tr>\n",
       "      <th>1</th>\n",
       "      <td>0</td>\n",
       "      <td>educational</td>\n",
       "      <td>0.1221</td>\n",
       "      <td>333.15</td>\n",
       "      <td>11.156193</td>\n",
       "      <td>15.82</td>\n",
       "      <td>707</td>\n",
       "      <td>5314.000000</td>\n",
       "      <td>107643</td>\n",
       "      <td>81.0</td>\n",
       "      <td>3</td>\n",
       "      <td>0</td>\n",
       "      <td>0</td>\n",
       "    </tr>\n",
       "    <tr>\n",
       "      <th>2</th>\n",
       "      <td>1</td>\n",
       "      <td>debt_consolidation</td>\n",
       "      <td>0.1218</td>\n",
       "      <td>166.50</td>\n",
       "      <td>10.753836</td>\n",
       "      <td>6.38</td>\n",
       "      <td>772</td>\n",
       "      <td>1440.000000</td>\n",
       "      <td>233</td>\n",
       "      <td>6.7</td>\n",
       "      <td>0</td>\n",
       "      <td>0</td>\n",
       "      <td>0</td>\n",
       "    </tr>\n",
       "    <tr>\n",
       "      <th>3</th>\n",
       "      <td>0</td>\n",
       "      <td>major_purchase</td>\n",
       "      <td>0.1461</td>\n",
       "      <td>124.12</td>\n",
       "      <td>10.239960</td>\n",
       "      <td>0.00</td>\n",
       "      <td>692</td>\n",
       "      <td>1530.041667</td>\n",
       "      <td>0</td>\n",
       "      <td>0.0</td>\n",
       "      <td>6</td>\n",
       "      <td>0</td>\n",
       "      <td>0</td>\n",
       "    </tr>\n",
       "    <tr>\n",
       "      <th>4</th>\n",
       "      <td>1</td>\n",
       "      <td>credit_card</td>\n",
       "      <td>0.0800</td>\n",
       "      <td>156.69</td>\n",
       "      <td>10.434116</td>\n",
       "      <td>15.85</td>\n",
       "      <td>767</td>\n",
       "      <td>10170.000000</td>\n",
       "      <td>5748</td>\n",
       "      <td>12.3</td>\n",
       "      <td>0</td>\n",
       "      <td>1</td>\n",
       "      <td>0</td>\n",
       "    </tr>\n",
       "  </tbody>\n",
       "</table>\n",
       "</div>"
      ],
      "text/plain": [
       "   credit.policy             purpose  int.rate  installment  log.annual.inc  \\\n",
       "0              1  debt_consolidation    0.1324       540.96       10.596635   \n",
       "1              0         educational    0.1221       333.15       11.156193   \n",
       "2              1  debt_consolidation    0.1218       166.50       10.753836   \n",
       "3              0      major_purchase    0.1461       124.12       10.239960   \n",
       "4              1         credit_card    0.0800       156.69       10.434116   \n",
       "\n",
       "     dti  fico  days.with.cr.line  revol.bal  revol.util  inq.last.6mths  \\\n",
       "0  11.73   672        3210.000000       5671        55.1               0   \n",
       "1  15.82   707        5314.000000     107643        81.0               3   \n",
       "2   6.38   772        1440.000000        233         6.7               0   \n",
       "3   0.00   692        1530.041667          0         0.0               6   \n",
       "4  15.85   767       10170.000000       5748        12.3               0   \n",
       "\n",
       "   delinq.2yrs  pub.rec  \n",
       "0            0        0  \n",
       "1            0        0  \n",
       "2            0        0  \n",
       "3            0        0  \n",
       "4            1        0  "
      ]
     },
     "execution_count": 7,
     "metadata": {},
     "output_type": "execute_result"
    }
   ],
   "source": [
    "loans_outcome_not_known.head()"
   ]
  },
  {
   "cell_type": "markdown",
   "metadata": {},
   "source": [
    "**Check out the info(), head(), and describe() methods on loans.**"
   ]
  },
  {
   "cell_type": "code",
   "execution_count": 8,
   "metadata": {},
   "outputs": [
    {
     "name": "stdout",
     "output_type": "stream",
     "text": [
      "<class 'pandas.core.frame.DataFrame'>\n",
      "RangeIndex: 7478 entries, 0 to 7477\n",
      "Data columns (total 14 columns):\n",
      " #   Column             Non-Null Count  Dtype  \n",
      "---  ------             --------------  -----  \n",
      " 0   credit.policy      7478 non-null   int64  \n",
      " 1   purpose            7478 non-null   object \n",
      " 2   int.rate           7478 non-null   float64\n",
      " 3   installment        7478 non-null   float64\n",
      " 4   log.annual.inc     7478 non-null   float64\n",
      " 5   dti                7478 non-null   float64\n",
      " 6   fico               7478 non-null   int64  \n",
      " 7   days.with.cr.line  7478 non-null   float64\n",
      " 8   revol.bal          7478 non-null   int64  \n",
      " 9   revol.util         7478 non-null   float64\n",
      " 10  inq.last.6mths     7478 non-null   int64  \n",
      " 11  delinq.2yrs        7478 non-null   int64  \n",
      " 12  pub.rec            7478 non-null   int64  \n",
      " 13  not.fully.paid     7478 non-null   int64  \n",
      "dtypes: float64(6), int64(7), object(1)\n",
      "memory usage: 818.0+ KB\n"
     ]
    }
   ],
   "source": [
    "loans.info()"
   ]
  },
  {
   "cell_type": "code",
   "execution_count": 9,
   "metadata": {},
   "outputs": [
    {
     "data": {
      "text/plain": [
       "(7478, 14)"
      ]
     },
     "execution_count": 9,
     "metadata": {},
     "output_type": "execute_result"
    }
   ],
   "source": [
    "loans.shape"
   ]
  },
  {
   "cell_type": "code",
   "execution_count": 10,
   "metadata": {},
   "outputs": [
    {
     "data": {
      "text/plain": [
       "(2100, 13)"
      ]
     },
     "execution_count": 10,
     "metadata": {},
     "output_type": "execute_result"
    }
   ],
   "source": [
    "loans_outcome_not_known.shape"
   ]
  },
  {
   "cell_type": "markdown",
   "metadata": {},
   "source": [
    "### For the loans train dataset, there are 7,478 rows and 14 columns and for the loans_outcome_not_known there are 2,100 rows and 13 columns. The column included in the loans train dataset, that is missing from the loans outcomes not know dataset, is the not.fully.paid column which indicates whether loans have been fully repaid or not."
   ]
  },
  {
   "cell_type": "code",
   "execution_count": 11,
   "metadata": {},
   "outputs": [
    {
     "data": {
      "text/plain": [
       "0    6045\n",
       "1    1433\n",
       "Name: not.fully.paid, dtype: int64"
      ]
     },
     "execution_count": 11,
     "metadata": {},
     "output_type": "execute_result"
    }
   ],
   "source": [
    "count = loans['not.fully.paid'].value_counts()\n",
    "count"
   ]
  },
  {
   "cell_type": "markdown",
   "metadata": {},
   "source": [
    "### The two uniques values for 'not.fully.paid' are 0 and 1. There are 6,045 rows with a value of 0 and 1,433 rows with a value of 1."
   ]
  },
  {
   "cell_type": "code",
   "execution_count": 12,
   "metadata": {},
   "outputs": [
    {
     "data": {
      "text/plain": [
       "0.19162877774806097"
      ]
     },
     "execution_count": 12,
     "metadata": {},
     "output_type": "execute_result"
    }
   ],
   "source": [
    "prop1 = 1433 / (1433 + 6045)\n",
    "prop1"
   ]
  },
  {
   "cell_type": "markdown",
   "metadata": {},
   "source": [
    "### About 19% of people who took out loans did not fully pay back their loans."
   ]
  },
  {
   "cell_type": "markdown",
   "metadata": {},
   "source": [
    "# Q2\n",
    "- Visual and Exploratory Analysis\n",
    "- Carry out the tasks given below"
   ]
  },
  {
   "cell_type": "markdown",
   "metadata": {},
   "source": [
    "## Exploratory Data Analysis\n",
    "\n",
    "- Let's do some data visualization! \n",
    "- You can use many different visualization libraries including matplotlib, seaborn, pandasand many more. Feel free to use whatever library you want. Don't worry about the colors matching, just worry about getting the main idea of the plot.\n",
    "\n",
    "**Create a histogram of two FICO distributions on top of each other, one for each credit.policy outcome.**\n",
    "\n",
    "*Note: You'll probably need one line of code for each histogram, I also recommend just using pandas built in .hist()*"
   ]
  },
  {
   "cell_type": "code",
   "execution_count": 13,
   "metadata": {},
   "outputs": [
    {
     "data": {
      "text/plain": [
       "array([<matplotlib.axes._subplots.AxesSubplot object at 0x7fc2ce398880>,\n",
       "       <matplotlib.axes._subplots.AxesSubplot object at 0x7fc2ce526d30>],\n",
       "      dtype=object)"
      ]
     },
     "execution_count": 13,
     "metadata": {},
     "output_type": "execute_result"
    },
    {
     "data": {
      "image/png": "[encoded data removed]",
      "text/plain": [
       "<Figure size 432x288 with 2 Axes>"
      ]
     },
     "metadata": {
      "needs_background": "light"
     },
     "output_type": "display_data"
    }
   ],
   "source": [
    "loans.hist(column='fico', by='credit.policy')"
   ]
  },
  {
   "cell_type": "code",
   "execution_count": 14,
   "metadata": {},
   "outputs": [],
   "source": [
    "CreditGood = loans.loc[loans['credit.policy']==1]\n",
    "CreditBad = loans.loc[loans['credit.policy']==0]"
   ]
  },
  {
   "cell_type": "code",
   "execution_count": 15,
   "metadata": {},
   "outputs": [
    {
     "data": {
      "text/plain": [
       "<matplotlib.axes._subplots.AxesSubplot at 0x7fc2c959b910>"
      ]
     },
     "execution_count": 15,
     "metadata": {},
     "output_type": "execute_result"
    },
    {
     "data": {
      "image/png": "[encoded data removed]",
      "text/plain": [
       "<Figure size 432x288 with 1 Axes>"
      ]
     },
     "metadata": {
      "needs_background": "light"
     },
     "output_type": "display_data"
    }
   ],
   "source": [
    "CreditGood['fico'].hist()\n",
    "CreditBad['fico'].hist()"
   ]
  },
  {
   "cell_type": "markdown",
   "metadata": {},
   "source": [
    "### The histograms above, show that when customers meet the credit criteria they have higher FICO scores overall, than customers who do not meet the credit underwriting criteria."
   ]
  },
  {
   "cell_type": "markdown",
   "metadata": {},
   "source": [
    "**Create a similar figure, except this time select by the not.fully.paid column.**"
   ]
  },
  {
   "cell_type": "code",
   "execution_count": 16,
   "metadata": {},
   "outputs": [],
   "source": [
    "FullyPaid = loans.loc[loans['not.fully.paid']==0]\n",
    "NotFullyPaid = loans.loc[loans['not.fully.paid']==1]"
   ]
  },
  {
   "cell_type": "code",
   "execution_count": 17,
   "metadata": {},
   "outputs": [
    {
     "data": {
      "text/plain": [
       "<matplotlib.axes._subplots.AxesSubplot at 0x7fc2cdeb0460>"
      ]
     },
     "execution_count": 17,
     "metadata": {},
     "output_type": "execute_result"
    },
    {
     "data": {
      "image/png": "[encoded data removed]",
      "text/plain": [
       "<Figure size 432x288 with 1 Axes>"
      ]
     },
     "metadata": {
      "needs_background": "light"
     },
     "output_type": "display_data"
    }
   ],
   "source": [
    "FullyPaid['fico'].hist()\n",
    "NotFullyPaid['fico'].hist()"
   ]
  },
  {
   "cell_type": "markdown",
   "metadata": {},
   "source": [
    "### The histogram above shows that customers who fully paid back their loans have higher FICO scores than customers who did not pay back their loans."
   ]
  },
  {
   "cell_type": "markdown",
   "metadata": {},
   "source": [
    "**Create a countplot (bar plot showing counts using seaborn) that shows the counts of loans by purpose, with the color hue defined by `not.fully.paid`**"
   ]
  },
  {
   "cell_type": "code",
   "execution_count": 18,
   "metadata": {},
   "outputs": [
    {
     "data": {
      "text/plain": [
       "[Text(0, 0, 'credit_card'),\n",
       " Text(0, 0, 'all_other'),\n",
       " Text(0, 0, 'debt_consolidation'),\n",
       " Text(0, 0, 'home_improvement'),\n",
       " Text(0, 0, 'major_purchase'),\n",
       " Text(0, 0, 'small_business'),\n",
       " Text(0, 0, 'educational')]"
      ]
     },
     "execution_count": 18,
     "metadata": {},
     "output_type": "execute_result"
    },
    {
     "data": {
      "image/png": "[encoded data removed]",
      "text/plain": [
       "<Figure size 432x288 with 1 Axes>"
      ]
     },
     "metadata": {
      "needs_background": "light"
     },
     "output_type": "display_data"
    }
   ],
   "source": [
    "g = sns.countplot(x='purpose', data=loans, hue='not.fully.paid')\n",
    "g.set_xticklabels(g.get_xticklabels(), rotation=30)\n"
   ]
  },
  {
   "cell_type": "markdown",
   "metadata": {},
   "source": [
    "### The countplot above shows the distribution of loans across different loan types by whether or not customers paid back their loans."
   ]
  },
  {
   "cell_type": "markdown",
   "metadata": {},
   "source": [
    "**Let's see the trend between FICO score and interest rate. Recreate the following jointplot.**"
   ]
  },
  {
   "cell_type": "code",
   "execution_count": 19,
   "metadata": {},
   "outputs": [
    {
     "data": {
      "text/plain": [
       "<seaborn.axisgrid.JointGrid at 0x7fc2ce261af0>"
      ]
     },
     "execution_count": 19,
     "metadata": {},
     "output_type": "execute_result"
    },
    {
     "data": {
      "image/png": "[encoded data removed]",
      "text/plain": [
       "<Figure size 432x432 with 3 Axes>"
      ]
     },
     "metadata": {
      "needs_background": "light"
     },
     "output_type": "display_data"
    }
   ],
   "source": [
    "sns.jointplot(data=loans, x=\"fico\", y=\"int.rate\")"
   ]
  },
  {
   "cell_type": "code",
   "execution_count": 20,
   "metadata": {},
   "outputs": [],
   "source": [
    "# YOUR CODE"
   ]
  },
  {
   "cell_type": "markdown",
   "metadata": {},
   "source": [
    "**Create the following lmplots to see if the trend differed between `not.fully.paid` and `credit.policy`. Check the documentation for seaborn `lmplot()` if you can't figure out how to separate it into columns.**"
   ]
  },
  {
   "cell_type": "code",
   "execution_count": 21,
   "metadata": {},
   "outputs": [
    {
     "data": {
      "image/png": "[encoded data removed]",
      "text/plain": [
       "<Figure size 789.25x360 with 2 Axes>"
      ]
     },
     "metadata": {
      "needs_background": "light"
     },
     "output_type": "display_data"
    }
   ],
   "source": [
    "g = sns.lmplot(x='fico', y=\"int.rate\", col=\"not.fully.paid\", hue='credit.policy', data=loans)"
   ]
  },
  {
   "cell_type": "code",
   "execution_count": 22,
   "metadata": {},
   "outputs": [],
   "source": [
    "# YOUR CODE"
   ]
  },
  {
   "cell_type": "markdown",
   "metadata": {},
   "source": [
    "# Q3"
   ]
  },
  {
   "cell_type": "markdown",
   "metadata": {},
   "source": [
    "## Setting up the Data\n",
    "\n",
    "Let's get ready to set up our data for our models!\n",
    "\n",
    "**Check loans.info() again.**"
   ]
  },
  {
   "cell_type": "code",
   "execution_count": 23,
   "metadata": {},
   "outputs": [
    {
     "name": "stdout",
     "output_type": "stream",
     "text": [
      "<class 'pandas.core.frame.DataFrame'>\n",
      "RangeIndex: 7478 entries, 0 to 7477\n",
      "Data columns (total 14 columns):\n",
      " #   Column             Non-Null Count  Dtype  \n",
      "---  ------             --------------  -----  \n",
      " 0   credit.policy      7478 non-null   int64  \n",
      " 1   purpose            7478 non-null   object \n",
      " 2   int.rate           7478 non-null   float64\n",
      " 3   installment        7478 non-null   float64\n",
      " 4   log.annual.inc     7478 non-null   float64\n",
      " 5   dti                7478 non-null   float64\n",
      " 6   fico               7478 non-null   int64  \n",
      " 7   days.with.cr.line  7478 non-null   float64\n",
      " 8   revol.bal          7478 non-null   int64  \n",
      " 9   revol.util         7478 non-null   float64\n",
      " 10  inq.last.6mths     7478 non-null   int64  \n",
      " 11  delinq.2yrs        7478 non-null   int64  \n",
      " 12  pub.rec            7478 non-null   int64  \n",
      " 13  not.fully.paid     7478 non-null   int64  \n",
      "dtypes: float64(6), int64(7), object(1)\n",
      "memory usage: 818.0+ KB\n"
     ]
    }
   ],
   "source": [
    "loans.info()"
   ]
  },
  {
   "cell_type": "markdown",
   "metadata": {},
   "source": [
    "## Categorical Features\n",
    "\n",
    "Notice that the **purpose** column is of categorical type.\n",
    "\n",
    "That means we need to transform them using dummy variables so sklearn will be able to understand them. Let's do this in one clean step using pd.get_dummies().\n",
    "\n",
    "Let's show you a way of dealing with these columns that can be expanded to multiple categorical features if necessary.\n",
    "\n",
    "**Create a list of 1 element containing the string 'purpose'. Call this list cat_feats.**"
   ]
  },
  {
   "cell_type": "code",
   "execution_count": 24,
   "metadata": {},
   "outputs": [],
   "source": [
    "cat_feats = ['purpose']"
   ]
  },
  {
   "cell_type": "markdown",
   "metadata": {},
   "source": [
    "> The same transformation needs to be aplied on every dataset. The easiest way would be to merge train and test (loans_outcome_not_known) sets, and to split after the transformation."
   ]
  },
  {
   "cell_type": "code",
   "execution_count": 25,
   "metadata": {},
   "outputs": [
    {
     "data": {
      "text/html": [
       "<div>\n",
       "<style scoped>\n",
       "    .dataframe tbody tr th:only-of-type {\n",
       "        vertical-align: middle;\n",
       "    }\n",
       "\n",
       "    .dataframe tbody tr th {\n",
       "        vertical-align: top;\n",
       "    }\n",
       "\n",
       "    .dataframe thead th {\n",
       "        text-align: right;\n",
       "    }\n",
       "</style>\n",
       "<table border=\"1\" class=\"dataframe\">\n",
       "  <thead>\n",
       "    <tr style=\"text-align: right;\">\n",
       "      <th></th>\n",
       "      <th>credit.policy</th>\n",
       "      <th>int.rate</th>\n",
       "      <th>installment</th>\n",
       "      <th>log.annual.inc</th>\n",
       "      <th>dti</th>\n",
       "      <th>fico</th>\n",
       "      <th>days.with.cr.line</th>\n",
       "      <th>revol.bal</th>\n",
       "      <th>revol.util</th>\n",
       "      <th>inq.last.6mths</th>\n",
       "      <th>delinq.2yrs</th>\n",
       "      <th>pub.rec</th>\n",
       "      <th>purpose_all_other</th>\n",
       "      <th>purpose_credit_card</th>\n",
       "      <th>purpose_debt_consolidation</th>\n",
       "      <th>purpose_educational</th>\n",
       "      <th>purpose_home_improvement</th>\n",
       "      <th>purpose_major_purchase</th>\n",
       "      <th>purpose_small_business</th>\n",
       "    </tr>\n",
       "  </thead>\n",
       "  <tbody>\n",
       "    <tr>\n",
       "      <th>0</th>\n",
       "      <td>1</td>\n",
       "      <td>0.1324</td>\n",
       "      <td>540.96</td>\n",
       "      <td>10.596635</td>\n",
       "      <td>11.73</td>\n",
       "      <td>672</td>\n",
       "      <td>3210.000000</td>\n",
       "      <td>5671</td>\n",
       "      <td>55.1</td>\n",
       "      <td>0</td>\n",
       "      <td>0</td>\n",
       "      <td>0</td>\n",
       "      <td>0</td>\n",
       "      <td>0</td>\n",
       "      <td>1</td>\n",
       "      <td>0</td>\n",
       "      <td>0</td>\n",
       "      <td>0</td>\n",
       "      <td>0</td>\n",
       "    </tr>\n",
       "    <tr>\n",
       "      <th>1</th>\n",
       "      <td>0</td>\n",
       "      <td>0.1221</td>\n",
       "      <td>333.15</td>\n",
       "      <td>11.156193</td>\n",
       "      <td>15.82</td>\n",
       "      <td>707</td>\n",
       "      <td>5314.000000</td>\n",
       "      <td>107643</td>\n",
       "      <td>81.0</td>\n",
       "      <td>3</td>\n",
       "      <td>0</td>\n",
       "      <td>0</td>\n",
       "      <td>0</td>\n",
       "      <td>0</td>\n",
       "      <td>0</td>\n",
       "      <td>1</td>\n",
       "      <td>0</td>\n",
       "      <td>0</td>\n",
       "      <td>0</td>\n",
       "    </tr>\n",
       "    <tr>\n",
       "      <th>2</th>\n",
       "      <td>1</td>\n",
       "      <td>0.1218</td>\n",
       "      <td>166.50</td>\n",
       "      <td>10.753836</td>\n",
       "      <td>6.38</td>\n",
       "      <td>772</td>\n",
       "      <td>1440.000000</td>\n",
       "      <td>233</td>\n",
       "      <td>6.7</td>\n",
       "      <td>0</td>\n",
       "      <td>0</td>\n",
       "      <td>0</td>\n",
       "      <td>0</td>\n",
       "      <td>0</td>\n",
       "      <td>1</td>\n",
       "      <td>0</td>\n",
       "      <td>0</td>\n",
       "      <td>0</td>\n",
       "      <td>0</td>\n",
       "    </tr>\n",
       "    <tr>\n",
       "      <th>3</th>\n",
       "      <td>0</td>\n",
       "      <td>0.1461</td>\n",
       "      <td>124.12</td>\n",
       "      <td>10.239960</td>\n",
       "      <td>0.00</td>\n",
       "      <td>692</td>\n",
       "      <td>1530.041667</td>\n",
       "      <td>0</td>\n",
       "      <td>0.0</td>\n",
       "      <td>6</td>\n",
       "      <td>0</td>\n",
       "      <td>0</td>\n",
       "      <td>0</td>\n",
       "      <td>0</td>\n",
       "      <td>0</td>\n",
       "      <td>0</td>\n",
       "      <td>0</td>\n",
       "      <td>1</td>\n",
       "      <td>0</td>\n",
       "    </tr>\n",
       "    <tr>\n",
       "      <th>4</th>\n",
       "      <td>1</td>\n",
       "      <td>0.0800</td>\n",
       "      <td>156.69</td>\n",
       "      <td>10.434116</td>\n",
       "      <td>15.85</td>\n",
       "      <td>767</td>\n",
       "      <td>10170.000000</td>\n",
       "      <td>5748</td>\n",
       "      <td>12.3</td>\n",
       "      <td>0</td>\n",
       "      <td>1</td>\n",
       "      <td>0</td>\n",
       "      <td>0</td>\n",
       "      <td>1</td>\n",
       "      <td>0</td>\n",
       "      <td>0</td>\n",
       "      <td>0</td>\n",
       "      <td>0</td>\n",
       "      <td>0</td>\n",
       "    </tr>\n",
       "  </tbody>\n",
       "</table>\n",
       "</div>"
      ],
      "text/plain": [
       "   credit.policy  int.rate  installment  log.annual.inc    dti  fico  \\\n",
       "0              1    0.1324       540.96       10.596635  11.73   672   \n",
       "1              0    0.1221       333.15       11.156193  15.82   707   \n",
       "2              1    0.1218       166.50       10.753836   6.38   772   \n",
       "3              0    0.1461       124.12       10.239960   0.00   692   \n",
       "4              1    0.0800       156.69       10.434116  15.85   767   \n",
       "\n",
       "   days.with.cr.line  revol.bal  revol.util  inq.last.6mths  delinq.2yrs  \\\n",
       "0        3210.000000       5671        55.1               0            0   \n",
       "1        5314.000000     107643        81.0               3            0   \n",
       "2        1440.000000        233         6.7               0            0   \n",
       "3        1530.041667          0         0.0               6            0   \n",
       "4       10170.000000       5748        12.3               0            1   \n",
       "\n",
       "   pub.rec  purpose_all_other  purpose_credit_card  \\\n",
       "0        0                  0                    0   \n",
       "1        0                  0                    0   \n",
       "2        0                  0                    0   \n",
       "3        0                  0                    0   \n",
       "4        0                  0                    1   \n",
       "\n",
       "   purpose_debt_consolidation  purpose_educational  purpose_home_improvement  \\\n",
       "0                           1                    0                         0   \n",
       "1                           0                    1                         0   \n",
       "2                           1                    0                         0   \n",
       "3                           0                    0                         0   \n",
       "4                           0                    0                         0   \n",
       "\n",
       "   purpose_major_purchase  purpose_small_business  \n",
       "0                       0                       0  \n",
       "1                       0                       0  \n",
       "2                       0                       0  \n",
       "3                       1                       0  \n",
       "4                       0                       0  "
      ]
     },
     "execution_count": 25,
     "metadata": {},
     "output_type": "execute_result"
    }
   ],
   "source": [
    "loanTest = pd.get_dummies(loans_outcome_not_known,columns=cat_feats)\n",
    "loanTest.head()"
   ]
  },
  {
   "cell_type": "code",
   "execution_count": 26,
   "metadata": {},
   "outputs": [
    {
     "data": {
      "text/html": [
       "<div>\n",
       "<style scoped>\n",
       "    .dataframe tbody tr th:only-of-type {\n",
       "        vertical-align: middle;\n",
       "    }\n",
       "\n",
       "    .dataframe tbody tr th {\n",
       "        vertical-align: top;\n",
       "    }\n",
       "\n",
       "    .dataframe thead th {\n",
       "        text-align: right;\n",
       "    }\n",
       "</style>\n",
       "<table border=\"1\" class=\"dataframe\">\n",
       "  <thead>\n",
       "    <tr style=\"text-align: right;\">\n",
       "      <th></th>\n",
       "      <th>credit.policy</th>\n",
       "      <th>int.rate</th>\n",
       "      <th>installment</th>\n",
       "      <th>log.annual.inc</th>\n",
       "      <th>dti</th>\n",
       "      <th>fico</th>\n",
       "      <th>days.with.cr.line</th>\n",
       "      <th>revol.bal</th>\n",
       "      <th>revol.util</th>\n",
       "      <th>inq.last.6mths</th>\n",
       "      <th>delinq.2yrs</th>\n",
       "      <th>pub.rec</th>\n",
       "      <th>not.fully.paid</th>\n",
       "      <th>purpose_all_other</th>\n",
       "      <th>purpose_credit_card</th>\n",
       "      <th>purpose_debt_consolidation</th>\n",
       "      <th>purpose_educational</th>\n",
       "      <th>purpose_home_improvement</th>\n",
       "      <th>purpose_major_purchase</th>\n",
       "      <th>purpose_small_business</th>\n",
       "    </tr>\n",
       "  </thead>\n",
       "  <tbody>\n",
       "    <tr>\n",
       "      <th>0</th>\n",
       "      <td>1</td>\n",
       "      <td>0.0800</td>\n",
       "      <td>101.85</td>\n",
       "      <td>10.596635</td>\n",
       "      <td>10.26</td>\n",
       "      <td>747</td>\n",
       "      <td>7560.000000</td>\n",
       "      <td>18467</td>\n",
       "      <td>30.9</td>\n",
       "      <td>3</td>\n",
       "      <td>0</td>\n",
       "      <td>0</td>\n",
       "      <td>0</td>\n",
       "      <td>0</td>\n",
       "      <td>1</td>\n",
       "      <td>0</td>\n",
       "      <td>0</td>\n",
       "      <td>0</td>\n",
       "      <td>0</td>\n",
       "      <td>0</td>\n",
       "    </tr>\n",
       "    <tr>\n",
       "      <th>1</th>\n",
       "      <td>1</td>\n",
       "      <td>0.1114</td>\n",
       "      <td>328.04</td>\n",
       "      <td>10.530495</td>\n",
       "      <td>14.13</td>\n",
       "      <td>722</td>\n",
       "      <td>1920.000000</td>\n",
       "      <td>6811</td>\n",
       "      <td>56.8</td>\n",
       "      <td>0</td>\n",
       "      <td>0</td>\n",
       "      <td>0</td>\n",
       "      <td>0</td>\n",
       "      <td>1</td>\n",
       "      <td>0</td>\n",
       "      <td>0</td>\n",
       "      <td>0</td>\n",
       "      <td>0</td>\n",
       "      <td>0</td>\n",
       "      <td>0</td>\n",
       "    </tr>\n",
       "    <tr>\n",
       "      <th>2</th>\n",
       "      <td>1</td>\n",
       "      <td>0.1324</td>\n",
       "      <td>676.20</td>\n",
       "      <td>11.289782</td>\n",
       "      <td>20.73</td>\n",
       "      <td>697</td>\n",
       "      <td>4080.000000</td>\n",
       "      <td>16805</td>\n",
       "      <td>64.1</td>\n",
       "      <td>0</td>\n",
       "      <td>0</td>\n",
       "      <td>0</td>\n",
       "      <td>0</td>\n",
       "      <td>0</td>\n",
       "      <td>0</td>\n",
       "      <td>1</td>\n",
       "      <td>0</td>\n",
       "      <td>0</td>\n",
       "      <td>0</td>\n",
       "      <td>0</td>\n",
       "    </tr>\n",
       "    <tr>\n",
       "      <th>3</th>\n",
       "      <td>1</td>\n",
       "      <td>0.1103</td>\n",
       "      <td>671.44</td>\n",
       "      <td>10.555813</td>\n",
       "      <td>15.72</td>\n",
       "      <td>722</td>\n",
       "      <td>3580.041667</td>\n",
       "      <td>31566</td>\n",
       "      <td>32.3</td>\n",
       "      <td>1</td>\n",
       "      <td>0</td>\n",
       "      <td>0</td>\n",
       "      <td>1</td>\n",
       "      <td>0</td>\n",
       "      <td>0</td>\n",
       "      <td>1</td>\n",
       "      <td>0</td>\n",
       "      <td>0</td>\n",
       "      <td>0</td>\n",
       "      <td>0</td>\n",
       "    </tr>\n",
       "    <tr>\n",
       "      <th>4</th>\n",
       "      <td>0</td>\n",
       "      <td>0.1545</td>\n",
       "      <td>244.21</td>\n",
       "      <td>10.308953</td>\n",
       "      <td>18.80</td>\n",
       "      <td>647</td>\n",
       "      <td>1950.041667</td>\n",
       "      <td>4587</td>\n",
       "      <td>41.0</td>\n",
       "      <td>2</td>\n",
       "      <td>0</td>\n",
       "      <td>0</td>\n",
       "      <td>0</td>\n",
       "      <td>0</td>\n",
       "      <td>0</td>\n",
       "      <td>1</td>\n",
       "      <td>0</td>\n",
       "      <td>0</td>\n",
       "      <td>0</td>\n",
       "      <td>0</td>\n",
       "    </tr>\n",
       "  </tbody>\n",
       "</table>\n",
       "</div>"
      ],
      "text/plain": [
       "   credit.policy  int.rate  installment  log.annual.inc    dti  fico  \\\n",
       "0              1    0.0800       101.85       10.596635  10.26   747   \n",
       "1              1    0.1114       328.04       10.530495  14.13   722   \n",
       "2              1    0.1324       676.20       11.289782  20.73   697   \n",
       "3              1    0.1103       671.44       10.555813  15.72   722   \n",
       "4              0    0.1545       244.21       10.308953  18.80   647   \n",
       "\n",
       "   days.with.cr.line  revol.bal  revol.util  inq.last.6mths  delinq.2yrs  \\\n",
       "0        7560.000000      18467        30.9               3            0   \n",
       "1        1920.000000       6811        56.8               0            0   \n",
       "2        4080.000000      16805        64.1               0            0   \n",
       "3        3580.041667      31566        32.3               1            0   \n",
       "4        1950.041667       4587        41.0               2            0   \n",
       "\n",
       "   pub.rec  not.fully.paid  purpose_all_other  purpose_credit_card  \\\n",
       "0        0               0                  0                    1   \n",
       "1        0               0                  1                    0   \n",
       "2        0               0                  0                    0   \n",
       "3        0               1                  0                    0   \n",
       "4        0               0                  0                    0   \n",
       "\n",
       "   purpose_debt_consolidation  purpose_educational  purpose_home_improvement  \\\n",
       "0                           0                    0                         0   \n",
       "1                           0                    0                         0   \n",
       "2                           1                    0                         0   \n",
       "3                           1                    0                         0   \n",
       "4                           1                    0                         0   \n",
       "\n",
       "   purpose_major_purchase  purpose_small_business  \n",
       "0                       0                       0  \n",
       "1                       0                       0  \n",
       "2                       0                       0  \n",
       "3                       0                       0  \n",
       "4                       0                       0  "
      ]
     },
     "execution_count": 26,
     "metadata": {},
     "output_type": "execute_result"
    }
   ],
   "source": [
    "loanDF = pd.get_dummies(loans, columns=cat_feats)\n",
    "loanDF.head()"
   ]
  },
  {
   "cell_type": "code",
   "execution_count": 282,
   "metadata": {},
   "outputs": [
    {
     "data": {
      "text/plain": [
       "<bound method NDFrame.head of       credit.policy  int.rate  installment  log.annual.inc    dti  fico  \\\n",
       "0                 1    0.1324       540.96       10.596635  11.73   672   \n",
       "1                 0    0.1221       333.15       11.156193  15.82   707   \n",
       "2                 1    0.1218       166.50       10.753836   6.38   772   \n",
       "3                 0    0.1461       124.12       10.239960   0.00   692   \n",
       "4                 1    0.0800       156.69       10.434116  15.85   767   \n",
       "...             ...       ...          ...             ...    ...   ...   \n",
       "2095              1    0.1183        53.02       11.058795  12.26   712   \n",
       "2096              1    0.1218       266.40       10.757903   2.32   762   \n",
       "2097              1    0.1758       503.19       11.362103  21.93   662   \n",
       "2098              1    0.1316       121.58       10.126631   9.79   697   \n",
       "2099              1    0.0894       158.86       10.915016  20.14   727   \n",
       "\n",
       "      days.with.cr.line  revol.bal  revol.util  inq.last.6mths  delinq.2yrs  \\\n",
       "0           3210.000000       5671        55.1               0            0   \n",
       "1           5314.000000     107643        81.0               3            0   \n",
       "2           1440.000000        233         6.7               0            0   \n",
       "3           1530.041667          0         0.0               6            0   \n",
       "4          10170.000000       5748        12.3               0            1   \n",
       "...                 ...        ...         ...             ...          ...   \n",
       "2095        3900.041667       3221        74.9               2            0   \n",
       "2096        4474.000000       7470        38.3               1            0   \n",
       "2097        3570.000000      18991        95.0               0            0   \n",
       "2098        1680.000000       1898        34.5               3            0   \n",
       "2099        6029.958333      22652        53.3               3            0   \n",
       "\n",
       "      pub.rec  purpose_all_other  purpose_credit_card  \\\n",
       "0           0                  0                    0   \n",
       "1           0                  0                    0   \n",
       "2           0                  0                    0   \n",
       "3           0                  0                    0   \n",
       "4           0                  0                    1   \n",
       "...       ...                ...                  ...   \n",
       "2095        0                  0                    0   \n",
       "2096        0                  0                    0   \n",
       "2097        1                  0                    0   \n",
       "2098        0                  0                    0   \n",
       "2099        0                  1                    0   \n",
       "\n",
       "      purpose_debt_consolidation  purpose_educational  \\\n",
       "0                              1                    0   \n",
       "1                              0                    1   \n",
       "2                              1                    0   \n",
       "3                              0                    0   \n",
       "4                              0                    0   \n",
       "...                          ...                  ...   \n",
       "2095                           1                    0   \n",
       "2096                           0                    0   \n",
       "2097                           1                    0   \n",
       "2098                           0                    0   \n",
       "2099                           0                    0   \n",
       "\n",
       "      purpose_home_improvement  purpose_major_purchase  purpose_small_business  \n",
       "0                            0                       0                       0  \n",
       "1                            0                       0                       0  \n",
       "2                            0                       0                       0  \n",
       "3                            0                       1                       0  \n",
       "4                            0                       0                       0  \n",
       "...                        ...                     ...                     ...  \n",
       "2095                         0                       0                       0  \n",
       "2096                         0                       1                       0  \n",
       "2097                         0                       0                       0  \n",
       "2098                         0                       1                       0  \n",
       "2099                         0                       0                       0  \n",
       "\n",
       "[2100 rows x 19 columns]>"
      ]
     },
     "execution_count": 282,
     "metadata": {},
     "output_type": "execute_result"
    }
   ],
   "source": [
    "loans_Unknown = pd.get_dummies(loans_outcome_not_known, columns=cat_feats)\n",
    "loans_Unknown.head"
   ]
  },
  {
   "cell_type": "markdown",
   "metadata": {},
   "source": [
    "**Now you can use `pd.get_dummies(loans,columns=cat_feats)` to create a fixed larger dataframe that has new feature columns with dummy variables.**"
   ]
  },
  {
   "cell_type": "markdown",
   "metadata": {},
   "source": [
    "## Train Test Split\n",
    "\n",
    "Now its time to split our data into a training set and a validation set!  \n",
    "\n",
    "The `not.fully.paid` variable is the one that we will try to predict.\n",
    "\n",
    "**Use sklearn to split your data into a training set and a testing set as we've done in the past.**"
   ]
  },
  {
   "cell_type": "code",
   "execution_count": 27,
   "metadata": {},
   "outputs": [],
   "source": [
    "from sklearn.model_selection import train_test_split"
   ]
  },
  {
   "cell_type": "code",
   "execution_count": 28,
   "metadata": {},
   "outputs": [],
   "source": [
    "X = loanDF.drop('not.fully.paid',axis=1)\n",
    "y = loanDF['not.fully.paid']\n",
    "X_train, X_val, y_train, y_val = train_test_split(X, y, test_size=0.30, random_state=2020)"
   ]
  },
  {
   "cell_type": "markdown",
   "metadata": {},
   "source": [
    "# Q4"
   ]
  },
  {
   "cell_type": "markdown",
   "metadata": {},
   "source": [
    "## Decision Tree Model\n",
    "\n",
    "Let's start by training a single decision tree first!\n"
   ]
  },
  {
   "cell_type": "markdown",
   "metadata": {},
   "source": [
    "- Initiate the Decision Tree classifier from the sklearn library. Keep all parameters with their default values. (No need to specify anything)\n",
    "- Fit the model\n",
    "- Make predictions\n",
    "- Calculate accuracy score. What are the **training** and **testing** accuracies of the model?\n",
    "- Create confusion matrix\n",
    "- Either using the confusion matrix or the methods in `sklearn.metrics` get the following metrics on the testing set:\n",
    "     - Recall (Sensitivity)\n",
    "     - Specificity\n",
    "     - Precision\n",
    "     - Balanced Accuracy\n",
    "     - F1 Score\n",
    "- Using all the training data perform cross-validation:\n",
    "    - Select the `min_samples_split` hyper-parameter and apply cross validation to find the best value.  \n",
    "    - Select the `max_depth` hyper-parameter and apply cross validation to find the best value. \n",
    "    - Perform grid search where you check for combinations of these hyper-parameters.\n",
    "        - https://scikit-learn.org/stable/modules/generated/sklearn.model_selection.GridSearchCV.html\n",
    "- For the best model:\n",
    "    - Plot the decision tree of the best model\n",
    "    - Either using the confusion matrix or the methods in `sklearn.metrics` get the following metrics on the testing set:\n",
    "         - Recall (Sensitivity)\n",
    "         - Specificity\n",
    "         - Precision\n",
    "         - Balanced Accuracy\n",
    "         - F1 Score\n",
    "    - Compare the results to the model with default paramters. Any change?"
   ]
  },
  {
   "cell_type": "code",
   "execution_count": 29,
   "metadata": {},
   "outputs": [],
   "source": [
    "# Import DecisionTreeClassifier\n",
    "from sklearn.tree import DecisionTreeClassifier, plot_tree\n",
    "from sklearn import metrics\n",
    "from sklearn.metrics import confusion_matrix\n"
   ]
  },
  {
   "cell_type": "code",
   "execution_count": 30,
   "metadata": {},
   "outputs": [],
   "source": [
    "clf = DecisionTreeClassifier()"
   ]
  },
  {
   "cell_type": "code",
   "execution_count": 31,
   "metadata": {},
   "outputs": [
    {
     "data": {
      "text/plain": [
       "DecisionTreeClassifier()"
      ]
     },
     "execution_count": 31,
     "metadata": {},
     "output_type": "execute_result"
    }
   ],
   "source": [
    "clf.fit(X_train, y_train)"
   ]
  },
  {
   "cell_type": "code",
   "execution_count": 32,
   "metadata": {},
   "outputs": [],
   "source": [
    "predTrain = clf.predict(X_train)"
   ]
  },
  {
   "cell_type": "code",
   "execution_count": 33,
   "metadata": {},
   "outputs": [
    {
     "data": {
      "text/plain": [
       "1.0"
      ]
     },
     "execution_count": 33,
     "metadata": {},
     "output_type": "execute_result"
    }
   ],
   "source": [
    "accuracyTrain = metrics.accuracy_score(y_true = y_train, y_pred = predTrain)\n",
    "accuracyTrain"
   ]
  },
  {
   "cell_type": "code",
   "execution_count": 34,
   "metadata": {},
   "outputs": [],
   "source": [
    "predTest = clf.predict(X_val)"
   ]
  },
  {
   "cell_type": "code",
   "execution_count": 35,
   "metadata": {},
   "outputs": [
    {
     "data": {
      "text/plain": [
       "0.7058823529411765"
      ]
     },
     "execution_count": 35,
     "metadata": {},
     "output_type": "execute_result"
    }
   ],
   "source": [
    "accuracyTest = metrics.accuracy_score (y_true = y_val, y_pred = predTest)\n",
    "accuracyTest"
   ]
  },
  {
   "cell_type": "markdown",
   "metadata": {},
   "source": [
    "## Accuracy for Decision Tree\n",
    "### Training Accuracy is 1.0\n",
    "### Testing Accuracy is 0.71"
   ]
  },
  {
   "cell_type": "code",
   "execution_count": 36,
   "metadata": {},
   "outputs": [
    {
     "data": {
      "text/plain": [
       "array([[1472,  335],\n",
       "       [ 325,  112]])"
      ]
     },
     "execution_count": 36,
     "metadata": {},
     "output_type": "execute_result"
    }
   ],
   "source": [
    "confusion_matrix(y_val, predTest)"
   ]
  },
  {
   "cell_type": "code",
   "execution_count": 37,
   "metadata": {},
   "outputs": [
    {
     "data": {
      "text/plain": [
       "0.2562929061784897"
      ]
     },
     "execution_count": 37,
     "metadata": {},
     "output_type": "execute_result"
    }
   ],
   "source": [
    "sklearn.metrics.recall_score(y_true = y_val, y_pred = predTest)"
   ]
  },
  {
   "cell_type": "markdown",
   "metadata": {},
   "source": [
    "### Recall\n",
    "#### TP/(TP + FN)\n",
    "#### The Recall value is 0.26. This can be found by dividing the number of true positives (112) by the true positives plus false negatives (112 + 325)"
   ]
  },
  {
   "cell_type": "code",
   "execution_count": 38,
   "metadata": {},
   "outputs": [
    {
     "data": {
      "text/plain": [
       "0.8146098505810736"
      ]
     },
     "execution_count": 38,
     "metadata": {},
     "output_type": "execute_result"
    }
   ],
   "source": [
    "tn, fp, fn, tp = confusion_matrix(y_true = y_val, y_pred = predTest).ravel()\n",
    "specificity = tn / (tn+fp)\n",
    "specificity"
   ]
  },
  {
   "cell_type": "markdown",
   "metadata": {},
   "source": [
    "### Specificity \n",
    "#### The Specificity is 0.81, the specificity is found by dividing the true negatives (1472) by the sum of true negatives (1472) and false positives (335). "
   ]
  },
  {
   "cell_type": "code",
   "execution_count": 39,
   "metadata": {},
   "outputs": [
    {
     "data": {
      "text/plain": [
       "0.2505592841163311"
      ]
     },
     "execution_count": 39,
     "metadata": {},
     "output_type": "execute_result"
    }
   ],
   "source": [
    "metrics.precision_score(y_true = y_val, y_pred = predTest)"
   ]
  },
  {
   "cell_type": "markdown",
   "metadata": {},
   "source": [
    "### Precision\n",
    "#### TP/(TP+FP)\n",
    "#### The precision is 0.25. This can be found by dividing the true positives (112) by the true positives plus the false positives (112+335)"
   ]
  },
  {
   "cell_type": "code",
   "execution_count": 40,
   "metadata": {},
   "outputs": [
    {
     "data": {
      "text/plain": [
       "0.5354513783797816"
      ]
     },
     "execution_count": 40,
     "metadata": {},
     "output_type": "execute_result"
    }
   ],
   "source": [
    "metrics.balanced_accuracy_score(y_true = y_val, y_pred = predTest, sample_weight=None, adjusted=False)"
   ]
  },
  {
   "cell_type": "markdown",
   "metadata": {},
   "source": [
    "### Balanced Accuracy has a score of 0.53"
   ]
  },
  {
   "cell_type": "code",
   "execution_count": 41,
   "metadata": {},
   "outputs": [
    {
     "data": {
      "text/plain": [
       "0.253393665158371"
      ]
     },
     "execution_count": 41,
     "metadata": {},
     "output_type": "execute_result"
    }
   ],
   "source": [
    "sklearn.metrics.f1_score(y_true = y_val, y_pred = predTest)"
   ]
  },
  {
   "cell_type": "markdown",
   "metadata": {},
   "source": [
    "### F1 Score of 0.25"
   ]
  },
  {
   "cell_type": "code",
   "execution_count": 42,
   "metadata": {},
   "outputs": [],
   "source": [
    "def print_results(results):\n",
    "    print('BEST PARAMS: {}\\n'.format(results.best_params_))\n",
    "\n",
    "    means = results.cv_results_['mean_test_score']\n",
    "    stds = results.cv_results_['std_test_score']\n",
    "    for mean, std, params in zip(means, stds, results.cv_results_['params']):\n",
    "        print('{} (+/-{}) for {}'.format(round(mean, 3), round(std * 2, 3), params))"
   ]
  },
  {
   "cell_type": "code",
   "execution_count": 43,
   "metadata": {},
   "outputs": [],
   "source": [
    "parameters = {\n",
    "    'min_samples_split': [2, 3, 4, 5, 6, 7, 8, 9, 10],\n",
    "    'max_depth': [1, 2, 4, 8, 16, None]\n",
    "}"
   ]
  },
  {
   "cell_type": "code",
   "execution_count": 44,
   "metadata": {},
   "outputs": [
    {
     "name": "stdout",
     "output_type": "stream",
     "text": [
      "BEST PARAMS: {'max_depth': 1, 'min_samples_split': 2}\n",
      "\n",
      "0.81 (+/-0.001) for {'max_depth': 1, 'min_samples_split': 2}\n",
      "0.81 (+/-0.001) for {'max_depth': 1, 'min_samples_split': 3}\n",
      "0.81 (+/-0.001) for {'max_depth': 1, 'min_samples_split': 4}\n",
      "0.81 (+/-0.001) for {'max_depth': 1, 'min_samples_split': 5}\n",
      "0.81 (+/-0.001) for {'max_depth': 1, 'min_samples_split': 6}\n",
      "0.81 (+/-0.001) for {'max_depth': 1, 'min_samples_split': 7}\n",
      "0.81 (+/-0.001) for {'max_depth': 1, 'min_samples_split': 8}\n",
      "0.81 (+/-0.001) for {'max_depth': 1, 'min_samples_split': 9}\n",
      "0.81 (+/-0.001) for {'max_depth': 1, 'min_samples_split': 10}\n",
      "0.81 (+/-0.001) for {'max_depth': 2, 'min_samples_split': 2}\n",
      "0.81 (+/-0.001) for {'max_depth': 2, 'min_samples_split': 3}\n",
      "0.81 (+/-0.001) for {'max_depth': 2, 'min_samples_split': 4}\n",
      "0.81 (+/-0.001) for {'max_depth': 2, 'min_samples_split': 5}\n",
      "0.81 (+/-0.001) for {'max_depth': 2, 'min_samples_split': 6}\n",
      "0.81 (+/-0.001) for {'max_depth': 2, 'min_samples_split': 7}\n",
      "0.81 (+/-0.001) for {'max_depth': 2, 'min_samples_split': 8}\n",
      "0.81 (+/-0.001) for {'max_depth': 2, 'min_samples_split': 9}\n",
      "0.81 (+/-0.001) for {'max_depth': 2, 'min_samples_split': 10}\n",
      "0.803 (+/-0.006) for {'max_depth': 4, 'min_samples_split': 2}\n",
      "0.803 (+/-0.006) for {'max_depth': 4, 'min_samples_split': 3}\n",
      "0.803 (+/-0.006) for {'max_depth': 4, 'min_samples_split': 4}\n",
      "0.803 (+/-0.006) for {'max_depth': 4, 'min_samples_split': 5}\n",
      "0.803 (+/-0.006) for {'max_depth': 4, 'min_samples_split': 6}\n",
      "0.803 (+/-0.006) for {'max_depth': 4, 'min_samples_split': 7}\n",
      "0.803 (+/-0.006) for {'max_depth': 4, 'min_samples_split': 8}\n",
      "0.803 (+/-0.006) for {'max_depth': 4, 'min_samples_split': 9}\n",
      "0.803 (+/-0.006) for {'max_depth': 4, 'min_samples_split': 10}\n",
      "0.778 (+/-0.018) for {'max_depth': 8, 'min_samples_split': 2}\n",
      "0.779 (+/-0.018) for {'max_depth': 8, 'min_samples_split': 3}\n",
      "0.779 (+/-0.019) for {'max_depth': 8, 'min_samples_split': 4}\n",
      "0.779 (+/-0.021) for {'max_depth': 8, 'min_samples_split': 5}\n",
      "0.778 (+/-0.019) for {'max_depth': 8, 'min_samples_split': 6}\n",
      "0.778 (+/-0.022) for {'max_depth': 8, 'min_samples_split': 7}\n",
      "0.777 (+/-0.022) for {'max_depth': 8, 'min_samples_split': 8}\n",
      "0.778 (+/-0.02) for {'max_depth': 8, 'min_samples_split': 9}\n",
      "0.776 (+/-0.017) for {'max_depth': 8, 'min_samples_split': 10}\n",
      "0.729 (+/-0.025) for {'max_depth': 16, 'min_samples_split': 2}\n",
      "0.731 (+/-0.036) for {'max_depth': 16, 'min_samples_split': 3}\n",
      "0.731 (+/-0.022) for {'max_depth': 16, 'min_samples_split': 4}\n",
      "0.734 (+/-0.02) for {'max_depth': 16, 'min_samples_split': 5}\n",
      "0.73 (+/-0.03) for {'max_depth': 16, 'min_samples_split': 6}\n",
      "0.731 (+/-0.031) for {'max_depth': 16, 'min_samples_split': 7}\n",
      "0.73 (+/-0.032) for {'max_depth': 16, 'min_samples_split': 8}\n",
      "0.735 (+/-0.031) for {'max_depth': 16, 'min_samples_split': 9}\n",
      "0.734 (+/-0.031) for {'max_depth': 16, 'min_samples_split': 10}\n",
      "0.697 (+/-0.031) for {'max_depth': None, 'min_samples_split': 2}\n",
      "0.708 (+/-0.029) for {'max_depth': None, 'min_samples_split': 3}\n",
      "0.709 (+/-0.024) for {'max_depth': None, 'min_samples_split': 4}\n",
      "0.71 (+/-0.024) for {'max_depth': None, 'min_samples_split': 5}\n",
      "0.711 (+/-0.024) for {'max_depth': None, 'min_samples_split': 6}\n",
      "0.712 (+/-0.029) for {'max_depth': None, 'min_samples_split': 7}\n",
      "0.715 (+/-0.032) for {'max_depth': None, 'min_samples_split': 8}\n",
      "0.717 (+/-0.028) for {'max_depth': None, 'min_samples_split': 9}\n",
      "0.716 (+/-0.027) for {'max_depth': None, 'min_samples_split': 10}\n"
     ]
    }
   ],
   "source": [
    "cv = GridSearchCV(clf, parameters, cv=5)\n",
    "cv.fit(X_train, y_train)\n",
    "\n",
    "print_results(cv)"
   ]
  },
  {
   "cell_type": "markdown",
   "metadata": {},
   "source": [
    "### The best parameters found are for a max depth of 1 and a min samples split of 2\n",
    "### Below we will fit the model with the aforementioned parameters and test the model for the relevant metrics"
   ]
  },
  {
   "cell_type": "code",
   "execution_count": 45,
   "metadata": {},
   "outputs": [],
   "source": [
    "clf = DecisionTreeClassifier(max_depth=1, min_samples_split=2)"
   ]
  },
  {
   "cell_type": "code",
   "execution_count": 46,
   "metadata": {},
   "outputs": [
    {
     "data": {
      "text/plain": [
       "DecisionTreeClassifier(max_depth=1)"
      ]
     },
     "execution_count": 46,
     "metadata": {},
     "output_type": "execute_result"
    }
   ],
   "source": [
    "clf.fit(X_train, y_train)"
   ]
  },
  {
   "cell_type": "code",
   "execution_count": 47,
   "metadata": {},
   "outputs": [],
   "source": [
    "predTrain = clf.predict(X_train)"
   ]
  },
  {
   "cell_type": "code",
   "execution_count": 48,
   "metadata": {},
   "outputs": [
    {
     "data": {
      "text/plain": [
       "0.8097057699656095"
      ]
     },
     "execution_count": 48,
     "metadata": {},
     "output_type": "execute_result"
    }
   ],
   "source": [
    "accuracyTrain = metrics.accuracy_score(y_true = y_train, y_pred = predTrain)\n",
    "accuracyTrain"
   ]
  },
  {
   "cell_type": "code",
   "execution_count": 49,
   "metadata": {},
   "outputs": [],
   "source": [
    "predTest = clf.predict(X_val)"
   ]
  },
  {
   "cell_type": "code",
   "execution_count": 50,
   "metadata": {},
   "outputs": [
    {
     "data": {
      "text/plain": [
       "0.8052584670231729"
      ]
     },
     "execution_count": 50,
     "metadata": {},
     "output_type": "execute_result"
    }
   ],
   "source": [
    "accuracyTest = metrics.accuracy_score (y_true = y_val, y_pred = predTest)\n",
    "accuracyTest"
   ]
  },
  {
   "cell_type": "markdown",
   "metadata": {},
   "source": [
    "## Accuracy for Decision Tree\n",
    "### Training Accuracy is 0.81\n",
    "### Testing Accuracy is 0.81"
   ]
  },
  {
   "cell_type": "code",
   "execution_count": 51,
   "metadata": {},
   "outputs": [
    {
     "data": {
      "text/plain": [
       "array([[1807,    0],\n",
       "       [ 437,    0]])"
      ]
     },
     "execution_count": 51,
     "metadata": {},
     "output_type": "execute_result"
    }
   ],
   "source": [
    "confusion_matrix(y_val, predTest)"
   ]
  },
  {
   "cell_type": "markdown",
   "metadata": {},
   "source": [
    "#### One interesting observation regarding the confusion matrix, is that there are no false positives or true positives everything falls into true negatives or false negatives"
   ]
  },
  {
   "cell_type": "code",
   "execution_count": 52,
   "metadata": {},
   "outputs": [
    {
     "data": {
      "text/plain": [
       "0.0"
      ]
     },
     "execution_count": 52,
     "metadata": {},
     "output_type": "execute_result"
    }
   ],
   "source": [
    "sklearn.metrics.recall_score(y_true = y_val, y_pred = predTest)"
   ]
  },
  {
   "cell_type": "markdown",
   "metadata": {},
   "source": [
    "### Recall\n",
    "#### TP/(TP + FN)\n",
    "#### The Recall value is 0, this is largely due to the absense of true positive values. This can be found by dividing the number of true positives (0) by the true positives plus false negatives (0) + (437)"
   ]
  },
  {
   "cell_type": "code",
   "execution_count": 53,
   "metadata": {},
   "outputs": [
    {
     "data": {
      "text/plain": [
       "1.0"
      ]
     },
     "execution_count": 53,
     "metadata": {},
     "output_type": "execute_result"
    }
   ],
   "source": [
    "tn, fp, fn, tp = confusion_matrix(y_true = y_val, y_pred = predTest).ravel()\n",
    "specificity = tn / (tn+fp)\n",
    "specificity"
   ]
  },
  {
   "cell_type": "markdown",
   "metadata": {},
   "source": [
    "### Specificity \n",
    "#### The Specificity is 1, the specificity is found by dividing the true negatives (1807) by the sum of true negatives (1807) and false positives (0)."
   ]
  },
  {
   "cell_type": "code",
   "execution_count": 54,
   "metadata": {},
   "outputs": [
    {
     "name": "stderr",
     "output_type": "stream",
     "text": [
      "/Users/danielobrien/opt/anaconda3/lib/python3.8/site-packages/sklearn/metrics/_classification.py:1221: UndefinedMetricWarning: Precision is ill-defined and being set to 0.0 due to no predicted samples. Use `zero_division` parameter to control this behavior.\n",
      "  _warn_prf(average, modifier, msg_start, len(result))\n"
     ]
    },
    {
     "data": {
      "text/plain": [
       "0.0"
      ]
     },
     "execution_count": 54,
     "metadata": {},
     "output_type": "execute_result"
    }
   ],
   "source": [
    "metrics.precision_score(y_true = y_val, y_pred = predTest)"
   ]
  },
  {
   "cell_type": "markdown",
   "metadata": {},
   "source": [
    "### Precision\n",
    "#### TP/(TP+FP)\n",
    "#### This returned a value of 0, although the actual answer cannot be computer because dividing by a zero cannot be computed. Therefore our result of having no true or false positives returns a strange result for precision."
   ]
  },
  {
   "cell_type": "code",
   "execution_count": 55,
   "metadata": {},
   "outputs": [
    {
     "data": {
      "text/plain": [
       "0.5"
      ]
     },
     "execution_count": 55,
     "metadata": {},
     "output_type": "execute_result"
    }
   ],
   "source": [
    "metrics.balanced_accuracy_score(y_true = y_val, y_pred = predTest, sample_weight=None, adjusted=False)"
   ]
  },
  {
   "cell_type": "markdown",
   "metadata": {},
   "source": [
    "### Balanced Accuracy has a score of 0.50, this is slightly lower than the previous balances accuracy score."
   ]
  },
  {
   "cell_type": "code",
   "execution_count": 56,
   "metadata": {},
   "outputs": [
    {
     "data": {
      "text/plain": [
       "0.0"
      ]
     },
     "execution_count": 56,
     "metadata": {},
     "output_type": "execute_result"
    }
   ],
   "source": [
    "sklearn.metrics.f1_score(y_true = y_val, y_pred = predTest)"
   ]
  },
  {
   "cell_type": "markdown",
   "metadata": {},
   "source": [
    "### F1 Score of 0, this is likely due to the zeros in the true and false positive categories"
   ]
  },
  {
   "cell_type": "markdown",
   "metadata": {},
   "source": [
    "## In summary, the tuning of the model returned an accuracy value which initially seemed better than the accuracy of the untuned model. However, after tuning this model, we ended up with no false positives and no false positives which gave us strange answers for some of our metrics and very poor metrics for a few categories. "
   ]
  },
  {
   "cell_type": "markdown",
   "metadata": {},
   "source": [
    "# Q5"
   ]
  },
  {
   "cell_type": "markdown",
   "metadata": {},
   "source": [
    "## Random Forest model"
   ]
  },
  {
   "cell_type": "markdown",
   "metadata": {},
   "source": [
    "- Initiate the Random Forest classifier from the sklearn library. Keep all parameters with their default values. (No need to specify anything)\n",
    "- Fit the model\n",
    "- Make predictions\n",
    "- Calculate accuracy score. What are the **training** and **testing** accuracies of the model?\n",
    "- Create confusion matrix\n",
    "- Either using the confusion matrix or the methods in `sklearn.metrics` get the following metrics on the testing set:\n",
    "     - Recall (Sensitivity)\n",
    "     - Specificity\n",
    "     - Precision\n",
    "     - Balanced Accuracy\n",
    "     - F1 Score\n",
    "- Using all the training data perform cross-validation:\n",
    "    - Select the `min_samples_split` hyper-parameter and apply cross validation to find the best value.  \n",
    "    - Select the `max_depth` hyper-parameter and apply cross validation to find the best value. \n",
    "    - Select the `n_estimators` hyper-parameter and apply cross validation to find the best value. \n",
    "    - Perform grid search where you check for combinations of these hyper-parameters.\n",
    "        - https://scikit-learn.org/stable/modules/generated/sklearn.model_selection.GridSearchCV.html\n",
    "- For the best model:\n",
    "    - Either using the confusion matrix or the methods in `sklearn.metrics` get the following metrics on the testing set:\n",
    "         - Recall (Sensitivity)\n",
    "         - Specificity\n",
    "         - Precision\n",
    "         - Balanced Accuracy\n",
    "         - F1 Score\n",
    "    - Compare the results to the model with default paramters. Any change?"
   ]
  },
  {
   "cell_type": "code",
   "execution_count": 57,
   "metadata": {},
   "outputs": [],
   "source": [
    "from sklearn.ensemble import RandomForestClassifier"
   ]
  },
  {
   "cell_type": "code",
   "execution_count": 58,
   "metadata": {},
   "outputs": [],
   "source": [
    "clf = RandomForestClassifier()"
   ]
  },
  {
   "cell_type": "code",
   "execution_count": 59,
   "metadata": {},
   "outputs": [
    {
     "data": {
      "text/plain": [
       "RandomForestClassifier()"
      ]
     },
     "execution_count": 59,
     "metadata": {},
     "output_type": "execute_result"
    }
   ],
   "source": [
    "clf.fit(X_train, y_train)"
   ]
  },
  {
   "cell_type": "code",
   "execution_count": 60,
   "metadata": {},
   "outputs": [],
   "source": [
    "predTrain = clf.predict(X_train)"
   ]
  },
  {
   "cell_type": "code",
   "execution_count": 61,
   "metadata": {},
   "outputs": [
    {
     "data": {
      "text/plain": [
       "1.0"
      ]
     },
     "execution_count": 61,
     "metadata": {},
     "output_type": "execute_result"
    }
   ],
   "source": [
    "accuracyTrain = metrics.accuracy_score(y_true = y_train, y_pred = predTrain)\n",
    "accuracyTrain"
   ]
  },
  {
   "cell_type": "code",
   "execution_count": 62,
   "metadata": {},
   "outputs": [],
   "source": [
    "predTest = clf.predict(X_val)"
   ]
  },
  {
   "cell_type": "code",
   "execution_count": 63,
   "metadata": {},
   "outputs": [
    {
     "data": {
      "text/plain": [
       "0.8092691622103387"
      ]
     },
     "execution_count": 63,
     "metadata": {},
     "output_type": "execute_result"
    }
   ],
   "source": [
    "accuracyTest = metrics.accuracy_score (y_true = y_val, y_pred = predTest)\n",
    "accuracyTest"
   ]
  },
  {
   "cell_type": "markdown",
   "metadata": {},
   "source": [
    "### Initially, with all default values, the random forest classifier returned a training accuracy score of 1 and a testing accuracy score of 0.81"
   ]
  },
  {
   "cell_type": "code",
   "execution_count": 64,
   "metadata": {},
   "outputs": [
    {
     "data": {
      "text/plain": [
       "array([[1798,    9],\n",
       "       [ 419,   18]])"
      ]
     },
     "execution_count": 64,
     "metadata": {},
     "output_type": "execute_result"
    }
   ],
   "source": [
    "confusion_matrix(y_val, predTest)"
   ]
  },
  {
   "cell_type": "code",
   "execution_count": 65,
   "metadata": {},
   "outputs": [
    {
     "data": {
      "text/plain": [
       "0.041189931350114416"
      ]
     },
     "execution_count": 65,
     "metadata": {},
     "output_type": "execute_result"
    }
   ],
   "source": [
    "sklearn.metrics.recall_score(y_true = y_val, y_pred = predTest)"
   ]
  },
  {
   "cell_type": "markdown",
   "metadata": {},
   "source": [
    "### Recall\n",
    "#### TP/(TP + FN)\n",
    "#### The Recall value is 0.04. This can be found by dividing the number of true positives (18) by the true positives plus false negatives (18 + 419)"
   ]
  },
  {
   "cell_type": "code",
   "execution_count": 66,
   "metadata": {},
   "outputs": [
    {
     "data": {
      "text/plain": [
       "0.9950193691200886"
      ]
     },
     "execution_count": 66,
     "metadata": {},
     "output_type": "execute_result"
    }
   ],
   "source": [
    "tn, fp, fn, tp = confusion_matrix(y_true = y_val, y_pred = predTest).ravel()\n",
    "specificity = tn / (tn+fp)\n",
    "specificity"
   ]
  },
  {
   "cell_type": "markdown",
   "metadata": {},
   "source": [
    "### Specificity \n",
    "#### The Specificity is 0.995, the specificity is found by dividing the true negatives (1798) by the sum of true negatives (1798) and false positives (9). "
   ]
  },
  {
   "cell_type": "code",
   "execution_count": 67,
   "metadata": {},
   "outputs": [
    {
     "data": {
      "text/plain": [
       "0.6666666666666666"
      ]
     },
     "execution_count": 67,
     "metadata": {},
     "output_type": "execute_result"
    }
   ],
   "source": [
    "metrics.precision_score(y_true = y_val, y_pred = predTest)"
   ]
  },
  {
   "cell_type": "markdown",
   "metadata": {},
   "source": [
    "### Precision\n",
    "#### TP/(TP+FP)\n",
    "#### The precision is 0.67. This can be found by dividing the true positives (18) by the true positives plus the false positives (18+9)"
   ]
  },
  {
   "cell_type": "code",
   "execution_count": 68,
   "metadata": {},
   "outputs": [
    {
     "data": {
      "text/plain": [
       "0.5181046502351015"
      ]
     },
     "execution_count": 68,
     "metadata": {},
     "output_type": "execute_result"
    }
   ],
   "source": [
    "metrics.balanced_accuracy_score(y_true = y_val, y_pred = predTest, sample_weight=None, adjusted=False)"
   ]
  },
  {
   "cell_type": "markdown",
   "metadata": {},
   "source": [
    "### The balanced accuracy score is 0.52, this is lower than the other accuracy score."
   ]
  },
  {
   "cell_type": "code",
   "execution_count": 69,
   "metadata": {},
   "outputs": [
    {
     "data": {
      "text/plain": [
       "0.07758620689655173"
      ]
     },
     "execution_count": 69,
     "metadata": {},
     "output_type": "execute_result"
    }
   ],
   "source": [
    "sklearn.metrics.f1_score(y_true = y_val, y_pred = predTest)"
   ]
  },
  {
   "cell_type": "markdown",
   "metadata": {},
   "source": [
    "### The F1 score is 0.08"
   ]
  },
  {
   "cell_type": "code",
   "execution_count": 70,
   "metadata": {},
   "outputs": [],
   "source": [
    "parameters = {\n",
    "    'min_samples_split': [2, 3, 4, 5, 6, 7, 8, 9, 10],\n",
    "    'max_depth': [1, 2, 4, 8, 16, None],\n",
    "    'n_estimators' : [5, 10, 20, 25, 50, 75, 100]\n",
    "}"
   ]
  },
  {
   "cell_type": "code",
   "execution_count": 71,
   "metadata": {},
   "outputs": [
    {
     "name": "stdout",
     "output_type": "stream",
     "text": [
      "BEST PARAMS: {'max_depth': 8, 'min_samples_split': 2, 'n_estimators': 20}\n",
      "\n",
      "0.81 (+/-0.001) for {'max_depth': 1, 'min_samples_split': 2, 'n_estimators': 5}\n",
      "0.81 (+/-0.001) for {'max_depth': 1, 'min_samples_split': 2, 'n_estimators': 10}\n",
      "0.81 (+/-0.001) for {'max_depth': 1, 'min_samples_split': 2, 'n_estimators': 20}\n",
      "0.81 (+/-0.001) for {'max_depth': 1, 'min_samples_split': 2, 'n_estimators': 25}\n",
      "0.81 (+/-0.001) for {'max_depth': 1, 'min_samples_split': 2, 'n_estimators': 50}\n",
      "0.81 (+/-0.001) for {'max_depth': 1, 'min_samples_split': 2, 'n_estimators': 75}\n",
      "0.81 (+/-0.001) for {'max_depth': 1, 'min_samples_split': 2, 'n_estimators': 100}\n",
      "0.81 (+/-0.001) for {'max_depth': 1, 'min_samples_split': 3, 'n_estimators': 5}\n",
      "0.81 (+/-0.001) for {'max_depth': 1, 'min_samples_split': 3, 'n_estimators': 10}\n",
      "0.81 (+/-0.001) for {'max_depth': 1, 'min_samples_split': 3, 'n_estimators': 20}\n",
      "0.81 (+/-0.001) for {'max_depth': 1, 'min_samples_split': 3, 'n_estimators': 25}\n",
      "0.81 (+/-0.001) for {'max_depth': 1, 'min_samples_split': 3, 'n_estimators': 50}\n",
      "0.81 (+/-0.001) for {'max_depth': 1, 'min_samples_split': 3, 'n_estimators': 75}\n",
      "0.81 (+/-0.001) for {'max_depth': 1, 'min_samples_split': 3, 'n_estimators': 100}\n",
      "0.81 (+/-0.001) for {'max_depth': 1, 'min_samples_split': 4, 'n_estimators': 5}\n",
      "0.81 (+/-0.001) for {'max_depth': 1, 'min_samples_split': 4, 'n_estimators': 10}\n",
      "0.81 (+/-0.001) for {'max_depth': 1, 'min_samples_split': 4, 'n_estimators': 20}\n",
      "0.81 (+/-0.001) for {'max_depth': 1, 'min_samples_split': 4, 'n_estimators': 25}\n",
      "0.81 (+/-0.001) for {'max_depth': 1, 'min_samples_split': 4, 'n_estimators': 50}\n",
      "0.81 (+/-0.001) for {'max_depth': 1, 'min_samples_split': 4, 'n_estimators': 75}\n",
      "0.81 (+/-0.001) for {'max_depth': 1, 'min_samples_split': 4, 'n_estimators': 100}\n",
      "0.81 (+/-0.001) for {'max_depth': 1, 'min_samples_split': 5, 'n_estimators': 5}\n",
      "0.81 (+/-0.001) for {'max_depth': 1, 'min_samples_split': 5, 'n_estimators': 10}\n",
      "0.81 (+/-0.001) for {'max_depth': 1, 'min_samples_split': 5, 'n_estimators': 20}\n",
      "0.81 (+/-0.001) for {'max_depth': 1, 'min_samples_split': 5, 'n_estimators': 25}\n",
      "0.81 (+/-0.001) for {'max_depth': 1, 'min_samples_split': 5, 'n_estimators': 50}\n",
      "0.81 (+/-0.001) for {'max_depth': 1, 'min_samples_split': 5, 'n_estimators': 75}\n",
      "0.81 (+/-0.001) for {'max_depth': 1, 'min_samples_split': 5, 'n_estimators': 100}\n",
      "0.81 (+/-0.001) for {'max_depth': 1, 'min_samples_split': 6, 'n_estimators': 5}\n",
      "0.81 (+/-0.001) for {'max_depth': 1, 'min_samples_split': 6, 'n_estimators': 10}\n",
      "0.81 (+/-0.001) for {'max_depth': 1, 'min_samples_split': 6, 'n_estimators': 20}\n",
      "0.81 (+/-0.001) for {'max_depth': 1, 'min_samples_split': 6, 'n_estimators': 25}\n",
      "0.81 (+/-0.001) for {'max_depth': 1, 'min_samples_split': 6, 'n_estimators': 50}\n",
      "0.81 (+/-0.001) for {'max_depth': 1, 'min_samples_split': 6, 'n_estimators': 75}\n",
      "0.81 (+/-0.001) for {'max_depth': 1, 'min_samples_split': 6, 'n_estimators': 100}\n",
      "0.81 (+/-0.001) for {'max_depth': 1, 'min_samples_split': 7, 'n_estimators': 5}\n",
      "0.81 (+/-0.001) for {'max_depth': 1, 'min_samples_split': 7, 'n_estimators': 10}\n",
      "0.81 (+/-0.001) for {'max_depth': 1, 'min_samples_split': 7, 'n_estimators': 20}\n",
      "0.81 (+/-0.001) for {'max_depth': 1, 'min_samples_split': 7, 'n_estimators': 25}\n",
      "0.81 (+/-0.001) for {'max_depth': 1, 'min_samples_split': 7, 'n_estimators': 50}\n",
      "0.81 (+/-0.001) for {'max_depth': 1, 'min_samples_split': 7, 'n_estimators': 75}\n",
      "0.81 (+/-0.001) for {'max_depth': 1, 'min_samples_split': 7, 'n_estimators': 100}\n",
      "0.81 (+/-0.001) for {'max_depth': 1, 'min_samples_split': 8, 'n_estimators': 5}\n",
      "0.81 (+/-0.001) for {'max_depth': 1, 'min_samples_split': 8, 'n_estimators': 10}\n",
      "0.81 (+/-0.001) for {'max_depth': 1, 'min_samples_split': 8, 'n_estimators': 20}\n",
      "0.81 (+/-0.001) for {'max_depth': 1, 'min_samples_split': 8, 'n_estimators': 25}\n",
      "0.81 (+/-0.001) for {'max_depth': 1, 'min_samples_split': 8, 'n_estimators': 50}\n",
      "0.81 (+/-0.001) for {'max_depth': 1, 'min_samples_split': 8, 'n_estimators': 75}\n",
      "0.81 (+/-0.001) for {'max_depth': 1, 'min_samples_split': 8, 'n_estimators': 100}\n",
      "0.81 (+/-0.001) for {'max_depth': 1, 'min_samples_split': 9, 'n_estimators': 5}\n",
      "0.81 (+/-0.001) for {'max_depth': 1, 'min_samples_split': 9, 'n_estimators': 10}\n",
      "0.81 (+/-0.001) for {'max_depth': 1, 'min_samples_split': 9, 'n_estimators': 20}\n",
      "0.81 (+/-0.001) for {'max_depth': 1, 'min_samples_split': 9, 'n_estimators': 25}\n",
      "0.81 (+/-0.001) for {'max_depth': 1, 'min_samples_split': 9, 'n_estimators': 50}\n",
      "0.81 (+/-0.001) for {'max_depth': 1, 'min_samples_split': 9, 'n_estimators': 75}\n",
      "0.81 (+/-0.001) for {'max_depth': 1, 'min_samples_split': 9, 'n_estimators': 100}\n",
      "0.81 (+/-0.001) for {'max_depth': 1, 'min_samples_split': 10, 'n_estimators': 5}\n",
      "0.81 (+/-0.001) for {'max_depth': 1, 'min_samples_split': 10, 'n_estimators': 10}\n",
      "0.81 (+/-0.001) for {'max_depth': 1, 'min_samples_split': 10, 'n_estimators': 20}\n",
      "0.81 (+/-0.001) for {'max_depth': 1, 'min_samples_split': 10, 'n_estimators': 25}\n",
      "0.81 (+/-0.001) for {'max_depth': 1, 'min_samples_split': 10, 'n_estimators': 50}\n",
      "0.81 (+/-0.001) for {'max_depth': 1, 'min_samples_split': 10, 'n_estimators': 75}\n",
      "0.81 (+/-0.001) for {'max_depth': 1, 'min_samples_split': 10, 'n_estimators': 100}\n",
      "0.81 (+/-0.001) for {'max_depth': 2, 'min_samples_split': 2, 'n_estimators': 5}\n",
      "0.81 (+/-0.001) for {'max_depth': 2, 'min_samples_split': 2, 'n_estimators': 10}\n",
      "0.81 (+/-0.001) for {'max_depth': 2, 'min_samples_split': 2, 'n_estimators': 20}\n",
      "0.81 (+/-0.001) for {'max_depth': 2, 'min_samples_split': 2, 'n_estimators': 25}\n",
      "0.81 (+/-0.001) for {'max_depth': 2, 'min_samples_split': 2, 'n_estimators': 50}\n",
      "0.81 (+/-0.001) for {'max_depth': 2, 'min_samples_split': 2, 'n_estimators': 75}\n",
      "0.81 (+/-0.001) for {'max_depth': 2, 'min_samples_split': 2, 'n_estimators': 100}\n",
      "0.81 (+/-0.001) for {'max_depth': 2, 'min_samples_split': 3, 'n_estimators': 5}\n",
      "0.81 (+/-0.001) for {'max_depth': 2, 'min_samples_split': 3, 'n_estimators': 10}\n",
      "0.81 (+/-0.001) for {'max_depth': 2, 'min_samples_split': 3, 'n_estimators': 20}\n",
      "0.81 (+/-0.001) for {'max_depth': 2, 'min_samples_split': 3, 'n_estimators': 25}\n",
      "0.81 (+/-0.001) for {'max_depth': 2, 'min_samples_split': 3, 'n_estimators': 50}\n",
      "0.81 (+/-0.001) for {'max_depth': 2, 'min_samples_split': 3, 'n_estimators': 75}\n",
      "0.81 (+/-0.001) for {'max_depth': 2, 'min_samples_split': 3, 'n_estimators': 100}\n",
      "0.81 (+/-0.001) for {'max_depth': 2, 'min_samples_split': 4, 'n_estimators': 5}\n",
      "0.81 (+/-0.001) for {'max_depth': 2, 'min_samples_split': 4, 'n_estimators': 10}\n",
      "0.81 (+/-0.001) for {'max_depth': 2, 'min_samples_split': 4, 'n_estimators': 20}\n",
      "0.81 (+/-0.001) for {'max_depth': 2, 'min_samples_split': 4, 'n_estimators': 25}\n",
      "0.81 (+/-0.001) for {'max_depth': 2, 'min_samples_split': 4, 'n_estimators': 50}\n",
      "0.81 (+/-0.001) for {'max_depth': 2, 'min_samples_split': 4, 'n_estimators': 75}\n",
      "0.81 (+/-0.001) for {'max_depth': 2, 'min_samples_split': 4, 'n_estimators': 100}\n",
      "0.81 (+/-0.001) for {'max_depth': 2, 'min_samples_split': 5, 'n_estimators': 5}\n",
      "0.81 (+/-0.001) for {'max_depth': 2, 'min_samples_split': 5, 'n_estimators': 10}\n",
      "0.81 (+/-0.001) for {'max_depth': 2, 'min_samples_split': 5, 'n_estimators': 20}\n",
      "0.81 (+/-0.001) for {'max_depth': 2, 'min_samples_split': 5, 'n_estimators': 25}\n",
      "0.81 (+/-0.001) for {'max_depth': 2, 'min_samples_split': 5, 'n_estimators': 50}\n",
      "0.81 (+/-0.001) for {'max_depth': 2, 'min_samples_split': 5, 'n_estimators': 75}\n",
      "0.81 (+/-0.001) for {'max_depth': 2, 'min_samples_split': 5, 'n_estimators': 100}\n",
      "0.81 (+/-0.001) for {'max_depth': 2, 'min_samples_split': 6, 'n_estimators': 5}\n",
      "0.81 (+/-0.001) for {'max_depth': 2, 'min_samples_split': 6, 'n_estimators': 10}\n",
      "0.81 (+/-0.001) for {'max_depth': 2, 'min_samples_split': 6, 'n_estimators': 20}\n",
      "0.81 (+/-0.001) for {'max_depth': 2, 'min_samples_split': 6, 'n_estimators': 25}\n",
      "0.81 (+/-0.001) for {'max_depth': 2, 'min_samples_split': 6, 'n_estimators': 50}\n",
      "0.81 (+/-0.001) for {'max_depth': 2, 'min_samples_split': 6, 'n_estimators': 75}\n",
      "0.81 (+/-0.001) for {'max_depth': 2, 'min_samples_split': 6, 'n_estimators': 100}\n",
      "0.81 (+/-0.001) for {'max_depth': 2, 'min_samples_split': 7, 'n_estimators': 5}\n",
      "0.81 (+/-0.001) for {'max_depth': 2, 'min_samples_split': 7, 'n_estimators': 10}\n",
      "0.81 (+/-0.001) for {'max_depth': 2, 'min_samples_split': 7, 'n_estimators': 20}\n",
      "0.81 (+/-0.001) for {'max_depth': 2, 'min_samples_split': 7, 'n_estimators': 25}\n",
      "0.81 (+/-0.001) for {'max_depth': 2, 'min_samples_split': 7, 'n_estimators': 50}\n",
      "0.81 (+/-0.001) for {'max_depth': 2, 'min_samples_split': 7, 'n_estimators': 75}\n",
      "0.81 (+/-0.001) for {'max_depth': 2, 'min_samples_split': 7, 'n_estimators': 100}\n",
      "0.81 (+/-0.001) for {'max_depth': 2, 'min_samples_split': 8, 'n_estimators': 5}\n",
      "0.81 (+/-0.001) for {'max_depth': 2, 'min_samples_split': 8, 'n_estimators': 10}\n",
      "0.81 (+/-0.001) for {'max_depth': 2, 'min_samples_split': 8, 'n_estimators': 20}\n",
      "0.81 (+/-0.001) for {'max_depth': 2, 'min_samples_split': 8, 'n_estimators': 25}\n",
      "0.81 (+/-0.001) for {'max_depth': 2, 'min_samples_split': 8, 'n_estimators': 50}\n",
      "0.81 (+/-0.001) for {'max_depth': 2, 'min_samples_split': 8, 'n_estimators': 75}\n",
      "0.81 (+/-0.001) for {'max_depth': 2, 'min_samples_split': 8, 'n_estimators': 100}\n",
      "0.81 (+/-0.001) for {'max_depth': 2, 'min_samples_split': 9, 'n_estimators': 5}\n",
      "0.81 (+/-0.001) for {'max_depth': 2, 'min_samples_split': 9, 'n_estimators': 10}\n",
      "0.81 (+/-0.001) for {'max_depth': 2, 'min_samples_split': 9, 'n_estimators': 20}\n",
      "0.81 (+/-0.001) for {'max_depth': 2, 'min_samples_split': 9, 'n_estimators': 25}\n",
      "0.81 (+/-0.001) for {'max_depth': 2, 'min_samples_split': 9, 'n_estimators': 50}\n",
      "0.81 (+/-0.001) for {'max_depth': 2, 'min_samples_split': 9, 'n_estimators': 75}\n",
      "0.81 (+/-0.001) for {'max_depth': 2, 'min_samples_split': 9, 'n_estimators': 100}\n",
      "0.81 (+/-0.001) for {'max_depth': 2, 'min_samples_split': 10, 'n_estimators': 5}\n",
      "0.81 (+/-0.001) for {'max_depth': 2, 'min_samples_split': 10, 'n_estimators': 10}\n",
      "0.81 (+/-0.001) for {'max_depth': 2, 'min_samples_split': 10, 'n_estimators': 20}\n",
      "0.81 (+/-0.001) for {'max_depth': 2, 'min_samples_split': 10, 'n_estimators': 25}\n",
      "0.81 (+/-0.001) for {'max_depth': 2, 'min_samples_split': 10, 'n_estimators': 50}\n",
      "0.81 (+/-0.001) for {'max_depth': 2, 'min_samples_split': 10, 'n_estimators': 75}\n",
      "0.81 (+/-0.001) for {'max_depth': 2, 'min_samples_split': 10, 'n_estimators': 100}\n",
      "0.809 (+/-0.001) for {'max_depth': 4, 'min_samples_split': 2, 'n_estimators': 5}\n",
      "0.809 (+/-0.002) for {'max_depth': 4, 'min_samples_split': 2, 'n_estimators': 10}\n",
      "0.81 (+/-0.001) for {'max_depth': 4, 'min_samples_split': 2, 'n_estimators': 20}\n",
      "0.81 (+/-0.001) for {'max_depth': 4, 'min_samples_split': 2, 'n_estimators': 25}\n",
      "0.81 (+/-0.001) for {'max_depth': 4, 'min_samples_split': 2, 'n_estimators': 50}\n",
      "0.81 (+/-0.001) for {'max_depth': 4, 'min_samples_split': 2, 'n_estimators': 75}\n",
      "0.81 (+/-0.001) for {'max_depth': 4, 'min_samples_split': 2, 'n_estimators': 100}\n",
      "0.809 (+/-0.003) for {'max_depth': 4, 'min_samples_split': 3, 'n_estimators': 5}\n",
      "0.81 (+/-0.001) for {'max_depth': 4, 'min_samples_split': 3, 'n_estimators': 10}\n",
      "0.81 (+/-0.001) for {'max_depth': 4, 'min_samples_split': 3, 'n_estimators': 20}\n",
      "0.809 (+/-0.002) for {'max_depth': 4, 'min_samples_split': 3, 'n_estimators': 25}\n",
      "0.81 (+/-0.001) for {'max_depth': 4, 'min_samples_split': 3, 'n_estimators': 50}\n",
      "0.81 (+/-0.001) for {'max_depth': 4, 'min_samples_split': 3, 'n_estimators': 75}\n",
      "0.81 (+/-0.001) for {'max_depth': 4, 'min_samples_split': 3, 'n_estimators': 100}\n",
      "0.809 (+/-0.002) for {'max_depth': 4, 'min_samples_split': 4, 'n_estimators': 5}\n",
      "0.81 (+/-0.001) for {'max_depth': 4, 'min_samples_split': 4, 'n_estimators': 10}\n",
      "0.81 (+/-0.001) for {'max_depth': 4, 'min_samples_split': 4, 'n_estimators': 20}\n",
      "0.809 (+/-0.001) for {'max_depth': 4, 'min_samples_split': 4, 'n_estimators': 25}\n",
      "0.81 (+/-0.001) for {'max_depth': 4, 'min_samples_split': 4, 'n_estimators': 50}\n",
      "0.81 (+/-0.001) for {'max_depth': 4, 'min_samples_split': 4, 'n_estimators': 75}\n",
      "0.81 (+/-0.001) for {'max_depth': 4, 'min_samples_split': 4, 'n_estimators': 100}\n",
      "0.81 (+/-0.001) for {'max_depth': 4, 'min_samples_split': 5, 'n_estimators': 5}\n",
      "0.81 (+/-0.002) for {'max_depth': 4, 'min_samples_split': 5, 'n_estimators': 10}\n",
      "0.81 (+/-0.001) for {'max_depth': 4, 'min_samples_split': 5, 'n_estimators': 20}\n",
      "0.81 (+/-0.001) for {'max_depth': 4, 'min_samples_split': 5, 'n_estimators': 25}\n",
      "0.81 (+/-0.001) for {'max_depth': 4, 'min_samples_split': 5, 'n_estimators': 50}\n",
      "0.81 (+/-0.001) for {'max_depth': 4, 'min_samples_split': 5, 'n_estimators': 75}\n",
      "0.81 (+/-0.001) for {'max_depth': 4, 'min_samples_split': 5, 'n_estimators': 100}\n",
      "0.809 (+/-0.002) for {'max_depth': 4, 'min_samples_split': 6, 'n_estimators': 5}\n",
      "0.809 (+/-0.001) for {'max_depth': 4, 'min_samples_split': 6, 'n_estimators': 10}\n",
      "0.81 (+/-0.001) for {'max_depth': 4, 'min_samples_split': 6, 'n_estimators': 20}\n",
      "0.81 (+/-0.001) for {'max_depth': 4, 'min_samples_split': 6, 'n_estimators': 25}\n",
      "0.81 (+/-0.001) for {'max_depth': 4, 'min_samples_split': 6, 'n_estimators': 50}\n",
      "0.81 (+/-0.001) for {'max_depth': 4, 'min_samples_split': 6, 'n_estimators': 75}\n",
      "0.81 (+/-0.001) for {'max_depth': 4, 'min_samples_split': 6, 'n_estimators': 100}\n",
      "0.81 (+/-0.003) for {'max_depth': 4, 'min_samples_split': 7, 'n_estimators': 5}\n",
      "0.81 (+/-0.001) for {'max_depth': 4, 'min_samples_split': 7, 'n_estimators': 10}\n",
      "0.809 (+/-0.001) for {'max_depth': 4, 'min_samples_split': 7, 'n_estimators': 20}\n",
      "0.81 (+/-0.001) for {'max_depth': 4, 'min_samples_split': 7, 'n_estimators': 25}\n",
      "0.81 (+/-0.001) for {'max_depth': 4, 'min_samples_split': 7, 'n_estimators': 50}\n",
      "0.81 (+/-0.001) for {'max_depth': 4, 'min_samples_split': 7, 'n_estimators': 75}\n",
      "0.81 (+/-0.001) for {'max_depth': 4, 'min_samples_split': 7, 'n_estimators': 100}\n",
      "0.809 (+/-0.002) for {'max_depth': 4, 'min_samples_split': 8, 'n_estimators': 5}\n",
      "0.809 (+/-0.002) for {'max_depth': 4, 'min_samples_split': 8, 'n_estimators': 10}\n",
      "0.809 (+/-0.001) for {'max_depth': 4, 'min_samples_split': 8, 'n_estimators': 20}\n",
      "0.81 (+/-0.001) for {'max_depth': 4, 'min_samples_split': 8, 'n_estimators': 25}\n",
      "0.81 (+/-0.001) for {'max_depth': 4, 'min_samples_split': 8, 'n_estimators': 50}\n",
      "0.81 (+/-0.001) for {'max_depth': 4, 'min_samples_split': 8, 'n_estimators': 75}\n",
      "0.81 (+/-0.001) for {'max_depth': 4, 'min_samples_split': 8, 'n_estimators': 100}\n",
      "0.809 (+/-0.003) for {'max_depth': 4, 'min_samples_split': 9, 'n_estimators': 5}\n",
      "0.81 (+/-0.001) for {'max_depth': 4, 'min_samples_split': 9, 'n_estimators': 10}\n",
      "0.81 (+/-0.001) for {'max_depth': 4, 'min_samples_split': 9, 'n_estimators': 20}\n",
      "0.809 (+/-0.001) for {'max_depth': 4, 'min_samples_split': 9, 'n_estimators': 25}\n",
      "0.81 (+/-0.001) for {'max_depth': 4, 'min_samples_split': 9, 'n_estimators': 50}\n",
      "0.81 (+/-0.001) for {'max_depth': 4, 'min_samples_split': 9, 'n_estimators': 75}\n",
      "0.81 (+/-0.001) for {'max_depth': 4, 'min_samples_split': 9, 'n_estimators': 100}\n",
      "0.809 (+/-0.003) for {'max_depth': 4, 'min_samples_split': 10, 'n_estimators': 5}\n",
      "0.809 (+/-0.001) for {'max_depth': 4, 'min_samples_split': 10, 'n_estimators': 10}\n",
      "0.81 (+/-0.001) for {'max_depth': 4, 'min_samples_split': 10, 'n_estimators': 20}\n",
      "0.81 (+/-0.001) for {'max_depth': 4, 'min_samples_split': 10, 'n_estimators': 25}\n",
      "0.809 (+/-0.001) for {'max_depth': 4, 'min_samples_split': 10, 'n_estimators': 50}\n",
      "0.81 (+/-0.001) for {'max_depth': 4, 'min_samples_split': 10, 'n_estimators': 75}\n",
      "0.81 (+/-0.001) for {'max_depth': 4, 'min_samples_split': 10, 'n_estimators': 100}\n",
      "0.803 (+/-0.012) for {'max_depth': 8, 'min_samples_split': 2, 'n_estimators': 5}\n",
      "0.805 (+/-0.005) for {'max_depth': 8, 'min_samples_split': 2, 'n_estimators': 10}\n",
      "0.811 (+/-0.005) for {'max_depth': 8, 'min_samples_split': 2, 'n_estimators': 20}\n",
      "0.809 (+/-0.002) for {'max_depth': 8, 'min_samples_split': 2, 'n_estimators': 25}\n",
      "0.809 (+/-0.004) for {'max_depth': 8, 'min_samples_split': 2, 'n_estimators': 50}\n",
      "0.81 (+/-0.003) for {'max_depth': 8, 'min_samples_split': 2, 'n_estimators': 75}\n",
      "0.809 (+/-0.004) for {'max_depth': 8, 'min_samples_split': 2, 'n_estimators': 100}\n",
      "0.802 (+/-0.009) for {'max_depth': 8, 'min_samples_split': 3, 'n_estimators': 5}\n",
      "0.808 (+/-0.006) for {'max_depth': 8, 'min_samples_split': 3, 'n_estimators': 10}\n",
      "0.807 (+/-0.008) for {'max_depth': 8, 'min_samples_split': 3, 'n_estimators': 20}\n",
      "0.809 (+/-0.005) for {'max_depth': 8, 'min_samples_split': 3, 'n_estimators': 25}\n",
      "0.81 (+/-0.004) for {'max_depth': 8, 'min_samples_split': 3, 'n_estimators': 50}\n",
      "0.81 (+/-0.002) for {'max_depth': 8, 'min_samples_split': 3, 'n_estimators': 75}\n",
      "0.809 (+/-0.004) for {'max_depth': 8, 'min_samples_split': 3, 'n_estimators': 100}\n",
      "0.805 (+/-0.01) for {'max_depth': 8, 'min_samples_split': 4, 'n_estimators': 5}\n",
      "0.806 (+/-0.009) for {'max_depth': 8, 'min_samples_split': 4, 'n_estimators': 10}\n",
      "0.809 (+/-0.004) for {'max_depth': 8, 'min_samples_split': 4, 'n_estimators': 20}\n",
      "0.81 (+/-0.003) for {'max_depth': 8, 'min_samples_split': 4, 'n_estimators': 25}\n",
      "0.808 (+/-0.004) for {'max_depth': 8, 'min_samples_split': 4, 'n_estimators': 50}\n",
      "0.809 (+/-0.002) for {'max_depth': 8, 'min_samples_split': 4, 'n_estimators': 75}\n",
      "0.808 (+/-0.004) for {'max_depth': 8, 'min_samples_split': 4, 'n_estimators': 100}\n",
      "0.804 (+/-0.004) for {'max_depth': 8, 'min_samples_split': 5, 'n_estimators': 5}\n",
      "0.808 (+/-0.003) for {'max_depth': 8, 'min_samples_split': 5, 'n_estimators': 10}\n",
      "0.808 (+/-0.006) for {'max_depth': 8, 'min_samples_split': 5, 'n_estimators': 20}\n",
      "0.809 (+/-0.004) for {'max_depth': 8, 'min_samples_split': 5, 'n_estimators': 25}\n",
      "0.809 (+/-0.004) for {'max_depth': 8, 'min_samples_split': 5, 'n_estimators': 50}\n",
      "0.809 (+/-0.004) for {'max_depth': 8, 'min_samples_split': 5, 'n_estimators': 75}\n",
      "0.81 (+/-0.004) for {'max_depth': 8, 'min_samples_split': 5, 'n_estimators': 100}\n",
      "0.804 (+/-0.006) for {'max_depth': 8, 'min_samples_split': 6, 'n_estimators': 5}\n",
      "0.805 (+/-0.003) for {'max_depth': 8, 'min_samples_split': 6, 'n_estimators': 10}\n",
      "0.808 (+/-0.006) for {'max_depth': 8, 'min_samples_split': 6, 'n_estimators': 20}\n",
      "0.808 (+/-0.002) for {'max_depth': 8, 'min_samples_split': 6, 'n_estimators': 25}\n",
      "0.809 (+/-0.004) for {'max_depth': 8, 'min_samples_split': 6, 'n_estimators': 50}\n",
      "0.809 (+/-0.003) for {'max_depth': 8, 'min_samples_split': 6, 'n_estimators': 75}\n",
      "0.809 (+/-0.004) for {'max_depth': 8, 'min_samples_split': 6, 'n_estimators': 100}\n",
      "0.8 (+/-0.003) for {'max_depth': 8, 'min_samples_split': 7, 'n_estimators': 5}\n",
      "0.806 (+/-0.005) for {'max_depth': 8, 'min_samples_split': 7, 'n_estimators': 10}\n",
      "0.808 (+/-0.003) for {'max_depth': 8, 'min_samples_split': 7, 'n_estimators': 20}\n",
      "0.81 (+/-0.004) for {'max_depth': 8, 'min_samples_split': 7, 'n_estimators': 25}\n",
      "0.809 (+/-0.004) for {'max_depth': 8, 'min_samples_split': 7, 'n_estimators': 50}\n",
      "0.809 (+/-0.002) for {'max_depth': 8, 'min_samples_split': 7, 'n_estimators': 75}\n",
      "0.81 (+/-0.003) for {'max_depth': 8, 'min_samples_split': 7, 'n_estimators': 100}\n",
      "0.801 (+/-0.013) for {'max_depth': 8, 'min_samples_split': 8, 'n_estimators': 5}\n",
      "0.806 (+/-0.006) for {'max_depth': 8, 'min_samples_split': 8, 'n_estimators': 10}\n",
      "0.809 (+/-0.004) for {'max_depth': 8, 'min_samples_split': 8, 'n_estimators': 20}\n",
      "0.807 (+/-0.003) for {'max_depth': 8, 'min_samples_split': 8, 'n_estimators': 25}\n",
      "0.809 (+/-0.003) for {'max_depth': 8, 'min_samples_split': 8, 'n_estimators': 50}\n",
      "0.809 (+/-0.003) for {'max_depth': 8, 'min_samples_split': 8, 'n_estimators': 75}\n",
      "0.808 (+/-0.001) for {'max_depth': 8, 'min_samples_split': 8, 'n_estimators': 100}\n",
      "0.799 (+/-0.015) for {'max_depth': 8, 'min_samples_split': 9, 'n_estimators': 5}\n",
      "0.806 (+/-0.006) for {'max_depth': 8, 'min_samples_split': 9, 'n_estimators': 10}\n",
      "0.807 (+/-0.005) for {'max_depth': 8, 'min_samples_split': 9, 'n_estimators': 20}\n",
      "0.808 (+/-0.004) for {'max_depth': 8, 'min_samples_split': 9, 'n_estimators': 25}\n",
      "0.808 (+/-0.001) for {'max_depth': 8, 'min_samples_split': 9, 'n_estimators': 50}\n",
      "0.81 (+/-0.001) for {'max_depth': 8, 'min_samples_split': 9, 'n_estimators': 75}\n",
      "0.808 (+/-0.003) for {'max_depth': 8, 'min_samples_split': 9, 'n_estimators': 100}\n",
      "0.801 (+/-0.01) for {'max_depth': 8, 'min_samples_split': 10, 'n_estimators': 5}\n",
      "0.805 (+/-0.004) for {'max_depth': 8, 'min_samples_split': 10, 'n_estimators': 10}\n",
      "0.807 (+/-0.006) for {'max_depth': 8, 'min_samples_split': 10, 'n_estimators': 20}\n",
      "0.809 (+/-0.004) for {'max_depth': 8, 'min_samples_split': 10, 'n_estimators': 25}\n",
      "0.809 (+/-0.004) for {'max_depth': 8, 'min_samples_split': 10, 'n_estimators': 50}\n",
      "0.809 (+/-0.004) for {'max_depth': 8, 'min_samples_split': 10, 'n_estimators': 75}\n",
      "0.808 (+/-0.003) for {'max_depth': 8, 'min_samples_split': 10, 'n_estimators': 100}\n",
      "0.787 (+/-0.016) for {'max_depth': 16, 'min_samples_split': 2, 'n_estimators': 5}\n",
      "0.799 (+/-0.014) for {'max_depth': 16, 'min_samples_split': 2, 'n_estimators': 10}\n",
      "0.804 (+/-0.004) for {'max_depth': 16, 'min_samples_split': 2, 'n_estimators': 20}\n",
      "0.806 (+/-0.01) for {'max_depth': 16, 'min_samples_split': 2, 'n_estimators': 25}\n",
      "0.807 (+/-0.007) for {'max_depth': 16, 'min_samples_split': 2, 'n_estimators': 50}\n",
      "0.807 (+/-0.004) for {'max_depth': 16, 'min_samples_split': 2, 'n_estimators': 75}\n",
      "0.809 (+/-0.005) for {'max_depth': 16, 'min_samples_split': 2, 'n_estimators': 100}\n",
      "0.787 (+/-0.018) for {'max_depth': 16, 'min_samples_split': 3, 'n_estimators': 5}\n",
      "0.801 (+/-0.013) for {'max_depth': 16, 'min_samples_split': 3, 'n_estimators': 10}\n",
      "0.802 (+/-0.012) for {'max_depth': 16, 'min_samples_split': 3, 'n_estimators': 20}\n",
      "0.803 (+/-0.005) for {'max_depth': 16, 'min_samples_split': 3, 'n_estimators': 25}\n",
      "0.806 (+/-0.005) for {'max_depth': 16, 'min_samples_split': 3, 'n_estimators': 50}\n",
      "0.806 (+/-0.004) for {'max_depth': 16, 'min_samples_split': 3, 'n_estimators': 75}\n",
      "0.806 (+/-0.003) for {'max_depth': 16, 'min_samples_split': 3, 'n_estimators': 100}\n",
      "0.785 (+/-0.006) for {'max_depth': 16, 'min_samples_split': 4, 'n_estimators': 5}\n",
      "0.794 (+/-0.013) for {'max_depth': 16, 'min_samples_split': 4, 'n_estimators': 10}\n",
      "0.804 (+/-0.007) for {'max_depth': 16, 'min_samples_split': 4, 'n_estimators': 20}\n",
      "0.802 (+/-0.009) for {'max_depth': 16, 'min_samples_split': 4, 'n_estimators': 25}\n",
      "0.805 (+/-0.007) for {'max_depth': 16, 'min_samples_split': 4, 'n_estimators': 50}\n",
      "0.806 (+/-0.004) for {'max_depth': 16, 'min_samples_split': 4, 'n_estimators': 75}\n",
      "0.806 (+/-0.005) for {'max_depth': 16, 'min_samples_split': 4, 'n_estimators': 100}\n",
      "0.787 (+/-0.016) for {'max_depth': 16, 'min_samples_split': 5, 'n_estimators': 5}\n",
      "0.797 (+/-0.006) for {'max_depth': 16, 'min_samples_split': 5, 'n_estimators': 10}\n",
      "0.805 (+/-0.006) for {'max_depth': 16, 'min_samples_split': 5, 'n_estimators': 20}\n",
      "0.803 (+/-0.005) for {'max_depth': 16, 'min_samples_split': 5, 'n_estimators': 25}\n",
      "0.804 (+/-0.003) for {'max_depth': 16, 'min_samples_split': 5, 'n_estimators': 50}\n",
      "0.808 (+/-0.006) for {'max_depth': 16, 'min_samples_split': 5, 'n_estimators': 75}\n",
      "0.807 (+/-0.007) for {'max_depth': 16, 'min_samples_split': 5, 'n_estimators': 100}\n",
      "0.79 (+/-0.016) for {'max_depth': 16, 'min_samples_split': 6, 'n_estimators': 5}\n",
      "0.802 (+/-0.005) for {'max_depth': 16, 'min_samples_split': 6, 'n_estimators': 10}\n",
      "0.801 (+/-0.011) for {'max_depth': 16, 'min_samples_split': 6, 'n_estimators': 20}\n",
      "0.806 (+/-0.007) for {'max_depth': 16, 'min_samples_split': 6, 'n_estimators': 25}\n",
      "0.809 (+/-0.006) for {'max_depth': 16, 'min_samples_split': 6, 'n_estimators': 50}\n",
      "0.807 (+/-0.009) for {'max_depth': 16, 'min_samples_split': 6, 'n_estimators': 75}\n",
      "0.808 (+/-0.006) for {'max_depth': 16, 'min_samples_split': 6, 'n_estimators': 100}\n",
      "0.787 (+/-0.006) for {'max_depth': 16, 'min_samples_split': 7, 'n_estimators': 5}\n",
      "0.799 (+/-0.011) for {'max_depth': 16, 'min_samples_split': 7, 'n_estimators': 10}\n",
      "0.802 (+/-0.005) for {'max_depth': 16, 'min_samples_split': 7, 'n_estimators': 20}\n",
      "0.806 (+/-0.004) for {'max_depth': 16, 'min_samples_split': 7, 'n_estimators': 25}\n",
      "0.805 (+/-0.003) for {'max_depth': 16, 'min_samples_split': 7, 'n_estimators': 50}\n",
      "0.808 (+/-0.003) for {'max_depth': 16, 'min_samples_split': 7, 'n_estimators': 75}\n",
      "0.807 (+/-0.003) for {'max_depth': 16, 'min_samples_split': 7, 'n_estimators': 100}\n",
      "0.781 (+/-0.016) for {'max_depth': 16, 'min_samples_split': 8, 'n_estimators': 5}\n",
      "0.797 (+/-0.005) for {'max_depth': 16, 'min_samples_split': 8, 'n_estimators': 10}\n",
      "0.805 (+/-0.01) for {'max_depth': 16, 'min_samples_split': 8, 'n_estimators': 20}\n",
      "0.801 (+/-0.005) for {'max_depth': 16, 'min_samples_split': 8, 'n_estimators': 25}\n",
      "0.805 (+/-0.005) for {'max_depth': 16, 'min_samples_split': 8, 'n_estimators': 50}\n",
      "0.808 (+/-0.003) for {'max_depth': 16, 'min_samples_split': 8, 'n_estimators': 75}\n",
      "0.807 (+/-0.003) for {'max_depth': 16, 'min_samples_split': 8, 'n_estimators': 100}\n",
      "0.789 (+/-0.012) for {'max_depth': 16, 'min_samples_split': 9, 'n_estimators': 5}\n",
      "0.8 (+/-0.01) for {'max_depth': 16, 'min_samples_split': 9, 'n_estimators': 10}\n",
      "0.807 (+/-0.005) for {'max_depth': 16, 'min_samples_split': 9, 'n_estimators': 20}\n",
      "0.804 (+/-0.009) for {'max_depth': 16, 'min_samples_split': 9, 'n_estimators': 25}\n",
      "0.805 (+/-0.007) for {'max_depth': 16, 'min_samples_split': 9, 'n_estimators': 50}\n",
      "0.807 (+/-0.005) for {'max_depth': 16, 'min_samples_split': 9, 'n_estimators': 75}\n",
      "0.807 (+/-0.002) for {'max_depth': 16, 'min_samples_split': 9, 'n_estimators': 100}\n",
      "0.786 (+/-0.014) for {'max_depth': 16, 'min_samples_split': 10, 'n_estimators': 5}\n",
      "0.797 (+/-0.015) for {'max_depth': 16, 'min_samples_split': 10, 'n_estimators': 10}\n",
      "0.806 (+/-0.009) for {'max_depth': 16, 'min_samples_split': 10, 'n_estimators': 20}\n",
      "0.804 (+/-0.005) for {'max_depth': 16, 'min_samples_split': 10, 'n_estimators': 25}\n",
      "0.806 (+/-0.009) for {'max_depth': 16, 'min_samples_split': 10, 'n_estimators': 50}\n",
      "0.808 (+/-0.002) for {'max_depth': 16, 'min_samples_split': 10, 'n_estimators': 75}\n",
      "0.808 (+/-0.004) for {'max_depth': 16, 'min_samples_split': 10, 'n_estimators': 100}\n",
      "0.776 (+/-0.024) for {'max_depth': None, 'min_samples_split': 2, 'n_estimators': 5}\n",
      "0.798 (+/-0.012) for {'max_depth': None, 'min_samples_split': 2, 'n_estimators': 10}\n",
      "0.806 (+/-0.009) for {'max_depth': None, 'min_samples_split': 2, 'n_estimators': 20}\n",
      "0.804 (+/-0.007) for {'max_depth': None, 'min_samples_split': 2, 'n_estimators': 25}\n",
      "0.808 (+/-0.004) for {'max_depth': None, 'min_samples_split': 2, 'n_estimators': 50}\n",
      "0.806 (+/-0.005) for {'max_depth': None, 'min_samples_split': 2, 'n_estimators': 75}\n",
      "0.807 (+/-0.005) for {'max_depth': None, 'min_samples_split': 2, 'n_estimators': 100}\n",
      "0.769 (+/-0.01) for {'max_depth': None, 'min_samples_split': 3, 'n_estimators': 5}\n",
      "0.8 (+/-0.01) for {'max_depth': None, 'min_samples_split': 3, 'n_estimators': 10}\n",
      "0.805 (+/-0.007) for {'max_depth': None, 'min_samples_split': 3, 'n_estimators': 20}\n",
      "0.801 (+/-0.007) for {'max_depth': None, 'min_samples_split': 3, 'n_estimators': 25}\n",
      "0.805 (+/-0.01) for {'max_depth': None, 'min_samples_split': 3, 'n_estimators': 50}\n",
      "0.809 (+/-0.008) for {'max_depth': None, 'min_samples_split': 3, 'n_estimators': 75}\n",
      "0.803 (+/-0.006) for {'max_depth': None, 'min_samples_split': 3, 'n_estimators': 100}\n",
      "0.776 (+/-0.012) for {'max_depth': None, 'min_samples_split': 4, 'n_estimators': 5}\n",
      "0.794 (+/-0.011) for {'max_depth': None, 'min_samples_split': 4, 'n_estimators': 10}\n",
      "0.803 (+/-0.01) for {'max_depth': None, 'min_samples_split': 4, 'n_estimators': 20}\n",
      "0.806 (+/-0.005) for {'max_depth': None, 'min_samples_split': 4, 'n_estimators': 25}\n",
      "0.805 (+/-0.009) for {'max_depth': None, 'min_samples_split': 4, 'n_estimators': 50}\n",
      "0.806 (+/-0.004) for {'max_depth': None, 'min_samples_split': 4, 'n_estimators': 75}\n",
      "0.806 (+/-0.002) for {'max_depth': None, 'min_samples_split': 4, 'n_estimators': 100}\n",
      "0.78 (+/-0.024) for {'max_depth': None, 'min_samples_split': 5, 'n_estimators': 5}\n",
      "0.799 (+/-0.008) for {'max_depth': None, 'min_samples_split': 5, 'n_estimators': 10}\n",
      "0.799 (+/-0.007) for {'max_depth': None, 'min_samples_split': 5, 'n_estimators': 20}\n",
      "0.805 (+/-0.007) for {'max_depth': None, 'min_samples_split': 5, 'n_estimators': 25}\n",
      "0.809 (+/-0.007) for {'max_depth': None, 'min_samples_split': 5, 'n_estimators': 50}\n",
      "0.808 (+/-0.004) for {'max_depth': None, 'min_samples_split': 5, 'n_estimators': 75}\n",
      "0.807 (+/-0.002) for {'max_depth': None, 'min_samples_split': 5, 'n_estimators': 100}\n",
      "0.78 (+/-0.012) for {'max_depth': None, 'min_samples_split': 6, 'n_estimators': 5}\n",
      "0.798 (+/-0.011) for {'max_depth': None, 'min_samples_split': 6, 'n_estimators': 10}\n",
      "0.801 (+/-0.011) for {'max_depth': None, 'min_samples_split': 6, 'n_estimators': 20}\n",
      "0.805 (+/-0.004) for {'max_depth': None, 'min_samples_split': 6, 'n_estimators': 25}\n",
      "0.805 (+/-0.003) for {'max_depth': None, 'min_samples_split': 6, 'n_estimators': 50}\n",
      "0.806 (+/-0.005) for {'max_depth': None, 'min_samples_split': 6, 'n_estimators': 75}\n",
      "0.806 (+/-0.002) for {'max_depth': None, 'min_samples_split': 6, 'n_estimators': 100}\n",
      "0.783 (+/-0.024) for {'max_depth': None, 'min_samples_split': 7, 'n_estimators': 5}\n",
      "0.797 (+/-0.004) for {'max_depth': None, 'min_samples_split': 7, 'n_estimators': 10}\n",
      "0.804 (+/-0.009) for {'max_depth': None, 'min_samples_split': 7, 'n_estimators': 20}\n",
      "0.804 (+/-0.007) for {'max_depth': None, 'min_samples_split': 7, 'n_estimators': 25}\n",
      "0.804 (+/-0.014) for {'max_depth': None, 'min_samples_split': 7, 'n_estimators': 50}\n",
      "0.808 (+/-0.007) for {'max_depth': None, 'min_samples_split': 7, 'n_estimators': 75}\n",
      "0.807 (+/-0.003) for {'max_depth': None, 'min_samples_split': 7, 'n_estimators': 100}\n",
      "0.784 (+/-0.012) for {'max_depth': None, 'min_samples_split': 8, 'n_estimators': 5}\n",
      "0.795 (+/-0.003) for {'max_depth': None, 'min_samples_split': 8, 'n_estimators': 10}\n",
      "0.801 (+/-0.005) for {'max_depth': None, 'min_samples_split': 8, 'n_estimators': 20}\n",
      "0.802 (+/-0.007) for {'max_depth': None, 'min_samples_split': 8, 'n_estimators': 25}\n",
      "0.805 (+/-0.005) for {'max_depth': None, 'min_samples_split': 8, 'n_estimators': 50}\n",
      "0.807 (+/-0.005) for {'max_depth': None, 'min_samples_split': 8, 'n_estimators': 75}\n",
      "0.807 (+/-0.004) for {'max_depth': None, 'min_samples_split': 8, 'n_estimators': 100}\n",
      "0.788 (+/-0.006) for {'max_depth': None, 'min_samples_split': 9, 'n_estimators': 5}\n",
      "0.794 (+/-0.011) for {'max_depth': None, 'min_samples_split': 9, 'n_estimators': 10}\n",
      "0.807 (+/-0.006) for {'max_depth': None, 'min_samples_split': 9, 'n_estimators': 20}\n",
      "0.806 (+/-0.005) for {'max_depth': None, 'min_samples_split': 9, 'n_estimators': 25}\n",
      "0.806 (+/-0.006) for {'max_depth': None, 'min_samples_split': 9, 'n_estimators': 50}\n",
      "0.806 (+/-0.007) for {'max_depth': None, 'min_samples_split': 9, 'n_estimators': 75}\n",
      "0.806 (+/-0.003) for {'max_depth': None, 'min_samples_split': 9, 'n_estimators': 100}\n",
      "0.779 (+/-0.017) for {'max_depth': None, 'min_samples_split': 10, 'n_estimators': 5}\n",
      "0.797 (+/-0.003) for {'max_depth': None, 'min_samples_split': 10, 'n_estimators': 10}\n",
      "0.806 (+/-0.006) for {'max_depth': None, 'min_samples_split': 10, 'n_estimators': 20}\n",
      "0.807 (+/-0.006) for {'max_depth': None, 'min_samples_split': 10, 'n_estimators': 25}\n",
      "0.806 (+/-0.006) for {'max_depth': None, 'min_samples_split': 10, 'n_estimators': 50}\n",
      "0.805 (+/-0.008) for {'max_depth': None, 'min_samples_split': 10, 'n_estimators': 75}\n",
      "0.809 (+/-0.005) for {'max_depth': None, 'min_samples_split': 10, 'n_estimators': 100}\n"
     ]
    }
   ],
   "source": [
    "cv = GridSearchCV(clf, parameters, cv=5)\n",
    "cv.fit(X_train, y_train)\n",
    "\n",
    "print_results(cv)"
   ]
  },
  {
   "cell_type": "markdown",
   "metadata": {},
   "source": [
    "### According to the grid search, the following parameters are the best to use:\n",
    "### max_depth = 8\n",
    "### min_samples_split = 2\n",
    "### n_estimators = 20"
   ]
  },
  {
   "cell_type": "code",
   "execution_count": 72,
   "metadata": {},
   "outputs": [],
   "source": [
    "clf = RandomForestClassifier(max_depth = 8, min_samples_split = 2, n_estimators = 20)"
   ]
  },
  {
   "cell_type": "code",
   "execution_count": 73,
   "metadata": {},
   "outputs": [
    {
     "data": {
      "text/plain": [
       "RandomForestClassifier(max_depth=8, n_estimators=20)"
      ]
     },
     "execution_count": 73,
     "metadata": {},
     "output_type": "execute_result"
    }
   ],
   "source": [
    "clf.fit(X_train, y_train)"
   ]
  },
  {
   "cell_type": "code",
   "execution_count": 74,
   "metadata": {},
   "outputs": [],
   "source": [
    "predTrain = clf.predict(X_train)"
   ]
  },
  {
   "cell_type": "code",
   "execution_count": 75,
   "metadata": {},
   "outputs": [
    {
     "data": {
      "text/plain": [
       "0.8293847917462743"
      ]
     },
     "execution_count": 75,
     "metadata": {},
     "output_type": "execute_result"
    }
   ],
   "source": [
    "accuracyTrain = metrics.accuracy_score(y_true = y_train, y_pred = predTrain)\n",
    "accuracyTrain"
   ]
  },
  {
   "cell_type": "code",
   "execution_count": 76,
   "metadata": {},
   "outputs": [],
   "source": [
    "predTest = clf.predict(X_val)"
   ]
  },
  {
   "cell_type": "code",
   "execution_count": 77,
   "metadata": {},
   "outputs": [
    {
     "data": {
      "text/plain": [
       "0.8052584670231729"
      ]
     },
     "execution_count": 77,
     "metadata": {},
     "output_type": "execute_result"
    }
   ],
   "source": [
    "accuracyTest = metrics.accuracy_score (y_true = y_val, y_pred = predTest)\n",
    "accuracyTest"
   ]
  },
  {
   "cell_type": "markdown",
   "metadata": {},
   "source": [
    "### Accuracy:\n",
    "#### Training: 0.83\n",
    "#### Testing: 0.81"
   ]
  },
  {
   "cell_type": "code",
   "execution_count": 78,
   "metadata": {},
   "outputs": [
    {
     "data": {
      "text/plain": [
       "array([[1801,    6],\n",
       "       [ 431,    6]])"
      ]
     },
     "execution_count": 78,
     "metadata": {},
     "output_type": "execute_result"
    }
   ],
   "source": [
    "confusion_matrix(y_val, predTest)"
   ]
  },
  {
   "cell_type": "code",
   "execution_count": 79,
   "metadata": {},
   "outputs": [
    {
     "data": {
      "text/plain": [
       "0.013729977116704805"
      ]
     },
     "execution_count": 79,
     "metadata": {},
     "output_type": "execute_result"
    }
   ],
   "source": [
    "sklearn.metrics.recall_score(y_true = y_val, y_pred = predTest)"
   ]
  },
  {
   "cell_type": "markdown",
   "metadata": {},
   "source": [
    "### Recall\n",
    "#### TP/(TP + FN)\n",
    "#### The Recall value is 0.014. This can be found by dividing the number of true positives (6) by the true positives plus false negatives (6 + 431)"
   ]
  },
  {
   "cell_type": "code",
   "execution_count": 80,
   "metadata": {},
   "outputs": [
    {
     "data": {
      "text/plain": [
       "0.9966795794133924"
      ]
     },
     "execution_count": 80,
     "metadata": {},
     "output_type": "execute_result"
    }
   ],
   "source": [
    "tn, fp, fn, tp = confusion_matrix(y_true = y_val, y_pred = predTest).ravel()\n",
    "specificity = tn / (tn+fp)\n",
    "specificity"
   ]
  },
  {
   "cell_type": "markdown",
   "metadata": {},
   "source": [
    "### Specificity \n",
    "#### The Specificity is 0.997, the specificity is found by dividing the true negatives (1801) by the sum of true negatives (1801) and false positives (6). "
   ]
  },
  {
   "cell_type": "code",
   "execution_count": 81,
   "metadata": {},
   "outputs": [
    {
     "data": {
      "text/plain": [
       "0.5"
      ]
     },
     "execution_count": 81,
     "metadata": {},
     "output_type": "execute_result"
    }
   ],
   "source": [
    "metrics.precision_score(y_true = y_val, y_pred = predTest)"
   ]
  },
  {
   "cell_type": "markdown",
   "metadata": {},
   "source": [
    "### Precision\n",
    "#### TP/(TP+FP)\n",
    "#### The precision is 0.5. This can be found by dividing the true positives (6) by the true positives plus the false positives (6+6)"
   ]
  },
  {
   "cell_type": "code",
   "execution_count": 82,
   "metadata": {},
   "outputs": [
    {
     "data": {
      "text/plain": [
       "0.5052047782650486"
      ]
     },
     "execution_count": 82,
     "metadata": {},
     "output_type": "execute_result"
    }
   ],
   "source": [
    "metrics.balanced_accuracy_score(y_true = y_val, y_pred = predTest, sample_weight=None, adjusted=False)"
   ]
  },
  {
   "cell_type": "markdown",
   "metadata": {},
   "source": [
    "### The Balanced Accuracy Score for the tuned random forest is 0.51."
   ]
  },
  {
   "cell_type": "code",
   "execution_count": 83,
   "metadata": {},
   "outputs": [
    {
     "data": {
      "text/plain": [
       "0.026726057906458798"
      ]
     },
     "execution_count": 83,
     "metadata": {},
     "output_type": "execute_result"
    }
   ],
   "source": [
    "sklearn.metrics.f1_score(y_true = y_val, y_pred = predTest)"
   ]
  },
  {
   "cell_type": "markdown",
   "metadata": {},
   "source": [
    "### The F1 Score for the tuned random forest is 0.03."
   ]
  },
  {
   "cell_type": "markdown",
   "metadata": {},
   "source": [
    "### The F1 Score returned slightly lower from 0.06 to 0.03, both not a great score overall. The balanced accuracy score of 0.51 saw very little change from the balanced accuracy of the previous model at 0.52. Recall and Precision saw a very slight improvement, and specificity remained high for both models. "
   ]
  },
  {
   "cell_type": "markdown",
   "metadata": {},
   "source": [
    "# Q6"
   ]
  },
  {
   "cell_type": "markdown",
   "metadata": {},
   "source": [
    "## Adaboost model"
   ]
  },
  {
   "cell_type": "markdown",
   "metadata": {},
   "source": [
    "- Initiate the Random Forest classifier from the sklearn library. Keep all parameters with their default values. (No need to specify anything)\n",
    "- Fit the model\n",
    "- Make predictions\n",
    "- Calculate accuracy score. What are the **training** and **testing** accuracies of the model?\n",
    "- Create confusion matrix\n",
    "- Either using the confusion matrix or the methods in `sklearn.metrics` get the following metrics on the testing set:\n",
    "     - Recall (Sensitivity)\n",
    "     - Specificity\n",
    "     - Precision\n",
    "     - Balanced Accuracy\n",
    "     - F1 Score\n",
    "- Using all the training data perform cross-validation:\n",
    "    - Select the `learning_rate` hyper-parameter and apply cross validation to find the best value.  \n",
    "    - Select the `n_estimators` hyper-parameter and apply cross validation to find the best value. \n",
    "    - Perform grid search where you check for combinations of these hyper-parameters.\n",
    "        - https://scikit-learn.org/stable/modules/generated/sklearn.model_selection.GridSearchCV.html\n",
    "- For the best model:\n",
    "    - Either using the confusion matrix or the methods in `sklearn.metrics` get the following metrics on the testing set:\n",
    "         - Recall (Sensitivity)\n",
    "         - Specificity\n",
    "         - Precision\n",
    "         - Balanced Accuracy\n",
    "         - F1 Score\n",
    "    - Compare the results to the model with default paramters. Any change?"
   ]
  },
  {
   "cell_type": "code",
   "execution_count": 84,
   "metadata": {},
   "outputs": [],
   "source": [
    "from sklearn.ensemble import AdaBoostClassifier"
   ]
  },
  {
   "cell_type": "code",
   "execution_count": 85,
   "metadata": {},
   "outputs": [],
   "source": [
    "clf = AdaBoostClassifier()"
   ]
  },
  {
   "cell_type": "code",
   "execution_count": 86,
   "metadata": {},
   "outputs": [
    {
     "data": {
      "text/plain": [
       "AdaBoostClassifier()"
      ]
     },
     "execution_count": 86,
     "metadata": {},
     "output_type": "execute_result"
    }
   ],
   "source": [
    "clf.fit(X_train, y_train)"
   ]
  },
  {
   "cell_type": "code",
   "execution_count": 87,
   "metadata": {},
   "outputs": [],
   "source": [
    "predTrain = clf.predict(X_train)"
   ]
  },
  {
   "cell_type": "code",
   "execution_count": 88,
   "metadata": {},
   "outputs": [
    {
     "data": {
      "text/plain": [
       "0.815246465418418"
      ]
     },
     "execution_count": 88,
     "metadata": {},
     "output_type": "execute_result"
    }
   ],
   "source": [
    "accuracyTrain = metrics.accuracy_score(y_true = y_train, y_pred = predTrain)\n",
    "accuracyTrain"
   ]
  },
  {
   "cell_type": "code",
   "execution_count": 89,
   "metadata": {},
   "outputs": [],
   "source": [
    "predTest = clf.predict(X_val)"
   ]
  },
  {
   "cell_type": "code",
   "execution_count": 90,
   "metadata": {},
   "outputs": [
    {
     "data": {
      "text/plain": [
       "0.803475935828877"
      ]
     },
     "execution_count": 90,
     "metadata": {},
     "output_type": "execute_result"
    }
   ],
   "source": [
    "accuracyTest = metrics.accuracy_score (y_true = y_val, y_pred = predTest)\n",
    "accuracyTest"
   ]
  },
  {
   "cell_type": "markdown",
   "metadata": {},
   "source": [
    "### The accuracy for the training model is 0.82 and the accuracy for the testing model is 0.80."
   ]
  },
  {
   "cell_type": "code",
   "execution_count": 91,
   "metadata": {},
   "outputs": [
    {
     "data": {
      "text/plain": [
       "array([[1786,   21],\n",
       "       [ 420,   17]])"
      ]
     },
     "execution_count": 91,
     "metadata": {},
     "output_type": "execute_result"
    }
   ],
   "source": [
    "confusion_matrix(y_val, predTest)"
   ]
  },
  {
   "cell_type": "code",
   "execution_count": 92,
   "metadata": {},
   "outputs": [
    {
     "data": {
      "text/plain": [
       "0.038901601830663615"
      ]
     },
     "execution_count": 92,
     "metadata": {},
     "output_type": "execute_result"
    }
   ],
   "source": [
    "sklearn.metrics.recall_score(y_true = y_val, y_pred = predTest)"
   ]
  },
  {
   "cell_type": "markdown",
   "metadata": {},
   "source": [
    "### Recall\n",
    "#### TP/(TP + FN)\n",
    "#### The Recall value is 0.04. This can be found by dividing the number of true positives (17) by the true positives plus false negatives (17 + 420)"
   ]
  },
  {
   "cell_type": "code",
   "execution_count": 93,
   "metadata": {},
   "outputs": [
    {
     "data": {
      "text/plain": [
       "0.9883785279468733"
      ]
     },
     "execution_count": 93,
     "metadata": {},
     "output_type": "execute_result"
    }
   ],
   "source": [
    "tn, fp, fn, tp = confusion_matrix(y_true = y_val, y_pred = predTest).ravel()\n",
    "specificity = tn / (tn+fp)\n",
    "specificity"
   ]
  },
  {
   "cell_type": "markdown",
   "metadata": {},
   "source": [
    "### Specificity \n",
    "#### The Specificity is 0.99, the specificity is found by dividing the true negatives (1786) by the sum of true negatives (1786) and false positives (21). "
   ]
  },
  {
   "cell_type": "code",
   "execution_count": 94,
   "metadata": {},
   "outputs": [
    {
     "data": {
      "text/plain": [
       "0.4473684210526316"
      ]
     },
     "execution_count": 94,
     "metadata": {},
     "output_type": "execute_result"
    }
   ],
   "source": [
    "metrics.precision_score(y_true = y_val, y_pred = predTest)"
   ]
  },
  {
   "cell_type": "markdown",
   "metadata": {},
   "source": [
    "### Precision\n",
    "#### TP/(TP+FP)\n",
    "#### The precision is 0.45. This can be found by dividing the true positives (17) by the true positives plus the false positives (17+21)"
   ]
  },
  {
   "cell_type": "code",
   "execution_count": 95,
   "metadata": {},
   "outputs": [
    {
     "data": {
      "text/plain": [
       "0.5136400648887685"
      ]
     },
     "execution_count": 95,
     "metadata": {},
     "output_type": "execute_result"
    }
   ],
   "source": [
    "metrics.balanced_accuracy_score(y_true = y_val, y_pred = predTest, sample_weight=None, adjusted=False)"
   ]
  },
  {
   "cell_type": "markdown",
   "metadata": {},
   "source": [
    "### The model returned a balanced accuracy of 0.51"
   ]
  },
  {
   "cell_type": "code",
   "execution_count": 96,
   "metadata": {},
   "outputs": [
    {
     "data": {
      "text/plain": [
       "0.07157894736842106"
      ]
     },
     "execution_count": 96,
     "metadata": {},
     "output_type": "execute_result"
    }
   ],
   "source": [
    "sklearn.metrics.f1_score(y_true = y_val, y_pred = predTest)"
   ]
  },
  {
   "cell_type": "markdown",
   "metadata": {},
   "source": [
    "### The model returned a F1 score of 0.07"
   ]
  },
  {
   "cell_type": "code",
   "execution_count": 97,
   "metadata": {},
   "outputs": [],
   "source": [
    "parameters = {\n",
    "    'learning_rate': [0.01, 0.02, 0.05, 0.08, 0.1, 0.2, 0.5, 0.8, 1, 2],\n",
    "    'n_estimators' : [5, 10, 20, 25, 50, 75, 100]\n",
    "}"
   ]
  },
  {
   "cell_type": "code",
   "execution_count": 98,
   "metadata": {},
   "outputs": [
    {
     "name": "stdout",
     "output_type": "stream",
     "text": [
      "BEST PARAMS: {'learning_rate': 0.2, 'n_estimators': 50}\n",
      "\n",
      "0.81 (+/-0.001) for {'learning_rate': 0.01, 'n_estimators': 5}\n",
      "0.81 (+/-0.001) for {'learning_rate': 0.01, 'n_estimators': 10}\n",
      "0.81 (+/-0.001) for {'learning_rate': 0.01, 'n_estimators': 20}\n",
      "0.81 (+/-0.001) for {'learning_rate': 0.01, 'n_estimators': 25}\n",
      "0.81 (+/-0.001) for {'learning_rate': 0.01, 'n_estimators': 50}\n",
      "0.81 (+/-0.001) for {'learning_rate': 0.01, 'n_estimators': 75}\n",
      "0.81 (+/-0.001) for {'learning_rate': 0.01, 'n_estimators': 100}\n",
      "0.81 (+/-0.001) for {'learning_rate': 0.02, 'n_estimators': 5}\n",
      "0.81 (+/-0.001) for {'learning_rate': 0.02, 'n_estimators': 10}\n",
      "0.81 (+/-0.001) for {'learning_rate': 0.02, 'n_estimators': 20}\n",
      "0.81 (+/-0.001) for {'learning_rate': 0.02, 'n_estimators': 25}\n",
      "0.81 (+/-0.001) for {'learning_rate': 0.02, 'n_estimators': 50}\n",
      "0.81 (+/-0.001) for {'learning_rate': 0.02, 'n_estimators': 75}\n",
      "0.81 (+/-0.001) for {'learning_rate': 0.02, 'n_estimators': 100}\n",
      "0.81 (+/-0.001) for {'learning_rate': 0.05, 'n_estimators': 5}\n",
      "0.81 (+/-0.001) for {'learning_rate': 0.05, 'n_estimators': 10}\n",
      "0.81 (+/-0.001) for {'learning_rate': 0.05, 'n_estimators': 20}\n",
      "0.81 (+/-0.001) for {'learning_rate': 0.05, 'n_estimators': 25}\n",
      "0.81 (+/-0.001) for {'learning_rate': 0.05, 'n_estimators': 50}\n",
      "0.81 (+/-0.001) for {'learning_rate': 0.05, 'n_estimators': 75}\n",
      "0.81 (+/-0.001) for {'learning_rate': 0.05, 'n_estimators': 100}\n",
      "0.81 (+/-0.001) for {'learning_rate': 0.08, 'n_estimators': 5}\n",
      "0.81 (+/-0.001) for {'learning_rate': 0.08, 'n_estimators': 10}\n",
      "0.81 (+/-0.001) for {'learning_rate': 0.08, 'n_estimators': 20}\n",
      "0.81 (+/-0.001) for {'learning_rate': 0.08, 'n_estimators': 25}\n",
      "0.81 (+/-0.001) for {'learning_rate': 0.08, 'n_estimators': 50}\n",
      "0.81 (+/-0.001) for {'learning_rate': 0.08, 'n_estimators': 75}\n",
      "0.81 (+/-0.001) for {'learning_rate': 0.08, 'n_estimators': 100}\n",
      "0.81 (+/-0.001) for {'learning_rate': 0.1, 'n_estimators': 5}\n",
      "0.81 (+/-0.001) for {'learning_rate': 0.1, 'n_estimators': 10}\n",
      "0.81 (+/-0.001) for {'learning_rate': 0.1, 'n_estimators': 20}\n",
      "0.81 (+/-0.001) for {'learning_rate': 0.1, 'n_estimators': 25}\n",
      "0.81 (+/-0.001) for {'learning_rate': 0.1, 'n_estimators': 50}\n",
      "0.81 (+/-0.001) for {'learning_rate': 0.1, 'n_estimators': 75}\n",
      "0.81 (+/-0.001) for {'learning_rate': 0.1, 'n_estimators': 100}\n",
      "0.81 (+/-0.001) for {'learning_rate': 0.2, 'n_estimators': 5}\n",
      "0.81 (+/-0.001) for {'learning_rate': 0.2, 'n_estimators': 10}\n",
      "0.81 (+/-0.001) for {'learning_rate': 0.2, 'n_estimators': 20}\n",
      "0.81 (+/-0.001) for {'learning_rate': 0.2, 'n_estimators': 25}\n",
      "0.81 (+/-0.001) for {'learning_rate': 0.2, 'n_estimators': 50}\n",
      "0.809 (+/-0.003) for {'learning_rate': 0.2, 'n_estimators': 75}\n",
      "0.809 (+/-0.003) for {'learning_rate': 0.2, 'n_estimators': 100}\n",
      "0.81 (+/-0.001) for {'learning_rate': 0.5, 'n_estimators': 5}\n",
      "0.81 (+/-0.001) for {'learning_rate': 0.5, 'n_estimators': 10}\n",
      "0.809 (+/-0.004) for {'learning_rate': 0.5, 'n_estimators': 20}\n",
      "0.809 (+/-0.003) for {'learning_rate': 0.5, 'n_estimators': 25}\n",
      "0.808 (+/-0.006) for {'learning_rate': 0.5, 'n_estimators': 50}\n",
      "0.807 (+/-0.006) for {'learning_rate': 0.5, 'n_estimators': 75}\n",
      "0.808 (+/-0.008) for {'learning_rate': 0.5, 'n_estimators': 100}\n",
      "0.808 (+/-0.004) for {'learning_rate': 0.8, 'n_estimators': 5}\n",
      "0.808 (+/-0.004) for {'learning_rate': 0.8, 'n_estimators': 10}\n",
      "0.807 (+/-0.005) for {'learning_rate': 0.8, 'n_estimators': 20}\n",
      "0.808 (+/-0.005) for {'learning_rate': 0.8, 'n_estimators': 25}\n",
      "0.807 (+/-0.006) for {'learning_rate': 0.8, 'n_estimators': 50}\n",
      "0.804 (+/-0.005) for {'learning_rate': 0.8, 'n_estimators': 75}\n",
      "0.804 (+/-0.004) for {'learning_rate': 0.8, 'n_estimators': 100}\n",
      "0.807 (+/-0.006) for {'learning_rate': 1, 'n_estimators': 5}\n",
      "0.807 (+/-0.006) for {'learning_rate': 1, 'n_estimators': 10}\n",
      "0.806 (+/-0.008) for {'learning_rate': 1, 'n_estimators': 20}\n",
      "0.806 (+/-0.007) for {'learning_rate': 1, 'n_estimators': 25}\n",
      "0.804 (+/-0.011) for {'learning_rate': 1, 'n_estimators': 50}\n",
      "0.804 (+/-0.004) for {'learning_rate': 1, 'n_estimators': 75}\n",
      "0.803 (+/-0.004) for {'learning_rate': 1, 'n_estimators': 100}\n",
      "0.81 (+/-0.001) for {'learning_rate': 2, 'n_estimators': 5}\n",
      "0.536 (+/-0.501) for {'learning_rate': 2, 'n_estimators': 10}\n",
      "0.536 (+/-0.501) for {'learning_rate': 2, 'n_estimators': 20}\n",
      "0.81 (+/-0.001) for {'learning_rate': 2, 'n_estimators': 25}\n",
      "0.645 (+/-0.374) for {'learning_rate': 2, 'n_estimators': 50}\n",
      "0.81 (+/-0.001) for {'learning_rate': 2, 'n_estimators': 75}\n",
      "0.536 (+/-0.501) for {'learning_rate': 2, 'n_estimators': 100}\n"
     ]
    }
   ],
   "source": [
    "cv = GridSearchCV(clf, parameters, cv=5)\n",
    "cv.fit(X_train, y_train)\n",
    "\n",
    "print_results(cv)"
   ]
  },
  {
   "cell_type": "markdown",
   "metadata": {},
   "source": [
    "### Based on the results of the grid search, I will choose the parameters below:\n",
    "### Learning Rate: 0.2\n",
    "### Number of Estimators: 50"
   ]
  },
  {
   "cell_type": "code",
   "execution_count": 99,
   "metadata": {},
   "outputs": [],
   "source": [
    "clf = AdaBoostClassifier(learning_rate = 0.2, n_estimators = 50)"
   ]
  },
  {
   "cell_type": "code",
   "execution_count": 100,
   "metadata": {},
   "outputs": [
    {
     "data": {
      "text/plain": [
       "AdaBoostClassifier(learning_rate=0.2)"
      ]
     },
     "execution_count": 100,
     "metadata": {},
     "output_type": "execute_result"
    }
   ],
   "source": [
    "clf.fit(X_train, y_train)"
   ]
  },
  {
   "cell_type": "code",
   "execution_count": 101,
   "metadata": {},
   "outputs": [],
   "source": [
    "predTrain = clf.predict(X_train)"
   ]
  },
  {
   "cell_type": "code",
   "execution_count": 102,
   "metadata": {},
   "outputs": [
    {
     "data": {
      "text/plain": [
       "0.8098968284294994"
      ]
     },
     "execution_count": 102,
     "metadata": {},
     "output_type": "execute_result"
    }
   ],
   "source": [
    "accuracyTrain = metrics.accuracy_score(y_true = y_train, y_pred = predTrain)\n",
    "accuracyTrain"
   ]
  },
  {
   "cell_type": "code",
   "execution_count": 103,
   "metadata": {},
   "outputs": [],
   "source": [
    "predTest = clf.predict(X_val)"
   ]
  },
  {
   "cell_type": "code",
   "execution_count": 104,
   "metadata": {},
   "outputs": [
    {
     "data": {
      "text/plain": [
       "0.8057040998217468"
      ]
     },
     "execution_count": 104,
     "metadata": {},
     "output_type": "execute_result"
    }
   ],
   "source": [
    "accuracyTest = metrics.accuracy_score (y_true = y_val, y_pred = predTest)\n",
    "accuracyTest"
   ]
  },
  {
   "cell_type": "markdown",
   "metadata": {},
   "source": [
    "### The accuracy for the training model is 0.81 and the accuracy for the testing model is 0.81."
   ]
  },
  {
   "cell_type": "code",
   "execution_count": 105,
   "metadata": {},
   "outputs": [
    {
     "data": {
      "text/plain": [
       "array([[1807,    0],\n",
       "       [ 436,    1]])"
      ]
     },
     "execution_count": 105,
     "metadata": {},
     "output_type": "execute_result"
    }
   ],
   "source": [
    "confusion_matrix(y_val, predTest)"
   ]
  },
  {
   "cell_type": "code",
   "execution_count": 106,
   "metadata": {},
   "outputs": [
    {
     "data": {
      "text/plain": [
       "0.002288329519450801"
      ]
     },
     "execution_count": 106,
     "metadata": {},
     "output_type": "execute_result"
    }
   ],
   "source": [
    "sklearn.metrics.recall_score(y_true = y_val, y_pred = predTest)"
   ]
  },
  {
   "cell_type": "markdown",
   "metadata": {},
   "source": [
    "### Recall\n",
    "#### TP/(TP + FN)\n",
    "#### The Recall value is 0.002. This can be found by dividing the number of true positives (1) by the true positives plus false negatives (1 + 436)"
   ]
  },
  {
   "cell_type": "code",
   "execution_count": 107,
   "metadata": {},
   "outputs": [
    {
     "data": {
      "text/plain": [
       "1.0"
      ]
     },
     "execution_count": 107,
     "metadata": {},
     "output_type": "execute_result"
    }
   ],
   "source": [
    "tn, fp, fn, tp = confusion_matrix(y_true = y_val, y_pred = predTest).ravel()\n",
    "specificity = tn / (tn+fp)\n",
    "specificity"
   ]
  },
  {
   "cell_type": "markdown",
   "metadata": {},
   "source": [
    "### Specificity \n",
    "#### The Specificity is 1, the specificity is found by dividing the true negatives (1807) by the sum of true negatives (1807) and false positives (0). "
   ]
  },
  {
   "cell_type": "code",
   "execution_count": 108,
   "metadata": {},
   "outputs": [
    {
     "data": {
      "text/plain": [
       "1.0"
      ]
     },
     "execution_count": 108,
     "metadata": {},
     "output_type": "execute_result"
    }
   ],
   "source": [
    "metrics.precision_score(y_true = y_val, y_pred = predTest)"
   ]
  },
  {
   "cell_type": "markdown",
   "metadata": {},
   "source": [
    "### Precision\n",
    "#### TP/(TP+FP)\n",
    "#### The precision is 1. This can be found by dividing the true positives (1) by the true positives plus the false positives (1+0)"
   ]
  },
  {
   "cell_type": "code",
   "execution_count": 109,
   "metadata": {},
   "outputs": [
    {
     "data": {
      "text/plain": [
       "0.5011441647597255"
      ]
     },
     "execution_count": 109,
     "metadata": {},
     "output_type": "execute_result"
    }
   ],
   "source": [
    "metrics.balanced_accuracy_score(y_true = y_val, y_pred = predTest, sample_weight=None, adjusted=False)"
   ]
  },
  {
   "cell_type": "markdown",
   "metadata": {},
   "source": [
    "### The balanced accuracy score is 0.5"
   ]
  },
  {
   "cell_type": "code",
   "execution_count": 110,
   "metadata": {},
   "outputs": [
    {
     "data": {
      "text/plain": [
       "0.0045662100456621"
      ]
     },
     "execution_count": 110,
     "metadata": {},
     "output_type": "execute_result"
    }
   ],
   "source": [
    "sklearn.metrics.f1_score(y_true = y_val, y_pred = predTest)"
   ]
  },
  {
   "cell_type": "markdown",
   "metadata": {},
   "source": [
    "### The F1 Score is 0.005"
   ]
  },
  {
   "cell_type": "markdown",
   "metadata": {},
   "source": [
    "### Similar to the results with the decision tree above, the tuning of this model returned a model with a very low number of True Positives (1) and no False Positives. This result returned some metrics really high and other metrics really low.\n",
    "### The F1 score of the tuned model (0.005) was lower than the untuned model (0.07), although both were poor overall. There was not much change in the balanced accuracy score. The precision score (up to 1 from 0.45) was much higher, but this is misleading. The precision score increased so much because there was an absense of false positive values and only 1 true positive value. "
   ]
  },
  {
   "cell_type": "markdown",
   "metadata": {},
   "source": [
    "# Q7"
   ]
  },
  {
   "cell_type": "markdown",
   "metadata": {},
   "source": [
    "## Gradient Boost model"
   ]
  },
  {
   "cell_type": "markdown",
   "metadata": {},
   "source": [
    "- Initiate the Random Forest classifier from the sklearn library. Keep all parameters with their default values. (No need to specify anything)\n",
    "- Fit the model\n",
    "- Make predictions\n",
    "- Calculate accuracy score. What are the **training** and **testing** accuracies of the model?\n",
    "- Create confusion matrix\n",
    "- Either using the confusion matrix or the methods in `sklearn.metrics` get the following metrics on the testing set:\n",
    "     - Recall (Sensitivity)\n",
    "     - Specificity\n",
    "     - Precision\n",
    "     - Balanced Accuracy\n",
    "     - F1 Score\n",
    "- Using all the training data perform cross-validation:\n",
    "    - Select the `learning_rate` hyper-parameter and apply cross validation to find the best value.  \n",
    "    - Select the `n_estimators` hyper-parameter and apply cross validation to find the best value. \n",
    "    - Perform grid search where you check for combinations of these hyper-parameters.\n",
    "        - https://scikit-learn.org/stable/modules/generated/sklearn.model_selection.GridSearchCV.html\n",
    "- For the best model:\n",
    "    - Either using the confusion matrix or the methods in `sklearn.metrics` get the following metrics on the testing set:\n",
    "         - Recall (Sensitivity)\n",
    "         - Specificity\n",
    "         - Precision\n",
    "         - Balanced Accuracy\n",
    "         - F1 Score\n",
    "    - Compare the results to the model with default paramters. Any change?"
   ]
  },
  {
   "cell_type": "code",
   "execution_count": 113,
   "metadata": {},
   "outputs": [],
   "source": [
    "from sklearn.ensemble import GradientBoostingClassifier"
   ]
  },
  {
   "cell_type": "code",
   "execution_count": 114,
   "metadata": {},
   "outputs": [],
   "source": [
    "clf = GradientBoostingClassifier()"
   ]
  },
  {
   "cell_type": "code",
   "execution_count": 115,
   "metadata": {},
   "outputs": [
    {
     "data": {
      "text/plain": [
       "GradientBoostingClassifier()"
      ]
     },
     "execution_count": 115,
     "metadata": {},
     "output_type": "execute_result"
    }
   ],
   "source": [
    "clf.fit(X_train, y_train)"
   ]
  },
  {
   "cell_type": "code",
   "execution_count": 116,
   "metadata": {},
   "outputs": [],
   "source": [
    "predTrain = clf.predict(X_train)"
   ]
  },
  {
   "cell_type": "code",
   "execution_count": 117,
   "metadata": {},
   "outputs": [
    {
     "data": {
      "text/plain": [
       "0.8291937332823844"
      ]
     },
     "execution_count": 117,
     "metadata": {},
     "output_type": "execute_result"
    }
   ],
   "source": [
    "accuracyTrain = metrics.accuracy_score(y_true = y_train, y_pred = predTrain)\n",
    "accuracyTrain"
   ]
  },
  {
   "cell_type": "code",
   "execution_count": 118,
   "metadata": {},
   "outputs": [],
   "source": [
    "predTest = clf.predict(X_val)"
   ]
  },
  {
   "cell_type": "code",
   "execution_count": 120,
   "metadata": {},
   "outputs": [
    {
     "data": {
      "text/plain": [
       "0.8057040998217468"
      ]
     },
     "execution_count": 120,
     "metadata": {},
     "output_type": "execute_result"
    }
   ],
   "source": [
    "accuracyTest = metrics.accuracy_score(y_true = y_val, y_pred = predTest)\n",
    "accuracyTest"
   ]
  },
  {
   "cell_type": "markdown",
   "metadata": {},
   "source": [
    "### The training accuracy score is 0.83 and the testing accuracy is 0.81"
   ]
  },
  {
   "cell_type": "code",
   "execution_count": 121,
   "metadata": {},
   "outputs": [
    {
     "data": {
      "text/plain": [
       "array([[1791,   16],\n",
       "       [ 420,   17]])"
      ]
     },
     "execution_count": 121,
     "metadata": {},
     "output_type": "execute_result"
    }
   ],
   "source": [
    "confusion_matrix(y_val, predTest)"
   ]
  },
  {
   "cell_type": "code",
   "execution_count": 122,
   "metadata": {},
   "outputs": [
    {
     "data": {
      "text/plain": [
       "0.038901601830663615"
      ]
     },
     "execution_count": 122,
     "metadata": {},
     "output_type": "execute_result"
    }
   ],
   "source": [
    "sklearn.metrics.recall_score(y_true = y_val, y_pred = predTest)"
   ]
  },
  {
   "cell_type": "markdown",
   "metadata": {},
   "source": [
    "### Recall\n",
    "#### TP/(TP + FN)\n",
    "#### The Recall value is 0.04. This can be found by dividing the number of true positives (17) by the true positives plus false negatives (17 + 420)"
   ]
  },
  {
   "cell_type": "code",
   "execution_count": 123,
   "metadata": {},
   "outputs": [
    {
     "data": {
      "text/plain": [
       "0.9911455451023796"
      ]
     },
     "execution_count": 123,
     "metadata": {},
     "output_type": "execute_result"
    }
   ],
   "source": [
    "tn, fp, fn, tp = confusion_matrix(y_true = y_val, y_pred = predTest).ravel()\n",
    "specificity = tn / (tn+fp)\n",
    "specificity"
   ]
  },
  {
   "cell_type": "markdown",
   "metadata": {},
   "source": [
    "### Specificity \n",
    "#### The Specificity is 0.99, the specificity is found by dividing the true negatives (1791) by the sum of true negatives (1791) and false positives (16). "
   ]
  },
  {
   "cell_type": "code",
   "execution_count": 124,
   "metadata": {},
   "outputs": [
    {
     "data": {
      "text/plain": [
       "0.5151515151515151"
      ]
     },
     "execution_count": 124,
     "metadata": {},
     "output_type": "execute_result"
    }
   ],
   "source": [
    "metrics.precision_score(y_true = y_val, y_pred = predTest)"
   ]
  },
  {
   "cell_type": "markdown",
   "metadata": {},
   "source": [
    "### Precision\n",
    "#### TP/(TP+FP)\n",
    "#### The precision is 0.52. This can be found by dividing the true positives (17) by the true positives plus the false positives (17+16)"
   ]
  },
  {
   "cell_type": "code",
   "execution_count": 125,
   "metadata": {},
   "outputs": [
    {
     "data": {
      "text/plain": [
       "0.5150235734665216"
      ]
     },
     "execution_count": 125,
     "metadata": {},
     "output_type": "execute_result"
    }
   ],
   "source": [
    "metrics.balanced_accuracy_score(y_true = y_val, y_pred = predTest, sample_weight=None, adjusted=False)"
   ]
  },
  {
   "cell_type": "markdown",
   "metadata": {},
   "source": [
    "### The Balanced Accuracy Score for this model is 0.52"
   ]
  },
  {
   "cell_type": "code",
   "execution_count": 126,
   "metadata": {},
   "outputs": [
    {
     "data": {
      "text/plain": [
       "0.0723404255319149"
      ]
     },
     "execution_count": 126,
     "metadata": {},
     "output_type": "execute_result"
    }
   ],
   "source": [
    "sklearn.metrics.f1_score(y_true = y_val, y_pred = predTest)"
   ]
  },
  {
   "cell_type": "markdown",
   "metadata": {},
   "source": [
    "### The F1 Score is 0.07"
   ]
  },
  {
   "cell_type": "code",
   "execution_count": 127,
   "metadata": {},
   "outputs": [],
   "source": [
    "parameters = {\n",
    "    'learning_rate': [0.01, 0.02, 0.05, 0.08, 0.1, 0.2, 0.5, 0.8, 1, 2],\n",
    "    'n_estimators' : [5, 10, 20, 25, 50, 75, 100]\n",
    "}"
   ]
  },
  {
   "cell_type": "code",
   "execution_count": 128,
   "metadata": {},
   "outputs": [
    {
     "name": "stdout",
     "output_type": "stream",
     "text": [
      "BEST PARAMS: {'learning_rate': 0.08, 'n_estimators': 25}\n",
      "\n",
      "0.81 (+/-0.001) for {'learning_rate': 0.01, 'n_estimators': 5}\n",
      "0.81 (+/-0.001) for {'learning_rate': 0.01, 'n_estimators': 10}\n",
      "0.81 (+/-0.001) for {'learning_rate': 0.01, 'n_estimators': 20}\n",
      "0.81 (+/-0.001) for {'learning_rate': 0.01, 'n_estimators': 25}\n",
      "0.81 (+/-0.001) for {'learning_rate': 0.01, 'n_estimators': 50}\n",
      "0.81 (+/-0.001) for {'learning_rate': 0.01, 'n_estimators': 75}\n",
      "0.81 (+/-0.001) for {'learning_rate': 0.01, 'n_estimators': 100}\n",
      "0.81 (+/-0.001) for {'learning_rate': 0.02, 'n_estimators': 5}\n",
      "0.81 (+/-0.001) for {'learning_rate': 0.02, 'n_estimators': 10}\n",
      "0.81 (+/-0.001) for {'learning_rate': 0.02, 'n_estimators': 20}\n",
      "0.81 (+/-0.001) for {'learning_rate': 0.02, 'n_estimators': 25}\n",
      "0.81 (+/-0.001) for {'learning_rate': 0.02, 'n_estimators': 50}\n",
      "0.809 (+/-0.002) for {'learning_rate': 0.02, 'n_estimators': 75}\n",
      "0.809 (+/-0.003) for {'learning_rate': 0.02, 'n_estimators': 100}\n",
      "0.81 (+/-0.001) for {'learning_rate': 0.05, 'n_estimators': 5}\n",
      "0.81 (+/-0.001) for {'learning_rate': 0.05, 'n_estimators': 10}\n",
      "0.81 (+/-0.001) for {'learning_rate': 0.05, 'n_estimators': 20}\n",
      "0.81 (+/-0.001) for {'learning_rate': 0.05, 'n_estimators': 25}\n",
      "0.81 (+/-0.002) for {'learning_rate': 0.05, 'n_estimators': 50}\n",
      "0.809 (+/-0.003) for {'learning_rate': 0.05, 'n_estimators': 75}\n",
      "0.808 (+/-0.005) for {'learning_rate': 0.05, 'n_estimators': 100}\n",
      "0.81 (+/-0.001) for {'learning_rate': 0.08, 'n_estimators': 5}\n",
      "0.81 (+/-0.001) for {'learning_rate': 0.08, 'n_estimators': 10}\n",
      "0.81 (+/-0.001) for {'learning_rate': 0.08, 'n_estimators': 20}\n",
      "0.81 (+/-0.002) for {'learning_rate': 0.08, 'n_estimators': 25}\n",
      "0.808 (+/-0.004) for {'learning_rate': 0.08, 'n_estimators': 50}\n",
      "0.806 (+/-0.007) for {'learning_rate': 0.08, 'n_estimators': 75}\n",
      "0.808 (+/-0.007) for {'learning_rate': 0.08, 'n_estimators': 100}\n",
      "0.81 (+/-0.001) for {'learning_rate': 0.1, 'n_estimators': 5}\n",
      "0.81 (+/-0.001) for {'learning_rate': 0.1, 'n_estimators': 10}\n",
      "0.809 (+/-0.003) for {'learning_rate': 0.1, 'n_estimators': 20}\n",
      "0.81 (+/-0.002) for {'learning_rate': 0.1, 'n_estimators': 25}\n",
      "0.807 (+/-0.006) for {'learning_rate': 0.1, 'n_estimators': 50}\n",
      "0.808 (+/-0.004) for {'learning_rate': 0.1, 'n_estimators': 75}\n",
      "0.807 (+/-0.003) for {'learning_rate': 0.1, 'n_estimators': 100}\n",
      "0.81 (+/-0.003) for {'learning_rate': 0.2, 'n_estimators': 5}\n",
      "0.81 (+/-0.006) for {'learning_rate': 0.2, 'n_estimators': 10}\n",
      "0.808 (+/-0.006) for {'learning_rate': 0.2, 'n_estimators': 20}\n",
      "0.809 (+/-0.003) for {'learning_rate': 0.2, 'n_estimators': 25}\n",
      "0.806 (+/-0.008) for {'learning_rate': 0.2, 'n_estimators': 50}\n",
      "0.805 (+/-0.005) for {'learning_rate': 0.2, 'n_estimators': 75}\n",
      "0.802 (+/-0.004) for {'learning_rate': 0.2, 'n_estimators': 100}\n",
      "0.804 (+/-0.007) for {'learning_rate': 0.5, 'n_estimators': 5}\n",
      "0.8 (+/-0.008) for {'learning_rate': 0.5, 'n_estimators': 10}\n",
      "0.797 (+/-0.006) for {'learning_rate': 0.5, 'n_estimators': 20}\n",
      "0.797 (+/-0.005) for {'learning_rate': 0.5, 'n_estimators': 25}\n",
      "0.787 (+/-0.008) for {'learning_rate': 0.5, 'n_estimators': 50}\n",
      "0.777 (+/-0.005) for {'learning_rate': 0.5, 'n_estimators': 75}\n",
      "0.773 (+/-0.008) for {'learning_rate': 0.5, 'n_estimators': 100}\n",
      "0.802 (+/-0.009) for {'learning_rate': 0.8, 'n_estimators': 5}\n",
      "0.796 (+/-0.016) for {'learning_rate': 0.8, 'n_estimators': 10}\n",
      "0.788 (+/-0.017) for {'learning_rate': 0.8, 'n_estimators': 20}\n",
      "0.781 (+/-0.017) for {'learning_rate': 0.8, 'n_estimators': 25}\n",
      "0.778 (+/-0.015) for {'learning_rate': 0.8, 'n_estimators': 50}\n",
      "0.771 (+/-0.02) for {'learning_rate': 0.8, 'n_estimators': 75}\n",
      "0.766 (+/-0.016) for {'learning_rate': 0.8, 'n_estimators': 100}\n",
      "0.805 (+/-0.012) for {'learning_rate': 1, 'n_estimators': 5}\n",
      "0.795 (+/-0.008) for {'learning_rate': 1, 'n_estimators': 10}\n",
      "0.786 (+/-0.011) for {'learning_rate': 1, 'n_estimators': 20}\n",
      "0.782 (+/-0.014) for {'learning_rate': 1, 'n_estimators': 25}\n",
      "0.759 (+/-0.019) for {'learning_rate': 1, 'n_estimators': 50}\n",
      "0.753 (+/-0.013) for {'learning_rate': 1, 'n_estimators': 75}\n",
      "0.746 (+/-0.021) for {'learning_rate': 1, 'n_estimators': 100}\n",
      "0.76 (+/-0.029) for {'learning_rate': 2, 'n_estimators': 5}\n",
      "0.733 (+/-0.034) for {'learning_rate': 2, 'n_estimators': 10}\n",
      "0.716 (+/-0.106) for {'learning_rate': 2, 'n_estimators': 20}\n",
      "0.682 (+/-0.199) for {'learning_rate': 2, 'n_estimators': 25}\n",
      "0.611 (+/-0.403) for {'learning_rate': 2, 'n_estimators': 50}\n",
      "0.611 (+/-0.403) for {'learning_rate': 2, 'n_estimators': 75}\n",
      "0.611 (+/-0.403) for {'learning_rate': 2, 'n_estimators': 100}\n"
     ]
    }
   ],
   "source": [
    "cv = GridSearchCV(clf, parameters, cv=5)\n",
    "cv.fit(X_train, y_train)\n",
    "\n",
    "print_results(cv)"
   ]
  },
  {
   "cell_type": "markdown",
   "metadata": {},
   "source": [
    "### The parameters chosen for the Gradient Boost Classifier are as follows:\n",
    "### Learning Rate: 0.08\n",
    "### Number of Estimators: 25 "
   ]
  },
  {
   "cell_type": "code",
   "execution_count": 129,
   "metadata": {},
   "outputs": [],
   "source": [
    "clf = GradientBoostingClassifier(learning_rate = 0.08, n_estimators = 25)"
   ]
  },
  {
   "cell_type": "code",
   "execution_count": 130,
   "metadata": {},
   "outputs": [
    {
     "data": {
      "text/plain": [
       "GradientBoostingClassifier(learning_rate=0.08, n_estimators=25)"
      ]
     },
     "execution_count": 130,
     "metadata": {},
     "output_type": "execute_result"
    }
   ],
   "source": [
    "clf.fit(X_train, y_train)"
   ]
  },
  {
   "cell_type": "code",
   "execution_count": 131,
   "metadata": {},
   "outputs": [],
   "source": [
    "predTrain = clf.predict(X_train)"
   ]
  },
  {
   "cell_type": "code",
   "execution_count": 132,
   "metadata": {},
   "outputs": [
    {
     "data": {
      "text/plain": [
       "0.8121895299961789"
      ]
     },
     "execution_count": 132,
     "metadata": {},
     "output_type": "execute_result"
    }
   ],
   "source": [
    "accuracyTrain = metrics.accuracy_score(y_true = y_train, y_pred = predTrain)\n",
    "accuracyTrain"
   ]
  },
  {
   "cell_type": "code",
   "execution_count": 133,
   "metadata": {},
   "outputs": [],
   "source": [
    "predTest = clf.predict(X_val)"
   ]
  },
  {
   "cell_type": "code",
   "execution_count": 134,
   "metadata": {},
   "outputs": [
    {
     "data": {
      "text/plain": [
       "0.8057040998217468"
      ]
     },
     "execution_count": 134,
     "metadata": {},
     "output_type": "execute_result"
    }
   ],
   "source": [
    "accuracyTest = metrics.accuracy_score(y_true = y_val, y_pred = predTest)\n",
    "accuracyTest"
   ]
  },
  {
   "cell_type": "markdown",
   "metadata": {},
   "source": [
    "### The accuracy for the training set is 0.81 and the accuracy for the testing set is 0.81"
   ]
  },
  {
   "cell_type": "code",
   "execution_count": 135,
   "metadata": {},
   "outputs": [
    {
     "data": {
      "text/plain": [
       "array([[1805,    2],\n",
       "       [ 434,    3]])"
      ]
     },
     "execution_count": 135,
     "metadata": {},
     "output_type": "execute_result"
    }
   ],
   "source": [
    "confusion_matrix(y_val, predTest)"
   ]
  },
  {
   "cell_type": "code",
   "execution_count": 136,
   "metadata": {},
   "outputs": [
    {
     "data": {
      "text/plain": [
       "0.006864988558352402"
      ]
     },
     "execution_count": 136,
     "metadata": {},
     "output_type": "execute_result"
    }
   ],
   "source": [
    "sklearn.metrics.recall_score(y_true = y_val, y_pred = predTest)"
   ]
  },
  {
   "cell_type": "markdown",
   "metadata": {},
   "source": [
    "### Recall\n",
    "#### TP/(TP + FN)\n",
    "#### The Recall value is 0.007. This can be found by dividing the number of true positives (3) by the true positives plus false negatives (3 + 434)"
   ]
  },
  {
   "cell_type": "code",
   "execution_count": 137,
   "metadata": {},
   "outputs": [
    {
     "data": {
      "text/plain": [
       "0.9988931931377975"
      ]
     },
     "execution_count": 137,
     "metadata": {},
     "output_type": "execute_result"
    }
   ],
   "source": [
    "tn, fp, fn, tp = confusion_matrix(y_true = y_val, y_pred = predTest).ravel()\n",
    "specificity = tn / (tn+fp)\n",
    "specificity"
   ]
  },
  {
   "cell_type": "markdown",
   "metadata": {},
   "source": [
    "### Specificity \n",
    "#### The Specificity is 0.999, the specificity is found by dividing the true negatives (1805) by the sum of true negatives (1805) and false positives (2). "
   ]
  },
  {
   "cell_type": "code",
   "execution_count": 138,
   "metadata": {},
   "outputs": [
    {
     "data": {
      "text/plain": [
       "0.6"
      ]
     },
     "execution_count": 138,
     "metadata": {},
     "output_type": "execute_result"
    }
   ],
   "source": [
    "metrics.precision_score(y_true = y_val, y_pred = predTest)"
   ]
  },
  {
   "cell_type": "markdown",
   "metadata": {},
   "source": [
    "### Precision\n",
    "#### TP/(TP+FP)\n",
    "#### The precision is 0.6. This can be found by dividing the true positives (3) by the true positives plus the false positives (3+2)"
   ]
  },
  {
   "cell_type": "code",
   "execution_count": 139,
   "metadata": {},
   "outputs": [
    {
     "data": {
      "text/plain": [
       "0.5028790908480749"
      ]
     },
     "execution_count": 139,
     "metadata": {},
     "output_type": "execute_result"
    }
   ],
   "source": [
    "metrics.balanced_accuracy_score(y_true = y_val, y_pred = predTest, sample_weight=None, adjusted=False)"
   ]
  },
  {
   "cell_type": "markdown",
   "metadata": {},
   "source": [
    "### The balanced accuracy is 0.5"
   ]
  },
  {
   "cell_type": "code",
   "execution_count": 140,
   "metadata": {},
   "outputs": [
    {
     "data": {
      "text/plain": [
       "0.013574660633484162"
      ]
     },
     "execution_count": 140,
     "metadata": {},
     "output_type": "execute_result"
    }
   ],
   "source": [
    "sklearn.metrics.f1_score(y_true = y_val, y_pred = predTest)"
   ]
  },
  {
   "cell_type": "markdown",
   "metadata": {},
   "source": [
    "### The F1 Score is 0.14"
   ]
  },
  {
   "cell_type": "markdown",
   "metadata": {},
   "source": [
    "### After tuning the model, most metric declined slightly. There was a slight improvement in both Specificity and Precision."
   ]
  },
  {
   "cell_type": "markdown",
   "metadata": {},
   "source": [
    "# Q8"
   ]
  },
  {
   "cell_type": "markdown",
   "metadata": {},
   "source": [
    "- Using the Decision Tree, Random Forest, Adaboost, and Gradient Boosting classifer models:\n",
    "    - Think of other ways of improving the accuracy and list at least two possibilities.\n",
    "    - Implement both of the methods you proposed. \n",
    "    - Is the model recall increasing? Why do you think this might have helped?\n",
    "    - If both of them did not improve, comment on why this might have been the case.\n",
    "    - Optional: Apply different things and see if the recall is improving"
   ]
  },
  {
   "cell_type": "markdown",
   "metadata": {},
   "source": [
    "## Decision Tree\n",
    "### Since I got strange results after tuning the model, I will use my default parameters of the decision tree as a starting point. The two methods I will try to see if I can get better results are adjusting the ccp_alpha value and I will try adjusting the criterion to include entropy to see if there is any improvement."
   ]
  },
  {
   "cell_type": "code",
   "execution_count": 141,
   "metadata": {},
   "outputs": [],
   "source": [
    "clf = DecisionTreeClassifier()"
   ]
  },
  {
   "cell_type": "code",
   "execution_count": 142,
   "metadata": {},
   "outputs": [],
   "source": [
    "parameters = {\n",
    "    'criterion': ['gini', 'entropy'],\n",
    "    'ccp_alpha' : [0, 0.01, 0.02, 0.05, 0.07, 0.1, 0.2, 0.5, 0.8, 1, 2, 5, 10]\n",
    "}"
   ]
  },
  {
   "cell_type": "code",
   "execution_count": 143,
   "metadata": {},
   "outputs": [
    {
     "name": "stdout",
     "output_type": "stream",
     "text": [
      "BEST PARAMS: {'ccp_alpha': 0.01, 'criterion': 'gini'}\n",
      "\n",
      "0.702 (+/-0.02) for {'ccp_alpha': 0, 'criterion': 'gini'}\n",
      "0.705 (+/-0.014) for {'ccp_alpha': 0, 'criterion': 'entropy'}\n",
      "0.81 (+/-0.001) for {'ccp_alpha': 0.01, 'criterion': 'gini'}\n",
      "0.81 (+/-0.001) for {'ccp_alpha': 0.01, 'criterion': 'entropy'}\n",
      "0.81 (+/-0.001) for {'ccp_alpha': 0.02, 'criterion': 'gini'}\n",
      "0.81 (+/-0.001) for {'ccp_alpha': 0.02, 'criterion': 'entropy'}\n",
      "0.81 (+/-0.001) for {'ccp_alpha': 0.05, 'criterion': 'gini'}\n",
      "0.81 (+/-0.001) for {'ccp_alpha': 0.05, 'criterion': 'entropy'}\n",
      "0.81 (+/-0.001) for {'ccp_alpha': 0.07, 'criterion': 'gini'}\n",
      "0.81 (+/-0.001) for {'ccp_alpha': 0.07, 'criterion': 'entropy'}\n",
      "0.81 (+/-0.001) for {'ccp_alpha': 0.1, 'criterion': 'gini'}\n",
      "0.81 (+/-0.001) for {'ccp_alpha': 0.1, 'criterion': 'entropy'}\n",
      "0.81 (+/-0.001) for {'ccp_alpha': 0.2, 'criterion': 'gini'}\n",
      "0.81 (+/-0.001) for {'ccp_alpha': 0.2, 'criterion': 'entropy'}\n",
      "0.81 (+/-0.001) for {'ccp_alpha': 0.5, 'criterion': 'gini'}\n",
      "0.81 (+/-0.001) for {'ccp_alpha': 0.5, 'criterion': 'entropy'}\n",
      "0.81 (+/-0.001) for {'ccp_alpha': 0.8, 'criterion': 'gini'}\n",
      "0.81 (+/-0.001) for {'ccp_alpha': 0.8, 'criterion': 'entropy'}\n",
      "0.81 (+/-0.001) for {'ccp_alpha': 1, 'criterion': 'gini'}\n",
      "0.81 (+/-0.001) for {'ccp_alpha': 1, 'criterion': 'entropy'}\n",
      "0.81 (+/-0.001) for {'ccp_alpha': 2, 'criterion': 'gini'}\n",
      "0.81 (+/-0.001) for {'ccp_alpha': 2, 'criterion': 'entropy'}\n",
      "0.81 (+/-0.001) for {'ccp_alpha': 5, 'criterion': 'gini'}\n",
      "0.81 (+/-0.001) for {'ccp_alpha': 5, 'criterion': 'entropy'}\n",
      "0.81 (+/-0.001) for {'ccp_alpha': 10, 'criterion': 'gini'}\n",
      "0.81 (+/-0.001) for {'ccp_alpha': 10, 'criterion': 'entropy'}\n"
     ]
    }
   ],
   "source": [
    "cv = GridSearchCV(clf, parameters, cv=5)\n",
    "cv.fit(X_train, y_train)\n",
    "\n",
    "print_results(cv)"
   ]
  },
  {
   "cell_type": "markdown",
   "metadata": {},
   "source": [
    "### It appears, based on the grid search above, that Gini index will continue to be the best criterion and a ccp_alpha value of 0.01 will return the highest score."
   ]
  },
  {
   "cell_type": "code",
   "execution_count": 144,
   "metadata": {},
   "outputs": [],
   "source": [
    "clf = DecisionTreeClassifier(ccp_alpha = 0.01)"
   ]
  },
  {
   "cell_type": "code",
   "execution_count": 145,
   "metadata": {},
   "outputs": [
    {
     "data": {
      "text/plain": [
       "DecisionTreeClassifier(ccp_alpha=0.01)"
      ]
     },
     "execution_count": 145,
     "metadata": {},
     "output_type": "execute_result"
    }
   ],
   "source": [
    "clf.fit(X_train, y_train)"
   ]
  },
  {
   "cell_type": "code",
   "execution_count": 146,
   "metadata": {},
   "outputs": [],
   "source": [
    "predTrain = clf.predict(X_train)"
   ]
  },
  {
   "cell_type": "code",
   "execution_count": 147,
   "metadata": {},
   "outputs": [
    {
     "data": {
      "text/plain": [
       "0.8097057699656095"
      ]
     },
     "execution_count": 147,
     "metadata": {},
     "output_type": "execute_result"
    }
   ],
   "source": [
    "accuracyTrain = metrics.accuracy_score(y_true = y_train, y_pred = predTrain)\n",
    "accuracyTrain"
   ]
  },
  {
   "cell_type": "code",
   "execution_count": 148,
   "metadata": {},
   "outputs": [],
   "source": [
    "predTest = clf.predict(X_val)"
   ]
  },
  {
   "cell_type": "code",
   "execution_count": 149,
   "metadata": {},
   "outputs": [
    {
     "data": {
      "text/plain": [
       "0.8052584670231729"
      ]
     },
     "execution_count": 149,
     "metadata": {},
     "output_type": "execute_result"
    }
   ],
   "source": [
    "accuracyTest = metrics.accuracy_score(y_true = y_val, y_pred = predTest)\n",
    "accuracyTest"
   ]
  },
  {
   "cell_type": "markdown",
   "metadata": {},
   "source": [
    "### The original accuracy for decision trees is 1 for training and 0.71 for testing. This tuning showed improvement by bringing down the training accuracy but increasing the testing accuracy. After tuning the training accuracy is 0.81 and the testing accuracy is 0.81"
   ]
  },
  {
   "cell_type": "code",
   "execution_count": 150,
   "metadata": {},
   "outputs": [
    {
     "data": {
      "text/plain": [
       "array([[1807,    0],\n",
       "       [ 437,    0]])"
      ]
     },
     "execution_count": 150,
     "metadata": {},
     "output_type": "execute_result"
    }
   ],
   "source": [
    "confusion_matrix(y_val, predTest)"
   ]
  },
  {
   "cell_type": "code",
   "execution_count": 151,
   "metadata": {},
   "outputs": [
    {
     "data": {
      "text/plain": [
       "0.0"
      ]
     },
     "execution_count": 151,
     "metadata": {},
     "output_type": "execute_result"
    }
   ],
   "source": [
    "sklearn.metrics.recall_score(y_true = y_val, y_pred = predTest)"
   ]
  },
  {
   "cell_type": "markdown",
   "metadata": {},
   "source": [
    "### Similar to what was seen before when tuning the decision tree model, the model classified no true or false positives. This results in the recall score being 0."
   ]
  },
  {
   "cell_type": "markdown",
   "metadata": {},
   "source": [
    "## Random Forest\n",
    "### For Random Forest, I will keep the optimal parameters found in the earlier pruning while also changing the max_features setting and the min_samples_leaf to see if this model can return a better result"
   ]
  },
  {
   "cell_type": "code",
   "execution_count": 152,
   "metadata": {},
   "outputs": [],
   "source": [
    "clf = RandomForestClassifier(max_depth = 8, min_samples_split = 2, n_estimators = 20)"
   ]
  },
  {
   "cell_type": "code",
   "execution_count": 155,
   "metadata": {},
   "outputs": [],
   "source": [
    "parameters = {\n",
    "    'max_features': ['auto', 'sqrt', 'log2'],\n",
    "    'min_samples_leaf' : [1, 2, 3, 4, 5, 6, 7, 8, 9, 10]\n",
    "}"
   ]
  },
  {
   "cell_type": "code",
   "execution_count": 156,
   "metadata": {},
   "outputs": [
    {
     "name": "stdout",
     "output_type": "stream",
     "text": [
      "BEST PARAMS: {'max_features': 'log2', 'min_samples_leaf': 8}\n",
      "\n",
      "0.809 (+/-0.002) for {'max_features': 'auto', 'min_samples_leaf': 1}\n",
      "0.809 (+/-0.005) for {'max_features': 'auto', 'min_samples_leaf': 2}\n",
      "0.808 (+/-0.004) for {'max_features': 'auto', 'min_samples_leaf': 3}\n",
      "0.808 (+/-0.003) for {'max_features': 'auto', 'min_samples_leaf': 4}\n",
      "0.808 (+/-0.004) for {'max_features': 'auto', 'min_samples_leaf': 5}\n",
      "0.81 (+/-0.002) for {'max_features': 'auto', 'min_samples_leaf': 6}\n",
      "0.809 (+/-0.004) for {'max_features': 'auto', 'min_samples_leaf': 7}\n",
      "0.809 (+/-0.003) for {'max_features': 'auto', 'min_samples_leaf': 8}\n",
      "0.809 (+/-0.004) for {'max_features': 'auto', 'min_samples_leaf': 9}\n",
      "0.81 (+/-0.002) for {'max_features': 'auto', 'min_samples_leaf': 10}\n",
      "0.808 (+/-0.002) for {'max_features': 'sqrt', 'min_samples_leaf': 1}\n",
      "0.808 (+/-0.006) for {'max_features': 'sqrt', 'min_samples_leaf': 2}\n",
      "0.81 (+/-0.003) for {'max_features': 'sqrt', 'min_samples_leaf': 3}\n",
      "0.808 (+/-0.002) for {'max_features': 'sqrt', 'min_samples_leaf': 4}\n",
      "0.809 (+/-0.002) for {'max_features': 'sqrt', 'min_samples_leaf': 5}\n",
      "0.807 (+/-0.004) for {'max_features': 'sqrt', 'min_samples_leaf': 6}\n",
      "0.81 (+/-0.001) for {'max_features': 'sqrt', 'min_samples_leaf': 7}\n",
      "0.809 (+/-0.003) for {'max_features': 'sqrt', 'min_samples_leaf': 8}\n",
      "0.81 (+/-0.003) for {'max_features': 'sqrt', 'min_samples_leaf': 9}\n",
      "0.809 (+/-0.002) for {'max_features': 'sqrt', 'min_samples_leaf': 10}\n",
      "0.81 (+/-0.007) for {'max_features': 'log2', 'min_samples_leaf': 1}\n",
      "0.809 (+/-0.004) for {'max_features': 'log2', 'min_samples_leaf': 2}\n",
      "0.808 (+/-0.004) for {'max_features': 'log2', 'min_samples_leaf': 3}\n",
      "0.809 (+/-0.004) for {'max_features': 'log2', 'min_samples_leaf': 4}\n",
      "0.808 (+/-0.004) for {'max_features': 'log2', 'min_samples_leaf': 5}\n",
      "0.808 (+/-0.003) for {'max_features': 'log2', 'min_samples_leaf': 6}\n",
      "0.809 (+/-0.004) for {'max_features': 'log2', 'min_samples_leaf': 7}\n",
      "0.811 (+/-0.001) for {'max_features': 'log2', 'min_samples_leaf': 8}\n",
      "0.809 (+/-0.003) for {'max_features': 'log2', 'min_samples_leaf': 9}\n",
      "0.81 (+/-0.004) for {'max_features': 'log2', 'min_samples_leaf': 10}\n"
     ]
    }
   ],
   "source": [
    "cv = GridSearchCV(clf, parameters, cv=5)\n",
    "cv.fit(X_train, y_train)\n",
    "\n",
    "print_results(cv)"
   ]
  },
  {
   "cell_type": "markdown",
   "metadata": {},
   "source": [
    "### The optimal parameters are found below:\n",
    "#### max_features: log2\n",
    "#### min_samples_leaf: 8"
   ]
  },
  {
   "cell_type": "code",
   "execution_count": 157,
   "metadata": {},
   "outputs": [],
   "source": [
    "clf = RandomForestClassifier(max_depth = 8, min_samples_split = 2, n_estimators = 20, max_features = 'log2', min_samples_leaf = 8)"
   ]
  },
  {
   "cell_type": "code",
   "execution_count": 158,
   "metadata": {},
   "outputs": [
    {
     "data": {
      "text/plain": [
       "RandomForestClassifier(max_depth=8, max_features='log2', min_samples_leaf=8,\n",
       "                       n_estimators=20)"
      ]
     },
     "execution_count": 158,
     "metadata": {},
     "output_type": "execute_result"
    }
   ],
   "source": [
    "clf.fit(X_train, y_train)"
   ]
  },
  {
   "cell_type": "code",
   "execution_count": 159,
   "metadata": {},
   "outputs": [],
   "source": [
    "predTrain = clf.predict(X_train)"
   ]
  },
  {
   "cell_type": "code",
   "execution_count": 160,
   "metadata": {},
   "outputs": [
    {
     "data": {
      "text/plain": [
       "0.8148643484906382"
      ]
     },
     "execution_count": 160,
     "metadata": {},
     "output_type": "execute_result"
    }
   ],
   "source": [
    "accuracyTrain = metrics.accuracy_score(y_true = y_train, y_pred = predTrain)\n",
    "accuracyTrain"
   ]
  },
  {
   "cell_type": "code",
   "execution_count": 161,
   "metadata": {},
   "outputs": [],
   "source": [
    "predTest = clf.predict(X_val)"
   ]
  },
  {
   "cell_type": "code",
   "execution_count": 162,
   "metadata": {},
   "outputs": [
    {
     "data": {
      "text/plain": [
       "0.8070409982174688"
      ]
     },
     "execution_count": 162,
     "metadata": {},
     "output_type": "execute_result"
    }
   ],
   "source": [
    "accuracyTest = metrics.accuracy_score(y_true = y_val, y_pred = predTest)\n",
    "accuracyTest"
   ]
  },
  {
   "cell_type": "markdown",
   "metadata": {},
   "source": [
    "### The training accuracy is 0.815 and the testing accuracy is 0.807. The training accuracy had a slight dip and the testing accuracy had a very slight increase from 0.805 to 0.807"
   ]
  },
  {
   "cell_type": "code",
   "execution_count": 163,
   "metadata": {},
   "outputs": [
    {
     "data": {
      "text/plain": [
       "array([[1806,    1],\n",
       "       [ 432,    5]])"
      ]
     },
     "execution_count": 163,
     "metadata": {},
     "output_type": "execute_result"
    }
   ],
   "source": [
    "confusion_matrix(y_val, predTest)"
   ]
  },
  {
   "cell_type": "code",
   "execution_count": 164,
   "metadata": {},
   "outputs": [
    {
     "data": {
      "text/plain": [
       "0.011441647597254004"
      ]
     },
     "execution_count": 164,
     "metadata": {},
     "output_type": "execute_result"
    }
   ],
   "source": [
    "sklearn.metrics.recall_score(y_true = y_val, y_pred = predTest)"
   ]
  },
  {
   "cell_type": "markdown",
   "metadata": {},
   "source": [
    "### The Recall score returned at 0.011, this is a very slight dip from the previous random forest recall of 0.0137."
   ]
  },
  {
   "cell_type": "markdown",
   "metadata": {},
   "source": [
    "## Adaboost Classifier\n",
    "### The two modification I will make to the Adaboost Classifier is to change the algorithm from the default algorithm and try different random states. "
   ]
  },
  {
   "cell_type": "code",
   "execution_count": 165,
   "metadata": {},
   "outputs": [],
   "source": [
    "clf = AdaBoostClassifier(learning_rate = 0.2, n_estimators = 50)"
   ]
  },
  {
   "cell_type": "code",
   "execution_count": 166,
   "metadata": {},
   "outputs": [],
   "source": [
    "parameters = {\n",
    "    'algorithm': ['SAMME', 'SAMME.R'],\n",
    "    'random_state' : [1, 2, 3, 4, 5, 6, 7, 8, 9, 10, 50, 1031]\n",
    "}"
   ]
  },
  {
   "cell_type": "code",
   "execution_count": 167,
   "metadata": {},
   "outputs": [
    {
     "name": "stdout",
     "output_type": "stream",
     "text": [
      "BEST PARAMS: {'algorithm': 'SAMME.R', 'random_state': 1}\n",
      "\n",
      "0.81 (+/-0.001) for {'algorithm': 'SAMME', 'random_state': 1}\n",
      "0.81 (+/-0.001) for {'algorithm': 'SAMME', 'random_state': 2}\n",
      "0.81 (+/-0.001) for {'algorithm': 'SAMME', 'random_state': 3}\n",
      "0.81 (+/-0.001) for {'algorithm': 'SAMME', 'random_state': 4}\n",
      "0.81 (+/-0.001) for {'algorithm': 'SAMME', 'random_state': 5}\n",
      "0.81 (+/-0.001) for {'algorithm': 'SAMME', 'random_state': 6}\n",
      "0.81 (+/-0.001) for {'algorithm': 'SAMME', 'random_state': 7}\n",
      "0.81 (+/-0.001) for {'algorithm': 'SAMME', 'random_state': 8}\n",
      "0.81 (+/-0.001) for {'algorithm': 'SAMME', 'random_state': 9}\n",
      "0.81 (+/-0.001) for {'algorithm': 'SAMME', 'random_state': 10}\n",
      "0.81 (+/-0.001) for {'algorithm': 'SAMME', 'random_state': 50}\n",
      "0.81 (+/-0.001) for {'algorithm': 'SAMME', 'random_state': 1031}\n",
      "0.81 (+/-0.001) for {'algorithm': 'SAMME.R', 'random_state': 1}\n",
      "0.81 (+/-0.001) for {'algorithm': 'SAMME.R', 'random_state': 2}\n",
      "0.81 (+/-0.001) for {'algorithm': 'SAMME.R', 'random_state': 3}\n",
      "0.81 (+/-0.001) for {'algorithm': 'SAMME.R', 'random_state': 4}\n",
      "0.81 (+/-0.001) for {'algorithm': 'SAMME.R', 'random_state': 5}\n",
      "0.81 (+/-0.001) for {'algorithm': 'SAMME.R', 'random_state': 6}\n",
      "0.81 (+/-0.001) for {'algorithm': 'SAMME.R', 'random_state': 7}\n",
      "0.81 (+/-0.001) for {'algorithm': 'SAMME.R', 'random_state': 8}\n",
      "0.81 (+/-0.001) for {'algorithm': 'SAMME.R', 'random_state': 9}\n",
      "0.81 (+/-0.001) for {'algorithm': 'SAMME.R', 'random_state': 10}\n",
      "0.81 (+/-0.001) for {'algorithm': 'SAMME.R', 'random_state': 50}\n",
      "0.81 (+/-0.001) for {'algorithm': 'SAMME.R', 'random_state': 1031}\n"
     ]
    }
   ],
   "source": [
    "cv = GridSearchCV(clf, parameters, cv=5)\n",
    "cv.fit(X_train, y_train)\n",
    "\n",
    "print_results(cv)"
   ]
  },
  {
   "cell_type": "code",
   "execution_count": 174,
   "metadata": {},
   "outputs": [],
   "source": [
    "clf = AdaBoostClassifier(learning_rate = 0.2, n_estimators = 50, algorithm = 'SAMME', random_state = 1)"
   ]
  },
  {
   "cell_type": "code",
   "execution_count": 175,
   "metadata": {},
   "outputs": [
    {
     "data": {
      "text/plain": [
       "AdaBoostClassifier(algorithm='SAMME', learning_rate=0.2, random_state=1)"
      ]
     },
     "execution_count": 175,
     "metadata": {},
     "output_type": "execute_result"
    }
   ],
   "source": [
    "clf.fit(X_train, y_train)"
   ]
  },
  {
   "cell_type": "code",
   "execution_count": 176,
   "metadata": {},
   "outputs": [],
   "source": [
    "predTrain = clf.predict(X_train)"
   ]
  },
  {
   "cell_type": "code",
   "execution_count": 177,
   "metadata": {},
   "outputs": [
    {
     "data": {
      "text/plain": [
       "0.8097057699656095"
      ]
     },
     "execution_count": 177,
     "metadata": {},
     "output_type": "execute_result"
    }
   ],
   "source": [
    "accuracyTrain = metrics.accuracy_score(y_true = y_train, y_pred = predTrain)\n",
    "accuracyTrain"
   ]
  },
  {
   "cell_type": "code",
   "execution_count": 178,
   "metadata": {},
   "outputs": [],
   "source": [
    "predTest = clf.predict(X_val)"
   ]
  },
  {
   "cell_type": "code",
   "execution_count": 179,
   "metadata": {},
   "outputs": [
    {
     "data": {
      "text/plain": [
       "0.8052584670231729"
      ]
     },
     "execution_count": 179,
     "metadata": {},
     "output_type": "execute_result"
    }
   ],
   "source": [
    "accuracyTest = metrics.accuracy_score(y_true = y_val, y_pred = predTest)\n",
    "accuracyTest"
   ]
  },
  {
   "cell_type": "markdown",
   "metadata": {},
   "source": [
    "### The training accuracy score is 0.8097 and the testing accuracy is 0.8052, there is a very slight dip previous accuracy scores"
   ]
  },
  {
   "cell_type": "code",
   "execution_count": 180,
   "metadata": {},
   "outputs": [
    {
     "data": {
      "text/plain": [
       "array([[1807,    0],\n",
       "       [ 437,    0]])"
      ]
     },
     "execution_count": 180,
     "metadata": {},
     "output_type": "execute_result"
    }
   ],
   "source": [
    "confusion_matrix(y_val, predTest)"
   ]
  },
  {
   "cell_type": "code",
   "execution_count": 181,
   "metadata": {},
   "outputs": [
    {
     "data": {
      "text/plain": [
       "0.0"
      ]
     },
     "execution_count": 181,
     "metadata": {},
     "output_type": "execute_result"
    }
   ],
   "source": [
    "sklearn.metrics.recall_score(y_true = y_val, y_pred = predTest)"
   ]
  },
  {
   "cell_type": "markdown",
   "metadata": {},
   "source": [
    "### The recall score is 0, this is due to the absence of true and false positive classifications. Which is slightly worse than the previous recall score because there was 1 true positive value"
   ]
  },
  {
   "cell_type": "markdown",
   "metadata": {},
   "source": [
    "## Gradient Boost\n",
    "### We will adjust the criterion and the minimum samples split to see if we can improve our gradient boost classifier"
   ]
  },
  {
   "cell_type": "code",
   "execution_count": 198,
   "metadata": {},
   "outputs": [],
   "source": [
    "clf = GradientBoostingClassifier(learning_rate = 0.08, n_estimators = 25)"
   ]
  },
  {
   "cell_type": "code",
   "execution_count": 188,
   "metadata": {},
   "outputs": [],
   "source": [
    "parameters = {\n",
    "    'criterion': ['friedman_mse', 'mse', 'mae'],\n",
    "    'min_samples_split' : [2, 3, 4, 5, 6, 7, 8, 9, 10]\n",
    "}"
   ]
  },
  {
   "cell_type": "code",
   "execution_count": 189,
   "metadata": {},
   "outputs": [
    {
     "name": "stdout",
     "output_type": "stream",
     "text": [
      "BEST PARAMS: {'criterion': 'friedman_mse', 'min_samples_split': 3}\n",
      "\n",
      "0.81 (+/-0.002) for {'criterion': 'friedman_mse', 'min_samples_split': 2}\n",
      "0.81 (+/-0.002) for {'criterion': 'friedman_mse', 'min_samples_split': 3}\n",
      "0.81 (+/-0.002) for {'criterion': 'friedman_mse', 'min_samples_split': 4}\n",
      "0.81 (+/-0.002) for {'criterion': 'friedman_mse', 'min_samples_split': 5}\n",
      "0.81 (+/-0.002) for {'criterion': 'friedman_mse', 'min_samples_split': 6}\n",
      "0.81 (+/-0.002) for {'criterion': 'friedman_mse', 'min_samples_split': 7}\n",
      "0.81 (+/-0.002) for {'criterion': 'friedman_mse', 'min_samples_split': 8}\n",
      "0.81 (+/-0.002) for {'criterion': 'friedman_mse', 'min_samples_split': 9}\n",
      "0.81 (+/-0.002) for {'criterion': 'friedman_mse', 'min_samples_split': 10}\n",
      "0.81 (+/-0.002) for {'criterion': 'mse', 'min_samples_split': 2}\n",
      "0.81 (+/-0.002) for {'criterion': 'mse', 'min_samples_split': 3}\n",
      "0.81 (+/-0.002) for {'criterion': 'mse', 'min_samples_split': 4}\n",
      "0.81 (+/-0.002) for {'criterion': 'mse', 'min_samples_split': 5}\n",
      "0.81 (+/-0.002) for {'criterion': 'mse', 'min_samples_split': 6}\n",
      "0.81 (+/-0.002) for {'criterion': 'mse', 'min_samples_split': 7}\n",
      "0.81 (+/-0.002) for {'criterion': 'mse', 'min_samples_split': 8}\n",
      "0.81 (+/-0.002) for {'criterion': 'mse', 'min_samples_split': 9}\n",
      "0.81 (+/-0.002) for {'criterion': 'mse', 'min_samples_split': 10}\n",
      "0.807 (+/-0.006) for {'criterion': 'mae', 'min_samples_split': 2}\n",
      "0.807 (+/-0.006) for {'criterion': 'mae', 'min_samples_split': 3}\n",
      "0.807 (+/-0.006) for {'criterion': 'mae', 'min_samples_split': 4}\n",
      "0.807 (+/-0.006) for {'criterion': 'mae', 'min_samples_split': 5}\n",
      "0.806 (+/-0.005) for {'criterion': 'mae', 'min_samples_split': 6}\n",
      "0.806 (+/-0.005) for {'criterion': 'mae', 'min_samples_split': 7}\n",
      "0.806 (+/-0.005) for {'criterion': 'mae', 'min_samples_split': 8}\n",
      "0.807 (+/-0.005) for {'criterion': 'mae', 'min_samples_split': 9}\n",
      "0.807 (+/-0.005) for {'criterion': 'mae', 'min_samples_split': 10}\n"
     ]
    }
   ],
   "source": [
    "cv = GridSearchCV(clf, parameters, cv=5)\n",
    "cv.fit(X_train, y_train)\n",
    "\n",
    "print_results(cv)"
   ]
  },
  {
   "cell_type": "code",
   "execution_count": 190,
   "metadata": {},
   "outputs": [],
   "source": [
    "clf = GradientBoostingClassifier(criterion ='friedman_mse', min_samples_split = 3, learning_rate = 0.08, n_estimators = 25)"
   ]
  },
  {
   "cell_type": "code",
   "execution_count": 191,
   "metadata": {},
   "outputs": [
    {
     "data": {
      "text/plain": [
       "GradientBoostingClassifier(learning_rate=0.08, min_samples_split=3,\n",
       "                           n_estimators=25)"
      ]
     },
     "execution_count": 191,
     "metadata": {},
     "output_type": "execute_result"
    }
   ],
   "source": [
    "clf.fit(X_train, y_train)"
   ]
  },
  {
   "cell_type": "code",
   "execution_count": 192,
   "metadata": {},
   "outputs": [],
   "source": [
    "predTrain = clf.predict(X_train)"
   ]
  },
  {
   "cell_type": "code",
   "execution_count": 193,
   "metadata": {},
   "outputs": [
    {
     "data": {
      "text/plain": [
       "0.8121895299961789"
      ]
     },
     "execution_count": 193,
     "metadata": {},
     "output_type": "execute_result"
    }
   ],
   "source": [
    "accuracyTrain = metrics.accuracy_score(y_true = y_train, y_pred = predTrain)\n",
    "accuracyTrain"
   ]
  },
  {
   "cell_type": "code",
   "execution_count": 194,
   "metadata": {},
   "outputs": [],
   "source": [
    "predTest = clf.predict(X_val)"
   ]
  },
  {
   "cell_type": "code",
   "execution_count": 195,
   "metadata": {},
   "outputs": [
    {
     "data": {
      "text/plain": [
       "0.8057040998217468"
      ]
     },
     "execution_count": 195,
     "metadata": {},
     "output_type": "execute_result"
    }
   ],
   "source": [
    "accuracyTest = metrics.accuracy_score(y_true = y_val, y_pred = predTest)\n",
    "accuracyTest"
   ]
  },
  {
   "cell_type": "markdown",
   "metadata": {},
   "source": [
    "### The training accuracy score is 0.812 and the testing accuracy is 0.806, there is a very slight dip previous accuracy scores"
   ]
  },
  {
   "cell_type": "code",
   "execution_count": 196,
   "metadata": {},
   "outputs": [
    {
     "data": {
      "text/plain": [
       "array([[1805,    2],\n",
       "       [ 434,    3]])"
      ]
     },
     "execution_count": 196,
     "metadata": {},
     "output_type": "execute_result"
    }
   ],
   "source": [
    "confusion_matrix(y_val, predTest)"
   ]
  },
  {
   "cell_type": "code",
   "execution_count": 197,
   "metadata": {},
   "outputs": [
    {
     "data": {
      "text/plain": [
       "0.006864988558352402"
      ]
     },
     "execution_count": 197,
     "metadata": {},
     "output_type": "execute_result"
    }
   ],
   "source": [
    "sklearn.metrics.recall_score(y_true = y_val, y_pred = predTest)"
   ]
  },
  {
   "cell_type": "markdown",
   "metadata": {},
   "source": [
    "### The recall score is 0.0069."
   ]
  },
  {
   "cell_type": "markdown",
   "metadata": {},
   "source": [
    "# Q9"
   ]
  },
  {
   "cell_type": "markdown",
   "metadata": {},
   "source": [
    "- Choose the best fitted model for each of teh classifiers (1 model for each of Decision Tree, Random Forest, Adaboost, and Gradient Boosting)\n",
    "- Create a table summarizing results on the test set:\n",
    "    - Create confusion matrix for each model\n",
    "    - Either using the confusion matrix or the methods in `sklearn.metrics` get the following metrics on the testing set:\n",
    "        - Recall (Sensitivity)\n",
    "        - Specificity\n",
    "        - Precision\n",
    "        - Balanced Accuracy\n",
    "        - F1 Score"
   ]
  },
  {
   "cell_type": "markdown",
   "metadata": {},
   "source": [
    "## Decision Tree\n",
    "### When I tuned the decision tree model, I ended up with strange results where there were no false or true positive values, so I will use the default parameters for my final decision tree model."
   ]
  },
  {
   "cell_type": "code",
   "execution_count": 200,
   "metadata": {},
   "outputs": [],
   "source": [
    "DT = DecisionTreeClassifier()"
   ]
  },
  {
   "cell_type": "code",
   "execution_count": 201,
   "metadata": {},
   "outputs": [
    {
     "data": {
      "text/plain": [
       "DecisionTreeClassifier()"
      ]
     },
     "execution_count": 201,
     "metadata": {},
     "output_type": "execute_result"
    }
   ],
   "source": [
    "DT.fit(X_train, y_train)"
   ]
  },
  {
   "cell_type": "code",
   "execution_count": 202,
   "metadata": {},
   "outputs": [],
   "source": [
    "predTrain = DT.predict(X_train)"
   ]
  },
  {
   "cell_type": "code",
   "execution_count": 203,
   "metadata": {},
   "outputs": [
    {
     "data": {
      "text/plain": [
       "1.0"
      ]
     },
     "execution_count": 203,
     "metadata": {},
     "output_type": "execute_result"
    }
   ],
   "source": [
    "accuracyTrain = metrics.accuracy_score(y_true = y_train, y_pred = predTrain)\n",
    "accuracyTrain"
   ]
  },
  {
   "cell_type": "code",
   "execution_count": 204,
   "metadata": {},
   "outputs": [],
   "source": [
    "predTest = DT.predict(X_val)"
   ]
  },
  {
   "cell_type": "code",
   "execution_count": 205,
   "metadata": {},
   "outputs": [
    {
     "data": {
      "text/plain": [
       "0.7018716577540107"
      ]
     },
     "execution_count": 205,
     "metadata": {},
     "output_type": "execute_result"
    }
   ],
   "source": [
    "accuracyTest = metrics.accuracy_score(y_true = y_val, y_pred = predTest)\n",
    "accuracyTest"
   ]
  },
  {
   "cell_type": "code",
   "execution_count": 206,
   "metadata": {},
   "outputs": [
    {
     "data": {
      "text/plain": [
       "array([[1466,  341],\n",
       "       [ 328,  109]])"
      ]
     },
     "execution_count": 206,
     "metadata": {},
     "output_type": "execute_result"
    }
   ],
   "source": [
    "confusion_matrix(y_val, predTest)"
   ]
  },
  {
   "cell_type": "code",
   "execution_count": 207,
   "metadata": {},
   "outputs": [
    {
     "data": {
      "text/plain": [
       "0.2494279176201373"
      ]
     },
     "execution_count": 207,
     "metadata": {},
     "output_type": "execute_result"
    }
   ],
   "source": [
    "sklearn.metrics.recall_score(y_true = y_val, y_pred = predTest)"
   ]
  },
  {
   "cell_type": "code",
   "execution_count": 208,
   "metadata": {},
   "outputs": [
    {
     "data": {
      "text/plain": [
       "0.811289429994466"
      ]
     },
     "execution_count": 208,
     "metadata": {},
     "output_type": "execute_result"
    }
   ],
   "source": [
    "tn, fp, fn, tp = confusion_matrix(y_true = y_val, y_pred = predTest).ravel()\n",
    "specificity = tn / (tn+fp)\n",
    "specificity"
   ]
  },
  {
   "cell_type": "code",
   "execution_count": 209,
   "metadata": {},
   "outputs": [
    {
     "data": {
      "text/plain": [
       "0.24222222222222223"
      ]
     },
     "execution_count": 209,
     "metadata": {},
     "output_type": "execute_result"
    }
   ],
   "source": [
    "metrics.precision_score(y_true = y_val, y_pred = predTest)"
   ]
  },
  {
   "cell_type": "code",
   "execution_count": 210,
   "metadata": {},
   "outputs": [
    {
     "data": {
      "text/plain": [
       "0.5303586738073016"
      ]
     },
     "execution_count": 210,
     "metadata": {},
     "output_type": "execute_result"
    }
   ],
   "source": [
    "metrics.balanced_accuracy_score(y_true = y_val, y_pred = predTest, sample_weight=None, adjusted=False)"
   ]
  },
  {
   "cell_type": "code",
   "execution_count": 211,
   "metadata": {},
   "outputs": [
    {
     "data": {
      "text/plain": [
       "0.245772266065389"
      ]
     },
     "execution_count": 211,
     "metadata": {},
     "output_type": "execute_result"
    }
   ],
   "source": [
    "sklearn.metrics.f1_score(y_true = y_val, y_pred = predTest)"
   ]
  },
  {
   "cell_type": "markdown",
   "metadata": {},
   "source": [
    "## Random Forest"
   ]
  },
  {
   "cell_type": "code",
   "execution_count": 212,
   "metadata": {},
   "outputs": [],
   "source": [
    "RF = RandomForestClassifier(max_depth = 8, min_samples_split = 2, n_estimators = 20, max_features = 'log2', min_samples_leaf = 8)"
   ]
  },
  {
   "cell_type": "code",
   "execution_count": 213,
   "metadata": {},
   "outputs": [
    {
     "data": {
      "text/plain": [
       "RandomForestClassifier(max_depth=8, max_features='log2', min_samples_leaf=8,\n",
       "                       n_estimators=20)"
      ]
     },
     "execution_count": 213,
     "metadata": {},
     "output_type": "execute_result"
    }
   ],
   "source": [
    "RF.fit(X_train, y_train)"
   ]
  },
  {
   "cell_type": "code",
   "execution_count": 214,
   "metadata": {},
   "outputs": [],
   "source": [
    "predTrain = RF.predict(X_train)"
   ]
  },
  {
   "cell_type": "code",
   "execution_count": 215,
   "metadata": {},
   "outputs": [
    {
     "data": {
      "text/plain": [
       "0.8169659915934276"
      ]
     },
     "execution_count": 215,
     "metadata": {},
     "output_type": "execute_result"
    }
   ],
   "source": [
    "accuracyTrain = metrics.accuracy_score(y_true = y_train, y_pred = predTrain)\n",
    "accuracyTrain"
   ]
  },
  {
   "cell_type": "code",
   "execution_count": 217,
   "metadata": {},
   "outputs": [],
   "source": [
    "predTest = RF.predict(X_val)"
   ]
  },
  {
   "cell_type": "code",
   "execution_count": 218,
   "metadata": {},
   "outputs": [
    {
     "data": {
      "text/plain": [
       "0.8061497326203209"
      ]
     },
     "execution_count": 218,
     "metadata": {},
     "output_type": "execute_result"
    }
   ],
   "source": [
    "accuracyTest = metrics.accuracy_score(y_true = y_val, y_pred = predTest)\n",
    "accuracyTest"
   ]
  },
  {
   "cell_type": "code",
   "execution_count": 219,
   "metadata": {},
   "outputs": [
    {
     "data": {
      "text/plain": [
       "array([[1804,    3],\n",
       "       [ 432,    5]])"
      ]
     },
     "execution_count": 219,
     "metadata": {},
     "output_type": "execute_result"
    }
   ],
   "source": [
    "confusion_matrix(y_val, predTest)"
   ]
  },
  {
   "cell_type": "code",
   "execution_count": 220,
   "metadata": {},
   "outputs": [
    {
     "data": {
      "text/plain": [
       "0.011441647597254004"
      ]
     },
     "execution_count": 220,
     "metadata": {},
     "output_type": "execute_result"
    }
   ],
   "source": [
    "sklearn.metrics.recall_score(y_true = y_val, y_pred = predTest)"
   ]
  },
  {
   "cell_type": "code",
   "execution_count": 221,
   "metadata": {},
   "outputs": [
    {
     "data": {
      "text/plain": [
       "0.9983397897066962"
      ]
     },
     "execution_count": 221,
     "metadata": {},
     "output_type": "execute_result"
    }
   ],
   "source": [
    "tn, fp, fn, tp = confusion_matrix(y_true = y_val, y_pred = predTest).ravel()\n",
    "specificity = tn / (tn+fp)\n",
    "specificity"
   ]
  },
  {
   "cell_type": "code",
   "execution_count": 222,
   "metadata": {},
   "outputs": [
    {
     "data": {
      "text/plain": [
       "0.625"
      ]
     },
     "execution_count": 222,
     "metadata": {},
     "output_type": "execute_result"
    }
   ],
   "source": [
    "metrics.precision_score(y_true = y_val, y_pred = predTest)"
   ]
  },
  {
   "cell_type": "code",
   "execution_count": 223,
   "metadata": {},
   "outputs": [
    {
     "data": {
      "text/plain": [
       "0.5048907186519751"
      ]
     },
     "execution_count": 223,
     "metadata": {},
     "output_type": "execute_result"
    }
   ],
   "source": [
    "metrics.balanced_accuracy_score(y_true = y_val, y_pred = predTest, sample_weight=None, adjusted=False)"
   ]
  },
  {
   "cell_type": "code",
   "execution_count": 224,
   "metadata": {},
   "outputs": [
    {
     "data": {
      "text/plain": [
       "0.02247191011235955"
      ]
     },
     "execution_count": 224,
     "metadata": {},
     "output_type": "execute_result"
    }
   ],
   "source": [
    "sklearn.metrics.f1_score(y_true = y_val, y_pred = predTest)"
   ]
  },
  {
   "cell_type": "markdown",
   "metadata": {},
   "source": [
    "## Adaboost Classifier"
   ]
  },
  {
   "cell_type": "code",
   "execution_count": 225,
   "metadata": {},
   "outputs": [],
   "source": [
    "AB = AdaBoostClassifier(learning_rate = 0.2, n_estimators = 50)"
   ]
  },
  {
   "cell_type": "code",
   "execution_count": 226,
   "metadata": {},
   "outputs": [
    {
     "data": {
      "text/plain": [
       "AdaBoostClassifier(learning_rate=0.2)"
      ]
     },
     "execution_count": 226,
     "metadata": {},
     "output_type": "execute_result"
    }
   ],
   "source": [
    "AB.fit(X_train, y_train)"
   ]
  },
  {
   "cell_type": "code",
   "execution_count": 227,
   "metadata": {},
   "outputs": [],
   "source": [
    "predTrain = AB.predict(X_train)"
   ]
  },
  {
   "cell_type": "code",
   "execution_count": 228,
   "metadata": {},
   "outputs": [
    {
     "data": {
      "text/plain": [
       "0.8098968284294994"
      ]
     },
     "execution_count": 228,
     "metadata": {},
     "output_type": "execute_result"
    }
   ],
   "source": [
    "accuracyTrain = metrics.accuracy_score(y_true = y_train, y_pred = predTrain)\n",
    "accuracyTrain"
   ]
  },
  {
   "cell_type": "code",
   "execution_count": 229,
   "metadata": {},
   "outputs": [],
   "source": [
    "predTest = AB.predict(X_val)"
   ]
  },
  {
   "cell_type": "code",
   "execution_count": 230,
   "metadata": {},
   "outputs": [
    {
     "data": {
      "text/plain": [
       "0.8057040998217468"
      ]
     },
     "execution_count": 230,
     "metadata": {},
     "output_type": "execute_result"
    }
   ],
   "source": [
    "accuracyTest = metrics.accuracy_score(y_true = y_val, y_pred = predTest)\n",
    "accuracyTest"
   ]
  },
  {
   "cell_type": "code",
   "execution_count": 231,
   "metadata": {},
   "outputs": [
    {
     "data": {
      "text/plain": [
       "array([[1807,    0],\n",
       "       [ 436,    1]])"
      ]
     },
     "execution_count": 231,
     "metadata": {},
     "output_type": "execute_result"
    }
   ],
   "source": [
    "confusion_matrix(y_val, predTest)"
   ]
  },
  {
   "cell_type": "code",
   "execution_count": 232,
   "metadata": {},
   "outputs": [
    {
     "data": {
      "text/plain": [
       "0.002288329519450801"
      ]
     },
     "execution_count": 232,
     "metadata": {},
     "output_type": "execute_result"
    }
   ],
   "source": [
    "sklearn.metrics.recall_score(y_true = y_val, y_pred = predTest)"
   ]
  },
  {
   "cell_type": "code",
   "execution_count": 233,
   "metadata": {},
   "outputs": [
    {
     "data": {
      "text/plain": [
       "1.0"
      ]
     },
     "execution_count": 233,
     "metadata": {},
     "output_type": "execute_result"
    }
   ],
   "source": [
    "tn, fp, fn, tp = confusion_matrix(y_true = y_val, y_pred = predTest).ravel()\n",
    "specificity = tn / (tn+fp)\n",
    "specificity"
   ]
  },
  {
   "cell_type": "code",
   "execution_count": 234,
   "metadata": {},
   "outputs": [
    {
     "data": {
      "text/plain": [
       "1.0"
      ]
     },
     "execution_count": 234,
     "metadata": {},
     "output_type": "execute_result"
    }
   ],
   "source": [
    "metrics.precision_score(y_true = y_val, y_pred = predTest)"
   ]
  },
  {
   "cell_type": "code",
   "execution_count": 235,
   "metadata": {},
   "outputs": [
    {
     "data": {
      "text/plain": [
       "0.5011441647597255"
      ]
     },
     "execution_count": 235,
     "metadata": {},
     "output_type": "execute_result"
    }
   ],
   "source": [
    "metrics.balanced_accuracy_score(y_true = y_val, y_pred = predTest, sample_weight=None, adjusted=False)"
   ]
  },
  {
   "cell_type": "code",
   "execution_count": 236,
   "metadata": {},
   "outputs": [
    {
     "data": {
      "text/plain": [
       "0.0045662100456621"
      ]
     },
     "execution_count": 236,
     "metadata": {},
     "output_type": "execute_result"
    }
   ],
   "source": [
    "sklearn.metrics.f1_score(y_true = y_val, y_pred = predTest)"
   ]
  },
  {
   "cell_type": "markdown",
   "metadata": {},
   "source": [
    "## Gradient Boosting"
   ]
  },
  {
   "cell_type": "code",
   "execution_count": 237,
   "metadata": {},
   "outputs": [],
   "source": [
    "GB = GradientBoostingClassifier(criterion ='friedman_mse', min_samples_split = 3, learning_rate = 0.08, n_estimators = 25)"
   ]
  },
  {
   "cell_type": "code",
   "execution_count": 238,
   "metadata": {},
   "outputs": [
    {
     "data": {
      "text/plain": [
       "GradientBoostingClassifier(learning_rate=0.08, min_samples_split=3,\n",
       "                           n_estimators=25)"
      ]
     },
     "execution_count": 238,
     "metadata": {},
     "output_type": "execute_result"
    }
   ],
   "source": [
    "GB.fit(X_train, y_train)"
   ]
  },
  {
   "cell_type": "code",
   "execution_count": 239,
   "metadata": {},
   "outputs": [],
   "source": [
    "predTrain = GB.predict(X_train)"
   ]
  },
  {
   "cell_type": "code",
   "execution_count": 240,
   "metadata": {},
   "outputs": [
    {
     "data": {
      "text/plain": [
       "0.8121895299961789"
      ]
     },
     "execution_count": 240,
     "metadata": {},
     "output_type": "execute_result"
    }
   ],
   "source": [
    "accuracyTrain = metrics.accuracy_score(y_true = y_train, y_pred = predTrain)\n",
    "accuracyTrain"
   ]
  },
  {
   "cell_type": "code",
   "execution_count": 241,
   "metadata": {},
   "outputs": [],
   "source": [
    "predTest = GB.predict(X_val)"
   ]
  },
  {
   "cell_type": "code",
   "execution_count": 242,
   "metadata": {},
   "outputs": [
    {
     "data": {
      "text/plain": [
       "0.8057040998217468"
      ]
     },
     "execution_count": 242,
     "metadata": {},
     "output_type": "execute_result"
    }
   ],
   "source": [
    "accuracyTest = metrics.accuracy_score(y_true = y_val, y_pred = predTest)\n",
    "accuracyTest"
   ]
  },
  {
   "cell_type": "code",
   "execution_count": 243,
   "metadata": {},
   "outputs": [
    {
     "data": {
      "text/plain": [
       "array([[1805,    2],\n",
       "       [ 434,    3]])"
      ]
     },
     "execution_count": 243,
     "metadata": {},
     "output_type": "execute_result"
    }
   ],
   "source": [
    "confusion_matrix(y_val, predTest)"
   ]
  },
  {
   "cell_type": "code",
   "execution_count": 244,
   "metadata": {},
   "outputs": [
    {
     "data": {
      "text/plain": [
       "0.006864988558352402"
      ]
     },
     "execution_count": 244,
     "metadata": {},
     "output_type": "execute_result"
    }
   ],
   "source": [
    "sklearn.metrics.recall_score(y_true = y_val, y_pred = predTest)"
   ]
  },
  {
   "cell_type": "code",
   "execution_count": 245,
   "metadata": {},
   "outputs": [
    {
     "data": {
      "text/plain": [
       "0.9988931931377975"
      ]
     },
     "execution_count": 245,
     "metadata": {},
     "output_type": "execute_result"
    }
   ],
   "source": [
    "tn, fp, fn, tp = confusion_matrix(y_true = y_val, y_pred = predTest).ravel()\n",
    "specificity = tn / (tn+fp)\n",
    "specificity"
   ]
  },
  {
   "cell_type": "code",
   "execution_count": 246,
   "metadata": {},
   "outputs": [
    {
     "data": {
      "text/plain": [
       "0.6"
      ]
     },
     "execution_count": 246,
     "metadata": {},
     "output_type": "execute_result"
    }
   ],
   "source": [
    "metrics.precision_score(y_true = y_val, y_pred = predTest)"
   ]
  },
  {
   "cell_type": "code",
   "execution_count": 247,
   "metadata": {},
   "outputs": [
    {
     "data": {
      "text/plain": [
       "0.5028790908480749"
      ]
     },
     "execution_count": 247,
     "metadata": {},
     "output_type": "execute_result"
    }
   ],
   "source": [
    "metrics.balanced_accuracy_score(y_true = y_val, y_pred = predTest, sample_weight=None, adjusted=False)"
   ]
  },
  {
   "cell_type": "code",
   "execution_count": 271,
   "metadata": {},
   "outputs": [
    {
     "data": {
      "text/plain": [
       "0.013574660633484162"
      ]
     },
     "execution_count": 271,
     "metadata": {},
     "output_type": "execute_result"
    }
   ],
   "source": [
    "sklearn.metrics.f1_score(y_true = y_val, y_pred = predTest)"
   ]
  },
  {
   "cell_type": "code",
   "execution_count": 272,
   "metadata": {},
   "outputs": [],
   "source": [
    "table = ({'Decision Tree': [0.71, 0.25, 0.81, 0.24, 0.53, 0.25], \n",
    "          'Random Forest': [0.81, 0.01, 0.998, 0.625, 0.5, 0.02], \n",
    "          'Adaboost': [0.81, 0.002, 1, 1, 0.5, 0.005], \n",
    "          'Gradient Boosting': [0.81, 0.007, 0.999, 0.6, 0.5, 0.014]})\n",
    "\n",
    "#index:['Testing Accuracy', 'Recall', 'Specificity', 'Precision', 'Balanced Accuracy', 'F1']\n",
    "df = pd.DataFrame(data = table) \n"
   ]
  },
  {
   "cell_type": "code",
   "execution_count": 276,
   "metadata": {},
   "outputs": [
    {
     "data": {
      "text/html": [
       "<div>\n",
       "<style scoped>\n",
       "    .dataframe tbody tr th:only-of-type {\n",
       "        vertical-align: middle;\n",
       "    }\n",
       "\n",
       "    .dataframe tbody tr th {\n",
       "        vertical-align: top;\n",
       "    }\n",
       "\n",
       "    .dataframe thead th {\n",
       "        text-align: right;\n",
       "    }\n",
       "</style>\n",
       "<table border=\"1\" class=\"dataframe\">\n",
       "  <thead>\n",
       "    <tr style=\"text-align: right;\">\n",
       "      <th></th>\n",
       "      <th>Testing Accuracy</th>\n",
       "      <th>Recall</th>\n",
       "      <th>Specificity</th>\n",
       "      <th>Precision</th>\n",
       "      <th>Balanced Accuracy</th>\n",
       "      <th>F1</th>\n",
       "    </tr>\n",
       "  </thead>\n",
       "  <tbody>\n",
       "    <tr>\n",
       "      <th>Decision Tree</th>\n",
       "      <td>0.71</td>\n",
       "      <td>0.250</td>\n",
       "      <td>0.810</td>\n",
       "      <td>0.240</td>\n",
       "      <td>0.53</td>\n",
       "      <td>0.250</td>\n",
       "    </tr>\n",
       "    <tr>\n",
       "      <th>Random Forest</th>\n",
       "      <td>0.81</td>\n",
       "      <td>0.010</td>\n",
       "      <td>0.998</td>\n",
       "      <td>0.625</td>\n",
       "      <td>0.50</td>\n",
       "      <td>0.020</td>\n",
       "    </tr>\n",
       "    <tr>\n",
       "      <th>Adaboost</th>\n",
       "      <td>0.81</td>\n",
       "      <td>0.002</td>\n",
       "      <td>1.000</td>\n",
       "      <td>1.000</td>\n",
       "      <td>0.50</td>\n",
       "      <td>0.005</td>\n",
       "    </tr>\n",
       "    <tr>\n",
       "      <th>Gradient Boosting</th>\n",
       "      <td>0.81</td>\n",
       "      <td>0.007</td>\n",
       "      <td>0.999</td>\n",
       "      <td>0.600</td>\n",
       "      <td>0.50</td>\n",
       "      <td>0.014</td>\n",
       "    </tr>\n",
       "  </tbody>\n",
       "</table>\n",
       "</div>"
      ],
      "text/plain": [
       "                   Testing Accuracy  Recall  Specificity  Precision  \\\n",
       "Decision Tree                  0.71   0.250        0.810      0.240   \n",
       "Random Forest                  0.81   0.010        0.998      0.625   \n",
       "Adaboost                       0.81   0.002        1.000      1.000   \n",
       "Gradient Boosting              0.81   0.007        0.999      0.600   \n",
       "\n",
       "                   Balanced Accuracy     F1  \n",
       "Decision Tree                   0.53  0.250  \n",
       "Random Forest                   0.50  0.020  \n",
       "Adaboost                        0.50  0.005  \n",
       "Gradient Boosting               0.50  0.014  "
      ]
     },
     "execution_count": 276,
     "metadata": {},
     "output_type": "execute_result"
    }
   ],
   "source": [
    "df.index=['Testing Accuracy', 'Recall', 'Specificity', 'Precision', 'Balanced Accuracy', 'F1']\n",
    "df.T"
   ]
  },
  {
   "cell_type": "markdown",
   "metadata": {},
   "source": [
    "# Q10"
   ]
  },
  {
   "cell_type": "markdown",
   "metadata": {},
   "source": [
    "- Choose a winner model.\n",
    "- Make predictions on the hold-out set whose outcome variables are not known (data we imported as: `loans_outcome_not_known`).\n",
    "- Write the code below to make predictions with this model. At the end it should output the prediction of the labels.\n",
    "- Save the predictions in a csv file\n",
    "- There should be a single column in the csv file.\n",
    "- The column header should be 'predictions'\n",
    "- Your prediction performance will be calculated and a ranking will be performed "
   ]
  },
  {
   "cell_type": "markdown",
   "metadata": {},
   "source": [
    "### I will choose my random forest as a winner because it is among the highest in terms of accuracy and balanced accuracy and the other statistics are more balanced than some of the other models."
   ]
  },
  {
   "cell_type": "code",
   "execution_count": 277,
   "metadata": {},
   "outputs": [],
   "source": [
    "RF = RandomForestClassifier(max_depth = 8, min_samples_split = 2, n_estimators = 20, max_features = 'log2', min_samples_leaf = 8)"
   ]
  },
  {
   "cell_type": "code",
   "execution_count": 278,
   "metadata": {},
   "outputs": [
    {
     "data": {
      "text/plain": [
       "RandomForestClassifier(max_depth=8, max_features='log2', min_samples_leaf=8,\n",
       "                       n_estimators=20)"
      ]
     },
     "execution_count": 278,
     "metadata": {},
     "output_type": "execute_result"
    }
   ],
   "source": [
    "RF.fit(X_train, y_train)"
   ]
  },
  {
   "cell_type": "code",
   "execution_count": 279,
   "metadata": {},
   "outputs": [],
   "source": [
    "predTrain = RF.predict(X_train)"
   ]
  },
  {
   "cell_type": "code",
   "execution_count": 284,
   "metadata": {},
   "outputs": [
    {
     "data": {
      "text/plain": [
       "array([0, 0, 0, ..., 0, 0, 0])"
      ]
     },
     "execution_count": 284,
     "metadata": {},
     "output_type": "execute_result"
    }
   ],
   "source": [
    "Predictions = RF.predict(loans_Unknown)\n",
    "Predictions"
   ]
  },
  {
   "cell_type": "code",
   "execution_count": 286,
   "metadata": {},
   "outputs": [],
   "source": [
    "FinalPred = pd.DataFrame(data = Predictions, columns =['predictions'])"
   ]
  },
  {
   "cell_type": "code",
   "execution_count": 288,
   "metadata": {},
   "outputs": [],
   "source": [
    "FinalPred.to_csv('predictions.csv')\n"
   ]
  },
  {
   "cell_type": "markdown",
   "metadata": {},
   "source": [
    "# Great Job!"
   ]
  }
 ],
 "metadata": {
  "kernelspec": {
   "display_name": "Python 3",
   "language": "python",
   "name": "python3"
  },
  "language_info": {
   "codemirror_mode": {
    "name": "ipython",
    "version": 3
   },
   "file_extension": ".py",
   "mimetype": "text/x-python",
   "name": "python",
   "nbconvert_exporter": "python",
   "pygments_lexer": "ipython3",
   "version": "3.8.3"
  },
  "toc": {
   "base_numbering": 1,
   "nav_menu": {},
   "number_sections": false,
   "sideBar": false,
   "skip_h1_title": false,
   "title_cell": "Table of Contents",
   "title_sidebar": "Contents",
   "toc_cell": false,
   "toc_position": {},
   "toc_section_display": false,
   "toc_window_display": false
  }
 },
 "nbformat": 4,
 "nbformat_minor": 1
}
