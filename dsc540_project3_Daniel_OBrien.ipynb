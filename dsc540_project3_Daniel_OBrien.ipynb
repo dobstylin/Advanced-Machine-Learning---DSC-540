{
 "cells": [
  {
   "cell_type": "markdown",
   "metadata": {},
   "source": [
    "# DSC540 Project 3"
   ]
  },
  {
   "cell_type": "markdown",
   "metadata": {},
   "source": [
    "DePaul University  \n",
    "Ilyas Ustun, PhD  \n",
    "Chicago, IL  "
   ]
  },
  {
   "cell_type": "markdown",
   "metadata": {},
   "source": [
    "## Rules\n",
    "- Do not change the code already present in the notebook.\n",
    "- Write your code under the corresponding questions where you see `# Code here`. You are encouraged to use more than one cell.\n",
    "- Provide explanation in a separate Markdown formatted cell. \n",
    "- You can change the cell type by:\n",
    "    - Clicking on the outer area of the cell type you want to change,\n",
    "    - Go to the top, and select either Code or Markdown from the dropdown menu.\n",
    "- Be concise in your explanations and conclusions.\n",
    "- Write clear code and provide explanation to functions you create by using `#` comment sign.\n",
    "- For built-in function and methods you use from libraries, provide a very brief explanation of what they do.\n",
    "- Try to answer the questions by yourself. Use documentation from pandas, sklearn and similar libraries to solve the problem.\n",
    "- If you are stuck you can use different resources. Do not find an identical project and copy paste the solutions. \n",
    "- Write your name before beginning to code.\n",
    "\n",
    "\n",
    "Important:  \n",
    "- **Do NOT share the solutions with other people.**\n",
    "- **Do NOT share the solutions on the internet including but not limited to Github and other platforms.**\n",
    "- Sign the Honor Pledge below indicating that you have agreed to these rules listed here, and any other ethical and honor rules as required by the university.\n",
    "\n",
    "\n",
    "\n",
    "- **Deliverables:**\n",
    "    1. The Python Jupyter notebook file named properly with your name. Example: dsc540_project1_john_doe.ipynb\n",
    "    2. The HTML output of this code notebook names the same way. Example: dsc540_project1_john_doe.html\n",
    "        - File -> Download as -> HTML   \n",
    "\n",
    "Good Luck!"
   ]
  },
  {
   "cell_type": "markdown",
   "metadata": {},
   "source": [
    "### Daniel O'Brien"
   ]
  },
  {
   "cell_type": "markdown",
   "metadata": {},
   "source": [
    "**Honor Pledge:**  \n",
    "I pledge on my honor that I, **Daniel O'Brien**, have followed the rules listed above, that I have not given or received any unauthorized assistance on this assignment. \n"
   ]
  },
  {
   "cell_type": "markdown",
   "metadata": {},
   "source": [
    "\n",
    "## Project Description\n",
    "\n",
    "In this project we will be analyzing CO and NOX gas emissions from a power plant. The variables, their meanings and some statistics are given in the table below."
   ]
  },
  {
   "cell_type": "markdown",
   "metadata": {},
   "source": [
    "![PowerPlantEmissionsFeaturesTable](PowerPlantEmissionsFeaturesTable.PNG)"
   ]
  },
  {
   "cell_type": "markdown",
   "metadata": {},
   "source": [
    "## Import Libraries\n",
    "\n",
    "**Import the usual libraries for pandas and plotting, and sklearn.**"
   ]
  },
  {
   "cell_type": "code",
   "execution_count": 1,
   "metadata": {},
   "outputs": [],
   "source": [
    "import pandas as pd\n",
    "import numpy as np\n",
    "import matplotlib.pyplot as plt\n",
    "import seaborn as sns"
   ]
  },
  {
   "cell_type": "code",
   "execution_count": 2,
   "metadata": {},
   "outputs": [
    {
     "data": {
      "text/plain": [
       "'0.23.1'"
      ]
     },
     "execution_count": 2,
     "metadata": {},
     "output_type": "execute_result"
    }
   ],
   "source": [
    "import sklearn\n",
    "sklearn.__version__"
   ]
  },
  {
   "cell_type": "code",
   "execution_count": 3,
   "metadata": {},
   "outputs": [],
   "source": [
    "pd.set_option('display.max_columns', 100)"
   ]
  },
  {
   "cell_type": "markdown",
   "metadata": {},
   "source": [
    "### These are the packages I used"
   ]
  },
  {
   "cell_type": "code",
   "execution_count": 4,
   "metadata": {},
   "outputs": [],
   "source": [
    "import pandas as pd\n",
    "import seaborn as sns\n",
    "import matplotlib.pyplot as plt\n",
    "from sklearn.model_selection import train_test_split\n",
    "from sklearn.preprocessing import StandardScaler\n",
    "from sklearn.linear_model import LinearRegression\n",
    "from sklearn import metrics\n",
    "import math\n",
    "from sklearn.model_selection import GridSearchCV\n",
    "from sklearn.svm import SVR\n",
    "from sklearn.metrics import confusion_matrix\n"
   ]
  },
  {
   "cell_type": "markdown",
   "metadata": {},
   "source": [
    "## Q1 [10]\n",
    "- Read in the dataset\n",
    "- How many rows and variables are there?\n"
   ]
  },
  {
   "cell_type": "markdown",
   "metadata": {},
   "source": [
    "## Get the Data\n",
    "\n",
    "**Use pandas to read in the datasets as a dataframe.**"
   ]
  },
  {
   "cell_type": "code",
   "execution_count": 5,
   "metadata": {},
   "outputs": [],
   "source": [
    "df = pd.read_csv('gas_emissions.csv')"
   ]
  },
  {
   "cell_type": "code",
   "execution_count": 6,
   "metadata": {},
   "outputs": [
    {
     "data": {
      "text/html": [
       "<div>\n",
       "<style scoped>\n",
       "    .dataframe tbody tr th:only-of-type {\n",
       "        vertical-align: middle;\n",
       "    }\n",
       "\n",
       "    .dataframe tbody tr th {\n",
       "        vertical-align: top;\n",
       "    }\n",
       "\n",
       "    .dataframe thead th {\n",
       "        text-align: right;\n",
       "    }\n",
       "</style>\n",
       "<table border=\"1\" class=\"dataframe\">\n",
       "  <thead>\n",
       "    <tr style=\"text-align: right;\">\n",
       "      <th></th>\n",
       "      <th>AT</th>\n",
       "      <th>AP</th>\n",
       "      <th>AH</th>\n",
       "      <th>AFDP</th>\n",
       "      <th>GTEP</th>\n",
       "      <th>TIT</th>\n",
       "      <th>TAT</th>\n",
       "      <th>TEY</th>\n",
       "      <th>CDP</th>\n",
       "      <th>CO</th>\n",
       "      <th>NOX</th>\n",
       "    </tr>\n",
       "  </thead>\n",
       "  <tbody>\n",
       "    <tr>\n",
       "      <th>0</th>\n",
       "      <td>1.95320</td>\n",
       "      <td>1020.1</td>\n",
       "      <td>84.985</td>\n",
       "      <td>2.5304</td>\n",
       "      <td>20.116</td>\n",
       "      <td>1048.7</td>\n",
       "      <td>544.92</td>\n",
       "      <td>116.27</td>\n",
       "      <td>10.799</td>\n",
       "      <td>7.4491</td>\n",
       "      <td>113.250</td>\n",
       "    </tr>\n",
       "    <tr>\n",
       "      <th>1</th>\n",
       "      <td>1.21910</td>\n",
       "      <td>1020.1</td>\n",
       "      <td>87.523</td>\n",
       "      <td>2.3937</td>\n",
       "      <td>18.584</td>\n",
       "      <td>1045.5</td>\n",
       "      <td>548.50</td>\n",
       "      <td>109.18</td>\n",
       "      <td>10.347</td>\n",
       "      <td>6.4684</td>\n",
       "      <td>112.020</td>\n",
       "    </tr>\n",
       "    <tr>\n",
       "      <th>2</th>\n",
       "      <td>0.94915</td>\n",
       "      <td>1022.2</td>\n",
       "      <td>78.335</td>\n",
       "      <td>2.7789</td>\n",
       "      <td>22.264</td>\n",
       "      <td>1068.8</td>\n",
       "      <td>549.95</td>\n",
       "      <td>125.88</td>\n",
       "      <td>11.256</td>\n",
       "      <td>3.6335</td>\n",
       "      <td>88.147</td>\n",
       "    </tr>\n",
       "    <tr>\n",
       "      <th>3</th>\n",
       "      <td>1.00750</td>\n",
       "      <td>1021.7</td>\n",
       "      <td>76.942</td>\n",
       "      <td>2.8170</td>\n",
       "      <td>23.358</td>\n",
       "      <td>1075.2</td>\n",
       "      <td>549.63</td>\n",
       "      <td>132.21</td>\n",
       "      <td>11.702</td>\n",
       "      <td>3.1972</td>\n",
       "      <td>87.078</td>\n",
       "    </tr>\n",
       "    <tr>\n",
       "      <th>4</th>\n",
       "      <td>1.28580</td>\n",
       "      <td>1021.6</td>\n",
       "      <td>76.732</td>\n",
       "      <td>2.8377</td>\n",
       "      <td>23.483</td>\n",
       "      <td>1076.2</td>\n",
       "      <td>549.68</td>\n",
       "      <td>133.58</td>\n",
       "      <td>11.737</td>\n",
       "      <td>2.3833</td>\n",
       "      <td>82.515</td>\n",
       "    </tr>\n",
       "  </tbody>\n",
       "</table>\n",
       "</div>"
      ],
      "text/plain": [
       "        AT      AP      AH    AFDP    GTEP     TIT     TAT     TEY     CDP  \\\n",
       "0  1.95320  1020.1  84.985  2.5304  20.116  1048.7  544.92  116.27  10.799   \n",
       "1  1.21910  1020.1  87.523  2.3937  18.584  1045.5  548.50  109.18  10.347   \n",
       "2  0.94915  1022.2  78.335  2.7789  22.264  1068.8  549.95  125.88  11.256   \n",
       "3  1.00750  1021.7  76.942  2.8170  23.358  1075.2  549.63  132.21  11.702   \n",
       "4  1.28580  1021.6  76.732  2.8377  23.483  1076.2  549.68  133.58  11.737   \n",
       "\n",
       "       CO      NOX  \n",
       "0  7.4491  113.250  \n",
       "1  6.4684  112.020  \n",
       "2  3.6335   88.147  \n",
       "3  3.1972   87.078  \n",
       "4  2.3833   82.515  "
      ]
     },
     "execution_count": 6,
     "metadata": {},
     "output_type": "execute_result"
    }
   ],
   "source": [
    "df.head()"
   ]
  },
  {
   "cell_type": "code",
   "execution_count": 7,
   "metadata": {},
   "outputs": [
    {
     "data": {
      "text/plain": [
       "(7384, 11)"
      ]
     },
     "execution_count": 7,
     "metadata": {},
     "output_type": "execute_result"
    }
   ],
   "source": [
    "df.shape"
   ]
  },
  {
   "cell_type": "markdown",
   "metadata": {},
   "source": [
    "### There are 7,384 rows and 11 columns. Because each column represents a variable, there are 11 variables. "
   ]
  },
  {
   "cell_type": "markdown",
   "metadata": {},
   "source": [
    "#### What is the average value of AP for those points who have CO levels above 3 $mg/m^3$?"
   ]
  },
  {
   "cell_type": "code",
   "execution_count": 8,
   "metadata": {},
   "outputs": [
    {
     "data": {
      "text/html": [
       "<div>\n",
       "<style scoped>\n",
       "    .dataframe tbody tr th:only-of-type {\n",
       "        vertical-align: middle;\n",
       "    }\n",
       "\n",
       "    .dataframe tbody tr th {\n",
       "        vertical-align: top;\n",
       "    }\n",
       "\n",
       "    .dataframe thead th {\n",
       "        text-align: right;\n",
       "    }\n",
       "</style>\n",
       "<table border=\"1\" class=\"dataframe\">\n",
       "  <thead>\n",
       "    <tr style=\"text-align: right;\">\n",
       "      <th></th>\n",
       "      <th>AT</th>\n",
       "      <th>AP</th>\n",
       "      <th>AH</th>\n",
       "      <th>AFDP</th>\n",
       "      <th>GTEP</th>\n",
       "      <th>TIT</th>\n",
       "      <th>TAT</th>\n",
       "      <th>TEY</th>\n",
       "      <th>CDP</th>\n",
       "      <th>CO</th>\n",
       "      <th>NOX</th>\n",
       "    </tr>\n",
       "  </thead>\n",
       "  <tbody>\n",
       "    <tr>\n",
       "      <th>0</th>\n",
       "      <td>1.95320</td>\n",
       "      <td>1020.1</td>\n",
       "      <td>84.985</td>\n",
       "      <td>2.5304</td>\n",
       "      <td>20.116</td>\n",
       "      <td>1048.7</td>\n",
       "      <td>544.92</td>\n",
       "      <td>116.27</td>\n",
       "      <td>10.799</td>\n",
       "      <td>7.4491</td>\n",
       "      <td>113.250</td>\n",
       "    </tr>\n",
       "    <tr>\n",
       "      <th>1</th>\n",
       "      <td>1.21910</td>\n",
       "      <td>1020.1</td>\n",
       "      <td>87.523</td>\n",
       "      <td>2.3937</td>\n",
       "      <td>18.584</td>\n",
       "      <td>1045.5</td>\n",
       "      <td>548.50</td>\n",
       "      <td>109.18</td>\n",
       "      <td>10.347</td>\n",
       "      <td>6.4684</td>\n",
       "      <td>112.020</td>\n",
       "    </tr>\n",
       "    <tr>\n",
       "      <th>2</th>\n",
       "      <td>0.94915</td>\n",
       "      <td>1022.2</td>\n",
       "      <td>78.335</td>\n",
       "      <td>2.7789</td>\n",
       "      <td>22.264</td>\n",
       "      <td>1068.8</td>\n",
       "      <td>549.95</td>\n",
       "      <td>125.88</td>\n",
       "      <td>11.256</td>\n",
       "      <td>3.6335</td>\n",
       "      <td>88.147</td>\n",
       "    </tr>\n",
       "    <tr>\n",
       "      <th>3</th>\n",
       "      <td>1.00750</td>\n",
       "      <td>1021.7</td>\n",
       "      <td>76.942</td>\n",
       "      <td>2.8170</td>\n",
       "      <td>23.358</td>\n",
       "      <td>1075.2</td>\n",
       "      <td>549.63</td>\n",
       "      <td>132.21</td>\n",
       "      <td>11.702</td>\n",
       "      <td>3.1972</td>\n",
       "      <td>87.078</td>\n",
       "    </tr>\n",
       "    <tr>\n",
       "      <th>7</th>\n",
       "      <td>1.78240</td>\n",
       "      <td>1022.6</td>\n",
       "      <td>73.535</td>\n",
       "      <td>2.8327</td>\n",
       "      <td>23.337</td>\n",
       "      <td>1075.7</td>\n",
       "      <td>550.01</td>\n",
       "      <td>133.18</td>\n",
       "      <td>11.745</td>\n",
       "      <td>3.7350</td>\n",
       "      <td>85.749</td>\n",
       "    </tr>\n",
       "  </tbody>\n",
       "</table>\n",
       "</div>"
      ],
      "text/plain": [
       "        AT      AP      AH    AFDP    GTEP     TIT     TAT     TEY     CDP  \\\n",
       "0  1.95320  1020.1  84.985  2.5304  20.116  1048.7  544.92  116.27  10.799   \n",
       "1  1.21910  1020.1  87.523  2.3937  18.584  1045.5  548.50  109.18  10.347   \n",
       "2  0.94915  1022.2  78.335  2.7789  22.264  1068.8  549.95  125.88  11.256   \n",
       "3  1.00750  1021.7  76.942  2.8170  23.358  1075.2  549.63  132.21  11.702   \n",
       "7  1.78240  1022.6  73.535  2.8327  23.337  1075.7  550.01  133.18  11.745   \n",
       "\n",
       "       CO      NOX  \n",
       "0  7.4491  113.250  \n",
       "1  6.4684  112.020  \n",
       "2  3.6335   88.147  \n",
       "3  3.1972   87.078  \n",
       "7  3.7350   85.749  "
      ]
     },
     "execution_count": 8,
     "metadata": {},
     "output_type": "execute_result"
    }
   ],
   "source": [
    "df2 = df[df.CO > 3]\n",
    "df2.head()"
   ]
  },
  {
   "cell_type": "code",
   "execution_count": 9,
   "metadata": {},
   "outputs": [
    {
     "data": {
      "text/plain": [
       "1015.6900173490633"
      ]
     },
     "execution_count": 9,
     "metadata": {},
     "output_type": "execute_result"
    }
   ],
   "source": [
    "df2['AP'].mean()"
   ]
  },
  {
   "cell_type": "markdown",
   "metadata": {},
   "source": [
    "### The mean AP value for CO levels above 3 *mg/$m^3$* is 1015.69"
   ]
  },
  {
   "cell_type": "code",
   "execution_count": 10,
   "metadata": {},
   "outputs": [
    {
     "data": {
      "text/plain": [
       "<matplotlib.axes._subplots.AxesSubplot at 0x7fd726bbeeb0>"
      ]
     },
     "execution_count": 10,
     "metadata": {},
     "output_type": "execute_result"
    },
    {
     "data": {
      "image/png": "[encoded data removed]",
      "text/plain": [
       "<Figure size 432x288 with 2 Axes>"
      ]
     },
     "metadata": {
      "needs_background": "light"
     },
     "output_type": "display_data"
    }
   ],
   "source": [
    "corr = df.corr()\n",
    "sns.heatmap(corr, cmap='Greens')"
   ]
  },
  {
   "cell_type": "markdown",
   "metadata": {},
   "source": [
    "## Correlation Heatmap\n",
    "### There are a few variables are are highly correlated. It appears that AFDP, GTEP, TIT, TEY and CPD are all highly correlated with each other. "
   ]
  },
  {
   "cell_type": "code",
   "execution_count": 11,
   "metadata": {},
   "outputs": [
    {
     "data": {
      "text/plain": [
       "<matplotlib.collections.PathCollection at 0x7fd72c8ac580>"
      ]
     },
     "execution_count": 11,
     "metadata": {},
     "output_type": "execute_result"
    },
    {
     "data": {
      "image/png": "[encoded data removed]",
      "text/plain": [
       "<Figure size 432x288 with 1 Axes>"
      ]
     },
     "metadata": {
      "needs_background": "light"
     },
     "output_type": "display_data"
    }
   ],
   "source": [
    "plt.scatter(df['TEY'], df['CDP'])\n"
   ]
  },
  {
   "cell_type": "markdown",
   "metadata": {},
   "source": [
    "#### Create histograms for CO and NOX."
   ]
  },
  {
   "cell_type": "markdown",
   "metadata": {},
   "source": [
    "### CO Histogram"
   ]
  },
  {
   "cell_type": "code",
   "execution_count": 12,
   "metadata": {},
   "outputs": [
    {
     "data": {
      "image/png": "[encoded data removed]",
      "text/plain": [
       "<Figure size 432x288 with 1 Axes>"
      ]
     },
     "metadata": {
      "needs_background": "light"
     },
     "output_type": "display_data"
    }
   ],
   "source": [
    "plot = plt.hist(df['CO'], bins=25)\n"
   ]
  },
  {
   "cell_type": "markdown",
   "metadata": {},
   "source": [
    "### NOX Histogram"
   ]
  },
  {
   "cell_type": "code",
   "execution_count": 13,
   "metadata": {},
   "outputs": [
    {
     "data": {
      "image/png": "[encoded data removed]",
      "text/plain": [
       "<Figure size 432x288 with 1 Axes>"
      ]
     },
     "metadata": {
      "needs_background": "light"
     },
     "output_type": "display_data"
    }
   ],
   "source": [
    "plot = plt.hist(df['NOX'], bins=25)\n"
   ]
  },
  {
   "cell_type": "markdown",
   "metadata": {},
   "source": [
    "### Prepare data from machine learning"
   ]
  },
  {
   "cell_type": "markdown",
   "metadata": {},
   "source": [
    "We will predict CO using all the other variables. The NOX will not be used. That is another emission gas that can be predicted as well."
   ]
  },
  {
   "cell_type": "code",
   "execution_count": 14,
   "metadata": {},
   "outputs": [],
   "source": [
    "y = df.CO\n",
    "X = df.drop(['CO', 'NOX'], axis=1)"
   ]
  },
  {
   "cell_type": "code",
   "execution_count": 15,
   "metadata": {},
   "outputs": [],
   "source": [
    "from sklearn.model_selection import train_test_split\n",
    "X_train, X_test, y_train, y_test = train_test_split(X, y, test_size=0.10, random_state=555)\n",
    "X_train, X_val, y_train, y_val = train_test_split(X_train, y_train, test_size=0.30, random_state=555)"
   ]
  },
  {
   "cell_type": "code",
   "execution_count": 16,
   "metadata": {},
   "outputs": [],
   "source": [
    "# Standardization of the data\n",
    "from sklearn.preprocessing import StandardScaler\n",
    "ss = StandardScaler()\n",
    "ss.fit(X_train)\n",
    "X_train = ss.transform(X_train)\n",
    "X_val = ss.transform(X_val)\n",
    "X_test = ss.transform(X_test)"
   ]
  },
  {
   "cell_type": "code",
   "execution_count": 17,
   "metadata": {},
   "outputs": [
    {
     "data": {
      "text/plain": [
       "(4651, 9)"
      ]
     },
     "execution_count": 17,
     "metadata": {},
     "output_type": "execute_result"
    }
   ],
   "source": [
    "X_train.shape"
   ]
  },
  {
   "cell_type": "code",
   "execution_count": 18,
   "metadata": {},
   "outputs": [
    {
     "data": {
      "text/plain": [
       "(1994, 9)"
      ]
     },
     "execution_count": 18,
     "metadata": {},
     "output_type": "execute_result"
    }
   ],
   "source": [
    "X_val.shape"
   ]
  },
  {
   "cell_type": "code",
   "execution_count": 19,
   "metadata": {},
   "outputs": [
    {
     "data": {
      "text/plain": [
       "(739, 9)"
      ]
     },
     "execution_count": 19,
     "metadata": {},
     "output_type": "execute_result"
    }
   ],
   "source": [
    "X_test.shape"
   ]
  },
  {
   "cell_type": "markdown",
   "metadata": {},
   "source": [
    "## Q2 [10]"
   ]
  },
  {
   "cell_type": "markdown",
   "metadata": {},
   "source": [
    "- Apply Linear Regression. Predict CO emission using other variables.\n",
    "    - What is the model $R^2$ (on training data)?\n",
    "    - What is the $R^2$ on validation data?\n",
    "    - What is the Root Mean Squared Error (RMSE) on training data?\n",
    "    - What is the RMSE on validation data?\n",
    "    \n",
    "> - $R^2$ higher is better. ($R^2$ is % variation in data being explained)  \n",
    "> - RMSE lower is better. (RMSE is error, meaning the difference between predictions and actual data)  \n",
    "\n",
    "Hint:  \n",
    "- You can use the `r2_score` and `mean_squared_error` methods in `sklearn.metrics`.   \n",
    "- You need to take the square root of Mean Squared Error to get to RMSE. (MSE $->$ square root $->$ RMSE)"
   ]
  },
  {
   "cell_type": "code",
   "execution_count": 20,
   "metadata": {},
   "outputs": [],
   "source": [
    "from sklearn.linear_model import LinearRegression"
   ]
  },
  {
   "cell_type": "code",
   "execution_count": 21,
   "metadata": {},
   "outputs": [],
   "source": [
    "from sklearn import metrics"
   ]
  },
  {
   "cell_type": "code",
   "execution_count": 22,
   "metadata": {},
   "outputs": [],
   "source": [
    "reg = LinearRegression().fit(X_train, y_train)"
   ]
  },
  {
   "cell_type": "code",
   "execution_count": 23,
   "metadata": {},
   "outputs": [],
   "source": [
    "TrainPred = reg.predict(X_train)"
   ]
  },
  {
   "cell_type": "code",
   "execution_count": 24,
   "metadata": {},
   "outputs": [
    {
     "data": {
      "text/plain": [
       "0.6468752136774542"
      ]
     },
     "execution_count": 24,
     "metadata": {},
     "output_type": "execute_result"
    }
   ],
   "source": [
    "metrics.r2_score(y_true = y_train, y_pred = TrainPred)"
   ]
  },
  {
   "cell_type": "code",
   "execution_count": 25,
   "metadata": {},
   "outputs": [],
   "source": [
    "TestPred = reg.predict(X_val)"
   ]
  },
  {
   "cell_type": "code",
   "execution_count": 26,
   "metadata": {},
   "outputs": [
    {
     "data": {
      "text/plain": [
       "0.6290818432737131"
      ]
     },
     "execution_count": 26,
     "metadata": {},
     "output_type": "execute_result"
    }
   ],
   "source": [
    "metrics.r2_score(y_true = y_val, y_pred = TestPred)"
   ]
  },
  {
   "cell_type": "markdown",
   "metadata": {},
   "source": [
    "## $R^2$ for the training set is 0.65 and for the validation set is 0.63"
   ]
  },
  {
   "cell_type": "code",
   "execution_count": 27,
   "metadata": {},
   "outputs": [
    {
     "data": {
      "text/plain": [
       "1.3132338270806214"
      ]
     },
     "execution_count": 27,
     "metadata": {},
     "output_type": "execute_result"
    }
   ],
   "source": [
    "MSE_Train = metrics.mean_squared_error(y_true = y_train, y_pred = TrainPred)\n",
    "RMSE_Train = math.sqrt(MSE_Train)\n",
    "RMSE_Train"
   ]
  },
  {
   "cell_type": "markdown",
   "metadata": {},
   "source": [
    "### The Root Mean Square Error for the training data is 1.31"
   ]
  },
  {
   "cell_type": "code",
   "execution_count": 28,
   "metadata": {},
   "outputs": [
    {
     "data": {
      "text/plain": [
       "1.3917448633939091"
      ]
     },
     "execution_count": 28,
     "metadata": {},
     "output_type": "execute_result"
    }
   ],
   "source": [
    "MSE_Test = metrics.mean_squared_error(y_true = y_val, y_pred = TestPred)\n",
    "RMSE_Test = math.sqrt(MSE_Test)\n",
    "RMSE_Test"
   ]
  },
  {
   "cell_type": "markdown",
   "metadata": {},
   "source": [
    "### The Root Mean Square Error for the validation data is 1.39"
   ]
  },
  {
   "cell_type": "markdown",
   "metadata": {},
   "source": [
    "## Q3 [10]"
   ]
  },
  {
   "cell_type": "markdown",
   "metadata": {},
   "source": [
    "- Apply Random Forest Regression with 100 trees. Predict CO emission using other variables.\n",
    "    - What is the model $R^2$?\n",
    "    - What is the $R^2$ on validation data?\n",
    "    - What is the RMSE on training data?\n",
    "    - What is the RMSE on validation data?\n",
    "\n",
    "- Is training and validation score close? If not what might be the problem?\n",
    "- If there is a large gap, try to decrease the gap by changing some hyperparameters of the Random Forest model. (In this analysis, any difference more than 0.10 $R^2$ difference can be assumed to be large.)\n",
    "    - Once you reach a difference of less than or close to 0.10 between training $R^2$ and validation $R^2$ you can stop. \n",
    "    - During this process your training score will probably decrease, and that is OK. "
   ]
  },
  {
   "cell_type": "code",
   "execution_count": 29,
   "metadata": {},
   "outputs": [],
   "source": [
    "from sklearn.ensemble import RandomForestRegressor"
   ]
  },
  {
   "cell_type": "code",
   "execution_count": 30,
   "metadata": {},
   "outputs": [],
   "source": [
    "regr = RandomForestRegressor(n_estimators = 100)"
   ]
  },
  {
   "cell_type": "code",
   "execution_count": 31,
   "metadata": {},
   "outputs": [
    {
     "data": {
      "text/plain": [
       "RandomForestRegressor()"
      ]
     },
     "execution_count": 31,
     "metadata": {},
     "output_type": "execute_result"
    }
   ],
   "source": [
    "regr.fit(X_train, y_train)"
   ]
  },
  {
   "cell_type": "code",
   "execution_count": 32,
   "metadata": {},
   "outputs": [],
   "source": [
    "TrainPred = regr.predict(X_train)"
   ]
  },
  {
   "cell_type": "code",
   "execution_count": 33,
   "metadata": {},
   "outputs": [
    {
     "data": {
      "text/plain": [
       "0.9617080517734191"
      ]
     },
     "execution_count": 33,
     "metadata": {},
     "output_type": "execute_result"
    }
   ],
   "source": [
    "metrics.r2_score(y_true = y_train, y_pred = TrainPred)"
   ]
  },
  {
   "cell_type": "markdown",
   "metadata": {},
   "source": [
    "### The $R^2$ score for the training data is 0.96"
   ]
  },
  {
   "cell_type": "code",
   "execution_count": 34,
   "metadata": {},
   "outputs": [],
   "source": [
    "TestPred = regr.predict(X_val)"
   ]
  },
  {
   "cell_type": "code",
   "execution_count": 35,
   "metadata": {},
   "outputs": [
    {
     "data": {
      "text/plain": [
       "0.747111035781487"
      ]
     },
     "execution_count": 35,
     "metadata": {},
     "output_type": "execute_result"
    }
   ],
   "source": [
    "metrics.r2_score(y_true = y_val, y_pred = TestPred)"
   ]
  },
  {
   "cell_type": "markdown",
   "metadata": {},
   "source": [
    "### The $R^2$ for the validation data is 0.74"
   ]
  },
  {
   "cell_type": "code",
   "execution_count": 36,
   "metadata": {},
   "outputs": [
    {
     "data": {
      "text/plain": [
       "0.43244580781877695"
      ]
     },
     "execution_count": 36,
     "metadata": {},
     "output_type": "execute_result"
    }
   ],
   "source": [
    "MSE_Train = metrics.mean_squared_error(y_true = y_train, y_pred = TrainPred)\n",
    "RMSE_Train = math.sqrt(MSE_Train)\n",
    "RMSE_Train"
   ]
  },
  {
   "cell_type": "markdown",
   "metadata": {},
   "source": [
    "### The RMSE for the training data is 0.43"
   ]
  },
  {
   "cell_type": "code",
   "execution_count": 37,
   "metadata": {},
   "outputs": [
    {
     "data": {
      "text/plain": [
       "1.1491732801048378"
      ]
     },
     "execution_count": 37,
     "metadata": {},
     "output_type": "execute_result"
    }
   ],
   "source": [
    "MSE_Test = metrics.mean_squared_error(y_true = y_val, y_pred = TestPred)\n",
    "RMSE_Test = math.sqrt(MSE_Test)\n",
    "RMSE_Test"
   ]
  },
  {
   "cell_type": "markdown",
   "metadata": {},
   "source": [
    "### The RMSE for the validation data is 1.15"
   ]
  },
  {
   "cell_type": "markdown",
   "metadata": {},
   "source": [
    "### The training and validation data scores for $R^2$ and RMSE are not very close. This could be an indication of overfitting, where out model fits too closely to the training data, and then cannot accurately score the validation data. "
   ]
  },
  {
   "cell_type": "code",
   "execution_count": 38,
   "metadata": {},
   "outputs": [],
   "source": [
    "def print_results(results):\n",
    "    print('BEST PARAMS: {}\\n'.format(results.best_params_))\n",
    "\n",
    "    means = results.cv_results_['mean_test_score']\n",
    "    stds = results.cv_results_['std_test_score']\n",
    "    for mean, std, params in zip(means, stds, results.cv_results_['params']):\n",
    "        print('{} (+/-{}) for {}'.format(round(mean, 3), round(std * 2, 3), params))"
   ]
  },
  {
   "cell_type": "code",
   "execution_count": 39,
   "metadata": {},
   "outputs": [],
   "source": [
    "parameters = {\n",
    "    'n_estimators': [25, 50, 75, 100],\n",
    "    'min_samples_split': [2, 3, 5, 7, 10],\n",
    "    'ccp_alpha': [0, 0.01, 0.05, 0.1, 0.5, 1]\n",
    "}"
   ]
  },
  {
   "cell_type": "code",
   "execution_count": 40,
   "metadata": {},
   "outputs": [
    {
     "name": "stdout",
     "output_type": "stream",
     "text": [
      "BEST PARAMS: {'ccp_alpha': 0, 'min_samples_split': 7, 'n_estimators': 50}\n",
      "\n",
      "0.727 (+/-0.176) for {'ccp_alpha': 0, 'min_samples_split': 2, 'n_estimators': 25}\n",
      "0.728 (+/-0.164) for {'ccp_alpha': 0, 'min_samples_split': 2, 'n_estimators': 50}\n",
      "0.734 (+/-0.178) for {'ccp_alpha': 0, 'min_samples_split': 2, 'n_estimators': 75}\n",
      "0.735 (+/-0.181) for {'ccp_alpha': 0, 'min_samples_split': 2, 'n_estimators': 100}\n",
      "0.721 (+/-0.165) for {'ccp_alpha': 0, 'min_samples_split': 3, 'n_estimators': 25}\n",
      "0.736 (+/-0.178) for {'ccp_alpha': 0, 'min_samples_split': 3, 'n_estimators': 50}\n",
      "0.73 (+/-0.172) for {'ccp_alpha': 0, 'min_samples_split': 3, 'n_estimators': 75}\n",
      "0.733 (+/-0.177) for {'ccp_alpha': 0, 'min_samples_split': 3, 'n_estimators': 100}\n",
      "0.72 (+/-0.19) for {'ccp_alpha': 0, 'min_samples_split': 5, 'n_estimators': 25}\n",
      "0.735 (+/-0.189) for {'ccp_alpha': 0, 'min_samples_split': 5, 'n_estimators': 50}\n",
      "0.731 (+/-0.179) for {'ccp_alpha': 0, 'min_samples_split': 5, 'n_estimators': 75}\n",
      "0.734 (+/-0.185) for {'ccp_alpha': 0, 'min_samples_split': 5, 'n_estimators': 100}\n",
      "0.732 (+/-0.178) for {'ccp_alpha': 0, 'min_samples_split': 7, 'n_estimators': 25}\n",
      "0.737 (+/-0.181) for {'ccp_alpha': 0, 'min_samples_split': 7, 'n_estimators': 50}\n",
      "0.737 (+/-0.176) for {'ccp_alpha': 0, 'min_samples_split': 7, 'n_estimators': 75}\n",
      "0.734 (+/-0.189) for {'ccp_alpha': 0, 'min_samples_split': 7, 'n_estimators': 100}\n",
      "0.732 (+/-0.166) for {'ccp_alpha': 0, 'min_samples_split': 10, 'n_estimators': 25}\n",
      "0.732 (+/-0.179) for {'ccp_alpha': 0, 'min_samples_split': 10, 'n_estimators': 50}\n",
      "0.735 (+/-0.173) for {'ccp_alpha': 0, 'min_samples_split': 10, 'n_estimators': 75}\n",
      "0.733 (+/-0.179) for {'ccp_alpha': 0, 'min_samples_split': 10, 'n_estimators': 100}\n",
      "0.715 (+/-0.165) for {'ccp_alpha': 0.01, 'min_samples_split': 2, 'n_estimators': 25}\n",
      "0.714 (+/-0.156) for {'ccp_alpha': 0.01, 'min_samples_split': 2, 'n_estimators': 50}\n",
      "0.718 (+/-0.173) for {'ccp_alpha': 0.01, 'min_samples_split': 2, 'n_estimators': 75}\n",
      "0.723 (+/-0.164) for {'ccp_alpha': 0.01, 'min_samples_split': 2, 'n_estimators': 100}\n",
      "0.71 (+/-0.181) for {'ccp_alpha': 0.01, 'min_samples_split': 3, 'n_estimators': 25}\n",
      "0.722 (+/-0.169) for {'ccp_alpha': 0.01, 'min_samples_split': 3, 'n_estimators': 50}\n",
      "0.722 (+/-0.169) for {'ccp_alpha': 0.01, 'min_samples_split': 3, 'n_estimators': 75}\n",
      "0.712 (+/-0.177) for {'ccp_alpha': 0.01, 'min_samples_split': 3, 'n_estimators': 100}\n",
      "0.719 (+/-0.169) for {'ccp_alpha': 0.01, 'min_samples_split': 5, 'n_estimators': 25}\n",
      "0.724 (+/-0.165) for {'ccp_alpha': 0.01, 'min_samples_split': 5, 'n_estimators': 50}\n",
      "0.725 (+/-0.17) for {'ccp_alpha': 0.01, 'min_samples_split': 5, 'n_estimators': 75}\n",
      "0.722 (+/-0.176) for {'ccp_alpha': 0.01, 'min_samples_split': 5, 'n_estimators': 100}\n",
      "0.721 (+/-0.151) for {'ccp_alpha': 0.01, 'min_samples_split': 7, 'n_estimators': 25}\n",
      "0.723 (+/-0.173) for {'ccp_alpha': 0.01, 'min_samples_split': 7, 'n_estimators': 50}\n",
      "0.724 (+/-0.164) for {'ccp_alpha': 0.01, 'min_samples_split': 7, 'n_estimators': 75}\n",
      "0.726 (+/-0.172) for {'ccp_alpha': 0.01, 'min_samples_split': 7, 'n_estimators': 100}\n",
      "0.725 (+/-0.18) for {'ccp_alpha': 0.01, 'min_samples_split': 10, 'n_estimators': 25}\n",
      "0.726 (+/-0.18) for {'ccp_alpha': 0.01, 'min_samples_split': 10, 'n_estimators': 50}\n",
      "0.725 (+/-0.167) for {'ccp_alpha': 0.01, 'min_samples_split': 10, 'n_estimators': 75}\n",
      "0.72 (+/-0.171) for {'ccp_alpha': 0.01, 'min_samples_split': 10, 'n_estimators': 100}\n",
      "0.7 (+/-0.155) for {'ccp_alpha': 0.05, 'min_samples_split': 2, 'n_estimators': 25}\n",
      "0.703 (+/-0.162) for {'ccp_alpha': 0.05, 'min_samples_split': 2, 'n_estimators': 50}\n",
      "0.704 (+/-0.163) for {'ccp_alpha': 0.05, 'min_samples_split': 2, 'n_estimators': 75}\n",
      "0.708 (+/-0.167) for {'ccp_alpha': 0.05, 'min_samples_split': 2, 'n_estimators': 100}\n",
      "0.708 (+/-0.154) for {'ccp_alpha': 0.05, 'min_samples_split': 3, 'n_estimators': 25}\n",
      "0.709 (+/-0.167) for {'ccp_alpha': 0.05, 'min_samples_split': 3, 'n_estimators': 50}\n",
      "0.708 (+/-0.166) for {'ccp_alpha': 0.05, 'min_samples_split': 3, 'n_estimators': 75}\n",
      "0.706 (+/-0.166) for {'ccp_alpha': 0.05, 'min_samples_split': 3, 'n_estimators': 100}\n",
      "0.695 (+/-0.155) for {'ccp_alpha': 0.05, 'min_samples_split': 5, 'n_estimators': 25}\n",
      "0.705 (+/-0.154) for {'ccp_alpha': 0.05, 'min_samples_split': 5, 'n_estimators': 50}\n",
      "0.709 (+/-0.167) for {'ccp_alpha': 0.05, 'min_samples_split': 5, 'n_estimators': 75}\n",
      "0.708 (+/-0.163) for {'ccp_alpha': 0.05, 'min_samples_split': 5, 'n_estimators': 100}\n",
      "0.709 (+/-0.161) for {'ccp_alpha': 0.05, 'min_samples_split': 7, 'n_estimators': 25}\n",
      "0.709 (+/-0.161) for {'ccp_alpha': 0.05, 'min_samples_split': 7, 'n_estimators': 50}\n",
      "0.707 (+/-0.171) for {'ccp_alpha': 0.05, 'min_samples_split': 7, 'n_estimators': 75}\n",
      "0.705 (+/-0.159) for {'ccp_alpha': 0.05, 'min_samples_split': 7, 'n_estimators': 100}\n",
      "0.706 (+/-0.169) for {'ccp_alpha': 0.05, 'min_samples_split': 10, 'n_estimators': 25}\n",
      "0.707 (+/-0.16) for {'ccp_alpha': 0.05, 'min_samples_split': 10, 'n_estimators': 50}\n",
      "0.709 (+/-0.167) for {'ccp_alpha': 0.05, 'min_samples_split': 10, 'n_estimators': 75}\n",
      "0.711 (+/-0.164) for {'ccp_alpha': 0.05, 'min_samples_split': 10, 'n_estimators': 100}\n",
      "0.695 (+/-0.156) for {'ccp_alpha': 0.1, 'min_samples_split': 2, 'n_estimators': 25}\n",
      "0.683 (+/-0.157) for {'ccp_alpha': 0.1, 'min_samples_split': 2, 'n_estimators': 50}\n",
      "0.693 (+/-0.161) for {'ccp_alpha': 0.1, 'min_samples_split': 2, 'n_estimators': 75}\n",
      "0.693 (+/-0.156) for {'ccp_alpha': 0.1, 'min_samples_split': 2, 'n_estimators': 100}\n",
      "0.691 (+/-0.16) for {'ccp_alpha': 0.1, 'min_samples_split': 3, 'n_estimators': 25}\n",
      "0.691 (+/-0.158) for {'ccp_alpha': 0.1, 'min_samples_split': 3, 'n_estimators': 50}\n",
      "0.696 (+/-0.159) for {'ccp_alpha': 0.1, 'min_samples_split': 3, 'n_estimators': 75}\n",
      "0.698 (+/-0.161) for {'ccp_alpha': 0.1, 'min_samples_split': 3, 'n_estimators': 100}\n",
      "0.692 (+/-0.15) for {'ccp_alpha': 0.1, 'min_samples_split': 5, 'n_estimators': 25}\n",
      "0.696 (+/-0.165) for {'ccp_alpha': 0.1, 'min_samples_split': 5, 'n_estimators': 50}\n",
      "0.693 (+/-0.164) for {'ccp_alpha': 0.1, 'min_samples_split': 5, 'n_estimators': 75}\n",
      "0.695 (+/-0.169) for {'ccp_alpha': 0.1, 'min_samples_split': 5, 'n_estimators': 100}\n",
      "0.69 (+/-0.152) for {'ccp_alpha': 0.1, 'min_samples_split': 7, 'n_estimators': 25}\n",
      "0.692 (+/-0.167) for {'ccp_alpha': 0.1, 'min_samples_split': 7, 'n_estimators': 50}\n",
      "0.691 (+/-0.162) for {'ccp_alpha': 0.1, 'min_samples_split': 7, 'n_estimators': 75}\n",
      "0.693 (+/-0.162) for {'ccp_alpha': 0.1, 'min_samples_split': 7, 'n_estimators': 100}\n",
      "0.691 (+/-0.166) for {'ccp_alpha': 0.1, 'min_samples_split': 10, 'n_estimators': 25}\n",
      "0.696 (+/-0.163) for {'ccp_alpha': 0.1, 'min_samples_split': 10, 'n_estimators': 50}\n",
      "0.696 (+/-0.17) for {'ccp_alpha': 0.1, 'min_samples_split': 10, 'n_estimators': 75}\n",
      "0.696 (+/-0.164) for {'ccp_alpha': 0.1, 'min_samples_split': 10, 'n_estimators': 100}\n",
      "0.586 (+/-0.106) for {'ccp_alpha': 0.5, 'min_samples_split': 2, 'n_estimators': 25}\n",
      "0.594 (+/-0.099) for {'ccp_alpha': 0.5, 'min_samples_split': 2, 'n_estimators': 50}\n",
      "0.594 (+/-0.122) for {'ccp_alpha': 0.5, 'min_samples_split': 2, 'n_estimators': 75}\n",
      "0.594 (+/-0.11) for {'ccp_alpha': 0.5, 'min_samples_split': 2, 'n_estimators': 100}\n",
      "0.599 (+/-0.125) for {'ccp_alpha': 0.5, 'min_samples_split': 3, 'n_estimators': 25}\n",
      "0.593 (+/-0.108) for {'ccp_alpha': 0.5, 'min_samples_split': 3, 'n_estimators': 50}\n",
      "0.596 (+/-0.1) for {'ccp_alpha': 0.5, 'min_samples_split': 3, 'n_estimators': 75}\n",
      "0.59 (+/-0.109) for {'ccp_alpha': 0.5, 'min_samples_split': 3, 'n_estimators': 100}\n",
      "0.597 (+/-0.146) for {'ccp_alpha': 0.5, 'min_samples_split': 5, 'n_estimators': 25}\n",
      "0.594 (+/-0.114) for {'ccp_alpha': 0.5, 'min_samples_split': 5, 'n_estimators': 50}\n",
      "0.596 (+/-0.117) for {'ccp_alpha': 0.5, 'min_samples_split': 5, 'n_estimators': 75}\n",
      "0.596 (+/-0.11) for {'ccp_alpha': 0.5, 'min_samples_split': 5, 'n_estimators': 100}\n",
      "0.598 (+/-0.106) for {'ccp_alpha': 0.5, 'min_samples_split': 7, 'n_estimators': 25}\n",
      "0.593 (+/-0.106) for {'ccp_alpha': 0.5, 'min_samples_split': 7, 'n_estimators': 50}\n",
      "0.589 (+/-0.106) for {'ccp_alpha': 0.5, 'min_samples_split': 7, 'n_estimators': 75}\n",
      "0.592 (+/-0.114) for {'ccp_alpha': 0.5, 'min_samples_split': 7, 'n_estimators': 100}\n",
      "0.59 (+/-0.093) for {'ccp_alpha': 0.5, 'min_samples_split': 10, 'n_estimators': 25}\n",
      "0.6 (+/-0.115) for {'ccp_alpha': 0.5, 'min_samples_split': 10, 'n_estimators': 50}\n",
      "0.596 (+/-0.108) for {'ccp_alpha': 0.5, 'min_samples_split': 10, 'n_estimators': 75}\n",
      "0.598 (+/-0.113) for {'ccp_alpha': 0.5, 'min_samples_split': 10, 'n_estimators': 100}\n",
      "0.498 (+/-0.113) for {'ccp_alpha': 1, 'min_samples_split': 2, 'n_estimators': 25}\n",
      "0.497 (+/-0.1) for {'ccp_alpha': 1, 'min_samples_split': 2, 'n_estimators': 50}\n",
      "0.498 (+/-0.096) for {'ccp_alpha': 1, 'min_samples_split': 2, 'n_estimators': 75}\n",
      "0.497 (+/-0.098) for {'ccp_alpha': 1, 'min_samples_split': 2, 'n_estimators': 100}\n",
      "0.499 (+/-0.099) for {'ccp_alpha': 1, 'min_samples_split': 3, 'n_estimators': 25}\n",
      "0.495 (+/-0.102) for {'ccp_alpha': 1, 'min_samples_split': 3, 'n_estimators': 50}\n",
      "0.495 (+/-0.092) for {'ccp_alpha': 1, 'min_samples_split': 3, 'n_estimators': 75}\n",
      "0.496 (+/-0.098) for {'ccp_alpha': 1, 'min_samples_split': 3, 'n_estimators': 100}\n",
      "0.497 (+/-0.098) for {'ccp_alpha': 1, 'min_samples_split': 5, 'n_estimators': 25}\n",
      "0.496 (+/-0.091) for {'ccp_alpha': 1, 'min_samples_split': 5, 'n_estimators': 50}\n",
      "0.496 (+/-0.094) for {'ccp_alpha': 1, 'min_samples_split': 5, 'n_estimators': 75}\n",
      "0.499 (+/-0.099) for {'ccp_alpha': 1, 'min_samples_split': 5, 'n_estimators': 100}\n",
      "0.499 (+/-0.094) for {'ccp_alpha': 1, 'min_samples_split': 7, 'n_estimators': 25}\n",
      "0.498 (+/-0.1) for {'ccp_alpha': 1, 'min_samples_split': 7, 'n_estimators': 50}\n",
      "0.497 (+/-0.105) for {'ccp_alpha': 1, 'min_samples_split': 7, 'n_estimators': 75}\n",
      "0.498 (+/-0.097) for {'ccp_alpha': 1, 'min_samples_split': 7, 'n_estimators': 100}\n",
      "0.495 (+/-0.106) for {'ccp_alpha': 1, 'min_samples_split': 10, 'n_estimators': 25}\n",
      "0.495 (+/-0.094) for {'ccp_alpha': 1, 'min_samples_split': 10, 'n_estimators': 50}\n",
      "0.499 (+/-0.095) for {'ccp_alpha': 1, 'min_samples_split': 10, 'n_estimators': 75}\n",
      "0.497 (+/-0.102) for {'ccp_alpha': 1, 'min_samples_split': 10, 'n_estimators': 100}\n"
     ]
    }
   ],
   "source": [
    "cv = GridSearchCV(regr, parameters, cv=5)\n",
    "cv.fit(X_train, y_train)\n",
    "\n",
    "print_results(cv)"
   ]
  },
  {
   "cell_type": "code",
   "execution_count": 41,
   "metadata": {},
   "outputs": [],
   "source": [
    "regr = RandomForestRegressor(n_estimators = 50, min_samples_split = 7, ccp_alpha = 0)"
   ]
  },
  {
   "cell_type": "code",
   "execution_count": 42,
   "metadata": {},
   "outputs": [
    {
     "data": {
      "text/plain": [
       "RandomForestRegressor(ccp_alpha=0, min_samples_split=7, n_estimators=50)"
      ]
     },
     "execution_count": 42,
     "metadata": {},
     "output_type": "execute_result"
    }
   ],
   "source": [
    "regr.fit(X_train, y_train)"
   ]
  },
  {
   "cell_type": "code",
   "execution_count": 43,
   "metadata": {},
   "outputs": [],
   "source": [
    "TrainPred = regr.predict(X_train)"
   ]
  },
  {
   "cell_type": "code",
   "execution_count": 44,
   "metadata": {},
   "outputs": [
    {
     "data": {
      "text/plain": [
       "0.9266037971894621"
      ]
     },
     "execution_count": 44,
     "metadata": {},
     "output_type": "execute_result"
    }
   ],
   "source": [
    "metrics.r2_score(y_true = y_train, y_pred = TrainPred)"
   ]
  },
  {
   "cell_type": "code",
   "execution_count": 45,
   "metadata": {},
   "outputs": [],
   "source": [
    "TestPred = regr.predict(X_val)"
   ]
  },
  {
   "cell_type": "code",
   "execution_count": 46,
   "metadata": {},
   "outputs": [
    {
     "data": {
      "text/plain": [
       "0.7496786174744476"
      ]
     },
     "execution_count": 46,
     "metadata": {},
     "output_type": "execute_result"
    }
   ],
   "source": [
    "metrics.r2_score(y_true = y_val, y_pred = TestPred)"
   ]
  },
  {
   "cell_type": "code",
   "execution_count": 47,
   "metadata": {},
   "outputs": [],
   "source": [
    "regr = RandomForestRegressor(n_estimators = 75, min_samples_split = 2, ccp_alpha = 0.1)"
   ]
  },
  {
   "cell_type": "code",
   "execution_count": 48,
   "metadata": {},
   "outputs": [
    {
     "data": {
      "text/plain": [
       "RandomForestRegressor(ccp_alpha=0.1, n_estimators=75)"
      ]
     },
     "execution_count": 48,
     "metadata": {},
     "output_type": "execute_result"
    }
   ],
   "source": [
    "regr.fit(X_train, y_train)"
   ]
  },
  {
   "cell_type": "code",
   "execution_count": 49,
   "metadata": {},
   "outputs": [],
   "source": [
    "TrainPred = regr.predict(X_train)"
   ]
  },
  {
   "cell_type": "code",
   "execution_count": 50,
   "metadata": {},
   "outputs": [
    {
     "data": {
      "text/plain": [
       "0.7522947469201016"
      ]
     },
     "execution_count": 50,
     "metadata": {},
     "output_type": "execute_result"
    }
   ],
   "source": [
    "metrics.r2_score(y_true = y_train, y_pred = TrainPred)"
   ]
  },
  {
   "cell_type": "code",
   "execution_count": 51,
   "metadata": {},
   "outputs": [],
   "source": [
    "TestPred = regr.predict(X_val)"
   ]
  },
  {
   "cell_type": "code",
   "execution_count": 52,
   "metadata": {},
   "outputs": [
    {
     "data": {
      "text/plain": [
       "0.6823895995033364"
      ]
     },
     "execution_count": 52,
     "metadata": {},
     "output_type": "execute_result"
    }
   ],
   "source": [
    "metrics.r2_score(y_true = y_val, y_pred = TestPred)"
   ]
  },
  {
   "cell_type": "markdown",
   "metadata": {},
   "source": [
    "### I changed the minimum sample split and ccp alpha value and I found a result with a difference of less than 0.1. I changed the minimum sample split to 2, and set a ccp alpha value of 0.1, when I changed these three parameters, I got a training score of 0.75 and a validation score of 0.68."
   ]
  },
  {
   "cell_type": "markdown",
   "metadata": {},
   "source": [
    "## Q4 [10]"
   ]
  },
  {
   "cell_type": "markdown",
   "metadata": {},
   "source": [
    "- Apply Support Vector Regression. Predict CO emission using other variables.\n",
    "    - What is the model $R^2$?\n",
    "    - What is the $R^2$ on validation data?\n",
    "    - What is the RMSE on training data?\n",
    "    - What is the RMSE on validation data?\n",
    "    \n",
    "- Apply the process above using **linear kernel SVR**, **polynomial kernel SVR**, and **RBF kernel SVR**.\n",
    "\n",
    "- Take RBF Kernel SVM and perform some hyperparameter tuning. See if you can increase the $R^2$ score.\n",
    "    - During this process this make sure it doesn't overfit the data. \n",
    "    - Look into the `C` and `gamma` values."
   ]
  },
  {
   "cell_type": "code",
   "execution_count": 53,
   "metadata": {},
   "outputs": [],
   "source": [
    "SVR_Model = SVR()"
   ]
  },
  {
   "cell_type": "code",
   "execution_count": 54,
   "metadata": {},
   "outputs": [
    {
     "data": {
      "text/plain": [
       "SVR()"
      ]
     },
     "execution_count": 54,
     "metadata": {},
     "output_type": "execute_result"
    }
   ],
   "source": [
    "SVR_Model.fit(X_train, y_train)"
   ]
  },
  {
   "cell_type": "code",
   "execution_count": 55,
   "metadata": {},
   "outputs": [],
   "source": [
    "TrainPred = SVR_Model.predict(X_train)"
   ]
  },
  {
   "cell_type": "code",
   "execution_count": 56,
   "metadata": {},
   "outputs": [
    {
     "data": {
      "text/plain": [
       "0.7537814347693682"
      ]
     },
     "execution_count": 56,
     "metadata": {},
     "output_type": "execute_result"
    }
   ],
   "source": [
    "metrics.r2_score(y_true = y_train, y_pred = TrainPred)"
   ]
  },
  {
   "cell_type": "code",
   "execution_count": 57,
   "metadata": {},
   "outputs": [
    {
     "data": {
      "text/plain": [
       "1.0965750440937958"
      ]
     },
     "execution_count": 57,
     "metadata": {},
     "output_type": "execute_result"
    }
   ],
   "source": [
    "MSE_Train = metrics.mean_squared_error(y_true = y_train, y_pred = TrainPred)\n",
    "RMSE_Train = math.sqrt(MSE_Train)\n",
    "RMSE_Train"
   ]
  },
  {
   "cell_type": "markdown",
   "metadata": {},
   "source": [
    "### The training $R^2$ score is 0.75 and the RMSE score is 1.1"
   ]
  },
  {
   "cell_type": "code",
   "execution_count": 58,
   "metadata": {},
   "outputs": [],
   "source": [
    "TestPred = SVR_Model.predict(X_val)"
   ]
  },
  {
   "cell_type": "code",
   "execution_count": 59,
   "metadata": {},
   "outputs": [
    {
     "data": {
      "text/plain": [
       "0.7239434577070454"
      ]
     },
     "execution_count": 59,
     "metadata": {},
     "output_type": "execute_result"
    }
   ],
   "source": [
    "metrics.r2_score(y_true = y_val, y_pred = TestPred)"
   ]
  },
  {
   "cell_type": "code",
   "execution_count": 60,
   "metadata": {},
   "outputs": [
    {
     "data": {
      "text/plain": [
       "1.2006587843948826"
      ]
     },
     "execution_count": 60,
     "metadata": {},
     "output_type": "execute_result"
    }
   ],
   "source": [
    "MSE_Test = metrics.mean_squared_error(y_true = y_val, y_pred = TestPred)\n",
    "RMSE_Test = math.sqrt(MSE_Test)\n",
    "RMSE_Test"
   ]
  },
  {
   "cell_type": "markdown",
   "metadata": {},
   "source": [
    "### The validation $R^2$ score is 0.72 and the RMSE score is 1.2"
   ]
  },
  {
   "cell_type": "markdown",
   "metadata": {},
   "source": [
    "### Linear SVM Regressor"
   ]
  },
  {
   "cell_type": "code",
   "execution_count": 61,
   "metadata": {},
   "outputs": [],
   "source": [
    "svr_lin = SVR(kernel='linear', C=1e3)"
   ]
  },
  {
   "cell_type": "code",
   "execution_count": 62,
   "metadata": {},
   "outputs": [
    {
     "data": {
      "text/plain": [
       "SVR(C=1000.0, kernel='linear')"
      ]
     },
     "execution_count": 62,
     "metadata": {},
     "output_type": "execute_result"
    }
   ],
   "source": [
    "svr_lin.fit(X_train, y_train)"
   ]
  },
  {
   "cell_type": "code",
   "execution_count": 63,
   "metadata": {},
   "outputs": [],
   "source": [
    "TrainPred = svr_lin.predict(X_train)"
   ]
  },
  {
   "cell_type": "code",
   "execution_count": 64,
   "metadata": {},
   "outputs": [
    {
     "data": {
      "text/plain": [
       "0.6149426892609726"
      ]
     },
     "execution_count": 64,
     "metadata": {},
     "output_type": "execute_result"
    }
   ],
   "source": [
    "metrics.r2_score(y_true = y_train, y_pred = TrainPred)"
   ]
  },
  {
   "cell_type": "code",
   "execution_count": 65,
   "metadata": {},
   "outputs": [
    {
     "data": {
      "text/plain": [
       "1.3713257989253163"
      ]
     },
     "execution_count": 65,
     "metadata": {},
     "output_type": "execute_result"
    }
   ],
   "source": [
    "MSE_Train = metrics.mean_squared_error(y_true = y_train, y_pred = TrainPred)\n",
    "RMSE_Train = math.sqrt(MSE_Train)\n",
    "RMSE_Train"
   ]
  },
  {
   "cell_type": "markdown",
   "metadata": {},
   "source": [
    "### The training $R^2$ value is 0.61 and the RMSE score is 1.37"
   ]
  },
  {
   "cell_type": "code",
   "execution_count": 66,
   "metadata": {},
   "outputs": [],
   "source": [
    "TestPred = svr_lin.predict(X_val)"
   ]
  },
  {
   "cell_type": "code",
   "execution_count": 67,
   "metadata": {},
   "outputs": [
    {
     "data": {
      "text/plain": [
       "0.5930338258255874"
      ]
     },
     "execution_count": 67,
     "metadata": {},
     "output_type": "execute_result"
    }
   ],
   "source": [
    "metrics.r2_score(y_true = y_val, y_pred = TestPred)"
   ]
  },
  {
   "cell_type": "code",
   "execution_count": 68,
   "metadata": {},
   "outputs": [
    {
     "data": {
      "text/plain": [
       "1.4578060135156587"
      ]
     },
     "execution_count": 68,
     "metadata": {},
     "output_type": "execute_result"
    }
   ],
   "source": [
    "MSE_Test = metrics.mean_squared_error(y_true = y_val, y_pred = TestPred)\n",
    "RMSE_Test = math.sqrt(MSE_Test)\n",
    "RMSE_Test"
   ]
  },
  {
   "cell_type": "markdown",
   "metadata": {},
   "source": [
    "### The validation $R^2$ value is 0.59 and the RMSE value is 1.46"
   ]
  },
  {
   "cell_type": "markdown",
   "metadata": {},
   "source": [
    "### Polynomial Kernel SVM Regressor"
   ]
  },
  {
   "cell_type": "code",
   "execution_count": 69,
   "metadata": {},
   "outputs": [],
   "source": [
    "svr_poly = SVR(kernel='poly', C=1e3, degree=3)"
   ]
  },
  {
   "cell_type": "code",
   "execution_count": 70,
   "metadata": {},
   "outputs": [
    {
     "data": {
      "text/plain": [
       "array([54538131.20261115, 58099567.26492375, 75472028.41162759, ...,\n",
       "       26192005.37934858, 66660764.20259434, 55564528.95199674])"
      ]
     },
     "execution_count": 70,
     "metadata": {},
     "output_type": "execute_result"
    }
   ],
   "source": [
    "svr_poly.fit(X_train, y_train).predict(X)"
   ]
  },
  {
   "cell_type": "code",
   "execution_count": 71,
   "metadata": {},
   "outputs": [],
   "source": [
    "TrainPred = svr_poly.predict(X_train)"
   ]
  },
  {
   "cell_type": "code",
   "execution_count": 72,
   "metadata": {},
   "outputs": [
    {
     "data": {
      "text/plain": [
       "0.7294267445571342"
      ]
     },
     "execution_count": 72,
     "metadata": {},
     "output_type": "execute_result"
    }
   ],
   "source": [
    "metrics.r2_score(y_true = y_train, y_pred = TrainPred)"
   ]
  },
  {
   "cell_type": "code",
   "execution_count": 73,
   "metadata": {},
   "outputs": [
    {
     "data": {
      "text/plain": [
       "1.1495302210444531"
      ]
     },
     "execution_count": 73,
     "metadata": {},
     "output_type": "execute_result"
    }
   ],
   "source": [
    "MSE_Train = metrics.mean_squared_error(y_true = y_train, y_pred = TrainPred)\n",
    "RMSE_Train = math.sqrt(MSE_Train)\n",
    "RMSE_Train"
   ]
  },
  {
   "cell_type": "markdown",
   "metadata": {},
   "source": [
    "### The $R^2$ value for the training set is 0.73 and the RMSE value is 1.15"
   ]
  },
  {
   "cell_type": "code",
   "execution_count": 74,
   "metadata": {},
   "outputs": [],
   "source": [
    "TestPred = svr_poly.predict(X_val)"
   ]
  },
  {
   "cell_type": "code",
   "execution_count": 75,
   "metadata": {},
   "outputs": [
    {
     "data": {
      "text/plain": [
       "0.6736062790139807"
      ]
     },
     "execution_count": 75,
     "metadata": {},
     "output_type": "execute_result"
    }
   ],
   "source": [
    "metrics.r2_score(y_true = y_val, y_pred = TestPred)"
   ]
  },
  {
   "cell_type": "code",
   "execution_count": 76,
   "metadata": {},
   "outputs": [
    {
     "data": {
      "text/plain": [
       "1.305543895305146"
      ]
     },
     "execution_count": 76,
     "metadata": {},
     "output_type": "execute_result"
    }
   ],
   "source": [
    "MSE_Test = metrics.mean_squared_error(y_true = y_val, y_pred = TestPred)\n",
    "RMSE_Test = math.sqrt(MSE_Test)\n",
    "RMSE_Test"
   ]
  },
  {
   "cell_type": "markdown",
   "metadata": {},
   "source": [
    "### The $R^2$ value for the validation set is 0.67 and the RMSE for the validation set is 1.31"
   ]
  },
  {
   "cell_type": "markdown",
   "metadata": {},
   "source": [
    "## RBF kernel SVR"
   ]
  },
  {
   "cell_type": "code",
   "execution_count": 77,
   "metadata": {},
   "outputs": [],
   "source": [
    "svr_rbf = SVR(kernel='rbf', C=1e3, gamma=0.1)"
   ]
  },
  {
   "cell_type": "code",
   "execution_count": 78,
   "metadata": {},
   "outputs": [
    {
     "data": {
      "text/plain": [
       "SVR(C=1000.0, gamma=0.1)"
      ]
     },
     "execution_count": 78,
     "metadata": {},
     "output_type": "execute_result"
    }
   ],
   "source": [
    "svr_rbf.fit(X_train, y_train)"
   ]
  },
  {
   "cell_type": "code",
   "execution_count": 79,
   "metadata": {},
   "outputs": [],
   "source": [
    "TrainPred = svr_rbf.predict(X_train)"
   ]
  },
  {
   "cell_type": "code",
   "execution_count": 80,
   "metadata": {},
   "outputs": [
    {
     "data": {
      "text/plain": [
       "0.7950424425485095"
      ]
     },
     "execution_count": 80,
     "metadata": {},
     "output_type": "execute_result"
    }
   ],
   "source": [
    "metrics.r2_score(y_true = y_train, y_pred = TrainPred)"
   ]
  },
  {
   "cell_type": "code",
   "execution_count": 81,
   "metadata": {},
   "outputs": [
    {
     "data": {
      "text/plain": [
       "1.000483494477407"
      ]
     },
     "execution_count": 81,
     "metadata": {},
     "output_type": "execute_result"
    }
   ],
   "source": [
    "MSE_Train = metrics.mean_squared_error(y_true = y_train, y_pred = TrainPred)\n",
    "RMSE_Train = math.sqrt(MSE_Train)\n",
    "RMSE_Train"
   ]
  },
  {
   "cell_type": "markdown",
   "metadata": {},
   "source": [
    "### The training $R^2$ value is 0.80 and the RMSE score is 1"
   ]
  },
  {
   "cell_type": "code",
   "execution_count": 82,
   "metadata": {},
   "outputs": [],
   "source": [
    "TestPred = svr_rbf.predict(X_val)"
   ]
  },
  {
   "cell_type": "code",
   "execution_count": 83,
   "metadata": {},
   "outputs": [
    {
     "data": {
      "text/plain": [
       "0.6970894436046302"
      ]
     },
     "execution_count": 83,
     "metadata": {},
     "output_type": "execute_result"
    }
   ],
   "source": [
    "metrics.r2_score(y_true = y_val, y_pred = TestPred)"
   ]
  },
  {
   "cell_type": "code",
   "execution_count": 84,
   "metadata": {},
   "outputs": [
    {
     "data": {
      "text/plain": [
       "1.2577020969409263"
      ]
     },
     "execution_count": 84,
     "metadata": {},
     "output_type": "execute_result"
    }
   ],
   "source": [
    "MSE_Test = metrics.mean_squared_error(y_true = y_val, y_pred = TestPred)\n",
    "RMSE_Test = math.sqrt(MSE_Test)\n",
    "RMSE_Test"
   ]
  },
  {
   "cell_type": "markdown",
   "metadata": {},
   "source": [
    "### The validation $R^2$ value is 0.70 and the RMSE score is 1.26"
   ]
  },
  {
   "cell_type": "code",
   "execution_count": 85,
   "metadata": {},
   "outputs": [],
   "source": [
    "def print_results(results):\n",
    "    print('BEST PARAMS: {}\\n'.format(results.best_params_))\n",
    "\n",
    "    means = results.cv_results_['mean_test_score']\n",
    "    stds = results.cv_results_['std_test_score']\n",
    "    for mean, std, params in zip(means, stds, results.cv_results_['params']):\n",
    "        print('{} (+/-{}) for {}'.format(round(mean, 3), round(std * 2, 3), params))"
   ]
  },
  {
   "cell_type": "code",
   "execution_count": 86,
   "metadata": {},
   "outputs": [],
   "source": [
    "parameters = {\n",
    "    'gamma': [0.1, 0.5, 1, 5, 10],\n",
    "    'C': [0.001, 0.005, 0.01, 0.05, 0.1, .5, 1, 5, 10]\n",
    "}"
   ]
  },
  {
   "cell_type": "code",
   "execution_count": 87,
   "metadata": {},
   "outputs": [
    {
     "name": "stdout",
     "output_type": "stream",
     "text": [
      "BEST PARAMS: {'C': 10, 'gamma': 0.1}\n",
      "\n",
      "0.125 (+/-0.043) for {'C': 0.001, 'gamma': 0.1}\n",
      "-0.011 (+/-0.031) for {'C': 0.001, 'gamma': 0.5}\n",
      "-0.048 (+/-0.031) for {'C': 0.001, 'gamma': 1}\n",
      "-0.076 (+/-0.031) for {'C': 0.001, 'gamma': 5}\n",
      "-0.078 (+/-0.031) for {'C': 0.001, 'gamma': 10}\n",
      "0.387 (+/-0.086) for {'C': 0.005, 'gamma': 0.1}\n",
      "0.172 (+/-0.054) for {'C': 0.005, 'gamma': 0.5}\n",
      "0.054 (+/-0.035) for {'C': 0.005, 'gamma': 1}\n",
      "-0.064 (+/-0.03) for {'C': 0.005, 'gamma': 5}\n",
      "-0.074 (+/-0.03) for {'C': 0.005, 'gamma': 10}\n",
      "0.473 (+/-0.104) for {'C': 0.01, 'gamma': 0.1}\n",
      "0.273 (+/-0.071) for {'C': 0.01, 'gamma': 0.5}\n",
      "0.141 (+/-0.048) for {'C': 0.01, 'gamma': 1}\n",
      "-0.048 (+/-0.028) for {'C': 0.01, 'gamma': 5}\n",
      "-0.069 (+/-0.03) for {'C': 0.01, 'gamma': 10}\n",
      "0.641 (+/-0.139) for {'C': 0.05, 'gamma': 0.1}\n",
      "0.478 (+/-0.113) for {'C': 0.05, 'gamma': 0.5}\n",
      "0.352 (+/-0.09) for {'C': 0.05, 'gamma': 1}\n",
      "0.047 (+/-0.031) for {'C': 0.05, 'gamma': 5}\n",
      "-0.027 (+/-0.026) for {'C': 0.05, 'gamma': 10}\n",
      "0.697 (+/-0.153) for {'C': 0.1, 'gamma': 0.1}\n",
      "0.571 (+/-0.129) for {'C': 0.1, 'gamma': 0.5}\n",
      "0.438 (+/-0.107) for {'C': 0.1, 'gamma': 1}\n",
      "0.12 (+/-0.041) for {'C': 0.1, 'gamma': 5}\n",
      "0.015 (+/-0.025) for {'C': 0.1, 'gamma': 10}\n",
      "0.749 (+/-0.168) for {'C': 0.5, 'gamma': 0.1}\n",
      "0.716 (+/-0.155) for {'C': 0.5, 'gamma': 0.5}\n",
      "0.664 (+/-0.143) for {'C': 0.5, 'gamma': 1}\n",
      "0.324 (+/-0.081) for {'C': 0.5, 'gamma': 5}\n",
      "0.185 (+/-0.047) for {'C': 0.5, 'gamma': 10}\n",
      "0.753 (+/-0.171) for {'C': 1, 'gamma': 0.1}\n",
      "0.733 (+/-0.162) for {'C': 1, 'gamma': 0.5}\n",
      "0.703 (+/-0.153) for {'C': 1, 'gamma': 1}\n",
      "0.427 (+/-0.098) for {'C': 1, 'gamma': 5}\n",
      "0.276 (+/-0.064) for {'C': 1, 'gamma': 10}\n",
      "0.758 (+/-0.174) for {'C': 5, 'gamma': 0.1}\n",
      "0.749 (+/-0.173) for {'C': 5, 'gamma': 0.5}\n",
      "0.736 (+/-0.172) for {'C': 5, 'gamma': 1}\n",
      "0.587 (+/-0.123) for {'C': 5, 'gamma': 5}\n",
      "0.447 (+/-0.104) for {'C': 5, 'gamma': 10}\n",
      "0.759 (+/-0.175) for {'C': 10, 'gamma': 0.1}\n",
      "0.748 (+/-0.171) for {'C': 10, 'gamma': 0.5}\n",
      "0.735 (+/-0.17) for {'C': 10, 'gamma': 1}\n",
      "0.597 (+/-0.125) for {'C': 10, 'gamma': 5}\n",
      "0.466 (+/-0.106) for {'C': 10, 'gamma': 10}\n"
     ]
    }
   ],
   "source": [
    "cv = GridSearchCV(svr_rbf, parameters, cv=5)\n",
    "cv.fit(X_train, y_train)\n",
    "\n",
    "print_results(cv)"
   ]
  },
  {
   "cell_type": "code",
   "execution_count": 88,
   "metadata": {},
   "outputs": [],
   "source": [
    "svr_rbf = SVR(kernel='rbf', C=10, gamma=0.1)"
   ]
  },
  {
   "cell_type": "code",
   "execution_count": 89,
   "metadata": {},
   "outputs": [
    {
     "data": {
      "text/plain": [
       "SVR(C=10, gamma=0.1)"
      ]
     },
     "execution_count": 89,
     "metadata": {},
     "output_type": "execute_result"
    }
   ],
   "source": [
    "svr_rbf.fit(X_train, y_train)"
   ]
  },
  {
   "cell_type": "code",
   "execution_count": 90,
   "metadata": {},
   "outputs": [],
   "source": [
    "TrainPred = svr_rbf.predict(X_train)"
   ]
  },
  {
   "cell_type": "code",
   "execution_count": 91,
   "metadata": {},
   "outputs": [
    {
     "data": {
      "text/plain": [
       "0.7667524817588922"
      ]
     },
     "execution_count": 91,
     "metadata": {},
     "output_type": "execute_result"
    }
   ],
   "source": [
    "metrics.r2_score(y_true = y_train, y_pred = TrainPred)"
   ]
  },
  {
   "cell_type": "code",
   "execution_count": 92,
   "metadata": {},
   "outputs": [
    {
     "data": {
      "text/plain": [
       "1.067299916893449"
      ]
     },
     "execution_count": 92,
     "metadata": {},
     "output_type": "execute_result"
    }
   ],
   "source": [
    "MSE_Train = metrics.mean_squared_error(y_true = y_train, y_pred = TrainPred)\n",
    "RMSE_Train = math.sqrt(MSE_Train)\n",
    "RMSE_Train"
   ]
  },
  {
   "cell_type": "code",
   "execution_count": 93,
   "metadata": {},
   "outputs": [],
   "source": [
    "TestPred = svr_rbf.predict(X_val)"
   ]
  },
  {
   "cell_type": "code",
   "execution_count": 94,
   "metadata": {},
   "outputs": [
    {
     "data": {
      "text/plain": [
       "0.738793267251711"
      ]
     },
     "execution_count": 94,
     "metadata": {},
     "output_type": "execute_result"
    }
   ],
   "source": [
    "metrics.r2_score(y_true = y_val, y_pred = TestPred)"
   ]
  },
  {
   "cell_type": "code",
   "execution_count": 95,
   "metadata": {},
   "outputs": [
    {
     "data": {
      "text/plain": [
       "1.1679191086768477"
      ]
     },
     "execution_count": 95,
     "metadata": {},
     "output_type": "execute_result"
    }
   ],
   "source": [
    "MSE_Test = metrics.mean_squared_error(y_true = y_val, y_pred = TestPred)\n",
    "RMSE_Test = math.sqrt(MSE_Test)\n",
    "RMSE_Test"
   ]
  },
  {
   "cell_type": "markdown",
   "metadata": {},
   "source": [
    "### By performing a gridsearch, I found the ideal parameters to be C=10 and gamma = 0.1. After adjusting these parameters, fitting the model and making predictions again, we saw a slight dip in the training $R^2$ score from 0.80 to 0.77, but we saw an increase in the $R^2$ score of the validation model from 0.70 to 0.74."
   ]
  },
  {
   "cell_type": "markdown",
   "metadata": {},
   "source": [
    "## Q5 [10]"
   ]
  },
  {
   "cell_type": "markdown",
   "metadata": {},
   "source": [
    "- Apply PCA and transform the data. \n",
    "- Take sufficient number of components based on variance explained and/or validation accuracy using one of the models from before. (Linear reg, RF reg, or SVR)\n",
    "- Use the PCA transformed data to perform regression.\n",
    "- Apply Linear Regression, Random Forest Regression, and RBF Kernel Support Vector Regression.\n",
    "For each model:\n",
    "    - What is the model $R^2$?\n",
    "    - What is the $R^2$ on validation data?\n",
    "    - What is the RMSE on training data?\n",
    "    - What is the RMSE on validation data?\n",
    "    \n",
    "- Compare these models with their counterparts obtained before. For example: Compare PCA SVR with SVR from before. Use the best hyperparameters obtained from the experiments before to fit the SVR onto the PCA transformed data. Any change in performance? Please explain. \n",
    "- Perform hyperparameter tuning of SVR using PCA transformed data. Any improvement?\n"
   ]
  },
  {
   "cell_type": "code",
   "execution_count": 96,
   "metadata": {},
   "outputs": [],
   "source": [
    "from sklearn.decomposition import PCA"
   ]
  },
  {
   "cell_type": "code",
   "execution_count": 97,
   "metadata": {},
   "outputs": [],
   "source": [
    "pca = PCA(n_components=None)\n",
    "\n",
    "pca.fit(X_train)\n",
    "X_train_pca = pca.transform(X_train)\n",
    "X_val_pca = pca.transform(X_val)\n",
    "X_test_pca = pca.transform(X_test)"
   ]
  },
  {
   "cell_type": "code",
   "execution_count": 98,
   "metadata": {},
   "outputs": [
    {
     "data": {
      "text/plain": [
       "array([5.81314778e-01, 2.07936879e-01, 9.93025006e-02, 5.49454071e-02,\n",
       "       4.35326353e-02, 9.09814154e-03, 3.62801262e-03, 1.66600851e-04,\n",
       "       7.50450512e-05])"
      ]
     },
     "execution_count": 98,
     "metadata": {},
     "output_type": "execute_result"
    }
   ],
   "source": [
    "pca.explained_variance_ratio_"
   ]
  },
  {
   "cell_type": "markdown",
   "metadata": {},
   "source": [
    "### I will choose to use 4 components because they have a combined variance of over 90%"
   ]
  },
  {
   "cell_type": "code",
   "execution_count": 99,
   "metadata": {},
   "outputs": [],
   "source": [
    "pca_train = PCA(n_components = 4)"
   ]
  },
  {
   "cell_type": "code",
   "execution_count": 100,
   "metadata": {},
   "outputs": [],
   "source": [
    "pca_train.fit(X_train)\n",
    "X_train_pca = pca_train.transform(X_train)\n",
    "X_val_pca = pca_train.transform(X_val)\n",
    "X_test_pca = pca_train.transform(X_test)"
   ]
  },
  {
   "cell_type": "code",
   "execution_count": 101,
   "metadata": {},
   "outputs": [],
   "source": [
    "reg = LinearRegression().fit(X_train_pca, y_train)"
   ]
  },
  {
   "cell_type": "code",
   "execution_count": 102,
   "metadata": {},
   "outputs": [],
   "source": [
    "TrainPred = reg.predict(X_train_pca)"
   ]
  },
  {
   "cell_type": "code",
   "execution_count": 103,
   "metadata": {},
   "outputs": [
    {
     "data": {
      "text/plain": [
       "0.6128523714371701"
      ]
     },
     "execution_count": 103,
     "metadata": {},
     "output_type": "execute_result"
    }
   ],
   "source": [
    "metrics.r2_score(y_true = y_train, y_pred = TrainPred)"
   ]
  },
  {
   "cell_type": "code",
   "execution_count": 104,
   "metadata": {},
   "outputs": [],
   "source": [
    "TestPred = reg.predict(X_val_pca)"
   ]
  },
  {
   "cell_type": "code",
   "execution_count": 105,
   "metadata": {},
   "outputs": [
    {
     "data": {
      "text/plain": [
       "0.5925986135843698"
      ]
     },
     "execution_count": 105,
     "metadata": {},
     "output_type": "execute_result"
    }
   ],
   "source": [
    "metrics.r2_score(y_true = y_val, y_pred = TestPred)"
   ]
  },
  {
   "cell_type": "code",
   "execution_count": 106,
   "metadata": {},
   "outputs": [
    {
     "data": {
      "text/plain": [
       "1.3750429430125595"
      ]
     },
     "execution_count": 106,
     "metadata": {},
     "output_type": "execute_result"
    }
   ],
   "source": [
    "MSE_Train = metrics.mean_squared_error(y_true = y_train, y_pred = TrainPred)\n",
    "RMSE_Train = math.sqrt(MSE_Train)\n",
    "RMSE_Train"
   ]
  },
  {
   "cell_type": "code",
   "execution_count": 107,
   "metadata": {},
   "outputs": [
    {
     "data": {
      "text/plain": [
       "1.4585852987864274"
      ]
     },
     "execution_count": 107,
     "metadata": {},
     "output_type": "execute_result"
    }
   ],
   "source": [
    "MSE_Test = metrics.mean_squared_error(y_true = y_val, y_pred = TestPred)\n",
    "RMSE_Test = math.sqrt(MSE_Test)\n",
    "RMSE_Test"
   ]
  },
  {
   "cell_type": "markdown",
   "metadata": {},
   "source": [
    "### For linear regression, once the PCA was applied the training $R^2$ score was 0.61 and the RMSE score is 1.38 and the validation $R^2$ score 0.59 and a validation RMSE score of 1.46"
   ]
  },
  {
   "cell_type": "code",
   "execution_count": 108,
   "metadata": {},
   "outputs": [],
   "source": [
    "regr = RandomForestRegressor(n_estimators = 75, min_samples_split = 2, ccp_alpha = 0.1).fit(X_train_pca, y_train)"
   ]
  },
  {
   "cell_type": "code",
   "execution_count": 109,
   "metadata": {},
   "outputs": [],
   "source": [
    "TrainPred = regr.predict(X_train_pca)"
   ]
  },
  {
   "cell_type": "code",
   "execution_count": 110,
   "metadata": {},
   "outputs": [
    {
     "data": {
      "text/plain": [
       "0.7231293179181915"
      ]
     },
     "execution_count": 110,
     "metadata": {},
     "output_type": "execute_result"
    }
   ],
   "source": [
    "metrics.r2_score(y_true = y_train, y_pred = TrainPred)"
   ]
  },
  {
   "cell_type": "code",
   "execution_count": 111,
   "metadata": {},
   "outputs": [],
   "source": [
    "TestPred = regr.predict(X_val_pca)"
   ]
  },
  {
   "cell_type": "code",
   "execution_count": 112,
   "metadata": {},
   "outputs": [
    {
     "data": {
      "text/plain": [
       "0.6206852019409694"
      ]
     },
     "execution_count": 112,
     "metadata": {},
     "output_type": "execute_result"
    }
   ],
   "source": [
    "metrics.r2_score(y_true = y_val, y_pred = TestPred)"
   ]
  },
  {
   "cell_type": "code",
   "execution_count": 113,
   "metadata": {},
   "outputs": [
    {
     "data": {
      "text/plain": [
       "1.162830582312317"
      ]
     },
     "execution_count": 113,
     "metadata": {},
     "output_type": "execute_result"
    }
   ],
   "source": [
    "MSE_Train = metrics.mean_squared_error(y_true = y_train, y_pred = TrainPred)\n",
    "RMSE_Train = math.sqrt(MSE_Train)\n",
    "RMSE_Train"
   ]
  },
  {
   "cell_type": "code",
   "execution_count": 114,
   "metadata": {},
   "outputs": [
    {
     "data": {
      "text/plain": [
       "1.4074094853091657"
      ]
     },
     "execution_count": 114,
     "metadata": {},
     "output_type": "execute_result"
    }
   ],
   "source": [
    "MSE_Test = metrics.mean_squared_error(y_true = y_val, y_pred = TestPred)\n",
    "RMSE_Test = math.sqrt(MSE_Test)\n",
    "RMSE_Test"
   ]
  },
  {
   "cell_type": "markdown",
   "metadata": {},
   "source": [
    "### For the random forest regression, the training set had a $R^2$ score of 0.72 and an RMSE score of 1.16 and the validation set had a $R^2$ score of 0.62 and a RMSE score of 1.41"
   ]
  },
  {
   "cell_type": "code",
   "execution_count": 115,
   "metadata": {},
   "outputs": [],
   "source": [
    "svr_rbf = SVR(kernel='rbf', C=10, gamma=0.1).fit(X_train_pca, y_train)"
   ]
  },
  {
   "cell_type": "code",
   "execution_count": 116,
   "metadata": {},
   "outputs": [],
   "source": [
    "TrainPred = svr_rbf.predict(X_train_pca)"
   ]
  },
  {
   "cell_type": "code",
   "execution_count": 117,
   "metadata": {},
   "outputs": [
    {
     "data": {
      "text/plain": [
       "0.7456823389845232"
      ]
     },
     "execution_count": 117,
     "metadata": {},
     "output_type": "execute_result"
    }
   ],
   "source": [
    "metrics.r2_score(y_true = y_train, y_pred = TrainPred)"
   ]
  },
  {
   "cell_type": "code",
   "execution_count": 118,
   "metadata": {},
   "outputs": [],
   "source": [
    "TestPred = svr_rbf.predict(X_val_pca)"
   ]
  },
  {
   "cell_type": "code",
   "execution_count": 119,
   "metadata": {},
   "outputs": [
    {
     "data": {
      "text/plain": [
       "0.705196268757198"
      ]
     },
     "execution_count": 119,
     "metadata": {},
     "output_type": "execute_result"
    }
   ],
   "source": [
    "metrics.r2_score(y_true = y_val, y_pred = TestPred)"
   ]
  },
  {
   "cell_type": "code",
   "execution_count": 120,
   "metadata": {},
   "outputs": [
    {
     "data": {
      "text/plain": [
       "1.1144644514946784"
      ]
     },
     "execution_count": 120,
     "metadata": {},
     "output_type": "execute_result"
    }
   ],
   "source": [
    "MSE_Train = metrics.mean_squared_error(y_true = y_train, y_pred = TrainPred)\n",
    "RMSE_Train = math.sqrt(MSE_Train)\n",
    "RMSE_Train"
   ]
  },
  {
   "cell_type": "code",
   "execution_count": 121,
   "metadata": {},
   "outputs": [
    {
     "data": {
      "text/plain": [
       "1.240757955908685"
      ]
     },
     "execution_count": 121,
     "metadata": {},
     "output_type": "execute_result"
    }
   ],
   "source": [
    "MSE_Test = metrics.mean_squared_error(y_true = y_val, y_pred = TestPred)\n",
    "RMSE_Test = math.sqrt(MSE_Test)\n",
    "RMSE_Test"
   ]
  },
  {
   "cell_type": "markdown",
   "metadata": {},
   "source": [
    "### The training set for svr_rbf returned a $R^2$ value of 0.75 and a RMSE of 1.11 and the validation set returned a $R^2$ value of 0.71 and a RMSE value of 1.24"
   ]
  },
  {
   "cell_type": "markdown",
   "metadata": {},
   "source": [
    "### For the linear regression model, the $R^2$ values decreased for both the training (from 0.65 to 0.61) and valdiation sets (from 0.63 to 0.59). The RMSE values also increased for both sets (training from 1.31 to 1.38 and validation from 1.39 to 1.46).\n",
    "### For the random forest, the training $R^2$ also decreased, from 0.75 to 0.72 and the validation $R^2$ also decreased from 0.69 to 0.62\n",
    "### The Support Vector Regression also saw a decrease in $R^2$ scores, the training scores decreased from 0.77 to 0.75 and the validation scores decreased from 0.74 to 0.70"
   ]
  },
  {
   "cell_type": "markdown",
   "metadata": {},
   "source": [
    "## Q6 [10]"
   ]
  },
  {
   "cell_type": "markdown",
   "metadata": {},
   "source": [
    "- Apply Kernel PCA (KPCA) and transform the data. \n",
    "- After the kernel transformation of your data/vectors live in different feature space.\n",
    "    - That's why in KPCA you will (in many cases) have more dimensions than your original number of features! \n",
    "    - The full returned matrix will be NxN size. \n",
    "    - Here we will select 100 componenets to cut on training time, otherwise it might take too long.\n",
    "- You can either stick with 100 kernel principal components or take lesser number of components. You can make use of the `lambdas_` attribute which are the eigenvalues in the higher dimensional space - and act similar to PCA variance explained.\n",
    "- Use the KPCA transformed data to perform regression.\n",
    "- Now apply Linear Regression, Random Forest Regression, and RBF Kernel Support Vector Regression.\n",
    "For each model:\n",
    "    - What is the model $R^2$?\n",
    "    - What is the $R^2$ on validation data?\n",
    "    - What is the RMSE on training data?\n",
    "    - What is the RMSE on validation data?\n",
    "    \n",
    "- Compare these models with their counterparts obtained before. For example: Compare KPCA SVR with SVR and PCA SVR from before. Use the best hyperparameters obtained from the experiments before. \n",
    "    - Is there any change in performance when compared to models trained on original data? Please explain. \n",
    "    - Is there any change in performance when compared to models trained on PCA transformed data? Please explain. \n",
    "    \n",
    "- Perform hyperparameter tuning of SVR using KPCA transformed data. Any improvement?\n",
    "\n",
    "======== \n",
    "- What is your conclusion considering all the regression models? Which one would you choose as your final contender?"
   ]
  },
  {
   "cell_type": "code",
   "execution_count": 122,
   "metadata": {},
   "outputs": [],
   "source": [
    "from sklearn.decomposition import KernelPCA\n"
   ]
  },
  {
   "cell_type": "code",
   "execution_count": 123,
   "metadata": {},
   "outputs": [],
   "source": [
    "kpca = KernelPCA(n_components=100, kernel='rbf', n_jobs=-1, remove_zero_eig=True, random_state='RandomState')\n",
    "kpca.fit(X_train)\n",
    "X_train_kpca = kpca.transform(X_train)\n",
    "X_val_kpca = kpca.transform(X_val)"
   ]
  },
  {
   "cell_type": "code",
   "execution_count": 124,
   "metadata": {},
   "outputs": [
    {
     "data": {
      "text/plain": [
       "(4651, 100)"
      ]
     },
     "execution_count": 124,
     "metadata": {},
     "output_type": "execute_result"
    }
   ],
   "source": [
    "X_train_kpca.shape"
   ]
  },
  {
   "cell_type": "code",
   "execution_count": 125,
   "metadata": {},
   "outputs": [
    {
     "data": {
      "text/plain": [
       "(1994, 100)"
      ]
     },
     "execution_count": 125,
     "metadata": {},
     "output_type": "execute_result"
    }
   ],
   "source": [
    "X_val_kpca.shape"
   ]
  },
  {
   "cell_type": "code",
   "execution_count": 126,
   "metadata": {},
   "outputs": [],
   "source": [
    "reg = LinearRegression()"
   ]
  },
  {
   "cell_type": "code",
   "execution_count": 127,
   "metadata": {},
   "outputs": [
    {
     "data": {
      "text/plain": [
       "LinearRegression()"
      ]
     },
     "execution_count": 127,
     "metadata": {},
     "output_type": "execute_result"
    }
   ],
   "source": [
    "reg.fit(X_train_kpca, y_train)"
   ]
  },
  {
   "cell_type": "code",
   "execution_count": 128,
   "metadata": {},
   "outputs": [],
   "source": [
    "TrainPred = reg.predict(X_train_kpca)"
   ]
  },
  {
   "cell_type": "code",
   "execution_count": 129,
   "metadata": {},
   "outputs": [
    {
     "data": {
      "text/plain": [
       "0.7580770439351178"
      ]
     },
     "execution_count": 129,
     "metadata": {},
     "output_type": "execute_result"
    }
   ],
   "source": [
    "metrics.r2_score(y_true = y_train, y_pred = TrainPred)"
   ]
  },
  {
   "cell_type": "code",
   "execution_count": 130,
   "metadata": {},
   "outputs": [
    {
     "data": {
      "text/plain": [
       "1.086967352556054"
      ]
     },
     "execution_count": 130,
     "metadata": {},
     "output_type": "execute_result"
    }
   ],
   "source": [
    "MSE_Train = metrics.mean_squared_error(y_true = y_train, y_pred = TrainPred)\n",
    "RMSE_Train = math.sqrt(MSE_Train)\n",
    "RMSE_Train"
   ]
  },
  {
   "cell_type": "code",
   "execution_count": 131,
   "metadata": {},
   "outputs": [],
   "source": [
    "TestPred = reg.predict(X_val_kpca)"
   ]
  },
  {
   "cell_type": "code",
   "execution_count": 132,
   "metadata": {},
   "outputs": [
    {
     "data": {
      "text/plain": [
       "0.7255978146578295"
      ]
     },
     "execution_count": 132,
     "metadata": {},
     "output_type": "execute_result"
    }
   ],
   "source": [
    "metrics.r2_score(y_true = y_val, y_pred = TestPred)"
   ]
  },
  {
   "cell_type": "code",
   "execution_count": 133,
   "metadata": {},
   "outputs": [
    {
     "data": {
      "text/plain": [
       "1.1970557126273629"
      ]
     },
     "execution_count": 133,
     "metadata": {},
     "output_type": "execute_result"
    }
   ],
   "source": [
    "MSE_Test = metrics.mean_squared_error(y_true = y_val, y_pred = TestPred)\n",
    "RMSE_Test = math.sqrt(MSE_Test)\n",
    "RMSE_Test"
   ]
  },
  {
   "cell_type": "markdown",
   "metadata": {},
   "source": [
    "## Linear Regression\n",
    "### For the training set the $R^2$ value is 0.76 and the RMSE value is 1.09. For the validation set, the $R^2$ value is 0.73 and the RMSE value is 1.20"
   ]
  },
  {
   "cell_type": "code",
   "execution_count": 134,
   "metadata": {},
   "outputs": [],
   "source": [
    "regr = RandomForestRegressor(n_estimators = 75, min_samples_split = 2, ccp_alpha = 0.1).fit(X_train_kpca, y_train)"
   ]
  },
  {
   "cell_type": "code",
   "execution_count": 135,
   "metadata": {},
   "outputs": [],
   "source": [
    "TrainPred = regr.predict(X_train_kpca)"
   ]
  },
  {
   "cell_type": "code",
   "execution_count": 136,
   "metadata": {},
   "outputs": [
    {
     "data": {
      "text/plain": [
       "0.7590823180269908"
      ]
     },
     "execution_count": 136,
     "metadata": {},
     "output_type": "execute_result"
    }
   ],
   "source": [
    "metrics.r2_score(y_true = y_train, y_pred = TrainPred)"
   ]
  },
  {
   "cell_type": "code",
   "execution_count": 137,
   "metadata": {},
   "outputs": [
    {
     "data": {
      "text/plain": [
       "1.0847066377442958"
      ]
     },
     "execution_count": 137,
     "metadata": {},
     "output_type": "execute_result"
    }
   ],
   "source": [
    "MSE_Train = metrics.mean_squared_error(y_true = y_train, y_pred = TrainPred)\n",
    "RMSE_Train = math.sqrt(MSE_Train)\n",
    "RMSE_Train"
   ]
  },
  {
   "cell_type": "code",
   "execution_count": 138,
   "metadata": {},
   "outputs": [],
   "source": [
    "TestPred = regr.predict(X_val_kpca)"
   ]
  },
  {
   "cell_type": "code",
   "execution_count": 139,
   "metadata": {},
   "outputs": [
    {
     "data": {
      "text/plain": [
       "0.6471638110315807"
      ]
     },
     "execution_count": 139,
     "metadata": {},
     "output_type": "execute_result"
    }
   ],
   "source": [
    "metrics.r2_score(y_true = y_val, y_pred = TestPred)"
   ]
  },
  {
   "cell_type": "code",
   "execution_count": 140,
   "metadata": {},
   "outputs": [
    {
     "data": {
      "text/plain": [
       "1.357397802999127"
      ]
     },
     "execution_count": 140,
     "metadata": {},
     "output_type": "execute_result"
    }
   ],
   "source": [
    "MSE_Test = metrics.mean_squared_error(y_true = y_val, y_pred = TestPred)\n",
    "RMSE_Test = math.sqrt(MSE_Test)\n",
    "RMSE_Test"
   ]
  },
  {
   "cell_type": "markdown",
   "metadata": {},
   "source": [
    "## Random Forest\n",
    "### For the training set the $R^2$ value is 0.76 and the RMSE value is 1.08. For the validation set the $R^2$ value is 0.65 and the RMSE value is 1.36"
   ]
  },
  {
   "cell_type": "code",
   "execution_count": 141,
   "metadata": {},
   "outputs": [],
   "source": [
    "svr_rbf = SVR(kernel='rbf', C=10, gamma=0.1).fit(X_train_kpca, y_train)"
   ]
  },
  {
   "cell_type": "code",
   "execution_count": 142,
   "metadata": {},
   "outputs": [],
   "source": [
    "TrainPred = svr_rbf.predict(X_train_kpca)"
   ]
  },
  {
   "cell_type": "code",
   "execution_count": 143,
   "metadata": {},
   "outputs": [
    {
     "data": {
      "text/plain": [
       "0.7529633384307788"
      ]
     },
     "execution_count": 143,
     "metadata": {},
     "output_type": "execute_result"
    }
   ],
   "source": [
    "metrics.r2_score(y_true = y_train, y_pred = TrainPred)"
   ]
  },
  {
   "cell_type": "code",
   "execution_count": 144,
   "metadata": {},
   "outputs": [
    {
     "data": {
      "text/plain": [
       "1.0983952969128699"
      ]
     },
     "execution_count": 144,
     "metadata": {},
     "output_type": "execute_result"
    }
   ],
   "source": [
    "MSE_Train = metrics.mean_squared_error(y_true = y_train, y_pred = TrainPred)\n",
    "RMSE_Train = math.sqrt(MSE_Train)\n",
    "RMSE_Train"
   ]
  },
  {
   "cell_type": "code",
   "execution_count": 145,
   "metadata": {},
   "outputs": [],
   "source": [
    "TestPred = svr_rbf.predict(X_val_kpca)"
   ]
  },
  {
   "cell_type": "code",
   "execution_count": 146,
   "metadata": {},
   "outputs": [
    {
     "data": {
      "text/plain": [
       "0.7304797312459077"
      ]
     },
     "execution_count": 146,
     "metadata": {},
     "output_type": "execute_result"
    }
   ],
   "source": [
    "metrics.r2_score(y_true = y_val, y_pred = TestPred)"
   ]
  },
  {
   "cell_type": "code",
   "execution_count": 147,
   "metadata": {},
   "outputs": [
    {
     "data": {
      "text/plain": [
       "1.186359455923635"
      ]
     },
     "execution_count": 147,
     "metadata": {},
     "output_type": "execute_result"
    }
   ],
   "source": [
    "MSE_Test = metrics.mean_squared_error(y_true = y_val, y_pred = TestPred)\n",
    "RMSE_Test = math.sqrt(MSE_Test)\n",
    "RMSE_Test"
   ]
  },
  {
   "cell_type": "markdown",
   "metadata": {},
   "source": [
    "## RBF Kernal Support Vector Regression\n",
    "### For the training set the $R^2$ value is 0.75 and the RMSE score is 1.10. For the validation set, the $R^2$ value is 0.73 and the RMSE value is 1.19"
   ]
  },
  {
   "cell_type": "markdown",
   "metadata": {},
   "source": [
    "### The linear regression saw improvement across the board, in the training set, the $R^2$ value increase to 0.76 and the RMSE value fell to it's lowest at 1.09. For the validation set, we saw the highest $R^2$ value of 0.73 and the lowest RMSE value of 1.2.\n",
    "### For Random Forest, the $R^2$ score for training set was 0.76, which is the highest for random forest so far. The $R^2$ score for the validation set came in at 0.65, which was between the first two $R^2$ values, higher than the PCA regression, but lower than the original regression.\n",
    "### For the Support Vector Regression, the $R^2$ value for the training set was 0.75 which is the same as the inital $R^2$ score, and the validation set had an $R^2$ value of 0.73, which is between the other two $R^2$ values, higher than the PCA score but lower than the orignal score."
   ]
  },
  {
   "cell_type": "code",
   "execution_count": 148,
   "metadata": {},
   "outputs": [],
   "source": [
    "parameters = {\n",
    "    'gamma': [0.1, 0.5, 1, 5, 10],\n",
    "    'C': [0.001, 0.005, 0.01, 0.05, 0.1, .5, 1, 5, 10]\n",
    "}"
   ]
  },
  {
   "cell_type": "code",
   "execution_count": 149,
   "metadata": {},
   "outputs": [
    {
     "name": "stdout",
     "output_type": "stream",
     "text": [
      "BEST PARAMS: {'C': 10, 'gamma': 0.5}\n",
      "\n",
      "-0.038 (+/-0.03) for {'C': 0.001, 'gamma': 0.1}\n",
      "0.036 (+/-0.033) for {'C': 0.001, 'gamma': 0.5}\n",
      "0.046 (+/-0.035) for {'C': 0.001, 'gamma': 1}\n",
      "-0.046 (+/-0.031) for {'C': 0.001, 'gamma': 5}\n",
      "-0.066 (+/-0.031) for {'C': 0.001, 'gamma': 10}\n",
      "0.099 (+/-0.041) for {'C': 0.005, 'gamma': 0.1}\n",
      "0.28 (+/-0.069) for {'C': 0.005, 'gamma': 0.5}\n",
      "0.293 (+/-0.071) for {'C': 0.005, 'gamma': 1}\n",
      "0.064 (+/-0.036) for {'C': 0.005, 'gamma': 5}\n",
      "-0.021 (+/-0.028) for {'C': 0.005, 'gamma': 10}\n",
      "0.211 (+/-0.057) for {'C': 0.01, 'gamma': 0.1}\n",
      "0.384 (+/-0.088) for {'C': 0.01, 'gamma': 0.5}\n",
      "0.395 (+/-0.091) for {'C': 0.01, 'gamma': 1}\n",
      "0.156 (+/-0.05) for {'C': 0.01, 'gamma': 5}\n",
      "0.029 (+/-0.032) for {'C': 0.01, 'gamma': 10}\n",
      "0.451 (+/-0.099) for {'C': 0.05, 'gamma': 0.1}\n",
      "0.575 (+/-0.124) for {'C': 0.05, 'gamma': 0.5}\n",
      "0.587 (+/-0.128) for {'C': 0.05, 'gamma': 1}\n",
      "0.378 (+/-0.095) for {'C': 0.05, 'gamma': 5}\n",
      "0.22 (+/-0.063) for {'C': 0.05, 'gamma': 10}\n",
      "0.529 (+/-0.115) for {'C': 0.1, 'gamma': 0.1}\n",
      "0.644 (+/-0.139) for {'C': 0.1, 'gamma': 0.5}\n",
      "0.655 (+/-0.141) for {'C': 0.1, 'gamma': 1}\n",
      "0.469 (+/-0.112) for {'C': 0.1, 'gamma': 5}\n",
      "0.311 (+/-0.082) for {'C': 0.1, 'gamma': 10}\n",
      "0.685 (+/-0.149) for {'C': 0.5, 'gamma': 0.1}\n",
      "0.742 (+/-0.164) for {'C': 0.5, 'gamma': 0.5}\n",
      "0.745 (+/-0.165) for {'C': 0.5, 'gamma': 1}\n",
      "0.687 (+/-0.145) for {'C': 0.5, 'gamma': 5}\n",
      "0.555 (+/-0.121) for {'C': 0.5, 'gamma': 10}\n",
      "0.728 (+/-0.16) for {'C': 1, 'gamma': 0.1}\n",
      "0.75 (+/-0.168) for {'C': 1, 'gamma': 0.5}\n",
      "0.752 (+/-0.169) for {'C': 1, 'gamma': 1}\n",
      "0.721 (+/-0.156) for {'C': 1, 'gamma': 5}\n",
      "0.651 (+/-0.134) for {'C': 1, 'gamma': 10}\n",
      "0.75 (+/-0.169) for {'C': 5, 'gamma': 0.1}\n",
      "0.757 (+/-0.175) for {'C': 5, 'gamma': 0.5}\n",
      "0.757 (+/-0.176) for {'C': 5, 'gamma': 1}\n",
      "0.743 (+/-0.17) for {'C': 5, 'gamma': 5}\n",
      "0.712 (+/-0.161) for {'C': 5, 'gamma': 10}\n",
      "0.753 (+/-0.172) for {'C': 10, 'gamma': 0.1}\n",
      "0.758 (+/-0.177) for {'C': 10, 'gamma': 0.5}\n",
      "0.756 (+/-0.177) for {'C': 10, 'gamma': 1}\n",
      "0.741 (+/-0.165) for {'C': 10, 'gamma': 5}\n",
      "0.711 (+/-0.162) for {'C': 10, 'gamma': 10}\n"
     ]
    }
   ],
   "source": [
    "cv = GridSearchCV(svr_rbf, parameters, cv=5)\n",
    "cv.fit(X_train_kpca, y_train)\n",
    "\n",
    "print_results(cv)"
   ]
  },
  {
   "cell_type": "code",
   "execution_count": 150,
   "metadata": {},
   "outputs": [],
   "source": [
    "svr_rbf = SVR(kernel='rbf', C=10, gamma=0.5)"
   ]
  },
  {
   "cell_type": "code",
   "execution_count": 151,
   "metadata": {},
   "outputs": [
    {
     "data": {
      "text/plain": [
       "SVR(C=10, gamma=0.5)"
      ]
     },
     "execution_count": 151,
     "metadata": {},
     "output_type": "execute_result"
    }
   ],
   "source": [
    "svr_rbf.fit(X_train_kpca, y_train)"
   ]
  },
  {
   "cell_type": "code",
   "execution_count": 152,
   "metadata": {},
   "outputs": [],
   "source": [
    "TrainPred = svr_rbf.predict(X_train_kpca)"
   ]
  },
  {
   "cell_type": "code",
   "execution_count": 153,
   "metadata": {},
   "outputs": [
    {
     "data": {
      "text/plain": [
       "0.7684172900202348"
      ]
     },
     "execution_count": 153,
     "metadata": {},
     "output_type": "execute_result"
    }
   ],
   "source": [
    "metrics.r2_score(y_true = y_train, y_pred = TrainPred)"
   ]
  },
  {
   "cell_type": "code",
   "execution_count": 154,
   "metadata": {},
   "outputs": [
    {
     "data": {
      "text/plain": [
       "1.063484159983866"
      ]
     },
     "execution_count": 154,
     "metadata": {},
     "output_type": "execute_result"
    }
   ],
   "source": [
    "MSE_Train = metrics.mean_squared_error(y_true = y_train, y_pred = TrainPred)\n",
    "RMSE_Train = math.sqrt(MSE_Train)\n",
    "RMSE_Train"
   ]
  },
  {
   "cell_type": "code",
   "execution_count": 155,
   "metadata": {},
   "outputs": [],
   "source": [
    "TestPred = svr_rbf.predict(X_val_kpca)"
   ]
  },
  {
   "cell_type": "code",
   "execution_count": 156,
   "metadata": {},
   "outputs": [
    {
     "data": {
      "text/plain": [
       "0.7370339476138834"
      ]
     },
     "execution_count": 156,
     "metadata": {},
     "output_type": "execute_result"
    }
   ],
   "source": [
    "metrics.r2_score(y_true = y_val, y_pred = TestPred)"
   ]
  },
  {
   "cell_type": "code",
   "execution_count": 157,
   "metadata": {},
   "outputs": [
    {
     "data": {
      "text/plain": [
       "1.1718456819881358"
      ]
     },
     "execution_count": 157,
     "metadata": {},
     "output_type": "execute_result"
    }
   ],
   "source": [
    "MSE_Test = metrics.mean_squared_error(y_true = y_val, y_pred = TestPred)\n",
    "RMSE_Test = math.sqrt(MSE_Test)\n",
    "RMSE_Test"
   ]
  },
  {
   "cell_type": "markdown",
   "metadata": {},
   "source": [
    "### After identify the optimal parameters and applying them to the Support Vector Regression, There was a slight improvement in the $R^2$ scores for both training (from 0.75 to 0.77) and validation (from 0.73 to 0.74)"
   ]
  },
  {
   "cell_type": "markdown",
   "metadata": {},
   "source": [
    "### Overall, the best regression model would be to the Support Vector Regression we just tuned with a training $R^2$ score of 0.77 and an RMSE value of 1.06 and a validation $R^2$ score of 0.74 and an RMSE value of 1.17"
   ]
  },
  {
   "cell_type": "markdown",
   "metadata": {},
   "source": [
    "## Q7 [10]"
   ]
  },
  {
   "cell_type": "markdown",
   "metadata": {},
   "source": [
    "#### Let's do some classification "
   ]
  },
  {
   "cell_type": "markdown",
   "metadata": {},
   "source": [
    "We will convert CO target values into binary form by comparing them to a threshold. $ 0 - 3  mg/m^3$ is the range of max 8-hour avg. ambient CO in most US cities. So let's take that.  \n",
    "[CO Levels of Concern in Government Recommendations and Regulations](https://www.carbonmonoxidekills.com/are-you-at-risk/carbon-monoxide-levels/)"
   ]
  },
  {
   "cell_type": "code",
   "execution_count": 158,
   "metadata": {},
   "outputs": [],
   "source": [
    "from sklearn.preprocessing import Binarizer"
   ]
  },
  {
   "cell_type": "code",
   "execution_count": 159,
   "metadata": {},
   "outputs": [],
   "source": [
    "binarizer = Binarizer(threshold=3)"
   ]
  },
  {
   "cell_type": "code",
   "execution_count": 160,
   "metadata": {},
   "outputs": [],
   "source": [
    "y_train_cat = binarizer.transform(y_train.values.reshape(-1,1)).ravel()\n",
    "y_val_cat = binarizer.transform(y_val.values.reshape(-1,1)).ravel()\n",
    "y_test_cat = binarizer.transform(y_test.values.reshape(-1,1)).ravel()"
   ]
  },
  {
   "cell_type": "code",
   "execution_count": 161,
   "metadata": {},
   "outputs": [
    {
     "data": {
      "image/png": "[encoded data removed]",
      "text/plain": [
       "<Figure size 432x288 with 1 Axes>"
      ]
     },
     "metadata": {
      "needs_background": "light"
     },
     "output_type": "display_data"
    }
   ],
   "source": [
    "plt.hist(y_train_cat);"
   ]
  },
  {
   "cell_type": "code",
   "execution_count": 162,
   "metadata": {},
   "outputs": [
    {
     "data": {
      "image/png": "[encoded data removed]",
      "text/plain": [
       "<Figure size 432x288 with 1 Axes>"
      ]
     },
     "metadata": {
      "needs_background": "light"
     },
     "output_type": "display_data"
    }
   ],
   "source": [
    "plt.hist(y_val_cat);"
   ]
  },
  {
   "cell_type": "markdown",
   "metadata": {},
   "source": [
    "### Fit RBF Kernel SVM Classifier\n",
    "\n",
    "#### 1. Standardized training data \n",
    "- Using the standardized training data perform grid search:\n",
    "    - Find the best combination of the `C` and `gamma` hyper-parameters.  \n",
    "- For the best model:\n",
    "    - Either using the confusion matrix or the methods in `sklearn.metrics` get the following metrics on the validation set:\n",
    "     - Create confusion matrix\n",
    "     - Recall (Sensitivity)\n",
    "     - Specificity\n",
    "     - Precision\n",
    "     - Balanced Accuracy\n",
    "     - F1 Score\n",
    "     \n",
    "\n",
    "#### 2. PCA transformed training data \n",
    "- Using the **pca** transformed training data perform grid search:\n",
    "    - Find the best combination of the `C` and `gamma` hyper-parameters.  \n",
    "- For the best model:\n",
    "    - Either using the confusion matrix or the methods in `sklearn.metrics` get the following metrics on the validation set:\n",
    "         - Create confusion matrix\n",
    "         - Recall (Sensitivity)\n",
    "         - Specificity\n",
    "         - Precision\n",
    "         - Balanced Accuracy\n",
    "         - F1 Score\n",
    "\n",
    "    \n",
    "\n",
    "#### 3. Kernel PCA transformed training data\n",
    "- Using the **kernel pca** transformed training data perform grid search:\n",
    "    - Find the best combination of the `C` and `gamma` hyper-parameters.  \n",
    "- For the best model:\n",
    "    - Either using the confusion matrix or the methods in `sklearn.metrics` get the following metrics on the validation set:\n",
    "         - Create confusion matrix\n",
    "         - Recall (Sensitivity)\n",
    "         - Specificity\n",
    "         - Precision\n",
    "         - Balanced Accuracy\n",
    "         - F1 Score\n",
    "\n",
    "- Compare the results of Kernel RBF SVM model 1, 2, and 3. Which one is the best?\n",
    "    \n"
   ]
  },
  {
   "cell_type": "code",
   "execution_count": 163,
   "metadata": {},
   "outputs": [],
   "source": [
    "from sklearn.svm import SVC"
   ]
  },
  {
   "cell_type": "code",
   "execution_count": 164,
   "metadata": {},
   "outputs": [],
   "source": [
    "estimator = SVC(kernel ='rbf')"
   ]
  },
  {
   "cell_type": "markdown",
   "metadata": {},
   "source": [
    "### SVC Model 1 "
   ]
  },
  {
   "cell_type": "code",
   "execution_count": 165,
   "metadata": {},
   "outputs": [],
   "source": [
    "parameters = {\n",
    "    'gamma': [0.1, 0.5, 1, 5, 10],\n",
    "    'C': [0.001, 0.005, 0.01, 0.05, 0.1, .5, 1, 5, 10]\n",
    "}"
   ]
  },
  {
   "cell_type": "code",
   "execution_count": 166,
   "metadata": {},
   "outputs": [
    {
     "name": "stdout",
     "output_type": "stream",
     "text": [
      "BEST PARAMS: {'C': 10, 'gamma': 0.5}\n",
      "\n",
      "0.617 (+/-0.001) for {'C': 0.001, 'gamma': 0.1}\n",
      "0.617 (+/-0.001) for {'C': 0.001, 'gamma': 0.5}\n",
      "0.617 (+/-0.001) for {'C': 0.001, 'gamma': 1}\n",
      "0.617 (+/-0.001) for {'C': 0.001, 'gamma': 5}\n",
      "0.617 (+/-0.001) for {'C': 0.001, 'gamma': 10}\n",
      "0.892 (+/-0.024) for {'C': 0.005, 'gamma': 0.1}\n",
      "0.72 (+/-0.009) for {'C': 0.005, 'gamma': 0.5}\n",
      "0.617 (+/-0.001) for {'C': 0.005, 'gamma': 1}\n",
      "0.617 (+/-0.001) for {'C': 0.005, 'gamma': 5}\n",
      "0.617 (+/-0.001) for {'C': 0.005, 'gamma': 10}\n",
      "0.895 (+/-0.018) for {'C': 0.01, 'gamma': 0.1}\n",
      "0.871 (+/-0.01) for {'C': 0.01, 'gamma': 0.5}\n",
      "0.678 (+/-0.002) for {'C': 0.01, 'gamma': 1}\n",
      "0.617 (+/-0.001) for {'C': 0.01, 'gamma': 5}\n",
      "0.617 (+/-0.001) for {'C': 0.01, 'gamma': 10}\n",
      "0.908 (+/-0.017) for {'C': 0.05, 'gamma': 0.1}\n",
      "0.913 (+/-0.019) for {'C': 0.05, 'gamma': 0.5}\n",
      "0.911 (+/-0.02) for {'C': 0.05, 'gamma': 1}\n",
      "0.618 (+/-0.003) for {'C': 0.05, 'gamma': 5}\n",
      "0.617 (+/-0.001) for {'C': 0.05, 'gamma': 10}\n",
      "0.913 (+/-0.015) for {'C': 0.1, 'gamma': 0.1}\n",
      "0.914 (+/-0.017) for {'C': 0.1, 'gamma': 0.5}\n",
      "0.913 (+/-0.021) for {'C': 0.1, 'gamma': 1}\n",
      "0.688 (+/-0.01) for {'C': 0.1, 'gamma': 5}\n",
      "0.617 (+/-0.001) for {'C': 0.1, 'gamma': 10}\n",
      "0.916 (+/-0.011) for {'C': 0.5, 'gamma': 0.1}\n",
      "0.916 (+/-0.014) for {'C': 0.5, 'gamma': 0.5}\n",
      "0.914 (+/-0.014) for {'C': 0.5, 'gamma': 1}\n",
      "0.898 (+/-0.013) for {'C': 0.5, 'gamma': 5}\n",
      "0.806 (+/-0.016) for {'C': 0.5, 'gamma': 10}\n",
      "0.917 (+/-0.013) for {'C': 1, 'gamma': 0.1}\n",
      "0.914 (+/-0.014) for {'C': 1, 'gamma': 0.5}\n",
      "0.916 (+/-0.012) for {'C': 1, 'gamma': 1}\n",
      "0.908 (+/-0.012) for {'C': 1, 'gamma': 5}\n",
      "0.865 (+/-0.015) for {'C': 1, 'gamma': 10}\n",
      "0.916 (+/-0.013) for {'C': 5, 'gamma': 0.1}\n",
      "0.916 (+/-0.009) for {'C': 5, 'gamma': 0.5}\n",
      "0.914 (+/-0.01) for {'C': 5, 'gamma': 1}\n",
      "0.902 (+/-0.017) for {'C': 5, 'gamma': 5}\n",
      "0.865 (+/-0.009) for {'C': 5, 'gamma': 10}\n",
      "0.917 (+/-0.017) for {'C': 10, 'gamma': 0.1}\n",
      "0.919 (+/-0.011) for {'C': 10, 'gamma': 0.5}\n",
      "0.909 (+/-0.008) for {'C': 10, 'gamma': 1}\n",
      "0.895 (+/-0.015) for {'C': 10, 'gamma': 5}\n",
      "0.864 (+/-0.012) for {'C': 10, 'gamma': 10}\n"
     ]
    }
   ],
   "source": [
    "cv = GridSearchCV(estimator, parameters, cv=5)\n",
    "cv.fit(X_train, y_train_cat)\n",
    "\n",
    "print_results(cv)"
   ]
  },
  {
   "cell_type": "code",
   "execution_count": 167,
   "metadata": {},
   "outputs": [],
   "source": [
    "estimator = SVC(kernel='rbf', C=10, gamma = 0.5)"
   ]
  },
  {
   "cell_type": "code",
   "execution_count": 168,
   "metadata": {},
   "outputs": [
    {
     "data": {
      "text/plain": [
       "SVC(C=10, gamma=0.5)"
      ]
     },
     "execution_count": 168,
     "metadata": {},
     "output_type": "execute_result"
    }
   ],
   "source": [
    "estimator.fit(X_train, y_train_cat)"
   ]
  },
  {
   "cell_type": "code",
   "execution_count": 169,
   "metadata": {},
   "outputs": [],
   "source": [
    "TrainPred = estimator.predict(X_train)"
   ]
  },
  {
   "cell_type": "code",
   "execution_count": 170,
   "metadata": {
    "scrolled": true
   },
   "outputs": [
    {
     "data": {
      "text/plain": [
       "0.9453880885831004"
      ]
     },
     "execution_count": 170,
     "metadata": {},
     "output_type": "execute_result"
    }
   ],
   "source": [
    "accuracyTrain = metrics.accuracy_score(y_true = y_train_cat, y_pred = TrainPred)\n",
    "accuracyTrain"
   ]
  },
  {
   "cell_type": "code",
   "execution_count": 171,
   "metadata": {},
   "outputs": [],
   "source": [
    "TestPred = estimator.predict(X_val)"
   ]
  },
  {
   "cell_type": "code",
   "execution_count": 172,
   "metadata": {},
   "outputs": [
    {
     "data": {
      "text/plain": [
       "0.9242728184553661"
      ]
     },
     "execution_count": 172,
     "metadata": {},
     "output_type": "execute_result"
    }
   ],
   "source": [
    "accuracyTest = metrics.accuracy_score(y_true = y_val_cat, y_pred = TestPred)\n",
    "accuracyTest"
   ]
  },
  {
   "cell_type": "code",
   "execution_count": 173,
   "metadata": {},
   "outputs": [
    {
     "data": {
      "text/plain": [
       "array([[1118,   77],\n",
       "       [  74,  725]])"
      ]
     },
     "execution_count": 173,
     "metadata": {},
     "output_type": "execute_result"
    }
   ],
   "source": [
    "confusion_matrix(y_val_cat, TestPred)"
   ]
  },
  {
   "cell_type": "code",
   "execution_count": 174,
   "metadata": {},
   "outputs": [
    {
     "data": {
      "text/plain": [
       "0.9073842302878599"
      ]
     },
     "execution_count": 174,
     "metadata": {},
     "output_type": "execute_result"
    }
   ],
   "source": [
    "sklearn.metrics.recall_score(y_true = y_val_cat, y_pred = TestPred)"
   ]
  },
  {
   "cell_type": "code",
   "execution_count": 175,
   "metadata": {},
   "outputs": [
    {
     "data": {
      "text/plain": [
       "0.9355648535564853"
      ]
     },
     "execution_count": 175,
     "metadata": {},
     "output_type": "execute_result"
    }
   ],
   "source": [
    "tn, fp, fn, tp = confusion_matrix(y_true = y_val_cat, y_pred = TestPred).ravel()\n",
    "specificity = tn / (tn+fp)\n",
    "specificity"
   ]
  },
  {
   "cell_type": "code",
   "execution_count": 176,
   "metadata": {},
   "outputs": [
    {
     "data": {
      "text/plain": [
       "0.9039900249376559"
      ]
     },
     "execution_count": 176,
     "metadata": {},
     "output_type": "execute_result"
    }
   ],
   "source": [
    "metrics.precision_score(y_true = y_val_cat, y_pred = TestPred)"
   ]
  },
  {
   "cell_type": "code",
   "execution_count": 177,
   "metadata": {},
   "outputs": [
    {
     "data": {
      "text/plain": [
       "0.9214745419221726"
      ]
     },
     "execution_count": 177,
     "metadata": {},
     "output_type": "execute_result"
    }
   ],
   "source": [
    "metrics.balanced_accuracy_score(y_true = y_val_cat, y_pred = TestPred, sample_weight=None, adjusted=False)"
   ]
  },
  {
   "cell_type": "code",
   "execution_count": 178,
   "metadata": {},
   "outputs": [
    {
     "data": {
      "text/plain": [
       "0.905683947532792"
      ]
     },
     "execution_count": 178,
     "metadata": {},
     "output_type": "execute_result"
    }
   ],
   "source": [
    "sklearn.metrics.f1_score(y_true = y_val_cat, y_pred = TestPred)"
   ]
  },
  {
   "cell_type": "markdown",
   "metadata": {},
   "source": [
    "### The recall score is 0.91\n",
    "### The specificity score is 0.94\n",
    "### The precision score is 0.90\n",
    "### The balanced accuracy score is 0.92\n",
    "### The F1 score is 0.91"
   ]
  },
  {
   "cell_type": "markdown",
   "metadata": {},
   "source": [
    "### SVC Model 2"
   ]
  },
  {
   "cell_type": "code",
   "execution_count": 179,
   "metadata": {},
   "outputs": [],
   "source": [
    "estimator = SVC(kernel ='rbf')"
   ]
  },
  {
   "cell_type": "code",
   "execution_count": 180,
   "metadata": {},
   "outputs": [],
   "source": [
    "parameters = {\n",
    "    'gamma': [0.1, 0.5, 1, 5, 10],\n",
    "    'C': [0.001, 0.005, 0.01, 0.05, 0.1, .5, 1, 5, 10]\n",
    "}"
   ]
  },
  {
   "cell_type": "code",
   "execution_count": 181,
   "metadata": {},
   "outputs": [
    {
     "name": "stdout",
     "output_type": "stream",
     "text": [
      "BEST PARAMS: {'C': 10, 'gamma': 0.1}\n",
      "\n",
      "0.617 (+/-0.001) for {'C': 0.001, 'gamma': 0.1}\n",
      "0.617 (+/-0.001) for {'C': 0.001, 'gamma': 0.5}\n",
      "0.617 (+/-0.001) for {'C': 0.001, 'gamma': 1}\n",
      "0.617 (+/-0.001) for {'C': 0.001, 'gamma': 5}\n",
      "0.617 (+/-0.001) for {'C': 0.001, 'gamma': 10}\n",
      "0.885 (+/-0.029) for {'C': 0.005, 'gamma': 0.1}\n",
      "0.791 (+/-0.01) for {'C': 0.005, 'gamma': 0.5}\n",
      "0.622 (+/-0.005) for {'C': 0.005, 'gamma': 1}\n",
      "0.617 (+/-0.001) for {'C': 0.005, 'gamma': 5}\n",
      "0.617 (+/-0.001) for {'C': 0.005, 'gamma': 10}\n",
      "0.888 (+/-0.021) for {'C': 0.01, 'gamma': 0.1}\n",
      "0.875 (+/-0.019) for {'C': 0.01, 'gamma': 0.5}\n",
      "0.788 (+/-0.004) for {'C': 0.01, 'gamma': 1}\n",
      "0.617 (+/-0.001) for {'C': 0.01, 'gamma': 5}\n",
      "0.617 (+/-0.001) for {'C': 0.01, 'gamma': 10}\n",
      "0.899 (+/-0.015) for {'C': 0.05, 'gamma': 0.1}\n",
      "0.906 (+/-0.02) for {'C': 0.05, 'gamma': 0.5}\n",
      "0.905 (+/-0.021) for {'C': 0.05, 'gamma': 1}\n",
      "0.681 (+/-0.013) for {'C': 0.05, 'gamma': 5}\n",
      "0.617 (+/-0.001) for {'C': 0.05, 'gamma': 10}\n",
      "0.906 (+/-0.015) for {'C': 0.1, 'gamma': 0.1}\n",
      "0.912 (+/-0.017) for {'C': 0.1, 'gamma': 0.5}\n",
      "0.912 (+/-0.019) for {'C': 0.1, 'gamma': 1}\n",
      "0.825 (+/-0.015) for {'C': 0.1, 'gamma': 5}\n",
      "0.642 (+/-0.007) for {'C': 0.1, 'gamma': 10}\n",
      "0.914 (+/-0.016) for {'C': 0.5, 'gamma': 0.1}\n",
      "0.914 (+/-0.014) for {'C': 0.5, 'gamma': 0.5}\n",
      "0.91 (+/-0.012) for {'C': 0.5, 'gamma': 1}\n",
      "0.908 (+/-0.015) for {'C': 0.5, 'gamma': 5}\n",
      "0.88 (+/-0.009) for {'C': 0.5, 'gamma': 10}\n",
      "0.915 (+/-0.017) for {'C': 1, 'gamma': 0.1}\n",
      "0.912 (+/-0.014) for {'C': 1, 'gamma': 0.5}\n",
      "0.911 (+/-0.01) for {'C': 1, 'gamma': 1}\n",
      "0.909 (+/-0.013) for {'C': 1, 'gamma': 5}\n",
      "0.893 (+/-0.014) for {'C': 1, 'gamma': 10}\n",
      "0.916 (+/-0.017) for {'C': 5, 'gamma': 0.1}\n",
      "0.911 (+/-0.016) for {'C': 5, 'gamma': 0.5}\n",
      "0.911 (+/-0.01) for {'C': 5, 'gamma': 1}\n",
      "0.9 (+/-0.012) for {'C': 5, 'gamma': 5}\n",
      "0.885 (+/-0.015) for {'C': 5, 'gamma': 10}\n",
      "0.916 (+/-0.016) for {'C': 10, 'gamma': 0.1}\n",
      "0.913 (+/-0.013) for {'C': 10, 'gamma': 0.5}\n",
      "0.909 (+/-0.017) for {'C': 10, 'gamma': 1}\n",
      "0.894 (+/-0.017) for {'C': 10, 'gamma': 5}\n",
      "0.88 (+/-0.017) for {'C': 10, 'gamma': 10}\n"
     ]
    }
   ],
   "source": [
    "cv = GridSearchCV(estimator, parameters, cv=5)\n",
    "cv.fit(X_train_pca, y_train_cat)\n",
    "\n",
    "print_results(cv)"
   ]
  },
  {
   "cell_type": "code",
   "execution_count": 182,
   "metadata": {},
   "outputs": [],
   "source": [
    "estimator = SVC(kernel='rbf', C=10, gamma = 0.1)"
   ]
  },
  {
   "cell_type": "code",
   "execution_count": 183,
   "metadata": {},
   "outputs": [
    {
     "data": {
      "text/plain": [
       "SVC(C=10, gamma=0.1)"
      ]
     },
     "execution_count": 183,
     "metadata": {},
     "output_type": "execute_result"
    }
   ],
   "source": [
    "estimator.fit(X_train_pca, y_train_cat)"
   ]
  },
  {
   "cell_type": "code",
   "execution_count": 184,
   "metadata": {},
   "outputs": [],
   "source": [
    "TrainPred = estimator.predict(X_train_pca)"
   ]
  },
  {
   "cell_type": "code",
   "execution_count": 185,
   "metadata": {},
   "outputs": [
    {
     "data": {
      "text/plain": [
       "0.9180821328746506"
      ]
     },
     "execution_count": 185,
     "metadata": {},
     "output_type": "execute_result"
    }
   ],
   "source": [
    "accuracyTrain = metrics.accuracy_score(y_true = y_train_cat, y_pred = TrainPred)\n",
    "accuracyTrain"
   ]
  },
  {
   "cell_type": "code",
   "execution_count": 186,
   "metadata": {},
   "outputs": [],
   "source": [
    "TestPred = estimator.predict(X_val_pca)"
   ]
  },
  {
   "cell_type": "code",
   "execution_count": 187,
   "metadata": {},
   "outputs": [
    {
     "data": {
      "text/plain": [
       "0.9147442326980942"
      ]
     },
     "execution_count": 187,
     "metadata": {},
     "output_type": "execute_result"
    }
   ],
   "source": [
    "accuracyTest = metrics.accuracy_score(y_true = y_val_cat, y_pred = TestPred)\n",
    "accuracyTest"
   ]
  },
  {
   "cell_type": "code",
   "execution_count": 188,
   "metadata": {},
   "outputs": [
    {
     "data": {
      "text/plain": [
       "array([[1123,   72],\n",
       "       [  98,  701]])"
      ]
     },
     "execution_count": 188,
     "metadata": {},
     "output_type": "execute_result"
    }
   ],
   "source": [
    "confusion_matrix(y_val_cat, TestPred)"
   ]
  },
  {
   "cell_type": "code",
   "execution_count": 189,
   "metadata": {},
   "outputs": [
    {
     "data": {
      "text/plain": [
       "0.8773466833541927"
      ]
     },
     "execution_count": 189,
     "metadata": {},
     "output_type": "execute_result"
    }
   ],
   "source": [
    "sklearn.metrics.recall_score(y_true = y_val_cat, y_pred = TestPred)"
   ]
  },
  {
   "cell_type": "code",
   "execution_count": 190,
   "metadata": {},
   "outputs": [
    {
     "data": {
      "text/plain": [
       "0.9397489539748954"
      ]
     },
     "execution_count": 190,
     "metadata": {},
     "output_type": "execute_result"
    }
   ],
   "source": [
    "tn, fp, fn, tp = confusion_matrix(y_true = y_val_cat, y_pred = TestPred).ravel()\n",
    "specificity = tn / (tn+fp)\n",
    "specificity"
   ]
  },
  {
   "cell_type": "code",
   "execution_count": 191,
   "metadata": {},
   "outputs": [
    {
     "data": {
      "text/plain": [
       "0.906856403622251"
      ]
     },
     "execution_count": 191,
     "metadata": {},
     "output_type": "execute_result"
    }
   ],
   "source": [
    "metrics.precision_score(y_true = y_val_cat, y_pred = TestPred)"
   ]
  },
  {
   "cell_type": "code",
   "execution_count": 192,
   "metadata": {},
   "outputs": [
    {
     "data": {
      "text/plain": [
       "0.9085478186645441"
      ]
     },
     "execution_count": 192,
     "metadata": {},
     "output_type": "execute_result"
    }
   ],
   "source": [
    "metrics.balanced_accuracy_score(y_true = y_val_cat, y_pred = TestPred, sample_weight=None, adjusted=False)"
   ]
  },
  {
   "cell_type": "code",
   "execution_count": 193,
   "metadata": {},
   "outputs": [
    {
     "data": {
      "text/plain": [
       "0.8918575063613232"
      ]
     },
     "execution_count": 193,
     "metadata": {},
     "output_type": "execute_result"
    }
   ],
   "source": [
    "sklearn.metrics.f1_score(y_true = y_val_cat, y_pred = TestPred)"
   ]
  },
  {
   "cell_type": "markdown",
   "metadata": {},
   "source": [
    "### The recall score is 0.88\n",
    "### The specificity score is 0.94\n",
    "### The precision score is 0.91\n",
    "### The balanced accuracy score is 0.91\n",
    "### The F1 score is 0.89"
   ]
  },
  {
   "cell_type": "markdown",
   "metadata": {},
   "source": [
    "### SVC Model 3"
   ]
  },
  {
   "cell_type": "code",
   "execution_count": 194,
   "metadata": {},
   "outputs": [],
   "source": [
    "estimator = SVC(kernel ='rbf')"
   ]
  },
  {
   "cell_type": "code",
   "execution_count": 195,
   "metadata": {},
   "outputs": [],
   "source": [
    "parameters = {\n",
    "    'gamma': [0.1, 0.5, 1, 5, 10],\n",
    "    'C': [0.001, 0.005, 0.01, 0.05, 0.1, .5, 1, 5, 10]\n",
    "}"
   ]
  },
  {
   "cell_type": "code",
   "execution_count": 196,
   "metadata": {},
   "outputs": [
    {
     "name": "stdout",
     "output_type": "stream",
     "text": [
      "BEST PARAMS: {'C': 5, 'gamma': 0.1}\n",
      "\n",
      "0.617 (+/-0.001) for {'C': 0.001, 'gamma': 0.1}\n",
      "0.617 (+/-0.001) for {'C': 0.001, 'gamma': 0.5}\n",
      "0.617 (+/-0.001) for {'C': 0.001, 'gamma': 1}\n",
      "0.617 (+/-0.001) for {'C': 0.001, 'gamma': 5}\n",
      "0.617 (+/-0.001) for {'C': 0.001, 'gamma': 10}\n",
      "0.617 (+/-0.001) for {'C': 0.005, 'gamma': 0.1}\n",
      "0.867 (+/-0.024) for {'C': 0.005, 'gamma': 0.5}\n",
      "0.874 (+/-0.022) for {'C': 0.005, 'gamma': 1}\n",
      "0.617 (+/-0.001) for {'C': 0.005, 'gamma': 5}\n",
      "0.617 (+/-0.001) for {'C': 0.005, 'gamma': 10}\n",
      "0.757 (+/-0.006) for {'C': 0.01, 'gamma': 0.1}\n",
      "0.895 (+/-0.016) for {'C': 0.01, 'gamma': 0.5}\n",
      "0.9 (+/-0.014) for {'C': 0.01, 'gamma': 1}\n",
      "0.694 (+/-0.008) for {'C': 0.01, 'gamma': 5}\n",
      "0.617 (+/-0.001) for {'C': 0.01, 'gamma': 10}\n",
      "0.896 (+/-0.017) for {'C': 0.05, 'gamma': 0.1}\n",
      "0.909 (+/-0.015) for {'C': 0.05, 'gamma': 0.5}\n",
      "0.912 (+/-0.019) for {'C': 0.05, 'gamma': 1}\n",
      "0.913 (+/-0.019) for {'C': 0.05, 'gamma': 5}\n",
      "0.841 (+/-0.014) for {'C': 0.05, 'gamma': 10}\n",
      "0.901 (+/-0.017) for {'C': 0.1, 'gamma': 0.1}\n",
      "0.913 (+/-0.018) for {'C': 0.1, 'gamma': 0.5}\n",
      "0.914 (+/-0.021) for {'C': 0.1, 'gamma': 1}\n",
      "0.913 (+/-0.017) for {'C': 0.1, 'gamma': 5}\n",
      "0.908 (+/-0.013) for {'C': 0.1, 'gamma': 10}\n",
      "0.912 (+/-0.016) for {'C': 0.5, 'gamma': 0.1}\n",
      "0.916 (+/-0.013) for {'C': 0.5, 'gamma': 0.5}\n",
      "0.915 (+/-0.013) for {'C': 0.5, 'gamma': 1}\n",
      "0.914 (+/-0.014) for {'C': 0.5, 'gamma': 5}\n",
      "0.915 (+/-0.016) for {'C': 0.5, 'gamma': 10}\n",
      "0.913 (+/-0.015) for {'C': 1, 'gamma': 0.1}\n",
      "0.916 (+/-0.013) for {'C': 1, 'gamma': 0.5}\n",
      "0.914 (+/-0.01) for {'C': 1, 'gamma': 1}\n",
      "0.915 (+/-0.013) for {'C': 1, 'gamma': 5}\n",
      "0.914 (+/-0.011) for {'C': 1, 'gamma': 10}\n",
      "0.917 (+/-0.014) for {'C': 5, 'gamma': 0.1}\n",
      "0.914 (+/-0.014) for {'C': 5, 'gamma': 0.5}\n",
      "0.916 (+/-0.016) for {'C': 5, 'gamma': 1}\n",
      "0.913 (+/-0.008) for {'C': 5, 'gamma': 5}\n",
      "0.906 (+/-0.011) for {'C': 5, 'gamma': 10}\n",
      "0.917 (+/-0.014) for {'C': 10, 'gamma': 0.1}\n",
      "0.916 (+/-0.012) for {'C': 10, 'gamma': 0.5}\n",
      "0.917 (+/-0.011) for {'C': 10, 'gamma': 1}\n",
      "0.91 (+/-0.008) for {'C': 10, 'gamma': 5}\n",
      "0.902 (+/-0.014) for {'C': 10, 'gamma': 10}\n"
     ]
    }
   ],
   "source": [
    "cv = GridSearchCV(estimator, parameters, cv=5)\n",
    "cv.fit(X_train_kpca, y_train_cat)\n",
    "\n",
    "print_results(cv)"
   ]
  },
  {
   "cell_type": "code",
   "execution_count": 197,
   "metadata": {},
   "outputs": [],
   "source": [
    "estimator = SVC(kernel='rbf', C=5, gamma = 0.1)"
   ]
  },
  {
   "cell_type": "code",
   "execution_count": 198,
   "metadata": {},
   "outputs": [
    {
     "data": {
      "text/plain": [
       "SVC(C=5, gamma=0.1)"
      ]
     },
     "execution_count": 198,
     "metadata": {},
     "output_type": "execute_result"
    }
   ],
   "source": [
    "estimator.fit(X_train_kpca, y_train_cat)"
   ]
  },
  {
   "cell_type": "code",
   "execution_count": 199,
   "metadata": {},
   "outputs": [],
   "source": [
    "TrainPred = estimator.predict(X_train_kpca)"
   ]
  },
  {
   "cell_type": "code",
   "execution_count": 200,
   "metadata": {},
   "outputs": [
    {
     "data": {
      "text/plain": [
       "0.9200172006020211"
      ]
     },
     "execution_count": 200,
     "metadata": {},
     "output_type": "execute_result"
    }
   ],
   "source": [
    "accuracyTrain = metrics.accuracy_score(y_true = y_train_cat, y_pred = TrainPred)\n",
    "accuracyTrain"
   ]
  },
  {
   "cell_type": "code",
   "execution_count": 201,
   "metadata": {},
   "outputs": [],
   "source": [
    "TestPred = estimator.predict(X_val_kpca)"
   ]
  },
  {
   "cell_type": "code",
   "execution_count": 202,
   "metadata": {},
   "outputs": [
    {
     "data": {
      "text/plain": [
       "0.9232698094282848"
      ]
     },
     "execution_count": 202,
     "metadata": {},
     "output_type": "execute_result"
    }
   ],
   "source": [
    "accuracyTest = metrics.accuracy_score(y_true = y_val_cat, y_pred = TestPred)\n",
    "accuracyTest"
   ]
  },
  {
   "cell_type": "code",
   "execution_count": 203,
   "metadata": {},
   "outputs": [
    {
     "data": {
      "text/plain": [
       "array([[1127,   68],\n",
       "       [  85,  714]])"
      ]
     },
     "execution_count": 203,
     "metadata": {},
     "output_type": "execute_result"
    }
   ],
   "source": [
    "confusion_matrix(y_val_cat, TestPred)"
   ]
  },
  {
   "cell_type": "code",
   "execution_count": 204,
   "metadata": {},
   "outputs": [
    {
     "data": {
      "text/plain": [
       "0.8936170212765957"
      ]
     },
     "execution_count": 204,
     "metadata": {},
     "output_type": "execute_result"
    }
   ],
   "source": [
    "sklearn.metrics.recall_score(y_true = y_val_cat, y_pred = TestPred)"
   ]
  },
  {
   "cell_type": "code",
   "execution_count": 205,
   "metadata": {},
   "outputs": [
    {
     "data": {
      "text/plain": [
       "0.9430962343096234"
      ]
     },
     "execution_count": 205,
     "metadata": {},
     "output_type": "execute_result"
    }
   ],
   "source": [
    "tn, fp, fn, tp = confusion_matrix(y_true = y_val_cat, y_pred = TestPred).ravel()\n",
    "specificity = tn / (tn+fp)\n",
    "specificity"
   ]
  },
  {
   "cell_type": "code",
   "execution_count": 206,
   "metadata": {},
   "outputs": [
    {
     "data": {
      "text/plain": [
       "0.9130434782608695"
      ]
     },
     "execution_count": 206,
     "metadata": {},
     "output_type": "execute_result"
    }
   ],
   "source": [
    "metrics.precision_score(y_true = y_val_cat, y_pred = TestPred)"
   ]
  },
  {
   "cell_type": "code",
   "execution_count": 207,
   "metadata": {},
   "outputs": [
    {
     "data": {
      "text/plain": [
       "0.9183566277931096"
      ]
     },
     "execution_count": 207,
     "metadata": {},
     "output_type": "execute_result"
    }
   ],
   "source": [
    "metrics.balanced_accuracy_score(y_true = y_val_cat, y_pred = TestPred, sample_weight=None, adjusted=False)"
   ]
  },
  {
   "cell_type": "code",
   "execution_count": 208,
   "metadata": {},
   "outputs": [
    {
     "data": {
      "text/plain": [
       "0.9032258064516129"
      ]
     },
     "execution_count": 208,
     "metadata": {},
     "output_type": "execute_result"
    }
   ],
   "source": [
    "sklearn.metrics.f1_score(y_true = y_val_cat, y_pred = TestPred)"
   ]
  },
  {
   "cell_type": "markdown",
   "metadata": {},
   "source": [
    "### The recall score is 0.89\n",
    "### The specificity score is 0.94\n",
    "### The precision score is 0.91\n",
    "### The balanced accuracy score is 0.92\n",
    "### The F1 score is 0.90"
   ]
  },
  {
   "cell_type": "markdown",
   "metadata": {},
   "source": [
    "### Overall, all 3 model performed pretty well, but the best classifier is SVM Model 1. All 5 scores are over 90 with SVM Model 1. "
   ]
  },
  {
   "cell_type": "markdown",
   "metadata": {},
   "source": [
    "## Q8 [10]"
   ]
  },
  {
   "cell_type": "markdown",
   "metadata": {},
   "source": [
    "- Using the Support Vector Regressor:\n",
    "    - Think of other ways of improving the regression performance and list at least two possibilities.\n",
    "    - You can use any of the datasets we have been using (standardized data, PCA transformed data or the Kernel PCA transformed data), or re-create your own set from the original.\n",
    "    - Implement both of the methods you proposed. \n",
    "    - Is the validation performance increasing? For performance comparison you can use any regression performance metric that you deem to be appropriate. \n",
    "    - If both of them did not improve, comment on why this might have been the case. What else can be done?\n",
    "    - Optional: Apply different methods, ideas as you see fit and see if the validation performance is improving."
   ]
  },
  {
   "cell_type": "markdown",
   "metadata": {},
   "source": [
    "### Two ways we can improve the Support Vector Regressor are by:\n",
    "#### Changing the degree parameter\n",
    "#### Changing the epsilon value"
   ]
  },
  {
   "cell_type": "markdown",
   "metadata": {},
   "source": [
    "### Original Regressor (KPCA):"
   ]
  },
  {
   "cell_type": "code",
   "execution_count": 209,
   "metadata": {},
   "outputs": [],
   "source": [
    "svr_rbf = SVR(kernel='rbf', C=10, gamma=0.5)"
   ]
  },
  {
   "cell_type": "code",
   "execution_count": 210,
   "metadata": {},
   "outputs": [
    {
     "data": {
      "text/plain": [
       "SVR(C=10, gamma=0.5)"
      ]
     },
     "execution_count": 210,
     "metadata": {},
     "output_type": "execute_result"
    }
   ],
   "source": [
    "svr_rbf.fit(X_train_kpca, y_train)"
   ]
  },
  {
   "cell_type": "code",
   "execution_count": 211,
   "metadata": {},
   "outputs": [],
   "source": [
    "TrainPred = svr_rbf.predict(X_train_kpca)"
   ]
  },
  {
   "cell_type": "code",
   "execution_count": 212,
   "metadata": {},
   "outputs": [
    {
     "data": {
      "text/plain": [
       "0.7684172900202348"
      ]
     },
     "execution_count": 212,
     "metadata": {},
     "output_type": "execute_result"
    }
   ],
   "source": [
    "metrics.r2_score(y_true = y_train, y_pred = TrainPred)"
   ]
  },
  {
   "cell_type": "code",
   "execution_count": 213,
   "metadata": {},
   "outputs": [
    {
     "data": {
      "text/plain": [
       "1.063484159983866"
      ]
     },
     "execution_count": 213,
     "metadata": {},
     "output_type": "execute_result"
    }
   ],
   "source": [
    "MSE_Train = metrics.mean_squared_error(y_true = y_train, y_pred = TrainPred)\n",
    "RMSE_Train = math.sqrt(MSE_Train)\n",
    "RMSE_Train"
   ]
  },
  {
   "cell_type": "code",
   "execution_count": 214,
   "metadata": {},
   "outputs": [],
   "source": [
    "TestPred = svr_rbf.predict(X_val_kpca)"
   ]
  },
  {
   "cell_type": "code",
   "execution_count": 215,
   "metadata": {},
   "outputs": [
    {
     "data": {
      "text/plain": [
       "0.7370339476138834"
      ]
     },
     "execution_count": 215,
     "metadata": {},
     "output_type": "execute_result"
    }
   ],
   "source": [
    "metrics.r2_score(y_true = y_val, y_pred = TestPred)"
   ]
  },
  {
   "cell_type": "code",
   "execution_count": 216,
   "metadata": {},
   "outputs": [
    {
     "data": {
      "text/plain": [
       "1.1718456819881358"
      ]
     },
     "execution_count": 216,
     "metadata": {},
     "output_type": "execute_result"
    }
   ],
   "source": [
    "MSE_Test = metrics.mean_squared_error(y_true = y_val, y_pred = TestPred)\n",
    "RMSE_Test = math.sqrt(MSE_Test)\n",
    "RMSE_Test"
   ]
  },
  {
   "cell_type": "markdown",
   "metadata": {},
   "source": [
    "### Changing the degree parameter:"
   ]
  },
  {
   "cell_type": "code",
   "execution_count": 217,
   "metadata": {},
   "outputs": [],
   "source": [
    "parameters = {\n",
    "    'degree': [1, 2, 3, 4, 5, 6, 7, 8, 9, 10]\n",
    "}"
   ]
  },
  {
   "cell_type": "code",
   "execution_count": 218,
   "metadata": {},
   "outputs": [
    {
     "name": "stdout",
     "output_type": "stream",
     "text": [
      "BEST PARAMS: {'degree': 1}\n",
      "\n",
      "0.758 (+/-0.177) for {'degree': 1}\n",
      "0.758 (+/-0.177) for {'degree': 2}\n",
      "0.758 (+/-0.177) for {'degree': 3}\n",
      "0.758 (+/-0.177) for {'degree': 4}\n",
      "0.758 (+/-0.177) for {'degree': 5}\n",
      "0.758 (+/-0.177) for {'degree': 6}\n",
      "0.758 (+/-0.177) for {'degree': 7}\n",
      "0.758 (+/-0.177) for {'degree': 8}\n",
      "0.758 (+/-0.177) for {'degree': 9}\n",
      "0.758 (+/-0.177) for {'degree': 10}\n"
     ]
    }
   ],
   "source": [
    "cv = GridSearchCV(svr_rbf, parameters, cv=5)\n",
    "cv.fit(X_train_kpca, y_train)\n",
    "\n",
    "print_results(cv)"
   ]
  },
  {
   "cell_type": "code",
   "execution_count": 219,
   "metadata": {},
   "outputs": [],
   "source": [
    "svr_rbf = SVR(kernel='rbf', C=10, gamma=0.5, degree = 2)"
   ]
  },
  {
   "cell_type": "code",
   "execution_count": 220,
   "metadata": {},
   "outputs": [
    {
     "data": {
      "text/plain": [
       "SVR(C=10, degree=2, gamma=0.5)"
      ]
     },
     "execution_count": 220,
     "metadata": {},
     "output_type": "execute_result"
    }
   ],
   "source": [
    "svr_rbf.fit(X_train_kpca, y_train)"
   ]
  },
  {
   "cell_type": "code",
   "execution_count": 221,
   "metadata": {},
   "outputs": [],
   "source": [
    "TrainPred = svr_rbf.predict(X_train_kpca)"
   ]
  },
  {
   "cell_type": "code",
   "execution_count": 222,
   "metadata": {},
   "outputs": [
    {
     "data": {
      "text/plain": [
       "0.7684172900202348"
      ]
     },
     "execution_count": 222,
     "metadata": {},
     "output_type": "execute_result"
    }
   ],
   "source": [
    "metrics.r2_score(y_true = y_train, y_pred = TrainPred)"
   ]
  },
  {
   "cell_type": "code",
   "execution_count": 223,
   "metadata": {},
   "outputs": [
    {
     "data": {
      "text/plain": [
       "1.063484159983866"
      ]
     },
     "execution_count": 223,
     "metadata": {},
     "output_type": "execute_result"
    }
   ],
   "source": [
    "MSE_Train = metrics.mean_squared_error(y_true = y_train, y_pred = TrainPred)\n",
    "RMSE_Train = math.sqrt(MSE_Train)\n",
    "RMSE_Train"
   ]
  },
  {
   "cell_type": "code",
   "execution_count": 224,
   "metadata": {},
   "outputs": [],
   "source": [
    "TestPred = svr_rbf.predict(X_val_kpca)"
   ]
  },
  {
   "cell_type": "code",
   "execution_count": 225,
   "metadata": {},
   "outputs": [
    {
     "data": {
      "text/plain": [
       "0.7370339476138834"
      ]
     },
     "execution_count": 225,
     "metadata": {},
     "output_type": "execute_result"
    }
   ],
   "source": [
    "metrics.r2_score(y_true = y_val, y_pred = TestPred)"
   ]
  },
  {
   "cell_type": "code",
   "execution_count": 226,
   "metadata": {},
   "outputs": [
    {
     "data": {
      "text/plain": [
       "1.1718456819881358"
      ]
     },
     "execution_count": 226,
     "metadata": {},
     "output_type": "execute_result"
    }
   ],
   "source": [
    "MSE_Test = metrics.mean_squared_error(y_true = y_val, y_pred = TestPred)\n",
    "RMSE_Test = math.sqrt(MSE_Test)\n",
    "RMSE_Test"
   ]
  },
  {
   "cell_type": "code",
   "execution_count": 227,
   "metadata": {},
   "outputs": [
    {
     "name": "stdout",
     "output_type": "stream",
     "text": [
      "degree = 1, Training r2 = 0.7684172900202348, training RMSE = 1.063484159983866, validation r2 = , validation RMSE = 0.7370339476138834\n"
     ]
    }
   ],
   "source": [
    "degree = 1\n",
    "svr_rbf = SVR(kernel='rbf', C=10, gamma=0.5, degree = 1)\n",
    "svr_rbf.fit(X_train_kpca, y_train)\n",
    "TrainPred = svr_rbf.predict(X_train_kpca)\n",
    "r2Train = metrics.r2_score(y_true = y_train, y_pred = TrainPred)\n",
    "MSE_Train = metrics.mean_squared_error(y_true = y_train, y_pred = TrainPred)\n",
    "RMSE_Train = math.sqrt(MSE_Train)\n",
    "TestPred = svr_rbf.predict(X_val_kpca)\n",
    "r2Test = metrics.r2_score(y_true = y_val, y_pred = TestPred)\n",
    "MSE_Test = metrics.mean_squared_error(y_true = y_val, y_pred = TestPred)\n",
    "RMSE_Test = math.sqrt(MSE_Test)\n",
    "print(\"degree = {}, Training r2 = {}, training RMSE = {}, validation r2 = , validation RMSE = {}\".format(degree, r2Train, RMSE_Train, r2Test, RMSE_Test))"
   ]
  },
  {
   "cell_type": "code",
   "execution_count": 228,
   "metadata": {},
   "outputs": [
    {
     "name": "stdout",
     "output_type": "stream",
     "text": [
      "degree = 2, Training r2 = 0.7684172900202348, training RMSE = 1.063484159983866, validation r2 = 0.7370339476138834, validation RMSE = 1.1718456819881358\n"
     ]
    }
   ],
   "source": [
    "degree = 2\n",
    "svr_rbf = SVR(kernel='rbf', C=10, gamma=0.5, degree = 2)\n",
    "svr_rbf.fit(X_train_kpca, y_train)\n",
    "TrainPred = svr_rbf.predict(X_train_kpca)\n",
    "r2Train = metrics.r2_score(y_true = y_train, y_pred = TrainPred)\n",
    "MSE_Train = metrics.mean_squared_error(y_true = y_train, y_pred = TrainPred)\n",
    "RMSE_Train = math.sqrt(MSE_Train)\n",
    "TestPred = svr_rbf.predict(X_val_kpca)\n",
    "r2Test = metrics.r2_score(y_true = y_val, y_pred = TestPred)\n",
    "MSE_Test = metrics.mean_squared_error(y_true = y_val, y_pred = TestPred)\n",
    "RMSE_Test = math.sqrt(MSE_Test)\n",
    "print(\"degree = {}, Training r2 = {}, training RMSE = {}, validation r2 = {}, validation RMSE = {}\".format(degree, r2Train, RMSE_Train, r2Test, RMSE_Test))"
   ]
  },
  {
   "cell_type": "code",
   "execution_count": 229,
   "metadata": {},
   "outputs": [
    {
     "name": "stdout",
     "output_type": "stream",
     "text": [
      "degree = 4, Training r2 = 0.7684172900202348, training RMSE = 1.063484159983866, validation r2 = 0.7370339476138834, validation RMSE = 1.1718456819881358\n"
     ]
    }
   ],
   "source": [
    "degree = 4\n",
    "svr_rbf = SVR(kernel='rbf', C=10, gamma=0.5, degree = 4)\n",
    "svr_rbf.fit(X_train_kpca, y_train)\n",
    "TrainPred = svr_rbf.predict(X_train_kpca)\n",
    "r2Train = metrics.r2_score(y_true = y_train, y_pred = TrainPred)\n",
    "MSE_Train = metrics.mean_squared_error(y_true = y_train, y_pred = TrainPred)\n",
    "RMSE_Train = math.sqrt(MSE_Train)\n",
    "TestPred = svr_rbf.predict(X_val_kpca)\n",
    "r2Test = metrics.r2_score(y_true = y_val, y_pred = TestPred)\n",
    "MSE_Test = metrics.mean_squared_error(y_true = y_val, y_pred = TestPred)\n",
    "RMSE_Test = math.sqrt(MSE_Test)\n",
    "print(\"degree = {}, Training r2 = {}, training RMSE = {}, validation r2 = {}, validation RMSE = {}\".format(degree, r2Train, RMSE_Train, r2Test, RMSE_Test))"
   ]
  },
  {
   "cell_type": "code",
   "execution_count": 230,
   "metadata": {},
   "outputs": [
    {
     "name": "stdout",
     "output_type": "stream",
     "text": [
      "degree = 10, Training r2 = 0.7684172900202348, training RMSE = 1.063484159983866, validation r2 = 0.7370339476138834, validation RMSE = 1.1718456819881358\n"
     ]
    }
   ],
   "source": [
    "degree = 10\n",
    "svr_rbf = SVR(kernel='rbf', C=10, gamma=0.5, degree = 10)\n",
    "svr_rbf.fit(X_train_kpca, y_train)\n",
    "TrainPred = svr_rbf.predict(X_train_kpca)\n",
    "r2Train = metrics.r2_score(y_true = y_train, y_pred = TrainPred)\n",
    "MSE_Train = metrics.mean_squared_error(y_true = y_train, y_pred = TrainPred)\n",
    "RMSE_Train = math.sqrt(MSE_Train)\n",
    "TestPred = svr_rbf.predict(X_val_kpca)\n",
    "r2Test = metrics.r2_score(y_true = y_val, y_pred = TestPred)\n",
    "MSE_Test = metrics.mean_squared_error(y_true = y_val, y_pred = TestPred)\n",
    "RMSE_Test = math.sqrt(MSE_Test)\n",
    "print(\"degree = {}, Training r2 = {}, training RMSE = {}, validation r2 = {}, validation RMSE = {}\".format(degree, r2Train, RMSE_Train, r2Test, RMSE_Test))"
   ]
  },
  {
   "cell_type": "markdown",
   "metadata": {},
   "source": [
    "### After performing a gridsearch and testing several different values for degree, I can say with confidence that changing the degree does not impact the accuracy of the model for the Support Vector Regressor. "
   ]
  },
  {
   "cell_type": "markdown",
   "metadata": {},
   "source": [
    "### Changing the epsilon value:"
   ]
  },
  {
   "cell_type": "code",
   "execution_count": 231,
   "metadata": {},
   "outputs": [
    {
     "name": "stdout",
     "output_type": "stream",
     "text": [
      "epsilon = 0.05, Training r2 = 0.7681837108835659, training RMSE = 1.0640203509331922, validation r2 = 0.7368181423256492, validation RMSE = 1.172326425852177\n"
     ]
    }
   ],
   "source": [
    "epsilon = 0.05\n",
    "svr_rbf = SVR(kernel='rbf', C=10, gamma=0.5, epsilon = 0.05)\n",
    "svr_rbf.fit(X_train_kpca, y_train)\n",
    "TrainPred = svr_rbf.predict(X_train_kpca)\n",
    "r2Train = metrics.r2_score(y_true = y_train, y_pred = TrainPred)\n",
    "MSE_Train = metrics.mean_squared_error(y_true = y_train, y_pred = TrainPred)\n",
    "RMSE_Train = math.sqrt(MSE_Train)\n",
    "TestPred = svr_rbf.predict(X_val_kpca)\n",
    "r2Test = metrics.r2_score(y_true = y_val, y_pred = TestPred)\n",
    "MSE_Test = metrics.mean_squared_error(y_true = y_val, y_pred = TestPred)\n",
    "RMSE_Test = math.sqrt(MSE_Test)\n",
    "print(\"epsilon = {}, Training r2 = {}, training RMSE = {}, validation r2 = {}, validation RMSE = {}\".format(epsilon, r2Train, RMSE_Train, r2Test, RMSE_Test))\n",
    "\n"
   ]
  },
  {
   "cell_type": "code",
   "execution_count": 232,
   "metadata": {},
   "outputs": [
    {
     "name": "stdout",
     "output_type": "stream",
     "text": [
      "epsilon = 0.5, Training r2 = 0.7694309805814495, training RMSE = 1.0611540504620793, validation r2 = 0.7363136038910802, validation RMSE = 1.173449604587168\n"
     ]
    }
   ],
   "source": [
    "epsilon = 0.5\n",
    "svr_rbf = SVR(kernel='rbf', C=10, gamma=0.5, epsilon = 0.5)\n",
    "svr_rbf.fit(X_train_kpca, y_train)\n",
    "TrainPred = svr_rbf.predict(X_train_kpca)\n",
    "r2Train = metrics.r2_score(y_true = y_train, y_pred = TrainPred)\n",
    "MSE_Train = metrics.mean_squared_error(y_true = y_train, y_pred = TrainPred)\n",
    "RMSE_Train = math.sqrt(MSE_Train)\n",
    "TestPred = svr_rbf.predict(X_val_kpca)\n",
    "r2Test = metrics.r2_score(y_true = y_val, y_pred = TestPred)\n",
    "MSE_Test = metrics.mean_squared_error(y_true = y_val, y_pred = TestPred)\n",
    "RMSE_Test = math.sqrt(MSE_Test)\n",
    "print(\"epsilon = {}, Training r2 = {}, training RMSE = {}, validation r2 = {}, validation RMSE = {}\".format(epsilon, r2Train, RMSE_Train, r2Test, RMSE_Test))\n"
   ]
  },
  {
   "cell_type": "code",
   "execution_count": 233,
   "metadata": {},
   "outputs": [
    {
     "name": "stdout",
     "output_type": "stream",
     "text": [
      "epsilon = 0.9, Training r2 = 0.7648842437250406, training RMSE = 1.0715657574433184, validation r2 = 0.7288774470764732, validation RMSE = 1.189880653392395\n"
     ]
    }
   ],
   "source": [
    "epsilon = 0.9\n",
    "svr_rbf = SVR(kernel='rbf', C=10, gamma=0.5, epsilon = 0.9)\n",
    "svr_rbf.fit(X_train_kpca, y_train)\n",
    "TrainPred = svr_rbf.predict(X_train_kpca)\n",
    "r2Train = metrics.r2_score(y_true = y_train, y_pred = TrainPred)\n",
    "MSE_Train = metrics.mean_squared_error(y_true = y_train, y_pred = TrainPred)\n",
    "RMSE_Train = math.sqrt(MSE_Train)\n",
    "TestPred = svr_rbf.predict(X_val_kpca)\n",
    "r2Test = metrics.r2_score(y_true = y_val, y_pred = TestPred)\n",
    "MSE_Test = metrics.mean_squared_error(y_true = y_val, y_pred = TestPred)\n",
    "RMSE_Test = math.sqrt(MSE_Test)\n",
    "print(\"epsilon = {}, Training r2 = {}, training RMSE = {}, validation r2 = {}, validation RMSE = {}\".format(epsilon, r2Train, RMSE_Train, r2Test, RMSE_Test))\n"
   ]
  },
  {
   "cell_type": "code",
   "execution_count": 234,
   "metadata": {},
   "outputs": [
    {
     "name": "stdout",
     "output_type": "stream",
     "text": [
      "epsilon = 0.2, Training r2 = 0.7689042658690418, training RMSE = 1.0623654157442552, validation r2 = 0.7385191241553051, validation RMSE = 1.1685318283281179\n"
     ]
    }
   ],
   "source": [
    "epsilon = 0.2\n",
    "svr_rbf = SVR(kernel='rbf', C=10, gamma=0.5, epsilon = 0.2)\n",
    "svr_rbf.fit(X_train_kpca, y_train)\n",
    "TrainPred = svr_rbf.predict(X_train_kpca)\n",
    "r2Train = metrics.r2_score(y_true = y_train, y_pred = TrainPred)\n",
    "MSE_Train = metrics.mean_squared_error(y_true = y_train, y_pred = TrainPred)\n",
    "RMSE_Train = math.sqrt(MSE_Train)\n",
    "TestPred = svr_rbf.predict(X_val_kpca)\n",
    "r2Test = metrics.r2_score(y_true = y_val, y_pred = TestPred)\n",
    "MSE_Test = metrics.mean_squared_error(y_true = y_val, y_pred = TestPred)\n",
    "RMSE_Test = math.sqrt(MSE_Test)\n",
    "print(\"epsilon = {}, Training r2 = {}, training RMSE = {}, validation r2 = {}, validation RMSE = {}\".format(epsilon, r2Train, RMSE_Train, r2Test, RMSE_Test))\n"
   ]
  },
  {
   "cell_type": "markdown",
   "metadata": {},
   "source": [
    "### I tested several epsilon values and I could not improve the score. In most cases the $R^2$ values and RMSE values did not change much, but in some cases it lowered. I think that the reason I did not see much change in these cases is that the default values may fit the model more effectively than the new values I tried to insert"
   ]
  },
  {
   "cell_type": "markdown",
   "metadata": {},
   "source": [
    "## Q9 [10]"
   ]
  },
  {
   "cell_type": "markdown",
   "metadata": {},
   "source": [
    "- Using the Support Vector Classifier :\n",
    "    - Think of other ways of improving the clasification performance and list at least two possibilities.\n",
    "    - You can use any of the datasets we have been using (standardized data, PCA transformed data or the Kernel PCA transformed data), or re-create your own set from the original.\n",
    "    - Implement both of the methods you proposed. \n",
    "    - Is the validation performance increasing? For performance comparison you can use any classification performance metric that you deem to be appropriate.\n",
    "    - If both of them did not improve, comment on why this might have been the case. What else can be done?\n",
    "    - Optional: Apply different methods, ideas as you see fit and see if the validation performance is improving."
   ]
  },
  {
   "cell_type": "markdown",
   "metadata": {},
   "source": [
    "### Two ways of improving the support vector classifier are by changing the tol (tolerance level for stopping) or changing the probability to true"
   ]
  },
  {
   "cell_type": "markdown",
   "metadata": {},
   "source": [
    "### Original Classifier:"
   ]
  },
  {
   "cell_type": "code",
   "execution_count": 235,
   "metadata": {},
   "outputs": [
    {
     "name": "stdout",
     "output_type": "stream",
     "text": [
      "Training Accuracy Score: 0.9453880885831004, Validation Accuracy Score: 0.9242728184553661\n"
     ]
    }
   ],
   "source": [
    "estimator = SVC(kernel='rbf', C=10, gamma = 0.5)\n",
    "estimator.fit(X_train, y_train_cat)\n",
    "TrainPred = estimator.predict(X_train)\n",
    "accuracyTrain = metrics.accuracy_score(y_true = y_train_cat, y_pred = TrainPred)\n",
    "TestPred = estimator.predict(X_val)\n",
    "accuracyTest = metrics.accuracy_score(y_true = y_val_cat, y_pred = TestPred)\n",
    "print('Training Accuracy Score: {}, Validation Accuracy Score: {}'.format(accuracyTrain, accuracyTest))"
   ]
  },
  {
   "cell_type": "code",
   "execution_count": 236,
   "metadata": {},
   "outputs": [
    {
     "data": {
      "text/plain": [
       "array([[1118,   77],\n",
       "       [  74,  725]])"
      ]
     },
     "execution_count": 236,
     "metadata": {},
     "output_type": "execute_result"
    }
   ],
   "source": [
    "confusion_matrix(y_val_cat, TestPred)"
   ]
  },
  {
   "cell_type": "code",
   "execution_count": 237,
   "metadata": {
    "scrolled": true
   },
   "outputs": [
    {
     "name": "stdout",
     "output_type": "stream",
     "text": [
      "Recall: 0.9073842302878599, Specificity: 0.9355648535564853, Precision: 0.9039900249376559, Balanced Accuracy: 0.9214745419221726, F1 Score: 0.905683947532792\n"
     ]
    }
   ],
   "source": [
    "Recall = sklearn.metrics.recall_score(y_true = y_val_cat, y_pred = TestPred)\n",
    "tn, fp, fn, tp = confusion_matrix(y_true = y_val_cat, y_pred = TestPred).ravel()\n",
    "specificity = tn / (tn+fp)\n",
    "precision = metrics.precision_score(y_true = y_val_cat, y_pred = TestPred)\n",
    "BalancedAccuracy = metrics.balanced_accuracy_score(y_true = y_val_cat, y_pred = TestPred, sample_weight=None, adjusted=False)\n",
    "F1Score = sklearn.metrics.f1_score(y_true = y_val_cat, y_pred = TestPred)\n",
    "print('Recall: {}, Specificity: {}, Precision: {}, Balanced Accuracy: {}, F1 Score: {}'.format(Recall, specificity, precision, BalancedAccuracy, F1Score))\n",
    "\n"
   ]
  },
  {
   "cell_type": "markdown",
   "metadata": {},
   "source": [
    "### Grid Search for Optimal Parameters:"
   ]
  },
  {
   "cell_type": "code",
   "execution_count": 238,
   "metadata": {},
   "outputs": [],
   "source": [
    "parameters = {\n",
    "    'tol': [0.001, 0.002, 0.005, 0.008, 0.01, 0.05, 0.08, 0.1, 0.5, 0.9],\n",
    "    'probability': [True, False]\n",
    "}"
   ]
  },
  {
   "cell_type": "code",
   "execution_count": 239,
   "metadata": {},
   "outputs": [
    {
     "name": "stdout",
     "output_type": "stream",
     "text": [
      "BEST PARAMS: {'probability': True, 'tol': 0.08}\n",
      "\n",
      "0.919 (+/-0.011) for {'probability': True, 'tol': 0.001}\n",
      "0.919 (+/-0.011) for {'probability': True, 'tol': 0.002}\n",
      "0.919 (+/-0.011) for {'probability': True, 'tol': 0.005}\n",
      "0.919 (+/-0.011) for {'probability': True, 'tol': 0.008}\n",
      "0.919 (+/-0.011) for {'probability': True, 'tol': 0.01}\n",
      "0.919 (+/-0.011) for {'probability': True, 'tol': 0.05}\n",
      "0.919 (+/-0.011) for {'probability': True, 'tol': 0.08}\n",
      "0.919 (+/-0.01) for {'probability': True, 'tol': 0.1}\n",
      "0.918 (+/-0.01) for {'probability': True, 'tol': 0.5}\n",
      "0.915 (+/-0.013) for {'probability': True, 'tol': 0.9}\n",
      "0.919 (+/-0.011) for {'probability': False, 'tol': 0.001}\n",
      "0.919 (+/-0.011) for {'probability': False, 'tol': 0.002}\n",
      "0.919 (+/-0.011) for {'probability': False, 'tol': 0.005}\n",
      "0.919 (+/-0.011) for {'probability': False, 'tol': 0.008}\n",
      "0.919 (+/-0.011) for {'probability': False, 'tol': 0.01}\n",
      "0.919 (+/-0.011) for {'probability': False, 'tol': 0.05}\n",
      "0.919 (+/-0.011) for {'probability': False, 'tol': 0.08}\n",
      "0.919 (+/-0.01) for {'probability': False, 'tol': 0.1}\n",
      "0.918 (+/-0.01) for {'probability': False, 'tol': 0.5}\n",
      "0.915 (+/-0.013) for {'probability': False, 'tol': 0.9}\n"
     ]
    }
   ],
   "source": [
    "cv = GridSearchCV(estimator, parameters, cv=5)\n",
    "cv.fit(X_train, y_train_cat)\n",
    "\n",
    "print_results(cv)"
   ]
  },
  {
   "cell_type": "code",
   "execution_count": 240,
   "metadata": {},
   "outputs": [
    {
     "name": "stdout",
     "output_type": "stream",
     "text": [
      "Training Accuracy Score: 0.9456030961083638, Validation Accuracy Score: 0.9247743229689067\n"
     ]
    }
   ],
   "source": [
    "estimator = SVC(kernel='rbf', C=10, gamma = 0.5, probability = True, tol = 0.08)\n",
    "estimator.fit(X_train, y_train_cat)\n",
    "TrainPred = estimator.predict(X_train)\n",
    "accuracyTrain = metrics.accuracy_score(y_true = y_train_cat, y_pred = TrainPred)\n",
    "TestPred = estimator.predict(X_val)\n",
    "accuracyTest = metrics.accuracy_score(y_true = y_val_cat, y_pred = TestPred)\n",
    "print('Training Accuracy Score: {}, Validation Accuracy Score: {}'.format(accuracyTrain, accuracyTest))"
   ]
  },
  {
   "cell_type": "code",
   "execution_count": 241,
   "metadata": {},
   "outputs": [
    {
     "data": {
      "text/plain": [
       "array([[1117,   78],\n",
       "       [  72,  727]])"
      ]
     },
     "execution_count": 241,
     "metadata": {},
     "output_type": "execute_result"
    }
   ],
   "source": [
    "confusion_matrix(y_val_cat, TestPred)"
   ]
  },
  {
   "cell_type": "code",
   "execution_count": 242,
   "metadata": {},
   "outputs": [
    {
     "name": "stdout",
     "output_type": "stream",
     "text": [
      "Recall: 0.9098873591989988, Specificity: 0.9347280334728033, Precision: 0.9031055900621118, Balanced Accuracy: 0.922307696335901, F1 Score: 0.9064837905236908\n"
     ]
    }
   ],
   "source": [
    "Recall = sklearn.metrics.recall_score(y_true = y_val_cat, y_pred = TestPred)\n",
    "tn, fp, fn, tp = confusion_matrix(y_true = y_val_cat, y_pred = TestPred).ravel()\n",
    "specificity = tn / (tn+fp)\n",
    "precision = metrics.precision_score(y_true = y_val_cat, y_pred = TestPred)\n",
    "BalancedAccuracy = metrics.balanced_accuracy_score(y_true = y_val_cat, y_pred = TestPred, sample_weight=None, adjusted=False)\n",
    "F1Score = sklearn.metrics.f1_score(y_true = y_val_cat, y_pred = TestPred)\n",
    "print('Recall: {}, Specificity: {}, Precision: {}, Balanced Accuracy: {}, F1 Score: {}'.format(Recall, specificity, precision, BalancedAccuracy, F1Score))\n"
   ]
  },
  {
   "cell_type": "markdown",
   "metadata": {},
   "source": [
    "### Overall, there was not a major change in the newly modified classifier. I did observe the following differences through the confusion matrix. The newly tuned model had 1 less true negative value, 1 more false positive value, 2 less false negative values and 2 more true positive values."
   ]
  },
  {
   "cell_type": "markdown",
   "metadata": {},
   "source": [
    "## Q10 [10]"
   ]
  },
  {
   "cell_type": "markdown",
   "metadata": {},
   "source": [
    "- Choose at least (the best) 3 regressors among the trained regressions models:\n",
    "- Create a table summarizing results on the **test** set for regression (with target variables in `y_test`):\n",
    "    - Show the regression performance metric of your choice on test data for each model.\n",
    "- Which model is best for regression? Is this in line with your analysis or is this not expected?\n",
    "\n",
    "\n",
    "\n",
    "- Choose as least (the best) 3 classifiers among the trained classification models:\n",
    "- Create a table summarizing results on the **test** set for classification (with target variables in `y_test_cat`):\n",
    "    - Show the classification performance metric of your choice on test data for each model. \n",
    "- Which model is best for classification? Is this in line with your analysis or is this not expected? \n",
    "\n",
    "\n",
    "\n",
    "> Note that the same transformation used during training should be applied on the testing set. (If you applied PCA on training data for the selected model, you need to apply PCA on the testing set as well.) \n",
    "\n"
   ]
  },
  {
   "cell_type": "markdown",
   "metadata": {},
   "source": [
    "# Regressors\n",
    "### Model 1 -> SVR with kpca:"
   ]
  },
  {
   "cell_type": "code",
   "execution_count": 243,
   "metadata": {},
   "outputs": [],
   "source": [
    "kpca = KernelPCA(n_components=100, kernel='rbf', n_jobs=-1, remove_zero_eig=True, random_state='RandomState')\n",
    "kpca.fit(X_train)\n",
    "X_train_kpca = kpca.transform(X_train)\n",
    "X_val_kpca = kpca.transform(X_val)\n",
    "X_test_kpca = kpca.transform(X_test)"
   ]
  },
  {
   "cell_type": "code",
   "execution_count": 244,
   "metadata": {},
   "outputs": [],
   "source": [
    "svr_rbf = SVR(kernel='rbf', C=10, gamma=0.5)"
   ]
  },
  {
   "cell_type": "code",
   "execution_count": 245,
   "metadata": {},
   "outputs": [
    {
     "data": {
      "text/plain": [
       "SVR(C=10, gamma=0.5)"
      ]
     },
     "execution_count": 245,
     "metadata": {},
     "output_type": "execute_result"
    }
   ],
   "source": [
    "svr_rbf.fit(X_train_kpca, y_train)"
   ]
  },
  {
   "cell_type": "code",
   "execution_count": 246,
   "metadata": {},
   "outputs": [],
   "source": [
    "TrainPred = svr_rbf.predict(X_train_kpca)"
   ]
  },
  {
   "cell_type": "code",
   "execution_count": 247,
   "metadata": {},
   "outputs": [
    {
     "data": {
      "text/plain": [
       "0.7684172900202348"
      ]
     },
     "execution_count": 247,
     "metadata": {},
     "output_type": "execute_result"
    }
   ],
   "source": [
    "metrics.r2_score(y_true = y_train, y_pred = TrainPred)"
   ]
  },
  {
   "cell_type": "code",
   "execution_count": 248,
   "metadata": {},
   "outputs": [
    {
     "data": {
      "text/plain": [
       "1.063484159983866"
      ]
     },
     "execution_count": 248,
     "metadata": {},
     "output_type": "execute_result"
    }
   ],
   "source": [
    "MSE_Train = metrics.mean_squared_error(y_true = y_train, y_pred = TrainPred)\n",
    "RMSE_Train = math.sqrt(MSE_Train)\n",
    "RMSE_Train"
   ]
  },
  {
   "cell_type": "code",
   "execution_count": 249,
   "metadata": {},
   "outputs": [],
   "source": [
    "TestPred = svr_rbf.predict(X_test_kpca)"
   ]
  },
  {
   "cell_type": "code",
   "execution_count": 250,
   "metadata": {},
   "outputs": [
    {
     "data": {
      "text/plain": [
       "0.7190718721222846"
      ]
     },
     "execution_count": 250,
     "metadata": {},
     "output_type": "execute_result"
    }
   ],
   "source": [
    "metrics.r2_score(y_true = y_test, y_pred = TestPred)"
   ]
  },
  {
   "cell_type": "code",
   "execution_count": 251,
   "metadata": {},
   "outputs": [
    {
     "data": {
      "text/plain": [
       "1.1930458378132294"
      ]
     },
     "execution_count": 251,
     "metadata": {},
     "output_type": "execute_result"
    }
   ],
   "source": [
    "MSE_Test = metrics.mean_squared_error(y_true = y_test, y_pred = TestPred)\n",
    "RMSE_Test = math.sqrt(MSE_Test)\n",
    "RMSE_Test"
   ]
  },
  {
   "cell_type": "markdown",
   "metadata": {},
   "source": [
    "### Linear Regression with KPCA"
   ]
  },
  {
   "cell_type": "code",
   "execution_count": 252,
   "metadata": {},
   "outputs": [],
   "source": [
    "reg = LinearRegression()"
   ]
  },
  {
   "cell_type": "code",
   "execution_count": 253,
   "metadata": {},
   "outputs": [
    {
     "data": {
      "text/plain": [
       "LinearRegression()"
      ]
     },
     "execution_count": 253,
     "metadata": {},
     "output_type": "execute_result"
    }
   ],
   "source": [
    "reg.fit(X_train_kpca, y_train)"
   ]
  },
  {
   "cell_type": "code",
   "execution_count": 254,
   "metadata": {},
   "outputs": [],
   "source": [
    "TrainPred = reg.predict(X_train_kpca)"
   ]
  },
  {
   "cell_type": "code",
   "execution_count": 255,
   "metadata": {},
   "outputs": [
    {
     "data": {
      "text/plain": [
       "0.7580770439351178"
      ]
     },
     "execution_count": 255,
     "metadata": {},
     "output_type": "execute_result"
    }
   ],
   "source": [
    "metrics.r2_score(y_true = y_train, y_pred = TrainPred)"
   ]
  },
  {
   "cell_type": "code",
   "execution_count": 256,
   "metadata": {},
   "outputs": [
    {
     "data": {
      "text/plain": [
       "1.086967352556054"
      ]
     },
     "execution_count": 256,
     "metadata": {},
     "output_type": "execute_result"
    }
   ],
   "source": [
    "MSE_Train = metrics.mean_squared_error(y_true = y_train, y_pred = TrainPred)\n",
    "RMSE_Train = math.sqrt(MSE_Train)\n",
    "RMSE_Train"
   ]
  },
  {
   "cell_type": "code",
   "execution_count": 257,
   "metadata": {},
   "outputs": [],
   "source": [
    "TestPred = reg.predict(X_test_kpca)"
   ]
  },
  {
   "cell_type": "code",
   "execution_count": 258,
   "metadata": {},
   "outputs": [
    {
     "data": {
      "text/plain": [
       "0.7066384838562579"
      ]
     },
     "execution_count": 258,
     "metadata": {},
     "output_type": "execute_result"
    }
   ],
   "source": [
    "metrics.r2_score(y_true = y_test, y_pred = TestPred)"
   ]
  },
  {
   "cell_type": "code",
   "execution_count": 259,
   "metadata": {},
   "outputs": [
    {
     "data": {
      "text/plain": [
       "1.219161074906627"
      ]
     },
     "execution_count": 259,
     "metadata": {},
     "output_type": "execute_result"
    }
   ],
   "source": [
    "MSE_Test = metrics.mean_squared_error(y_true = y_test, y_pred = TestPred)\n",
    "RMSE_Test = math.sqrt(MSE_Test)\n",
    "RMSE_Test"
   ]
  },
  {
   "cell_type": "markdown",
   "metadata": {},
   "source": [
    "### SVR with regular data"
   ]
  },
  {
   "cell_type": "code",
   "execution_count": 260,
   "metadata": {},
   "outputs": [],
   "source": [
    "svr_rbf = SVR(kernel='rbf', C=10, gamma=0.1)"
   ]
  },
  {
   "cell_type": "code",
   "execution_count": 261,
   "metadata": {},
   "outputs": [
    {
     "data": {
      "text/plain": [
       "SVR(C=10, gamma=0.1)"
      ]
     },
     "execution_count": 261,
     "metadata": {},
     "output_type": "execute_result"
    }
   ],
   "source": [
    "svr_rbf.fit(X_train, y_train)"
   ]
  },
  {
   "cell_type": "code",
   "execution_count": 262,
   "metadata": {},
   "outputs": [],
   "source": [
    "TrainPred = svr_rbf.predict(X_train)"
   ]
  },
  {
   "cell_type": "code",
   "execution_count": 263,
   "metadata": {},
   "outputs": [
    {
     "data": {
      "text/plain": [
       "0.7667524817588922"
      ]
     },
     "execution_count": 263,
     "metadata": {},
     "output_type": "execute_result"
    }
   ],
   "source": [
    "metrics.r2_score(y_true = y_train, y_pred = TrainPred)"
   ]
  },
  {
   "cell_type": "code",
   "execution_count": 264,
   "metadata": {},
   "outputs": [
    {
     "data": {
      "text/plain": [
       "1.067299916893449"
      ]
     },
     "execution_count": 264,
     "metadata": {},
     "output_type": "execute_result"
    }
   ],
   "source": [
    "MSE_Train = metrics.mean_squared_error(y_true = y_train, y_pred = TrainPred)\n",
    "RMSE_Train = math.sqrt(MSE_Train)\n",
    "RMSE_Train"
   ]
  },
  {
   "cell_type": "code",
   "execution_count": 265,
   "metadata": {},
   "outputs": [],
   "source": [
    "TestPred = svr_rbf.predict(X_test)"
   ]
  },
  {
   "cell_type": "code",
   "execution_count": 266,
   "metadata": {},
   "outputs": [
    {
     "data": {
      "text/plain": [
       "0.7297982560246042"
      ]
     },
     "execution_count": 266,
     "metadata": {},
     "output_type": "execute_result"
    }
   ],
   "source": [
    "metrics.r2_score(y_true = y_test, y_pred = TestPred)"
   ]
  },
  {
   "cell_type": "code",
   "execution_count": 267,
   "metadata": {},
   "outputs": [
    {
     "data": {
      "text/plain": [
       "1.1700477648811283"
      ]
     },
     "execution_count": 267,
     "metadata": {},
     "output_type": "execute_result"
    }
   ],
   "source": [
    "MSE_Test = metrics.mean_squared_error(y_true = y_test, y_pred = TestPred)\n",
    "RMSE_Test = math.sqrt(MSE_Test)\n",
    "RMSE_Test"
   ]
  },
  {
   "cell_type": "code",
   "execution_count": 268,
   "metadata": {},
   "outputs": [],
   "source": [
    "table = ({'SVR w/KPCA': [0.77, 0.72, 1.06, 1.19], \n",
    "          'Linear Regression w/KPCA': [0.76, 0.71, 1.09, 1.22], \n",
    "          'SVR': [0.77, 0.73, 1.07, 1.17]})\n",
    "\n",
    "df = pd.DataFrame(data = table) "
   ]
  },
  {
   "cell_type": "code",
   "execution_count": 269,
   "metadata": {},
   "outputs": [
    {
     "data": {
      "text/html": [
       "<div>\n",
       "<style scoped>\n",
       "    .dataframe tbody tr th:only-of-type {\n",
       "        vertical-align: middle;\n",
       "    }\n",
       "\n",
       "    .dataframe tbody tr th {\n",
       "        vertical-align: top;\n",
       "    }\n",
       "\n",
       "    .dataframe thead th {\n",
       "        text-align: right;\n",
       "    }\n",
       "</style>\n",
       "<table border=\"1\" class=\"dataframe\">\n",
       "  <thead>\n",
       "    <tr style=\"text-align: right;\">\n",
       "      <th></th>\n",
       "      <th>Train r2</th>\n",
       "      <th>Test r2</th>\n",
       "      <th>Train RMSE</th>\n",
       "      <th>Test RMSE</th>\n",
       "    </tr>\n",
       "  </thead>\n",
       "  <tbody>\n",
       "    <tr>\n",
       "      <th>SVR w/KPCA</th>\n",
       "      <td>0.77</td>\n",
       "      <td>0.72</td>\n",
       "      <td>1.06</td>\n",
       "      <td>1.19</td>\n",
       "    </tr>\n",
       "    <tr>\n",
       "      <th>Linear Regression w/KPCA</th>\n",
       "      <td>0.76</td>\n",
       "      <td>0.71</td>\n",
       "      <td>1.09</td>\n",
       "      <td>1.22</td>\n",
       "    </tr>\n",
       "    <tr>\n",
       "      <th>SVR</th>\n",
       "      <td>0.77</td>\n",
       "      <td>0.73</td>\n",
       "      <td>1.07</td>\n",
       "      <td>1.17</td>\n",
       "    </tr>\n",
       "  </tbody>\n",
       "</table>\n",
       "</div>"
      ],
      "text/plain": [
       "                          Train r2  Test r2  Train RMSE  Test RMSE\n",
       "SVR w/KPCA                    0.77     0.72        1.06       1.19\n",
       "Linear Regression w/KPCA      0.76     0.71        1.09       1.22\n",
       "SVR                           0.77     0.73        1.07       1.17"
      ]
     },
     "execution_count": 269,
     "metadata": {},
     "output_type": "execute_result"
    }
   ],
   "source": [
    "df.index=['Train r2', 'Test r2', 'Train RMSE', 'Test RMSE']\n",
    "df.T"
   ]
  },
  {
   "cell_type": "markdown",
   "metadata": {},
   "source": [
    "#### The model that works the best with the testing data is the Support Vector Regressor with the standardized data. The Support Vector Regressor worked well throughout this project, so it is not surprising to me that it performed well. I would have predicted that the Support Vector Regressor with the KPCA data would have outperformed the other model, so that was a bit of a surprise."
   ]
  },
  {
   "cell_type": "markdown",
   "metadata": {},
   "source": [
    "# Classifiers\n",
    "### Model 1 -> SVC with normal data"
   ]
  },
  {
   "cell_type": "code",
   "execution_count": 270,
   "metadata": {},
   "outputs": [],
   "source": [
    "estimator = SVC(kernel='rbf', C=10, gamma = 0.5)"
   ]
  },
  {
   "cell_type": "code",
   "execution_count": 271,
   "metadata": {},
   "outputs": [
    {
     "data": {
      "text/plain": [
       "SVC(C=10, gamma=0.5)"
      ]
     },
     "execution_count": 271,
     "metadata": {},
     "output_type": "execute_result"
    }
   ],
   "source": [
    "estimator.fit(X_train, y_train_cat)"
   ]
  },
  {
   "cell_type": "code",
   "execution_count": 272,
   "metadata": {},
   "outputs": [],
   "source": [
    "TestPred = estimator.predict(X_test)"
   ]
  },
  {
   "cell_type": "code",
   "execution_count": 273,
   "metadata": {},
   "outputs": [
    {
     "data": {
      "text/plain": [
       "0.9201623815967523"
      ]
     },
     "execution_count": 273,
     "metadata": {},
     "output_type": "execute_result"
    }
   ],
   "source": [
    "accuracyTest = metrics.accuracy_score(y_true = y_test_cat, y_pred = TestPred)\n",
    "accuracyTest"
   ]
  },
  {
   "cell_type": "code",
   "execution_count": 274,
   "metadata": {},
   "outputs": [
    {
     "data": {
      "text/plain": [
       "array([[410,  28],\n",
       "       [ 31, 270]])"
      ]
     },
     "execution_count": 274,
     "metadata": {},
     "output_type": "execute_result"
    }
   ],
   "source": [
    "confusion_matrix(y_test_cat, TestPred)"
   ]
  },
  {
   "cell_type": "code",
   "execution_count": 275,
   "metadata": {},
   "outputs": [
    {
     "name": "stdout",
     "output_type": "stream",
     "text": [
      "Recall: 0.8970099667774086, Specificity: 0.9360730593607306, Precision: 0.9060402684563759, Balanced Accuracy: 0.9165415130690696, F1 Score: 0.9015025041736227\n"
     ]
    }
   ],
   "source": [
    "Recall = sklearn.metrics.recall_score(y_true = y_test_cat, y_pred = TestPred)\n",
    "tn, fp, fn, tp = confusion_matrix(y_true = y_test_cat, y_pred = TestPred).ravel()\n",
    "specificity = tn / (tn+fp)\n",
    "precision = metrics.precision_score(y_true = y_test_cat, y_pred = TestPred)\n",
    "BalancedAccuracy = metrics.balanced_accuracy_score(y_true = y_test_cat, y_pred = TestPred, sample_weight=None, adjusted=False)\n",
    "F1Score = sklearn.metrics.f1_score(y_true = y_test_cat, y_pred = TestPred)\n",
    "print('Recall: {}, Specificity: {}, Precision: {}, Balanced Accuracy: {}, F1 Score: {}'.format(Recall, specificity, precision, BalancedAccuracy, F1Score))\n"
   ]
  },
  {
   "cell_type": "markdown",
   "metadata": {},
   "source": [
    "### Model 2 -> SVC with PCA data"
   ]
  },
  {
   "cell_type": "code",
   "execution_count": 276,
   "metadata": {},
   "outputs": [],
   "source": [
    "estimator = SVC(kernel='rbf', C=10, gamma = 0.1)"
   ]
  },
  {
   "cell_type": "code",
   "execution_count": 277,
   "metadata": {},
   "outputs": [
    {
     "data": {
      "text/plain": [
       "SVC(C=10, gamma=0.1)"
      ]
     },
     "execution_count": 277,
     "metadata": {},
     "output_type": "execute_result"
    }
   ],
   "source": [
    "estimator.fit(X_train_pca, y_train_cat)"
   ]
  },
  {
   "cell_type": "code",
   "execution_count": 278,
   "metadata": {},
   "outputs": [],
   "source": [
    "TestPred = estimator.predict(X_test_pca)"
   ]
  },
  {
   "cell_type": "code",
   "execution_count": 279,
   "metadata": {},
   "outputs": [
    {
     "data": {
      "text/plain": [
       "0.9201623815967523"
      ]
     },
     "execution_count": 279,
     "metadata": {},
     "output_type": "execute_result"
    }
   ],
   "source": [
    "accuracyTest = metrics.accuracy_score(y_true = y_test_cat, y_pred = TestPred)\n",
    "accuracyTest"
   ]
  },
  {
   "cell_type": "code",
   "execution_count": 280,
   "metadata": {},
   "outputs": [
    {
     "data": {
      "text/plain": [
       "array([[419,  19],\n",
       "       [ 40, 261]])"
      ]
     },
     "execution_count": 280,
     "metadata": {},
     "output_type": "execute_result"
    }
   ],
   "source": [
    "confusion_matrix(y_test_cat, TestPred)"
   ]
  },
  {
   "cell_type": "code",
   "execution_count": 281,
   "metadata": {},
   "outputs": [
    {
     "name": "stdout",
     "output_type": "stream",
     "text": [
      "Recall: 0.867109634551495, Specificity: 0.95662100456621, Precision: 0.9321428571428572, Balanced Accuracy: 0.9118653195588525, F1 Score: 0.8984509466437177\n"
     ]
    }
   ],
   "source": [
    "Recall = sklearn.metrics.recall_score(y_true = y_test_cat, y_pred = TestPred)\n",
    "tn, fp, fn, tp = confusion_matrix(y_true = y_test_cat, y_pred = TestPred).ravel()\n",
    "specificity = tn / (tn+fp)\n",
    "precision = metrics.precision_score(y_true = y_test_cat, y_pred = TestPred)\n",
    "BalancedAccuracy = metrics.balanced_accuracy_score(y_true = y_test_cat, y_pred = TestPred, sample_weight=None, adjusted=False)\n",
    "F1Score = sklearn.metrics.f1_score(y_true = y_test_cat, y_pred = TestPred)\n",
    "print('Recall: {}, Specificity: {}, Precision: {}, Balanced Accuracy: {}, F1 Score: {}'.format(Recall, specificity, precision, BalancedAccuracy, F1Score))\n"
   ]
  },
  {
   "cell_type": "markdown",
   "metadata": {},
   "source": [
    "### SVC with KPCA"
   ]
  },
  {
   "cell_type": "code",
   "execution_count": 282,
   "metadata": {},
   "outputs": [],
   "source": [
    "estimator = SVC(kernel='rbf', C=5, gamma = 0.1)"
   ]
  },
  {
   "cell_type": "code",
   "execution_count": 283,
   "metadata": {},
   "outputs": [
    {
     "data": {
      "text/plain": [
       "SVC(C=5, gamma=0.1)"
      ]
     },
     "execution_count": 283,
     "metadata": {},
     "output_type": "execute_result"
    }
   ],
   "source": [
    "estimator.fit(X_train_kpca, y_train_cat)"
   ]
  },
  {
   "cell_type": "code",
   "execution_count": 284,
   "metadata": {},
   "outputs": [],
   "source": [
    "TestPred = estimator.predict(X_test_kpca)"
   ]
  },
  {
   "cell_type": "code",
   "execution_count": 285,
   "metadata": {},
   "outputs": [
    {
     "data": {
      "text/plain": [
       "0.9282814614343707"
      ]
     },
     "execution_count": 285,
     "metadata": {},
     "output_type": "execute_result"
    }
   ],
   "source": [
    "accuracyTest = metrics.accuracy_score(y_true = y_test_cat, y_pred = TestPred)\n",
    "accuracyTest"
   ]
  },
  {
   "cell_type": "code",
   "execution_count": 286,
   "metadata": {},
   "outputs": [
    {
     "data": {
      "text/plain": [
       "array([[419,  19],\n",
       "       [ 34, 267]])"
      ]
     },
     "execution_count": 286,
     "metadata": {},
     "output_type": "execute_result"
    }
   ],
   "source": [
    "confusion_matrix(y_test_cat, TestPred)"
   ]
  },
  {
   "cell_type": "code",
   "execution_count": 287,
   "metadata": {},
   "outputs": [
    {
     "name": "stdout",
     "output_type": "stream",
     "text": [
      "Recall: 0.8870431893687708, Specificity: 0.95662100456621, Precision: 0.9335664335664335, Balanced Accuracy: 0.9218320969674905, F1 Score: 0.9097103918228279\n"
     ]
    }
   ],
   "source": [
    "Recall = sklearn.metrics.recall_score(y_true = y_test_cat, y_pred = TestPred)\n",
    "tn, fp, fn, tp = confusion_matrix(y_true = y_test_cat, y_pred = TestPred).ravel()\n",
    "specificity = tn / (tn+fp)\n",
    "precision = metrics.precision_score(y_true = y_test_cat, y_pred = TestPred)\n",
    "BalancedAccuracy = metrics.balanced_accuracy_score(y_true = y_test_cat, y_pred = TestPred, sample_weight=None, adjusted=False)\n",
    "F1Score = sklearn.metrics.f1_score(y_true = y_test_cat, y_pred = TestPred)\n",
    "print('Recall: {}, Specificity: {}, Precision: {}, Balanced Accuracy: {}, F1 Score: {}'.format(Recall, specificity, precision, BalancedAccuracy, F1Score))"
   ]
  },
  {
   "cell_type": "code",
   "execution_count": 288,
   "metadata": {},
   "outputs": [],
   "source": [
    "table = ({'SVC with Reg Data': [0.90, 0.94, 0.91, 0.92, 0.90], \n",
    "          'SVC with PCA': [0.87, 0.96, 0.93, 0.91, 0.90], \n",
    "          'SVC with KPCA': [0.89, 0.96, 0.93, 0.92, 0.91]})\n"
   ]
  },
  {
   "cell_type": "code",
   "execution_count": 289,
   "metadata": {},
   "outputs": [],
   "source": [
    "df = pd.DataFrame(data = table) \n"
   ]
  },
  {
   "cell_type": "code",
   "execution_count": 290,
   "metadata": {},
   "outputs": [
    {
     "data": {
      "text/html": [
       "<div>\n",
       "<style scoped>\n",
       "    .dataframe tbody tr th:only-of-type {\n",
       "        vertical-align: middle;\n",
       "    }\n",
       "\n",
       "    .dataframe tbody tr th {\n",
       "        vertical-align: top;\n",
       "    }\n",
       "\n",
       "    .dataframe thead th {\n",
       "        text-align: right;\n",
       "    }\n",
       "</style>\n",
       "<table border=\"1\" class=\"dataframe\">\n",
       "  <thead>\n",
       "    <tr style=\"text-align: right;\">\n",
       "      <th></th>\n",
       "      <th>Recall</th>\n",
       "      <th>Specificity</th>\n",
       "      <th>Precision</th>\n",
       "      <th>Balanced Accuracy</th>\n",
       "      <th>F1</th>\n",
       "    </tr>\n",
       "  </thead>\n",
       "  <tbody>\n",
       "    <tr>\n",
       "      <th>SVC with Reg Data</th>\n",
       "      <td>0.90</td>\n",
       "      <td>0.94</td>\n",
       "      <td>0.91</td>\n",
       "      <td>0.92</td>\n",
       "      <td>0.90</td>\n",
       "    </tr>\n",
       "    <tr>\n",
       "      <th>SVC with PCA</th>\n",
       "      <td>0.87</td>\n",
       "      <td>0.96</td>\n",
       "      <td>0.93</td>\n",
       "      <td>0.91</td>\n",
       "      <td>0.90</td>\n",
       "    </tr>\n",
       "    <tr>\n",
       "      <th>SVC with KPCA</th>\n",
       "      <td>0.89</td>\n",
       "      <td>0.96</td>\n",
       "      <td>0.93</td>\n",
       "      <td>0.92</td>\n",
       "      <td>0.91</td>\n",
       "    </tr>\n",
       "  </tbody>\n",
       "</table>\n",
       "</div>"
      ],
      "text/plain": [
       "                   Recall  Specificity  Precision  Balanced Accuracy    F1\n",
       "SVC with Reg Data    0.90         0.94       0.91               0.92  0.90\n",
       "SVC with PCA         0.87         0.96       0.93               0.91  0.90\n",
       "SVC with KPCA        0.89         0.96       0.93               0.92  0.91"
      ]
     },
     "execution_count": 290,
     "metadata": {},
     "output_type": "execute_result"
    }
   ],
   "source": [
    "df.index=['Recall', 'Specificity', 'Precision', 'Balanced Accuracy', 'F1']\n",
    "df.T"
   ]
  },
  {
   "cell_type": "markdown",
   "metadata": {},
   "source": [
    "### The top performer classifier would be the first Support Vector Classifier with normalized data. The Support Vector Classifier worked well with all of the data, but both the PCA and KPCA data performed slightly lower. I saw that the data before being transformed worked well initially, so this is not a big surprise for me."
   ]
  },
  {
   "cell_type": "markdown",
   "metadata": {},
   "source": [
    "- What did you learn in this project? Any suggestions?"
   ]
  },
  {
   "cell_type": "markdown",
   "metadata": {},
   "source": [
    "### I learned a lot about using different regressors and classifiers and how to compare them. This was my first time performing kernel pca and I enjoyed getting exposure to that new content. I appreciate the opportunity to compare multiple classifiers and identify the differences between them. Comparing the strengths and weaknesses of different models is something that I find enjoyable and interesting."
   ]
  },
  {
   "cell_type": "markdown",
   "metadata": {},
   "source": [
    "# Thank you\n",
    "ilyas"
   ]
  }
 ],
 "metadata": {
  "kernelspec": {
   "display_name": "Python 3",
   "language": "python",
   "name": "python3"
  },
  "language_info": {
   "codemirror_mode": {
    "name": "ipython",
    "version": 3
   },
   "file_extension": ".py",
   "mimetype": "text/x-python",
   "name": "python",
   "nbconvert_exporter": "python",
   "pygments_lexer": "ipython3",
   "version": "3.8.3"
  },
  "toc": {
   "base_numbering": 1,
   "nav_menu": {},
   "number_sections": false,
   "sideBar": false,
   "skip_h1_title": false,
   "title_cell": "Table of Contents",
   "title_sidebar": "Contents",
   "toc_cell": false,
   "toc_position": {},
   "toc_section_display": false,
   "toc_window_display": false
  }
 },
 "nbformat": 4,
 "nbformat_minor": 1
}
