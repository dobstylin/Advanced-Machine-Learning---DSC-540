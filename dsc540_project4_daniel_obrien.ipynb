{
  "nbformat": 4,
  "nbformat_minor": 0,
  "metadata": {
    "kernelspec": {
      "display_name": "Python 3",
      "language": "python",
      "name": "python3"
    },
    "language_info": {
      "codemirror_mode": {
        "name": "ipython",
        "version": 3
      },
      "file_extension": ".py",
      "mimetype": "text/x-python",
      "name": "python",
      "nbconvert_exporter": "python",
      "pygments_lexer": "ipython3",
      "version": "3.6.11"
    },
    "toc": {
      "base_numbering": 1,
      "nav_menu": {},
      "number_sections": false,
      "sideBar": false,
      "skip_h1_title": false,
      "title_cell": "Table of Contents",
      "title_sidebar": "Contents",
      "toc_cell": false,
      "toc_position": {},
      "toc_section_display": false,
      "toc_window_display": false
    },
    "colab": {
      "name": "Assignment 4.ipynb",
      "provenance": [],
      "collapsed_sections": [
        "pzZLVm0ZKIvv",
        "Qtw7qDvcSaSE"
      ]
    }
  },
  "cells": [
    {
      "cell_type": "markdown",
      "metadata": {
        "id": "DkNsgQ_TAhCl"
      },
      "source": [
        "# DSC540 Project 4"
      ]
    },
    {
      "cell_type": "markdown",
      "metadata": {
        "id": "KJn6w7l4AhCl"
      },
      "source": [
        "DePaul University  \n",
        "Ilyas Ustun, PhD  \n",
        "Chicago, IL  "
      ]
    },
    {
      "cell_type": "markdown",
      "metadata": {
        "id": "fhPfBpSiAhCm"
      },
      "source": [
        "## Rules\n",
        "- Write your code under the corresponding questions where you see `# Code here`. You are encouraged to use more than one cell.\n",
        "- Provide explanation in a separate Markdown formatted cell. \n",
        "- You can change the cell type by:\n",
        "    - Clicking on the outer area of the cell type you want to change,\n",
        "    - Go to the top, and select either Code or Markdown from the dropdown menu.\n",
        "- Be concise in your explanations and conclusions.\n",
        "- Write clear code and provide explanation to functions you create by using `#` comment sign.\n",
        "- For built-in function and methods you use from libraries, provide a very brief explanation of what they do.\n",
        "- Try to answer the questions by yourself. Use documentation from pandas, sklearn and similar libraries to solve the problem.\n",
        "- If you are stuck you can use different resources. Do not find an identical project and copy paste the solutions. \n",
        "- Write your name before beginning to code.\n",
        "\n",
        "\n",
        "Important:  \n",
        "- **Do NOT share the solutions with other people.**\n",
        "- **Do NOT share the solutions on the internet including but not limited to Github and other platforms.**\n",
        "- Sign the Honor Pledge below indicating that you have agreed to these rules listed here, and any other ethical and honor rules as required by the university.\n",
        "\n",
        "\n",
        "\n",
        "- **Deliverables:**\n",
        "    1. The Python Jupyter notebook file named properly with your name. Example: dsc540_project1_john_doe.ipynb\n",
        "    2. The HTML output of this code notebook names the same way. Example: dsc540_project1_john_doe.html\n",
        "        - File -> Download as -> HTML   \n",
        "\n",
        "Good Luck!"
      ]
    },
    {
      "cell_type": "markdown",
      "metadata": {
        "id": "Roj6dxCKAhCn"
      },
      "source": [
        "### Daniel O'*Brien*"
      ]
    },
    {
      "cell_type": "markdown",
      "metadata": {
        "id": "WstqPonuAhCn"
      },
      "source": [
        "**Honor Pledge:**  \n",
        "I pledge on my honor that I, **Daniel O'Brien**, have followed the rules listed above, that I have not given or received any unauthorized assistance on this assignment. \n"
      ]
    },
    {
      "cell_type": "code",
      "metadata": {
        "colab": {
          "base_uri": "https://localhost:8080/"
        },
        "id": "kGAf0Cl4KbmM",
        "outputId": "b5d15d96-bee9-483c-bcbe-9d6ce064c2be"
      },
      "source": [
        "!pip install pgmpy"
      ],
      "execution_count": 1,
      "outputs": [
        {
          "output_type": "stream",
          "text": [
            "Collecting pgmpy\n",
            "  Downloading pgmpy-0.1.15-py3-none-any.whl (1.9 MB)\n",
            "\u001b[K     |████████████████████████████████| 1.9 MB 31.3 MB/s \n",
            "\u001b[?25hRequirement already satisfied: scipy in /usr/local/lib/python3.7/dist-packages (from pgmpy) (1.4.1)\n",
            "Requirement already satisfied: tqdm in /usr/local/lib/python3.7/dist-packages (from pgmpy) (4.41.1)\n",
            "Requirement already satisfied: numpy in /usr/local/lib/python3.7/dist-packages (from pgmpy) (1.19.5)\n",
            "Requirement already satisfied: pandas in /usr/local/lib/python3.7/dist-packages (from pgmpy) (1.1.5)\n",
            "Requirement already satisfied: torch in /usr/local/lib/python3.7/dist-packages (from pgmpy) (1.9.0+cu102)\n",
            "Requirement already satisfied: joblib in /usr/local/lib/python3.7/dist-packages (from pgmpy) (1.0.1)\n",
            "Requirement already satisfied: scikit-learn in /usr/local/lib/python3.7/dist-packages (from pgmpy) (0.22.2.post1)\n",
            "Requirement already satisfied: statsmodels in /usr/local/lib/python3.7/dist-packages (from pgmpy) (0.10.2)\n",
            "Requirement already satisfied: networkx in /usr/local/lib/python3.7/dist-packages (from pgmpy) (2.5.1)\n",
            "Requirement already satisfied: pyparsing in /usr/local/lib/python3.7/dist-packages (from pgmpy) (2.4.7)\n",
            "Requirement already satisfied: decorator<5,>=4.3 in /usr/local/lib/python3.7/dist-packages (from networkx->pgmpy) (4.4.2)\n",
            "Requirement already satisfied: pytz>=2017.2 in /usr/local/lib/python3.7/dist-packages (from pandas->pgmpy) (2018.9)\n",
            "Requirement already satisfied: python-dateutil>=2.7.3 in /usr/local/lib/python3.7/dist-packages (from pandas->pgmpy) (2.8.1)\n",
            "Requirement already satisfied: six>=1.5 in /usr/local/lib/python3.7/dist-packages (from python-dateutil>=2.7.3->pandas->pgmpy) (1.15.0)\n",
            "Requirement already satisfied: patsy>=0.4.0 in /usr/local/lib/python3.7/dist-packages (from statsmodels->pgmpy) (0.5.1)\n",
            "Requirement already satisfied: typing-extensions in /usr/local/lib/python3.7/dist-packages (from torch->pgmpy) (3.7.4.3)\n",
            "Installing collected packages: pgmpy\n",
            "Successfully installed pgmpy-0.1.15\n"
          ],
          "name": "stdout"
        }
      ]
    },
    {
      "cell_type": "markdown",
      "metadata": {
        "id": "PzhHZ1yMAhCn"
      },
      "source": [
        "## Q1 [10]"
      ]
    },
    {
      "cell_type": "markdown",
      "metadata": {
        "id": "2hX9XbMYAhCo"
      },
      "source": [
        "A drug company would like to introduce a drug to help patients with Alzheimer's. It is desirable to estimate $θ$, the proportion of the market share that this drug will capture. \n",
        "- The company interviews 100 people and 15 of them say that they will buy the drug. (This the observed data: n=100, observed=15) $->$ likelihood\n",
        "- If in the past new drugs tend to capture a proportion between say .10 and .40 of the market, and if all values in between are assumed equally likely, then $θ ∼ Unif(0.10, 0.40)$ $->$ prior"
      ]
    },
    {
      "cell_type": "markdown",
      "metadata": {
        "id": "5zY1XShPAhCo"
      },
      "source": [
        "### What is the traceplot of $\\theta$ using Bayesian analysis to estimate the market share for the new drug?\n",
        "- Sample 10000 draws\n",
        "- Plot the traceplot"
      ]
    },
    {
      "cell_type": "code",
      "metadata": {
        "id": "2KL3TVU_AhCo"
      },
      "source": [
        "import pymc3 as pm\n",
        "import arviz as az"
      ],
      "execution_count": 2,
      "outputs": []
    },
    {
      "cell_type": "code",
      "metadata": {
        "colab": {
          "base_uri": "https://localhost:8080/",
          "height": 509
        },
        "id": "XhvHANrmAhCp",
        "outputId": "6911e770-009f-4054-c8c2-0ee811c8fcb1"
      },
      "source": [
        "with pm.Model() as model:\n",
        "    \n",
        "    # Priors for unknown model parameters\n",
        "    theta = pm.Uniform(name = 'theta', lower = 0.1, upper = 0.4)\n",
        "    \n",
        "    # Likelihood\n",
        "    x = pm.Binomial(name = 'x', p = theta, n = 100, observed = 15)\n",
        "\n",
        "    # Posterior\n",
        "    # draw 10000 posterior samples\n",
        "    trace = pm.sample(draws = 10000)\n",
        "    \n",
        "    # Plot the trace plot\n",
        "    az.plot_dist(trace['theta'])"
      ],
      "execution_count": 3,
      "outputs": [
        {
          "output_type": "stream",
          "text": [
            "/usr/local/lib/python3.7/dist-packages/ipykernel_launcher.py:11: FutureWarning: In v4.0, pm.sample will return an `arviz.InferenceData` object instead of a `MultiTrace` by default. You can pass return_inferencedata=True or return_inferencedata=False to be safe and silence this warning.\n",
            "  # This is added back by InteractiveShellApp.init_path()\n",
            "Auto-assigning NUTS sampler...\n",
            "Initializing NUTS using jitter+adapt_diag...\n",
            "Sequential sampling (2 chains in 1 job)\n",
            "NUTS: [theta]\n"
          ],
          "name": "stderr"
        },
        {
          "output_type": "display_data",
          "data": {
            "text/html": [
              "\n",
              "    <div>\n",
              "        <style>\n",
              "            /* Turns off some styling */\n",
              "            progress {\n",
              "                /* gets rid of default border in Firefox and Opera. */\n",
              "                border: none;\n",
              "                /* Needs to be in here for Safari polyfill so background images work as expected. */\n",
              "                background-size: auto;\n",
              "            }\n",
              "            .progress-bar-interrupted, .progress-bar-interrupted::-webkit-progress-bar {\n",
              "                background: #F44336;\n",
              "            }\n",
              "        </style>\n",
              "      <progress value='11000' class='' max='11000' style='width:300px; height:20px; vertical-align: middle;'></progress>\n",
              "      100.00% [11000/11000 00:06<00:00 Sampling chain 0, 0 divergences]\n",
              "    </div>\n",
              "    "
            ],
            "text/plain": [
              "<IPython.core.display.HTML object>"
            ]
          },
          "metadata": {
            "tags": []
          }
        },
        {
          "output_type": "display_data",
          "data": {
            "text/html": [
              "\n",
              "    <div>\n",
              "        <style>\n",
              "            /* Turns off some styling */\n",
              "            progress {\n",
              "                /* gets rid of default border in Firefox and Opera. */\n",
              "                border: none;\n",
              "                /* Needs to be in here for Safari polyfill so background images work as expected. */\n",
              "                background-size: auto;\n",
              "            }\n",
              "            .progress-bar-interrupted, .progress-bar-interrupted::-webkit-progress-bar {\n",
              "                background: #F44336;\n",
              "            }\n",
              "        </style>\n",
              "      <progress value='11000' class='' max='11000' style='width:300px; height:20px; vertical-align: middle;'></progress>\n",
              "      100.00% [11000/11000 00:05<00:00 Sampling chain 1, 0 divergences]\n",
              "    </div>\n",
              "    "
            ],
            "text/plain": [
              "<IPython.core.display.HTML object>"
            ]
          },
          "metadata": {
            "tags": []
          }
        },
        {
          "output_type": "stream",
          "text": [
            "Sampling 2 chains for 1_000 tune and 10_000 draw iterations (2_000 + 20_000 draws total) took 12 seconds.\n",
            "The acceptance probability does not match the target. It is 0.6862836538438953, but should be close to 0.8. Try to increase the number of tuning steps.\n"
          ],
          "name": "stderr"
        },
        {
          "output_type": "display_data",
          "data": {
            "image/png": "[encoded data removed]",
            "text/plain": [
              "<Figure size 432x288 with 1 Axes>"
            ]
          },
          "metadata": {
            "tags": [],
            "needs_background": "light"
          }
        }
      ]
    },
    {
      "cell_type": "markdown",
      "metadata": {
        "id": "DVlC9LSCAhCp"
      },
      "source": [
        "### Plot the posterior distribution plot of $ \\theta $\n",
        "- What is the mean posterior value?"
      ]
    },
    {
      "cell_type": "code",
      "metadata": {
        "colab": {
          "base_uri": "https://localhost:8080/",
          "height": 313
        },
        "id": "_lZNpvjlAhCp",
        "outputId": "abb3e06d-45bc-483f-93aa-55d1632ca0db"
      },
      "source": [
        "# Plot the posterior of trace\n",
        "with model:\n",
        "    az.plot_posterior(trace)"
      ],
      "execution_count": 4,
      "outputs": [
        {
          "output_type": "display_data",
          "data": {
            "image/png": "[encoded data removed]",
            "text/plain": [
              "<Figure size 432x288 with 1 Axes>"
            ]
          },
          "metadata": {
            "tags": [],
            "needs_background": "light"
          }
        }
      ]
    },
    {
      "cell_type": "markdown",
      "metadata": {
        "id": "d5z3vkEdJYxA"
      },
      "source": [
        "### The mean posterior value is 0.16."
      ]
    },
    {
      "cell_type": "markdown",
      "metadata": {
        "id": "j-7SwS1IAhCq"
      },
      "source": [
        "\n",
        "## Bayesian Network Analysis\n",
        "\n",
        "In this part we will be analyzing medical diagnosis using Bayes Nets. The structure and the Conditional Probabability Distribution tables are shown in the figure below."
      ]
    },
    {
      "cell_type": "markdown",
      "metadata": {
        "id": "ntvBPmhtAhCq"
      },
      "source": [
        "![MedicalDiagnosis](Med-diag-bnet.jpg)"
      ]
    },
    {
      "cell_type": "markdown",
      "metadata": {
        "id": "Uqnxl1v4AhCq"
      },
      "source": [
        "- In the first few questions you will build the Bayes Net, set up the Conditional Probability Distribution tables, and associate the CPDs to the network.   \n",
        "- These steps are extremely important and crucial. Make sure you do the set up correctly, as everything else depends on that.   "
      ]
    },
    {
      "cell_type": "markdown",
      "metadata": {
        "id": "Bo84ytLtAhCq"
      },
      "source": [
        "## Import Libraries\n",
        "\n",
        "**Import the usual libraries for pandas and plotting, and sklearn.**"
      ]
    },
    {
      "cell_type": "code",
      "metadata": {
        "id": "xHNoU9i3AhCq"
      },
      "source": [
        "import pandas as pd\n",
        "import numpy as np\n",
        "import matplotlib.pyplot as plt\n",
        "import seaborn as sns\n",
        "\n",
        "from sklearn import metrics"
      ],
      "execution_count": 5,
      "outputs": []
    },
    {
      "cell_type": "code",
      "metadata": {
        "id": "8OrlB1ghAhCr"
      },
      "source": [
        "# import pgmpy\n",
        "from pgmpy.models import BayesianModel\n",
        "from pgmpy.factors.discrete import TabularCPD"
      ],
      "execution_count": 6,
      "outputs": []
    },
    {
      "cell_type": "code",
      "metadata": {
        "colab": {
          "base_uri": "https://localhost:8080/",
          "height": 35
        },
        "id": "L0ohH30tAhCr",
        "outputId": "6ec5cdcf-66e5-4a96-a8d1-045f344555c5"
      },
      "source": [
        "import sklearn\n",
        "sklearn.__version__"
      ],
      "execution_count": 7,
      "outputs": [
        {
          "output_type": "execute_result",
          "data": {
            "application/vnd.google.colaboratory.intrinsic+json": {
              "type": "string"
            },
            "text/plain": [
              "'0.22.2.post1'"
            ]
          },
          "metadata": {
            "tags": []
          },
          "execution_count": 7
        }
      ]
    },
    {
      "cell_type": "markdown",
      "metadata": {
        "id": "EPkIHIB6AhCr"
      },
      "source": [
        "### These are the packages I used"
      ]
    },
    {
      "cell_type": "code",
      "metadata": {
        "id": "-ojMwYMlAhCr"
      },
      "source": [
        "import pandas as pd\n",
        "import numpy as np\n",
        "import matplotlib.pyplot as plt\n",
        "import seaborn as sns\n",
        "\n",
        "from sklearn import metrics\n",
        "from pgmpy.models import BayesianModel\n",
        "from pgmpy.factors.discrete import TabularCPD"
      ],
      "execution_count": 8,
      "outputs": []
    },
    {
      "cell_type": "markdown",
      "metadata": {
        "id": "uGujySBjAhCr"
      },
      "source": [
        "## Q2 [10]\n",
        "\n",
        "**Define the model structure.** \n",
        "\n",
        "You need to define the network by passing a list of edges. "
      ]
    },
    {
      "cell_type": "code",
      "metadata": {
        "id": "0SuJo_2nAhCs"
      },
      "source": [
        "model = BayesianModel([('Smokes', 'LungDisease'), ('LungDisease', 'ShortnessBreath'), ('LungDisease', 'ChestPain'), ('LungDisease', 'Cough'), ('Cold', 'Cough'), ('Cold', 'Fever')])"
      ],
      "execution_count": 9,
      "outputs": []
    },
    {
      "cell_type": "markdown",
      "metadata": {
        "id": "ivYPNMw7AhCs"
      },
      "source": [
        "## Q3 [15] \n",
        "\n",
        "**Define individual CPDs**\n",
        "- Define the CPDs using the state names of the variables. "
      ]
    },
    {
      "cell_type": "code",
      "metadata": {
        "scrolled": true,
        "id": "VxhwY_cZAhCs",
        "colab": {
          "base_uri": "https://localhost:8080/"
        },
        "outputId": "0bfae7a1-12b5-41d1-feea-756fbdd09e8b"
      },
      "source": [
        "cpd_Smokes = TabularCPD(variable='Smokes', variable_card=2, values=[[0.2], [0.8]], state_names={'Smokes' : ['T', 'F']})\n",
        "print(cpd_Smokes)\n",
        "\n",
        "\n",
        "cpd_LungDisease = TabularCPD(variable='LungDisease', \n",
        "                             variable_card=2, \n",
        "                             values=[[0.1009, 0.001],\n",
        "                                     [0.8991, 0.999]],\n",
        "                             evidence=['Smokes'],\n",
        "                             evidence_card=[2],\n",
        "                            state_names={'Smokes' : ['T', 'F'], 'LungDisease' : ['T', 'F']})\n",
        "print(cpd_LungDisease)\n",
        "\n"
      ],
      "execution_count": 10,
      "outputs": [
        {
          "output_type": "stream",
          "text": [
            "+-----------+-----+\n",
            "| Smokes(T) | 0.2 |\n",
            "+-----------+-----+\n",
            "| Smokes(F) | 0.8 |\n",
            "+-----------+-----+\n",
            "+----------------+-----------+-----------+\n",
            "| Smokes         | Smokes(T) | Smokes(F) |\n",
            "+----------------+-----------+-----------+\n",
            "| LungDisease(T) | 0.1009    | 0.001     |\n",
            "+----------------+-----------+-----------+\n",
            "| LungDisease(F) | 0.8991    | 0.999     |\n",
            "+----------------+-----------+-----------+\n"
          ],
          "name": "stdout"
        }
      ]
    },
    {
      "cell_type": "code",
      "metadata": {
        "id": "3ZMnfMRcAhCs"
      },
      "source": [
        "cpd_Smokes = TabularCPD(variable='Smokes', variable_card=2, values=[[0.2], [0.8]], state_names={'Smokes' : ['T', 'F']})\n",
        "cpd_LungDisease = TabularCPD(variable='LungDisease', \n",
        "                             variable_card=2, \n",
        "                             values=[[0.1009, 0.001],\n",
        "                                     [0.8991, 0.999]],\n",
        "                             evidence=['Smokes'],\n",
        "                             evidence_card=[2],\n",
        "                            state_names={'Smokes' : ['T', 'F'], 'LungDisease' : ['T', 'F']})\n",
        "cpd_ShortnessBreath = TabularCPD(variable = 'ShortnessBreath',\n",
        "                                     variable_card = 2,\n",
        "                                     values = [[0.208, 0.01],\n",
        "                                               [0.792, 0.99]],\n",
        "                                     evidence = ['LungDisease'],\n",
        "                                     evidence_card=[2],\n",
        "                                     state_names={'LungDisease' : ['T', 'F'], 'ShortnessBreath' : ['T', 'F']})\n",
        "cpd_ChestPain = TabularCPD(variable = 'ChestPain',\n",
        "                           variable_card=2,\n",
        "                           values = [[0.208, 0.01],\n",
        "                                     [0.792, 0.99]],\n",
        "                           evidence = ['LungDisease'],\n",
        "                           evidence_card = [2],\n",
        "                           state_names = {'LungDisease': ['T', 'F'], 'ChestPain': ['T', 'F']})\n",
        "cpd_Cough = TabularCPD(variable='Cough', \n",
        "                       variable_card=2,\n",
        "                       values = [[0.7525, 0.505, 0.505, 0.01],\n",
        "                                 [0.2475, 0.495, 0.495, 0.99]],\n",
        "                       evidence = ['LungDisease', 'Cold'],\n",
        "                       evidence_card = [2, 2],\n",
        "                       state_names = {'LungDisease': ['T', 'F'], 'Cold': ['T', 'F'], 'Cough': ['T', 'F']})\n",
        "cpd_Fever = TabularCPD(variable = 'Fever',\n",
        "                       variable_card = 2,\n",
        "                       values = [[0.307,0.01],\n",
        "                                 [0.693, 0.99]],\n",
        "                       evidence = ['Cold'],\n",
        "                       evidence_card = [2],\n",
        "                       state_names = {'Cold': ['T', 'F'], 'Fever': ['T', 'F']})\n",
        "cpd_Cold = TabularCPD(variable = 'Cold',\n",
        "                      variable_card = 2,\n",
        "                      values = [[0.02], [0.98]],\n",
        "                      state_names = {'Cold': ['T', 'F']})\n",
        "\n"
      ],
      "execution_count": 11,
      "outputs": []
    },
    {
      "cell_type": "markdown",
      "metadata": {
        "id": "HeWXW6-QAhCt"
      },
      "source": [
        "## Q4 [5] \n",
        "- Check that each of the CPDs are correct"
      ]
    },
    {
      "cell_type": "code",
      "metadata": {
        "colab": {
          "base_uri": "https://localhost:8080/"
        },
        "id": "5KXZw6LZAhCt",
        "outputId": "3800cec1-614e-4f5d-a2f7-f577a0a8c659"
      },
      "source": [
        "print(cpd_Smokes)\n",
        "print(cpd_LungDisease)\n",
        "print(cpd_ShortnessBreath)\n",
        "print(cpd_ChestPain)\n",
        "print(cpd_Cough)\n",
        "print(cpd_Fever)\n",
        "print(cpd_Cold)"
      ],
      "execution_count": 12,
      "outputs": [
        {
          "output_type": "stream",
          "text": [
            "+-----------+-----+\n",
            "| Smokes(T) | 0.2 |\n",
            "+-----------+-----+\n",
            "| Smokes(F) | 0.8 |\n",
            "+-----------+-----+\n",
            "+----------------+-----------+-----------+\n",
            "| Smokes         | Smokes(T) | Smokes(F) |\n",
            "+----------------+-----------+-----------+\n",
            "| LungDisease(T) | 0.1009    | 0.001     |\n",
            "+----------------+-----------+-----------+\n",
            "| LungDisease(F) | 0.8991    | 0.999     |\n",
            "+----------------+-----------+-----------+\n",
            "+--------------------+----------------+----------------+\n",
            "| LungDisease        | LungDisease(T) | LungDisease(F) |\n",
            "+--------------------+----------------+----------------+\n",
            "| ShortnessBreath(T) | 0.208          | 0.01           |\n",
            "+--------------------+----------------+----------------+\n",
            "| ShortnessBreath(F) | 0.792          | 0.99           |\n",
            "+--------------------+----------------+----------------+\n",
            "+--------------+----------------+----------------+\n",
            "| LungDisease  | LungDisease(T) | LungDisease(F) |\n",
            "+--------------+----------------+----------------+\n",
            "| ChestPain(T) | 0.208          | 0.01           |\n",
            "+--------------+----------------+----------------+\n",
            "| ChestPain(F) | 0.792          | 0.99           |\n",
            "+--------------+----------------+----------------+\n",
            "+-------------+----------------+----------------+----------------+----------------+\n",
            "| LungDisease | LungDisease(T) | LungDisease(T) | LungDisease(F) | LungDisease(F) |\n",
            "+-------------+----------------+----------------+----------------+----------------+\n",
            "| Cold        | Cold(T)        | Cold(F)        | Cold(T)        | Cold(F)        |\n",
            "+-------------+----------------+----------------+----------------+----------------+\n",
            "| Cough(T)    | 0.7525         | 0.505          | 0.505          | 0.01           |\n",
            "+-------------+----------------+----------------+----------------+----------------+\n",
            "| Cough(F)    | 0.2475         | 0.495          | 0.495          | 0.99           |\n",
            "+-------------+----------------+----------------+----------------+----------------+\n",
            "+----------+---------+---------+\n",
            "| Cold     | Cold(T) | Cold(F) |\n",
            "+----------+---------+---------+\n",
            "| Fever(T) | 0.307   | 0.01    |\n",
            "+----------+---------+---------+\n",
            "| Fever(F) | 0.693   | 0.99    |\n",
            "+----------+---------+---------+\n",
            "+---------+------+\n",
            "| Cold(T) | 0.02 |\n",
            "+---------+------+\n",
            "| Cold(F) | 0.98 |\n",
            "+---------+------+\n"
          ],
          "name": "stdout"
        }
      ]
    },
    {
      "cell_type": "markdown",
      "metadata": {
        "id": "jliuULA-AhCt"
      },
      "source": [
        "## Q5 [5]\n",
        "- Add the defined CPDs to the model (Associate the CPDs with the network)"
      ]
    },
    {
      "cell_type": "code",
      "metadata": {
        "id": "yuQcTaOhAhCu"
      },
      "source": [
        "model.add_cpds(cpd_Smokes, cpd_LungDisease, cpd_ShortnessBreath, cpd_ChestPain, cpd_Cough, cpd_Fever, cpd_Cold)\n"
      ],
      "execution_count": 13,
      "outputs": []
    },
    {
      "cell_type": "code",
      "metadata": {
        "colab": {
          "base_uri": "https://localhost:8080/"
        },
        "id": "UxiGTGmRAhCu",
        "outputId": "c1fbd4c0-ad2d-408c-fa7c-5e268995bde6"
      },
      "source": [
        "model.check_model()"
      ],
      "execution_count": 14,
      "outputs": [
        {
          "output_type": "execute_result",
          "data": {
            "text/plain": [
              "True"
            ]
          },
          "metadata": {
            "tags": []
          },
          "execution_count": 14
        }
      ]
    },
    {
      "cell_type": "markdown",
      "metadata": {
        "id": "xW2mmw5VAhCu"
      },
      "source": [
        "## Q6 [5]\n",
        "- The cardinality of each of the nodes is 2 - True or False?"
      ]
    },
    {
      "cell_type": "code",
      "metadata": {
        "colab": {
          "base_uri": "https://localhost:8080/"
        },
        "id": "RThPrcaqAhCu",
        "outputId": "60133a09-7627-4228-e692-c6b6c09c0212"
      },
      "source": [
        "model.get_cpds()"
      ],
      "execution_count": 15,
      "outputs": [
        {
          "output_type": "execute_result",
          "data": {
            "text/plain": [
              "[<TabularCPD representing P(Smokes:2) at 0x7f0d8edf0590>,\n",
              " <TabularCPD representing P(LungDisease:2 | Smokes:2) at 0x7f0d8edf0550>,\n",
              " <TabularCPD representing P(ShortnessBreath:2 | LungDisease:2) at 0x7f0d8eddc310>,\n",
              " <TabularCPD representing P(ChestPain:2 | LungDisease:2) at 0x7f0d8eddc3d0>,\n",
              " <TabularCPD representing P(Cough:2 | LungDisease:2, Cold:2) at 0x7f0d8edf05d0>,\n",
              " <TabularCPD representing P(Fever:2 | Cold:2) at 0x7f0dfd1aba10>,\n",
              " <TabularCPD representing P(Cold:2) at 0x7f0dfd1ab690>]"
            ]
          },
          "metadata": {
            "tags": []
          },
          "execution_count": 15
        }
      ]
    },
    {
      "cell_type": "code",
      "metadata": {
        "colab": {
          "base_uri": "https://localhost:8080/"
        },
        "id": "cK4snwFEGS8o",
        "outputId": "06e3f33e-18f8-4fe2-b8a5-171842947050"
      },
      "source": [
        "model.get_cardinality()"
      ],
      "execution_count": 16,
      "outputs": [
        {
          "output_type": "execute_result",
          "data": {
            "text/plain": [
              "defaultdict(int,\n",
              "            {'ChestPain': 2,\n",
              "             'Cold': 2,\n",
              "             'Cough': 2,\n",
              "             'Fever': 2,\n",
              "             'LungDisease': 2,\n",
              "             'ShortnessBreath': 2,\n",
              "             'Smokes': 2})"
            ]
          },
          "metadata": {
            "tags": []
          },
          "execution_count": 16
        }
      ]
    },
    {
      "cell_type": "markdown",
      "metadata": {
        "id": "pzZLVm0ZKIvv"
      },
      "source": [
        "### Yes, the cardinality of all of the nodes are 2. "
      ]
    },
    {
      "cell_type": "markdown",
      "metadata": {
        "id": "d7E1LW0dAhCu"
      },
      "source": [
        "### Q7 [10] \n",
        "**Find the probability of each event hapenning using the variable elimination method.**\n",
        "- $ P(Smokes) $\n",
        "- $ P(Cold) $\n",
        "- $ P(LungDisease) $\n",
        "- $ P(ShortnessBreath) $\n",
        "- $ P(ChestPain) $\n",
        "- $ P(Fever) $\n",
        "- $ P(Cough) $\n",
        "- $ P(LungDisease|Smokes=True) $\n",
        "- $ P(LungDisease|Cough=True) $\n",
        "- $ P(ShortnessBreath|Smokes=True) $\n",
        "- $ P(ChestPain|Fever=True) $"
      ]
    },
    {
      "cell_type": "code",
      "metadata": {
        "colab": {
          "base_uri": "https://localhost:8080/"
        },
        "id": "JL1M7w3MAhCu",
        "outputId": "adf9bb26-479c-4f61-f134-f765b5167bec"
      },
      "source": [
        "from pgmpy.inference import VariableElimination\n",
        "infer = VariableElimination(model)"
      ],
      "execution_count": 17,
      "outputs": [
        {
          "output_type": "stream",
          "text": [
            "/usr/local/lib/python3.7/dist-packages/statsmodels/tools/_testing.py:19: FutureWarning: pandas.util.testing is deprecated. Use the functions in the public API at pandas.testing instead.\n",
            "  import pandas.util.testing as tm\n"
          ],
          "name": "stderr"
        }
      ]
    },
    {
      "cell_type": "code",
      "metadata": {
        "colab": {
          "base_uri": "https://localhost:8080/"
        },
        "id": "c-SwbOIUAhCv",
        "outputId": "a1ef30f5-86c2-4c5e-fcbe-e25911ea6612"
      },
      "source": [
        "dist = infer.query(['Smokes'])\n",
        "print(dist)"
      ],
      "execution_count": 18,
      "outputs": [
        {
          "output_type": "stream",
          "text": [
            "Finding Elimination Order: : : 0it [00:00, ?it/s]\n",
            "0it [00:00, ?it/s]"
          ],
          "name": "stderr"
        },
        {
          "output_type": "stream",
          "text": [
            "+-----------+---------------+\n",
            "| Smokes    |   phi(Smokes) |\n",
            "+===========+===============+\n",
            "| Smokes(T) |        0.2000 |\n",
            "+-----------+---------------+\n",
            "| Smokes(F) |        0.8000 |\n",
            "+-----------+---------------+\n"
          ],
          "name": "stdout"
        },
        {
          "output_type": "stream",
          "text": [
            "\n"
          ],
          "name": "stderr"
        }
      ]
    },
    {
      "cell_type": "markdown",
      "metadata": {
        "id": "SChhSmOUMaMP"
      },
      "source": [
        "### The probability of someone smoking is 0.20, and the probability of someone not smoking is 0.80."
      ]
    },
    {
      "cell_type": "code",
      "metadata": {
        "colab": {
          "base_uri": "https://localhost:8080/"
        },
        "id": "q5TwJWRrMZlv",
        "outputId": "73eb6e36-e5eb-44bd-cce0-dbebc4a6c2da"
      },
      "source": [
        "dist = infer.query(['Cold'])\n",
        "print(dist)"
      ],
      "execution_count": 19,
      "outputs": [
        {
          "output_type": "stream",
          "text": [
            "Finding Elimination Order: : : 0it [00:00, ?it/s]\n",
            "0it [00:00, ?it/s]"
          ],
          "name": "stderr"
        },
        {
          "output_type": "stream",
          "text": [
            "+---------+-------------+\n",
            "| Cold    |   phi(Cold) |\n",
            "+=========+=============+\n",
            "| Cold(T) |      0.0200 |\n",
            "+---------+-------------+\n",
            "| Cold(F) |      0.9800 |\n",
            "+---------+-------------+\n"
          ],
          "name": "stdout"
        },
        {
          "output_type": "stream",
          "text": [
            "\n"
          ],
          "name": "stderr"
        }
      ]
    },
    {
      "cell_type": "markdown",
      "metadata": {
        "id": "4LoCoanmMmoi"
      },
      "source": [
        "### The probability of someone having a cold is 0.02, and the probability of someone not having a cold is 0.98."
      ]
    },
    {
      "cell_type": "code",
      "metadata": {
        "colab": {
          "base_uri": "https://localhost:8080/"
        },
        "id": "tgFPW94nMlJo",
        "outputId": "7f2fbd2f-4f75-4f1c-ed3b-a05621be7ba9"
      },
      "source": [
        "dist = infer.query(['LungDisease'])\n",
        "print(dist)"
      ],
      "execution_count": 20,
      "outputs": [
        {
          "output_type": "stream",
          "text": [
            "Finding Elimination Order: : 100%|██████████| 1/1 [00:00<00:00, 215.13it/s]\n",
            "Eliminating: Smokes: 100%|██████████| 1/1 [00:00<00:00, 174.75it/s]"
          ],
          "name": "stderr"
        },
        {
          "output_type": "stream",
          "text": [
            "+----------------+--------------------+\n",
            "| LungDisease    |   phi(LungDisease) |\n",
            "+================+====================+\n",
            "| LungDisease(T) |             0.0210 |\n",
            "+----------------+--------------------+\n",
            "| LungDisease(F) |             0.9790 |\n",
            "+----------------+--------------------+\n"
          ],
          "name": "stdout"
        },
        {
          "output_type": "stream",
          "text": [
            "\n"
          ],
          "name": "stderr"
        }
      ]
    },
    {
      "cell_type": "markdown",
      "metadata": {
        "id": "W1igpjDtNS8j"
      },
      "source": [
        "### The probability of someone having Lung Disease is 0.021, and the probability of someone not having Lung Disease is 0.9790"
      ]
    },
    {
      "cell_type": "code",
      "metadata": {
        "colab": {
          "base_uri": "https://localhost:8080/"
        },
        "id": "uEIPyhGgNRtN",
        "outputId": "d15e8532-ecc8-4382-9114-cc7496b980c0"
      },
      "source": [
        "dist = infer.query(['ShortnessBreath'])\n",
        "print(dist)"
      ],
      "execution_count": 21,
      "outputs": [
        {
          "output_type": "stream",
          "text": [
            "Finding Elimination Order: : 100%|██████████| 2/2 [00:00<00:00, 368.00it/s]\n",
            "Eliminating: LungDisease: 100%|██████████| 2/2 [00:00<00:00, 266.79it/s]"
          ],
          "name": "stderr"
        },
        {
          "output_type": "stream",
          "text": [
            "+--------------------+------------------------+\n",
            "| ShortnessBreath    |   phi(ShortnessBreath) |\n",
            "+====================+========================+\n",
            "| ShortnessBreath(T) |                 0.0142 |\n",
            "+--------------------+------------------------+\n",
            "| ShortnessBreath(F) |                 0.9858 |\n",
            "+--------------------+------------------------+\n"
          ],
          "name": "stdout"
        },
        {
          "output_type": "stream",
          "text": [
            "\n"
          ],
          "name": "stderr"
        }
      ]
    },
    {
      "cell_type": "markdown",
      "metadata": {
        "id": "5BGzpoFSNnsY"
      },
      "source": [
        "### The probability of someone having shortness of breath is 0.0142, and the probability of someone not having shortness of breath is 0.9858."
      ]
    },
    {
      "cell_type": "code",
      "metadata": {
        "colab": {
          "base_uri": "https://localhost:8080/"
        },
        "id": "TM-7ilj1Nmw6",
        "outputId": "3e040afa-eba9-4dc9-9a45-ddfd9c82052c"
      },
      "source": [
        "dist = infer.query(['ChestPain'])\n",
        "print(dist)"
      ],
      "execution_count": 22,
      "outputs": [
        {
          "output_type": "stream",
          "text": [
            "Finding Elimination Order: : 100%|██████████| 2/2 [00:00<00:00, 265.10it/s]\n",
            "Eliminating: LungDisease: 100%|██████████| 2/2 [00:00<00:00, 203.24it/s]"
          ],
          "name": "stderr"
        },
        {
          "output_type": "stream",
          "text": [
            "+--------------+------------------+\n",
            "| ChestPain    |   phi(ChestPain) |\n",
            "+==============+==================+\n",
            "| ChestPain(T) |           0.0142 |\n",
            "+--------------+------------------+\n",
            "| ChestPain(F) |           0.9858 |\n",
            "+--------------+------------------+\n"
          ],
          "name": "stdout"
        },
        {
          "output_type": "stream",
          "text": [
            "\n"
          ],
          "name": "stderr"
        }
      ]
    },
    {
      "cell_type": "markdown",
      "metadata": {
        "id": "0yxf8qyzNytt"
      },
      "source": [
        "### The probability of someone having chest pain is 0.0142 and the probability of someone not having chest pain is 0.9859"
      ]
    },
    {
      "cell_type": "code",
      "metadata": {
        "colab": {
          "base_uri": "https://localhost:8080/"
        },
        "id": "PQub4c-MNx8p",
        "outputId": "04d6aed1-5d82-4e5e-cfeb-774044e4e186"
      },
      "source": [
        "dist = infer.query(['Fever'])\n",
        "print(dist)"
      ],
      "execution_count": 23,
      "outputs": [
        {
          "output_type": "stream",
          "text": [
            "Finding Elimination Order: : 100%|██████████| 1/1 [00:00<00:00, 283.80it/s]\n",
            "Eliminating: Cold: 100%|██████████| 1/1 [00:00<00:00, 470.90it/s]"
          ],
          "name": "stderr"
        },
        {
          "output_type": "stream",
          "text": [
            "+----------+--------------+\n",
            "| Fever    |   phi(Fever) |\n",
            "+==========+==============+\n",
            "| Fever(T) |       0.0159 |\n",
            "+----------+--------------+\n",
            "| Fever(F) |       0.9841 |\n",
            "+----------+--------------+\n"
          ],
          "name": "stdout"
        },
        {
          "output_type": "stream",
          "text": [
            "\n"
          ],
          "name": "stderr"
        }
      ]
    },
    {
      "cell_type": "markdown",
      "metadata": {
        "id": "Yg7NxwZiODEH"
      },
      "source": [
        "### The probability of someone having a fever is 0.0159 and the probability of someone not having a fever is 0.9841"
      ]
    },
    {
      "cell_type": "code",
      "metadata": {
        "colab": {
          "base_uri": "https://localhost:8080/"
        },
        "id": "RbWNs81pOB_l",
        "outputId": "c4db15d4-38e2-49a5-a8ae-df231a80077b"
      },
      "source": [
        "dist = infer.query(['Cough'])\n",
        "print(dist)"
      ],
      "execution_count": 24,
      "outputs": [
        {
          "output_type": "stream",
          "text": [
            "Finding Elimination Order: : 100%|██████████| 3/3 [00:00<00:00, 796.69it/s]\n",
            "Eliminating: Cold: 100%|██████████| 3/3 [00:00<00:00, 357.86it/s]"
          ],
          "name": "stderr"
        },
        {
          "output_type": "stream",
          "text": [
            "+----------+--------------+\n",
            "| Cough    |   phi(Cough) |\n",
            "+==========+==============+\n",
            "| Cough(T) |       0.0302 |\n",
            "+----------+--------------+\n",
            "| Cough(F) |       0.9698 |\n",
            "+----------+--------------+\n"
          ],
          "name": "stdout"
        },
        {
          "output_type": "stream",
          "text": [
            "\n"
          ],
          "name": "stderr"
        }
      ]
    },
    {
      "cell_type": "markdown",
      "metadata": {
        "id": "rLkKKcHlONvI"
      },
      "source": [
        "### The probability of someone having a cough is 0.0302 and the probability of someone not having a cough is 0.9698"
      ]
    },
    {
      "cell_type": "code",
      "metadata": {
        "colab": {
          "base_uri": "https://localhost:8080/"
        },
        "id": "q7WFd7MkOM9u",
        "outputId": "29bd51cb-83fd-4661-8b6b-99ea0ac564a9"
      },
      "source": [
        "print(infer.query(['LungDisease'], evidence={'Smokes': 'T'}, show_progress=False))"
      ],
      "execution_count": 25,
      "outputs": [
        {
          "output_type": "stream",
          "text": [
            "+----------------+--------------------+\n",
            "| LungDisease    |   phi(LungDisease) |\n",
            "+================+====================+\n",
            "| LungDisease(T) |             0.1009 |\n",
            "+----------------+--------------------+\n",
            "| LungDisease(F) |             0.8991 |\n",
            "+----------------+--------------------+\n"
          ],
          "name": "stdout"
        }
      ]
    },
    {
      "cell_type": "markdown",
      "metadata": {
        "id": "vatOFyjQOnJI"
      },
      "source": [
        "### The probability of someone having Lung Disease when they smoke is 0.1009, the probability of someone having Lung Disease when they do not smoke is 0.8991."
      ]
    },
    {
      "cell_type": "code",
      "metadata": {
        "colab": {
          "base_uri": "https://localhost:8080/"
        },
        "id": "7cHkKz9UOkDB",
        "outputId": "99b63c5e-cec4-4695-d536-105291ac4887"
      },
      "source": [
        "print(infer.query(['LungDisease'], evidence={'Cough': 'T'}, show_progress=False))"
      ],
      "execution_count": 26,
      "outputs": [
        {
          "output_type": "stream",
          "text": [
            "+----------------+--------------------+\n",
            "| LungDisease    |   phi(LungDisease) |\n",
            "+================+====================+\n",
            "| LungDisease(T) |             0.3545 |\n",
            "+----------------+--------------------+\n",
            "| LungDisease(F) |             0.6455 |\n",
            "+----------------+--------------------+\n"
          ],
          "name": "stdout"
        }
      ]
    },
    {
      "cell_type": "markdown",
      "metadata": {
        "id": "SylRFefBO0OM"
      },
      "source": [
        "### The probability of someone having Lung Disease when they have a cough is 0.3545, the probability of someone not having Lung Disease when they cough is 0.6455"
      ]
    },
    {
      "cell_type": "code",
      "metadata": {
        "colab": {
          "base_uri": "https://localhost:8080/"
        },
        "id": "00Qw-jNVPCPI",
        "outputId": "e47a122c-b87f-43a0-c162-4701433326f9"
      },
      "source": [
        "print(infer.query(['ShortnessBreath'], evidence={'Smokes': 'T'}, show_progress=False))"
      ],
      "execution_count": 27,
      "outputs": [
        {
          "output_type": "stream",
          "text": [
            "+--------------------+------------------------+\n",
            "| ShortnessBreath    |   phi(ShortnessBreath) |\n",
            "+====================+========================+\n",
            "| ShortnessBreath(T) |                 0.0300 |\n",
            "+--------------------+------------------------+\n",
            "| ShortnessBreath(F) |                 0.9700 |\n",
            "+--------------------+------------------------+\n"
          ],
          "name": "stdout"
        }
      ]
    },
    {
      "cell_type": "markdown",
      "metadata": {
        "id": "vI8vwzTIPI0D"
      },
      "source": [
        "### The probability of someone having shortness of breath when they smoke is 0.03, the probability of someone not having shortnessof breath when they smoke is 0.97."
      ]
    },
    {
      "cell_type": "code",
      "metadata": {
        "colab": {
          "base_uri": "https://localhost:8080/"
        },
        "id": "PuWjNdurOzaL",
        "outputId": "d502efbc-9793-4aea-d15e-5415fb5ae42a"
      },
      "source": [
        "print(infer.query(['ChestPain'], evidence={'Fever': 'T'}, show_progress=False))"
      ],
      "execution_count": 28,
      "outputs": [
        {
          "output_type": "stream",
          "text": [
            "+--------------+------------------+\n",
            "| ChestPain    |   phi(ChestPain) |\n",
            "+==============+==================+\n",
            "| ChestPain(T) |           0.0142 |\n",
            "+--------------+------------------+\n",
            "| ChestPain(F) |           0.9858 |\n",
            "+--------------+------------------+\n"
          ],
          "name": "stdout"
        }
      ]
    },
    {
      "cell_type": "markdown",
      "metadata": {
        "id": "tEgVB0bzPWaf"
      },
      "source": [
        "### The probability of someone having chest pain when they have a fever is 0.0142, the probability of someone not having chest pain when they have a fever is 0.9858."
      ]
    },
    {
      "cell_type": "markdown",
      "metadata": {
        "id": "NlVrKIvpAhCv"
      },
      "source": [
        "## Q8 [15] \n",
        "**Are the following  true? If not, can you make them independent by including info on the parent?**\n",
        "1. Cough is independent from Fever. (Having knowledge about Fever does not change the probability of Cough) \n",
        "2. Fever is independent from Smokes. \n",
        "3. ChestPain is independent from Smokes.\n"
      ]
    },
    {
      "cell_type": "markdown",
      "metadata": {
        "id": "dxxzKGTYAhCw"
      },
      "source": [
        "##### 1. Cough is independent from Fever"
      ]
    },
    {
      "cell_type": "code",
      "metadata": {
        "id": "kvwy_NI_AhCw",
        "colab": {
          "base_uri": "https://localhost:8080/"
        },
        "outputId": "14d9dfc6-5282-4e71-849b-d491cf742da7"
      },
      "source": [
        "dist = infer.query(['Cough'])\n",
        "print(dist)\n",
        "\n",
        "dist = infer.query(['Cough'], evidence={'Fever':'T'})\n",
        "print(dist)\n",
        "\n",
        "dist = infer.query(['Cough'], evidence={'Fever':'F'})\n",
        "print(dist)"
      ],
      "execution_count": 29,
      "outputs": [
        {
          "output_type": "stream",
          "text": [
            "Finding Elimination Order: : 100%|██████████| 3/3 [00:00<00:00, 621.04it/s]\n",
            "Eliminating: Cold: 100%|██████████| 3/3 [00:00<00:00, 336.15it/s]\n",
            "Finding Elimination Order: : 100%|██████████| 3/3 [00:00<00:00, 924.33it/s]\n",
            "Eliminating: Cold: 100%|██████████| 3/3 [00:00<00:00, 313.33it/s]"
          ],
          "name": "stderr"
        },
        {
          "output_type": "stream",
          "text": [
            "+----------+--------------+\n",
            "| Cough    |   phi(Cough) |\n",
            "+==========+==============+\n",
            "| Cough(T) |       0.0302 |\n",
            "+----------+--------------+\n",
            "| Cough(F) |       0.9698 |\n",
            "+----------+--------------+\n"
          ],
          "name": "stdout"
        },
        {
          "output_type": "stream",
          "text": [
            "\n",
            "Finding Elimination Order: :   0%|          | 0/3 [00:00<?, ?it/s]"
          ],
          "name": "stderr"
        },
        {
          "output_type": "stream",
          "text": [
            "+----------+--------------+\n",
            "| Cough    |   phi(Cough) |\n",
            "+==========+==============+\n",
            "| Cough(T) |       0.2091 |\n",
            "+----------+--------------+\n",
            "| Cough(F) |       0.7909 |\n",
            "+----------+--------------+\n"
          ],
          "name": "stdout"
        },
        {
          "output_type": "stream",
          "text": [
            "Finding Elimination Order: : 100%|██████████| 3/3 [00:00<00:00, 720.18it/s]\n",
            "Eliminating: Cold: 100%|██████████| 3/3 [00:00<00:00, 410.17it/s]"
          ],
          "name": "stderr"
        },
        {
          "output_type": "stream",
          "text": [
            "+----------+--------------+\n",
            "| Cough    |   phi(Cough) |\n",
            "+==========+==============+\n",
            "| Cough(T) |       0.0273 |\n",
            "+----------+--------------+\n",
            "| Cough(F) |       0.9727 |\n",
            "+----------+--------------+\n"
          ],
          "name": "stdout"
        },
        {
          "output_type": "stream",
          "text": [
            "\n"
          ],
          "name": "stderr"
        }
      ]
    },
    {
      "cell_type": "markdown",
      "metadata": {
        "id": "dPwZfcO-AhCw"
      },
      "source": [
        "- Fever does affect Cough -> Not independent\n",
        "\n",
        "\n",
        "- However, given the parent of both Fever and Cough (Cold), they should be independent."
      ]
    },
    {
      "cell_type": "code",
      "metadata": {
        "id": "nVvfdzYHAhCw",
        "colab": {
          "base_uri": "https://localhost:8080/"
        },
        "outputId": "4f4640a0-2ddb-4b3e-c398-12fa1361db7d"
      },
      "source": [
        "dist = infer.query(['Cough'], evidence={'Cold':'F', 'Fever':'T'})\n",
        "print(dist)\n",
        "\n",
        "dist = infer.query(['Cough'], evidence={'Cold':'F', 'Fever':'F'})\n",
        "print(dist)\n",
        "\n",
        "dist = infer.query(['Cough'], evidence={'Cold':'T', 'Fever':'T'})\n",
        "print(dist)\n",
        "\n",
        "dist = infer.query(['Cough'], evidence={'Cold':'T', 'Fever':'F'})\n",
        "print(dist)"
      ],
      "execution_count": 30,
      "outputs": [
        {
          "output_type": "stream",
          "text": [
            "Finding Elimination Order: : 100%|██████████| 2/2 [00:00<00:00, 146.38it/s]\n",
            "Eliminating: LungDisease: 100%|██████████| 2/2 [00:00<00:00, 415.92it/s]"
          ],
          "name": "stderr"
        },
        {
          "output_type": "stream",
          "text": [
            "+----------+--------------+\n",
            "| Cough    |   phi(Cough) |\n",
            "+==========+==============+\n",
            "| Cough(T) |       0.0204 |\n",
            "+----------+--------------+\n",
            "| Cough(F) |       0.9796 |\n",
            "+----------+--------------+\n"
          ],
          "name": "stdout"
        },
        {
          "output_type": "stream",
          "text": [
            "\n",
            "Finding Elimination Order: : 100%|██████████| 2/2 [00:00<00:00, 460.61it/s]\n",
            "Eliminating: LungDisease: 100%|██████████| 2/2 [00:00<00:00, 272.28it/s]\n",
            "  0%|          | 0/2 [00:00<?, ?it/s]"
          ],
          "name": "stderr"
        },
        {
          "output_type": "stream",
          "text": [
            "+----------+--------------+\n",
            "| Cough    |   phi(Cough) |\n",
            "+==========+==============+\n",
            "| Cough(T) |       0.0204 |\n",
            "+----------+--------------+\n",
            "| Cough(F) |       0.9796 |\n",
            "+----------+--------------+\n"
          ],
          "name": "stdout"
        },
        {
          "output_type": "stream",
          "text": [
            "Finding Elimination Order: : 100%|██████████| 2/2 [00:00<00:00, 352.27it/s]\n",
            "Eliminating: LungDisease: 100%|██████████| 2/2 [00:00<00:00, 399.91it/s]\n",
            "Finding Elimination Order: : 100%|██████████| 2/2 [00:00<00:00, 534.27it/s]\n",
            "Eliminating: LungDisease: 100%|██████████| 2/2 [00:00<00:00, 503.25it/s]"
          ],
          "name": "stderr"
        },
        {
          "output_type": "stream",
          "text": [
            "+----------+--------------+\n",
            "| Cough    |   phi(Cough) |\n",
            "+==========+==============+\n",
            "| Cough(T) |       0.5102 |\n",
            "+----------+--------------+\n",
            "| Cough(F) |       0.4898 |\n",
            "+----------+--------------+\n",
            "+----------+--------------+\n",
            "| Cough    |   phi(Cough) |\n",
            "+==========+==============+\n",
            "| Cough(T) |       0.5102 |\n",
            "+----------+--------------+\n",
            "| Cough(F) |       0.4898 |\n",
            "+----------+--------------+\n"
          ],
          "name": "stdout"
        },
        {
          "output_type": "stream",
          "text": [
            "\n"
          ],
          "name": "stderr"
        }
      ]
    },
    {
      "cell_type": "code",
      "metadata": {
        "colab": {
          "base_uri": "https://localhost:8080/"
        },
        "id": "VWo-xNqLAhCx",
        "outputId": "1754fdc2-4fc3-4084-9b3e-67ba0ae64b88"
      },
      "source": [
        "dist = infer.query(['Fever'])\n",
        "print(dist)\n",
        "\n",
        "dist = infer.query(['Fever'], evidence={'Smokes':'T'})\n",
        "print(dist)\n",
        "\n",
        "dist = infer.query(['Fever'], evidence={'Smokes':'F'})\n",
        "print(dist)"
      ],
      "execution_count": 31,
      "outputs": [
        {
          "output_type": "stream",
          "text": [
            "Finding Elimination Order: : 100%|██████████| 1/1 [00:00<00:00, 333.09it/s]\n",
            "Eliminating: Cold: 100%|██████████| 1/1 [00:00<00:00, 153.12it/s]\n",
            "Finding Elimination Order: : 100%|██████████| 1/1 [00:00<00:00, 252.58it/s]\n",
            "  0%|          | 0/1 [00:00<?, ?it/s]"
          ],
          "name": "stderr"
        },
        {
          "output_type": "stream",
          "text": [
            "+----------+--------------+\n",
            "| Fever    |   phi(Fever) |\n",
            "+==========+==============+\n",
            "| Fever(T) |       0.0159 |\n",
            "+----------+--------------+\n",
            "| Fever(F) |       0.9841 |\n",
            "+----------+--------------+\n"
          ],
          "name": "stdout"
        },
        {
          "output_type": "stream",
          "text": [
            "Eliminating: Cold: 100%|██████████| 1/1 [00:00<00:00, 352.02it/s]\n",
            "Finding Elimination Order: : 100%|██████████| 1/1 [00:00<00:00, 284.36it/s]\n",
            "Eliminating: Cold: 100%|██████████| 1/1 [00:00<00:00, 207.66it/s]"
          ],
          "name": "stderr"
        },
        {
          "output_type": "stream",
          "text": [
            "+----------+--------------+\n",
            "| Fever    |   phi(Fever) |\n",
            "+==========+==============+\n",
            "| Fever(T) |       0.0159 |\n",
            "+----------+--------------+\n",
            "| Fever(F) |       0.9841 |\n",
            "+----------+--------------+\n",
            "+----------+--------------+\n",
            "| Fever    |   phi(Fever) |\n",
            "+==========+==============+\n",
            "| Fever(T) |       0.0159 |\n",
            "+----------+--------------+\n",
            "| Fever(F) |       0.9841 |\n",
            "+----------+--------------+\n"
          ],
          "name": "stdout"
        },
        {
          "output_type": "stream",
          "text": [
            "\n"
          ],
          "name": "stderr"
        }
      ]
    },
    {
      "cell_type": "markdown",
      "metadata": {
        "id": "zonemaZQQ1D3"
      },
      "source": [
        "- Smokes does not affect Fever -> Independent\n",
        "### We can tell that fever is independent from smokes, because the inclusion and behavior of smokes does not change the probability of fever.\n"
      ]
    },
    {
      "cell_type": "markdown",
      "metadata": {
        "id": "_D8Bh8qMAhCx"
      },
      "source": [
        "##### 3. ChestPain is independent from Smokes."
      ]
    },
    {
      "cell_type": "code",
      "metadata": {
        "colab": {
          "base_uri": "https://localhost:8080/"
        },
        "id": "8ivIekXmAhCx",
        "outputId": "c1644994-2f2f-4dc6-f7bd-f14b4ddaf32d"
      },
      "source": [
        "dist = infer.query(['ChestPain'])\n",
        "print(dist)\n",
        "\n",
        "dist = infer.query(['ChestPain'], evidence={'Smokes':'T'})\n",
        "print(dist)\n",
        "\n",
        "dist = infer.query(['ChestPain'], evidence={'Smokes':'F'})\n",
        "print(dist)"
      ],
      "execution_count": 32,
      "outputs": [
        {
          "output_type": "stream",
          "text": [
            "Finding Elimination Order: : 100%|██████████| 2/2 [00:00<00:00, 890.42it/s]\n",
            "Eliminating: LungDisease: 100%|██████████| 2/2 [00:00<00:00, 414.52it/s]\n",
            "Finding Elimination Order: : 100%|██████████| 1/1 [00:00<00:00, 198.94it/s]\n",
            "Eliminating: LungDisease: 100%|██████████| 1/1 [00:00<00:00, 235.53it/s]\n",
            "Finding Elimination Order: : 100%|██████████| 1/1 [00:00<00:00, 533.56it/s]\n",
            "Eliminating: LungDisease: 100%|██████████| 1/1 [00:00<00:00, 240.76it/s]"
          ],
          "name": "stderr"
        },
        {
          "output_type": "stream",
          "text": [
            "+--------------+------------------+\n",
            "| ChestPain    |   phi(ChestPain) |\n",
            "+==============+==================+\n",
            "| ChestPain(T) |           0.0142 |\n",
            "+--------------+------------------+\n",
            "| ChestPain(F) |           0.9858 |\n",
            "+--------------+------------------+\n",
            "+--------------+------------------+\n",
            "| ChestPain    |   phi(ChestPain) |\n",
            "+==============+==================+\n",
            "| ChestPain(T) |           0.0300 |\n",
            "+--------------+------------------+\n",
            "| ChestPain(F) |           0.9700 |\n",
            "+--------------+------------------+\n",
            "+--------------+------------------+\n",
            "| ChestPain    |   phi(ChestPain) |\n",
            "+==============+==================+\n",
            "| ChestPain(T) |           0.0102 |\n",
            "+--------------+------------------+\n",
            "| ChestPain(F) |           0.9898 |\n",
            "+--------------+------------------+\n"
          ],
          "name": "stdout"
        },
        {
          "output_type": "stream",
          "text": [
            "\n"
          ],
          "name": "stderr"
        }
      ]
    },
    {
      "cell_type": "markdown",
      "metadata": {
        "id": "AJc8cPjrRcVN"
      },
      "source": [
        "- Smokes does affect Chest Pain -> Not independent\n"
      ]
    },
    {
      "cell_type": "markdown",
      "metadata": {
        "id": "NDUk7vPfRnBf"
      },
      "source": [
        ""
      ]
    },
    {
      "cell_type": "code",
      "metadata": {
        "colab": {
          "base_uri": "https://localhost:8080/"
        },
        "id": "ur5gUvP7RZ3O",
        "outputId": "6fcd031d-e0be-41ea-b190-2b976242e0be"
      },
      "source": [
        "dist = infer.query(['ChestPain'], evidence={'LungDisease':'F', 'Smokes':'T'})\n",
        "print(dist)\n",
        "\n",
        "dist = infer.query(['ChestPain'], evidence={'LungDisease':'F', 'Smokes':'F'})\n",
        "print(dist)\n",
        "\n",
        "dist = infer.query(['ChestPain'], evidence={'LungDisease':'T', 'Smokes':'T'})\n",
        "print(dist)\n",
        "\n",
        "dist = infer.query(['ChestPain'], evidence={'LungDisease':'T', 'Smokes':'F'})\n",
        "print(dist)"
      ],
      "execution_count": 33,
      "outputs": [
        {
          "output_type": "stream",
          "text": [
            "Finding Elimination Order: : : 0it [00:00, ?it/s]\n",
            "0it [00:00, ?it/s]\n",
            "Finding Elimination Order: : : 0it [00:00, ?it/s]\n",
            "0it [00:00, ?it/s]\n",
            "Finding Elimination Order: : : 0it [00:00, ?it/s]\n",
            "0it [00:00, ?it/s]\n",
            "Finding Elimination Order: : : 0it [00:00, ?it/s]\n"
          ],
          "name": "stderr"
        },
        {
          "output_type": "stream",
          "text": [
            "+--------------+------------------+\n",
            "| ChestPain    |   phi(ChestPain) |\n",
            "+==============+==================+\n",
            "| ChestPain(T) |           0.0100 |\n",
            "+--------------+------------------+\n",
            "| ChestPain(F) |           0.9900 |\n",
            "+--------------+------------------+\n",
            "+--------------+------------------+\n",
            "| ChestPain    |   phi(ChestPain) |\n",
            "+==============+==================+\n",
            "| ChestPain(T) |           0.0100 |\n",
            "+--------------+------------------+\n",
            "| ChestPain(F) |           0.9900 |\n",
            "+--------------+------------------+\n",
            "+--------------+------------------+\n",
            "| ChestPain    |   phi(ChestPain) |\n",
            "+==============+==================+\n",
            "| ChestPain(T) |           0.2080 |\n",
            "+--------------+------------------+\n",
            "| ChestPain(F) |           0.7920 |\n",
            "+--------------+------------------+\n"
          ],
          "name": "stdout"
        },
        {
          "output_type": "stream",
          "text": [
            "0it [00:00, ?it/s]"
          ],
          "name": "stderr"
        },
        {
          "output_type": "stream",
          "text": [
            "+--------------+------------------+\n",
            "| ChestPain    |   phi(ChestPain) |\n",
            "+==============+==================+\n",
            "| ChestPain(T) |           0.2080 |\n",
            "+--------------+------------------+\n",
            "| ChestPain(F) |           0.7920 |\n",
            "+--------------+------------------+\n"
          ],
          "name": "stdout"
        },
        {
          "output_type": "stream",
          "text": [
            "\n"
          ],
          "name": "stderr"
        }
      ]
    },
    {
      "cell_type": "markdown",
      "metadata": {
        "id": "Qtw7qDvcSaSE"
      },
      "source": [
        "### We can include info on the parent of fever(LungDisease), but as the parent of Lung Disease is smokes, I am not sure that chest pain can ever be independent of smokes."
      ]
    },
    {
      "cell_type": "markdown",
      "metadata": {
        "id": "bs04wHYjAhCx"
      },
      "source": [
        "## Q9 [20]\n",
        "1. Does having the knowledge that the person is coughing increase the probability of lung disease?\n",
        "2. Does having the knowledge that the person is coughing increase the probability that the person has Cold?\n",
        "3. Does having the knowledge that the person is coughing increase the probability that there is Fever?\n",
        "4. Does having the knowledge that the person is coughing increase the probability that there is Fever, given the person has Cold?\n",
        "5. Does having the knowledge that the person has Fever increase the probability that there is Lung Disease?\n"
      ]
    },
    {
      "cell_type": "markdown",
      "metadata": {
        "id": "8Oj0CqbHAhCy"
      },
      "source": [
        "##### 1. Does having the knowledge that the person is coughing increase the probability of lung disease? [5]"
      ]
    },
    {
      "cell_type": "code",
      "metadata": {
        "id": "muWlcYC5AhCy",
        "colab": {
          "base_uri": "https://localhost:8080/"
        },
        "outputId": "469b2904-a852-43cc-bb21-996460aa2bf7"
      },
      "source": [
        "dist = infer.query(['LungDisease'])\n",
        "print(dist)\n",
        "dist = infer.query(['LungDisease'], evidence={'Cough': 'T'})\n",
        "print(dist)"
      ],
      "execution_count": 34,
      "outputs": [
        {
          "output_type": "stream",
          "text": [
            "Finding Elimination Order: : 100%|██████████| 1/1 [00:00<00:00, 174.70it/s]\n",
            "Eliminating: Smokes: 100%|██████████| 1/1 [00:00<00:00, 210.24it/s]\n",
            "Finding Elimination Order: : 100%|██████████| 2/2 [00:00<00:00, 533.93it/s]\n",
            "Eliminating: Cold: 100%|██████████| 2/2 [00:00<00:00, 194.93it/s]"
          ],
          "name": "stderr"
        },
        {
          "output_type": "stream",
          "text": [
            "+----------------+--------------------+\n",
            "| LungDisease    |   phi(LungDisease) |\n",
            "+================+====================+\n",
            "| LungDisease(T) |             0.0210 |\n",
            "+----------------+--------------------+\n",
            "| LungDisease(F) |             0.9790 |\n",
            "+----------------+--------------------+\n",
            "+----------------+--------------------+\n",
            "| LungDisease    |   phi(LungDisease) |\n",
            "+================+====================+\n",
            "| LungDisease(T) |             0.3545 |\n",
            "+----------------+--------------------+\n",
            "| LungDisease(F) |             0.6455 |\n",
            "+----------------+--------------------+\n"
          ],
          "name": "stdout"
        },
        {
          "output_type": "stream",
          "text": [
            "\n"
          ],
          "name": "stderr"
        }
      ]
    },
    {
      "cell_type": "markdown",
      "metadata": {
        "id": "4IamCVSDAhCy"
      },
      "source": [
        "Having the knowledge that the person is coughing increases the probability of lung disease."
      ]
    },
    {
      "cell_type": "markdown",
      "metadata": {
        "id": "mi2g79LgAhCy"
      },
      "source": [
        "##### 2. Does having the knowledge that the person is coughing increase the probability that the person has Cold? [5]"
      ]
    },
    {
      "cell_type": "code",
      "metadata": {
        "colab": {
          "base_uri": "https://localhost:8080/"
        },
        "id": "pOTwreQmAhCy",
        "outputId": "0f443bdf-96a2-47ac-c0bf-b44cab59526b"
      },
      "source": [
        "dist = infer.query(['Cold'])\n",
        "print(dist)\n",
        "dist = infer.query(['Cold'], evidence={'Cough': 'T'})\n",
        "print(dist)"
      ],
      "execution_count": 35,
      "outputs": [
        {
          "output_type": "stream",
          "text": [
            "Finding Elimination Order: : : 0it [00:00, ?it/s]\n",
            "0it [00:00, ?it/s]\n",
            "Finding Elimination Order: : 100%|██████████| 2/2 [00:00<00:00, 377.59it/s]\n",
            "Eliminating: LungDisease: 100%|██████████| 2/2 [00:00<00:00, 227.03it/s]\n"
          ],
          "name": "stderr"
        },
        {
          "output_type": "stream",
          "text": [
            "+---------+-------------+\n",
            "| Cold    |   phi(Cold) |\n",
            "+=========+=============+\n",
            "| Cold(T) |      0.0200 |\n",
            "+---------+-------------+\n",
            "| Cold(F) |      0.9800 |\n",
            "+---------+-------------+\n",
            "+---------+-------------+\n",
            "| Cold    |   phi(Cold) |\n",
            "+=========+=============+\n",
            "| Cold(T) |      0.3381 |\n",
            "+---------+-------------+\n",
            "| Cold(F) |      0.6619 |\n",
            "+---------+-------------+\n"
          ],
          "name": "stdout"
        }
      ]
    },
    {
      "cell_type": "markdown",
      "metadata": {
        "id": "cIRBMe_MTwiH"
      },
      "source": [
        "Having the knowledge that the person is coughing increases the probability of a cold."
      ]
    },
    {
      "cell_type": "markdown",
      "metadata": {
        "id": "U53A3GYEAhCy"
      },
      "source": [
        "##### 3. Does having the knowledge that the person is coughing increase the probability that there is Fever? [5]"
      ]
    },
    {
      "cell_type": "code",
      "metadata": {
        "scrolled": true,
        "colab": {
          "base_uri": "https://localhost:8080/"
        },
        "id": "HBCLvLT5AhCz",
        "outputId": "1a4e9f0e-0744-4001-a01f-67ebbd7a9a24"
      },
      "source": [
        "dist = infer.query(['Fever'])\n",
        "print(dist)\n",
        "dist = infer.query(['Fever'], evidence={'Cough': 'T'})\n",
        "print(dist)"
      ],
      "execution_count": 36,
      "outputs": [
        {
          "output_type": "stream",
          "text": [
            "Finding Elimination Order: : 100%|██████████| 1/1 [00:00<00:00, 195.14it/s]\n",
            "Eliminating: Cold: 100%|██████████| 1/1 [00:00<00:00, 128.22it/s]\n"
          ],
          "name": "stderr"
        },
        {
          "output_type": "stream",
          "text": [
            "+----------+--------------+\n",
            "| Fever    |   phi(Fever) |\n",
            "+==========+==============+\n",
            "| Fever(T) |       0.0159 |\n",
            "+----------+--------------+\n",
            "| Fever(F) |       0.9841 |\n",
            "+----------+--------------+\n"
          ],
          "name": "stdout"
        },
        {
          "output_type": "stream",
          "text": [
            "Finding Elimination Order: : 100%|██████████| 3/3 [00:00<00:00, 523.87it/s]\n",
            "Eliminating: Cold: 100%|██████████| 3/3 [00:00<00:00, 321.06it/s]"
          ],
          "name": "stderr"
        },
        {
          "output_type": "stream",
          "text": [
            "+----------+--------------+\n",
            "| Fever    |   phi(Fever) |\n",
            "+==========+==============+\n",
            "| Fever(T) |       0.1104 |\n",
            "+----------+--------------+\n",
            "| Fever(F) |       0.8896 |\n",
            "+----------+--------------+\n"
          ],
          "name": "stdout"
        },
        {
          "output_type": "stream",
          "text": [
            "\n"
          ],
          "name": "stderr"
        }
      ]
    },
    {
      "cell_type": "markdown",
      "metadata": {
        "id": "-m3ZQ8oyUFdb"
      },
      "source": [
        "Having the knowledge that someone is coughing increases the probability of a fever."
      ]
    },
    {
      "cell_type": "markdown",
      "metadata": {
        "id": "gLsI2s2SAhCz"
      },
      "source": [
        "##### 4. Does having the knowledge that the person is coughing increase the probability that there is Fever, given the person has Cold?"
      ]
    },
    {
      "cell_type": "code",
      "metadata": {
        "colab": {
          "base_uri": "https://localhost:8080/"
        },
        "id": "yJmsh9g0AhCz",
        "outputId": "06844b9a-85f1-47fa-fbe9-9c650855a0fe"
      },
      "source": [
        "dist = infer.query(['Fever'], evidence = {'Cold': 'T'})\n",
        "print(dist)\n",
        "dist = infer.query(['Fever'], evidence={'Cold': 'T', 'Cough': 'T'})\n",
        "print(dist)"
      ],
      "execution_count": 37,
      "outputs": [
        {
          "output_type": "stream",
          "text": [
            "Finding Elimination Order: : : 0it [00:00, ?it/s]\n",
            "0it [00:00, ?it/s]\n"
          ],
          "name": "stderr"
        },
        {
          "output_type": "stream",
          "text": [
            "+----------+--------------+\n",
            "| Fever    |   phi(Fever) |\n",
            "+==========+==============+\n",
            "| Fever(T) |       0.3070 |\n",
            "+----------+--------------+\n",
            "| Fever(F) |       0.6930 |\n",
            "+----------+--------------+\n"
          ],
          "name": "stdout"
        },
        {
          "output_type": "stream",
          "text": [
            "Finding Elimination Order: : : 0it [00:00, ?it/s]\n",
            "0it [00:00, ?it/s]"
          ],
          "name": "stderr"
        },
        {
          "output_type": "stream",
          "text": [
            "+----------+--------------+\n",
            "| Fever    |   phi(Fever) |\n",
            "+==========+==============+\n",
            "| Fever(T) |       0.3070 |\n",
            "+----------+--------------+\n",
            "| Fever(F) |       0.6930 |\n",
            "+----------+--------------+\n"
          ],
          "name": "stdout"
        },
        {
          "output_type": "stream",
          "text": [
            "\n"
          ],
          "name": "stderr"
        }
      ]
    },
    {
      "cell_type": "markdown",
      "metadata": {
        "id": "Ipx5qU2hUPYN"
      },
      "source": [
        "No, having the knowledge that a person is coughing does not increase the probability of a fever, given the person has a cold."
      ]
    },
    {
      "cell_type": "markdown",
      "metadata": {
        "id": "1m348R5gAhCz"
      },
      "source": [
        "##### 5. Does having the knowledge that the person has Fever increase the probability that there is Lung Disease?"
      ]
    },
    {
      "cell_type": "code",
      "metadata": {
        "colab": {
          "base_uri": "https://localhost:8080/"
        },
        "id": "-Yz3aLGuAhCz",
        "outputId": "e5ca9dc0-2d61-4b2e-b7f8-f0dcd15451e8"
      },
      "source": [
        "dist = infer.query(['LungDisease'])\n",
        "print(dist)\n",
        "dist = infer.query(['LungDisease'], evidence={'Fever': 'T'})\n",
        "print(dist)"
      ],
      "execution_count": 38,
      "outputs": [
        {
          "output_type": "stream",
          "text": [
            "Finding Elimination Order: : 100%|██████████| 1/1 [00:00<00:00, 342.00it/s]\n",
            "Eliminating: Smokes: 100%|██████████| 1/1 [00:00<00:00, 210.44it/s]\n",
            "Finding Elimination Order: : 100%|██████████| 1/1 [00:00<00:00, 592.50it/s]\n",
            "  0%|          | 0/1 [00:00<?, ?it/s]"
          ],
          "name": "stderr"
        },
        {
          "output_type": "stream",
          "text": [
            "+----------------+--------------------+\n",
            "| LungDisease    |   phi(LungDisease) |\n",
            "+================+====================+\n",
            "| LungDisease(T) |             0.0210 |\n",
            "+----------------+--------------------+\n",
            "| LungDisease(F) |             0.9790 |\n",
            "+----------------+--------------------+\n"
          ],
          "name": "stdout"
        },
        {
          "output_type": "stream",
          "text": [
            "Eliminating: Smokes: 100%|██████████| 1/1 [00:00<00:00, 189.73it/s]"
          ],
          "name": "stderr"
        },
        {
          "output_type": "stream",
          "text": [
            "+----------------+--------------------+\n",
            "| LungDisease    |   phi(LungDisease) |\n",
            "+================+====================+\n",
            "| LungDisease(T) |             0.0210 |\n",
            "+----------------+--------------------+\n",
            "| LungDisease(F) |             0.9790 |\n",
            "+----------------+--------------------+\n"
          ],
          "name": "stdout"
        },
        {
          "output_type": "stream",
          "text": [
            "\n"
          ],
          "name": "stderr"
        }
      ]
    },
    {
      "cell_type": "markdown",
      "metadata": {
        "id": "STjU819DUv-e"
      },
      "source": [
        "No, the knowledge that a person has a fever does not increase the probability the person has Lung Disease."
      ]
    },
    {
      "cell_type": "markdown",
      "metadata": {
        "id": "CbxYhVIzAhCz"
      },
      "source": [
        "## Q10 [5]\n",
        "1. What's the most probable state of Cough? \n",
        "2. What's the most probable state of Cough given Cold is True? \n",
        "3. What's the most probable state of Cough given Cold is True and Lung Disease is True?"
      ]
    },
    {
      "cell_type": "markdown",
      "metadata": {
        "id": "bumy-hLTAhCz"
      },
      "source": [
        "##### 1. What's the most probable state of Cough? "
      ]
    },
    {
      "cell_type": "code",
      "metadata": {
        "id": "JTUAqvs0AhC0",
        "colab": {
          "base_uri": "https://localhost:8080/"
        },
        "outputId": "1c80728a-ba79-44cf-91ba-91bbef422291"
      },
      "source": [
        "infer.map_query(['Cough'])"
      ],
      "execution_count": 39,
      "outputs": [
        {
          "output_type": "stream",
          "text": [
            "Finding Elimination Order: : 100%|██████████| 3/3 [00:00<00:00, 762.88it/s]\n",
            "Eliminating: Cold: 100%|██████████| 3/3 [00:00<00:00, 232.26it/s]\n"
          ],
          "name": "stderr"
        },
        {
          "output_type": "execute_result",
          "data": {
            "text/plain": [
              "{'Cough': 'F'}"
            ]
          },
          "metadata": {
            "tags": []
          },
          "execution_count": 39
        }
      ]
    },
    {
      "cell_type": "markdown",
      "metadata": {
        "id": "uE_56BqxAhC0"
      },
      "source": [
        "The most probable state of Cough is False."
      ]
    },
    {
      "cell_type": "markdown",
      "metadata": {
        "id": "Ki8y8rLPAhC0"
      },
      "source": [
        "##### 2. What's the most probable state of Cough given Cold is True? "
      ]
    },
    {
      "cell_type": "code",
      "metadata": {
        "colab": {
          "base_uri": "https://localhost:8080/"
        },
        "id": "9UIQkdlSAhC0",
        "outputId": "5f87b723-d7d3-4fb0-9215-1567bebdd7f7"
      },
      "source": [
        "infer.map_query(['Cough'], evidence={'Cold':'T'})"
      ],
      "execution_count": 40,
      "outputs": [
        {
          "output_type": "stream",
          "text": [
            "Finding Elimination Order: : 100%|██████████| 2/2 [00:00<00:00, 280.34it/s]\n",
            "Eliminating: LungDisease: 100%|██████████| 2/2 [00:00<00:00, 404.02it/s]\n"
          ],
          "name": "stderr"
        },
        {
          "output_type": "execute_result",
          "data": {
            "text/plain": [
              "{'Cough': 'T'}"
            ]
          },
          "metadata": {
            "tags": []
          },
          "execution_count": 40
        }
      ]
    },
    {
      "cell_type": "markdown",
      "metadata": {
        "id": "LENUDunFVMCu"
      },
      "source": [
        "The most probable state of Cough is True, given Cold is True."
      ]
    },
    {
      "cell_type": "markdown",
      "metadata": {
        "id": "b4vQTW9EAhC0"
      },
      "source": [
        "##### 3. What's the most probable state of Cough given Cold is True and Lung Disease is True?"
      ]
    },
    {
      "cell_type": "code",
      "metadata": {
        "colab": {
          "base_uri": "https://localhost:8080/"
        },
        "id": "f8Qi_LImAhC0",
        "outputId": "4eb10eca-9a3d-4264-ba80-f8efac90194f"
      },
      "source": [
        "infer.map_query(['Cough'], evidence = {'Cold':'T', 'LungDisease':'T'})"
      ],
      "execution_count": 41,
      "outputs": [
        {
          "output_type": "stream",
          "text": [
            "Finding Elimination Order: : : 0it [00:00, ?it/s]\n",
            "0it [00:00, ?it/s]\n"
          ],
          "name": "stderr"
        },
        {
          "output_type": "execute_result",
          "data": {
            "text/plain": [
              "{'Cough': 'T'}"
            ]
          },
          "metadata": {
            "tags": []
          },
          "execution_count": 41
        }
      ]
    },
    {
      "cell_type": "markdown",
      "metadata": {
        "id": "d4vxFSUUVcLK"
      },
      "source": [
        "The most probable state of Cough is true, given cold and lung disease are both true"
      ]
    },
    {
      "cell_type": "markdown",
      "metadata": {
        "id": "45tOIdzYAhC0"
      },
      "source": [
        "# Well done!"
      ]
    }
  ]
}